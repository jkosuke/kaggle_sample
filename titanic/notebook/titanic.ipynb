{
 "cells": [
  {
   "cell_type": "code",
   "execution_count": 73,
   "metadata": {},
   "outputs": [],
   "source": [
    "import pandas as pd"
   ]
  },
  {
   "cell_type": "code",
   "execution_count": 74,
   "metadata": {},
   "outputs": [
    {
     "name": "stdout",
     "output_type": "stream",
     "text": [
      "The size of the train data:(891, 12)\n",
      "The size of the test data:(418, 11)\n"
     ]
    }
   ],
   "source": [
    "# データの読み込み\n",
    "train_raw = pd.read_csv('../data/processed/train.csv') #学習データ\n",
    "test_raw = pd.read_csv('../data/processed/test.csv') #テストデータ\n",
    "print(f'The size of the train data:{train_raw.shape}')\n",
    "print(f'The size of the test data:{test_raw.shape}')"
   ]
  },
  {
   "cell_type": "code",
   "execution_count": 75,
   "metadata": {},
   "outputs": [
    {
     "name": "stdout",
     "output_type": "stream",
     "text": [
      "The size of all_data:(1309, 13)\n"
     ]
    }
   ],
   "source": [
    "train_1 = train_raw\n",
    "test_1 = test_raw\n",
    "train_1['train_or_test'] = 'train' #学習データフラグ\n",
    "test_1['train_or_test'] = 'test' #テストデータフラグ\n",
    "test_1['Survived'] = 9 #テストにSurvivedカラムを仮置き\n",
    "all_data = pd.concat(\n",
    "    [\n",
    "        train_1,\n",
    "        test_1\n",
    "    ],\n",
    "    axis=0,\n",
    "    sort=False\n",
    ").reset_index(drop=True)\n",
    "print(f'The size of all_data:{all_data.shape}')"
   ]
  },
  {
   "cell_type": "code",
   "execution_count": 76,
   "metadata": {},
   "outputs": [],
   "source": [
    "all_data['honorific'] = all_data['Name'].map(lambda x: x.split(', ')[1].split('. ')[0])"
   ]
  },
  {
   "cell_type": "code",
   "execution_count": 77,
   "metadata": {},
   "outputs": [],
   "source": [
    "all_data['FamilySize'] = all_data['Parch'] + all_data['SibSp'] + 1"
   ]
  },
  {
   "cell_type": "code",
   "execution_count": 78,
   "metadata": {},
   "outputs": [],
   "source": [
    "all_data['Cabin_ini'] = all_data['Cabin'].map(lambda x:str(x)[0])"
   ]
  },
  {
   "cell_type": "code",
   "execution_count": 79,
   "metadata": {},
   "outputs": [],
   "source": [
    "train = all_data.query('train_or_test == \"train\"')[[\n",
    "    'Survived','Pclass','Sex','Age','SibSp','Parch','Fare','Embarked','honorific','FamilySize','Cabin_ini']]"
   ]
  },
  {
   "cell_type": "code",
   "execution_count": 80,
   "metadata": {},
   "outputs": [
    {
     "data": {
      "text/plain": [
       "Survived        0\n",
       "Pclass          0\n",
       "Sex             0\n",
       "Age           177\n",
       "SibSp           0\n",
       "Parch           0\n",
       "Fare            0\n",
       "Embarked        2\n",
       "honorific       0\n",
       "FamilySize      0\n",
       "Cabin_ini       0\n",
       "dtype: int64"
      ]
     },
     "execution_count": 80,
     "metadata": {},
     "output_type": "execute_result"
    }
   ],
   "source": [
    "train.isnull().sum()"
   ]
  },
  {
   "cell_type": "code",
   "execution_count": 81,
   "metadata": {},
   "outputs": [],
   "source": [
    "train.Age.fillna(train.Age.median(), inplace=True)\n",
    "train.Embarked.fillna(train.Embarked.mode()[0], inplace=True)"
   ]
  },
  {
   "cell_type": "code",
   "execution_count": 82,
   "metadata": {},
   "outputs": [],
   "source": [
    "label_target_col = ['Sex', 'Embarked','honorific',  'Cabin_ini']"
   ]
  },
  {
   "cell_type": "code",
   "execution_count": 83,
   "metadata": {},
   "outputs": [],
   "source": [
    "from sklearn.preprocessing import LabelEncoder"
   ]
  },
  {
   "cell_type": "code",
   "execution_count": 84,
   "metadata": {},
   "outputs": [],
   "source": [
    "le = LabelEncoder()"
   ]
  },
  {
   "cell_type": "code",
   "execution_count": 85,
   "metadata": {},
   "outputs": [],
   "source": [
    "for col in label_target_col:\n",
    "    train.loc[:, col] = le.fit_transform(train[col])"
   ]
  },
  {
   "cell_type": "code",
   "execution_count": 86,
   "metadata": {},
   "outputs": [],
   "source": [
    "train_X = train.drop(columns=['Survived'])\n",
    "train_y = train.Survived"
   ]
  },
  {
   "cell_type": "code",
   "execution_count": 87,
   "metadata": {},
   "outputs": [],
   "source": [
    "X_train, X_test, y_train, y_test = train_test_split(\n",
    "    train_X, train_y, test_size=0.2, random_state=100,stratify=train_y)"
   ]
  },
  {
   "cell_type": "code",
   "execution_count": 89,
   "metadata": {},
   "outputs": [
    {
     "ename": "ModuleNotFoundError",
     "evalue": "No module named 'xgboost'",
     "output_type": "error",
     "traceback": [
      "\u001b[0;31m---------------------------------------------------------------------------\u001b[0m",
      "\u001b[0;31mModuleNotFoundError\u001b[0m                       Traceback (most recent call last)",
      "\u001b[0;32m<ipython-input-89-4d0c3bbcc2f8>\u001b[0m in \u001b[0;36m<module>\u001b[0;34m\u001b[0m\n\u001b[1;32m      1\u001b[0m \u001b[0;32mfrom\u001b[0m \u001b[0msklearn\u001b[0m\u001b[0;34m.\u001b[0m\u001b[0mensemble\u001b[0m \u001b[0;32mimport\u001b[0m \u001b[0mRandomForestClassifier\u001b[0m\u001b[0;34m\u001b[0m\u001b[0;34m\u001b[0m\u001b[0m\n\u001b[0;32m----> 2\u001b[0;31m \u001b[0;32mimport\u001b[0m \u001b[0mxgboost\u001b[0m \u001b[0;32mas\u001b[0m \u001b[0mxgb\u001b[0m\u001b[0;34m\u001b[0m\u001b[0;34m\u001b[0m\u001b[0m\n\u001b[0m\u001b[1;32m      3\u001b[0m \u001b[0;32mfrom\u001b[0m \u001b[0msklearn\u001b[0m\u001b[0;34m.\u001b[0m\u001b[0mmodel_selection\u001b[0m \u001b[0;32mimport\u001b[0m \u001b[0mtrain_test_split\u001b[0m\u001b[0;34m\u001b[0m\u001b[0;34m\u001b[0m\u001b[0m\n",
      "\u001b[0;31mModuleNotFoundError\u001b[0m: No module named 'xgboost'"
     ]
    }
   ],
   "source": [
    "from sklearn.ensemble import RandomForestClassifier\n",
    "import xgboost as xgb\n",
    "from sklearn.model_selection import train_test_split"
   ]
  },
  {
   "cell_type": "code",
   "execution_count": 90,
   "metadata": {},
   "outputs": [
    {
     "name": "stdout",
     "output_type": "stream",
     "text": [
      "Collecting xgboost\n",
      "\u001b[?25l  Downloading https://files.pythonhosted.org/packages/96/84/4e2cae6247f397f83d8adc5c2a2a0c5d7d790a14a4c7400ff6574586f589/xgboost-0.90.tar.gz (676kB)\n",
      "\u001b[K     |████████████████████████████████| 686kB 357kB/s eta 0:00:01\n",
      "\u001b[31m    ERROR: Command errored out with exit status 1:\n",
      "     command: /Users/naoki/Desktop/Learning/jupyter_work/work/bin/python3 -c 'import sys, setuptools, tokenize; sys.argv[0] = '\"'\"'/private/var/folders/2d/tpbqmp610ln9rt3sj20qkh500000gn/T/pip-install-2eu7b_fx/xgboost/setup.py'\"'\"'; __file__='\"'\"'/private/var/folders/2d/tpbqmp610ln9rt3sj20qkh500000gn/T/pip-install-2eu7b_fx/xgboost/setup.py'\"'\"';f=getattr(tokenize, '\"'\"'open'\"'\"', open)(__file__);code=f.read().replace('\"'\"'\\r\\n'\"'\"', '\"'\"'\\n'\"'\"');f.close();exec(compile(code, __file__, '\"'\"'exec'\"'\"'))' egg_info --egg-base pip-egg-info\n",
      "         cwd: /private/var/folders/2d/tpbqmp610ln9rt3sj20qkh500000gn/T/pip-install-2eu7b_fx/xgboost/\n",
      "    Complete output (32 lines):\n",
      "    ++ pwd\n",
      "    + oldpath=/private/var/folders/2d/tpbqmp610ln9rt3sj20qkh500000gn/T/pip-install-2eu7b_fx/xgboost\n",
      "    + cd ./xgboost/\n",
      "    + echo darwin18\n",
      "    + grep -q darwin\n",
      "    + LIB_XGBOOST=libxgboost.dylib\n",
      "    + which g++-5\n",
      "    + which g++-7\n",
      "    + which g++-8\n",
      "    /usr/local/bin/g++-8\n",
      "    + export CC=gcc-8\n",
      "    + CC=gcc-8\n",
      "    + export CXX=g++-8\n",
      "    + CXX=g++-8\n",
      "    + make clean\n",
      "    \n",
      "    \n",
      "    Agreeing to the Xcode/iOS license requires admin privileges, please run “sudo xcodebuild -license” and then retry this command.\n",
      "    \n",
      "    \n",
      "    Traceback (most recent call last):\n",
      "      File \"<string>\", line 1, in <module>\n",
      "      File \"/private/var/folders/2d/tpbqmp610ln9rt3sj20qkh500000gn/T/pip-install-2eu7b_fx/xgboost/setup.py\", line 42, in <module>\n",
      "        LIB_PATH = libpath['find_lib_path']()\n",
      "      File \"/private/var/folders/2d/tpbqmp610ln9rt3sj20qkh500000gn/T/pip-install-2eu7b_fx/xgboost/xgboost/libpath.py\", line 48, in find_lib_path\n",
      "        'List of candidates:\\n' + ('\\n'.join(dll_path)))\n",
      "    XGBoostLibraryNotFound: Cannot find XGBoost Library in the candidate path, did you install compilers and run build.sh in root path?\n",
      "    List of candidates:\n",
      "    /private/var/folders/2d/tpbqmp610ln9rt3sj20qkh500000gn/T/pip-install-2eu7b_fx/xgboost/xgboost/libxgboost.dylib\n",
      "    /private/var/folders/2d/tpbqmp610ln9rt3sj20qkh500000gn/T/pip-install-2eu7b_fx/xgboost/xgboost/../../lib/libxgboost.dylib\n",
      "    /private/var/folders/2d/tpbqmp610ln9rt3sj20qkh500000gn/T/pip-install-2eu7b_fx/xgboost/xgboost/./lib/libxgboost.dylib\n",
      "    /Users/naoki/Desktop/Learning/jupyter_work/work/xgboost/libxgboost.dylib\n",
      "    ----------------------------------------\u001b[0m\n",
      "\u001b[31mERROR: Command errored out with exit status 1: python setup.py egg_info Check the logs for full command output.\u001b[0m\n",
      "\u001b[33mWARNING: You are using pip version 19.2.3, however version 19.3.1 is available.\n",
      "You should consider upgrading via the 'pip install --upgrade pip' command.\u001b[0m\n",
      "\u001b[?25h"
     ]
    }
   ],
   "source": [
    "!pip install xgboost"
   ]
  },
  {
   "cell_type": "code",
   "execution_count": 65,
   "metadata": {},
   "outputs": [],
   "source": [
    "rfc = RandomForestClassifier()"
   ]
  },
  {
   "cell_type": "code",
   "execution_count": null,
   "metadata": {},
   "outputs": [],
   "source": [
    "# from sklearn.model_selection import GridSearchCV\n",
    "\n",
    "#  # use a full grid over all parameters\n",
    "# param_grid = {\"max_depth\": [2,3, None],\n",
    "#               \"n_estimators\":[50,100,200,300,400,500],\n",
    "#               \"max_features\": [1, 3, 10],\n",
    "#               \"min_samples_split\": [2, 3, 10],\n",
    "#               \"min_samples_leaf\": [1, 3, 10],\n",
    "#               \"bootstrap\": [True, False],\n",
    "#               \"criterion\": [\"gini\", \"entropy\"]}\n",
    "\n",
    "# forest_grid = GridSearchCV(\n",
    "#     estimator=RandomForestClassifier(random_state=0),\n",
    "#     param_grid = param_grid,   \n",
    "#     scoring=\"accuracy\",  #metrics\n",
    "#     cv = 3,              #cross-validation\n",
    "#     n_jobs = 1\n",
    "# )          #number of core\n",
    "\n",
    "# forest_grid.fit(X_train,y_train) #fit"
   ]
  },
  {
   "cell_type": "code",
   "execution_count": null,
   "metadata": {},
   "outputs": [],
   "source": []
  },
  {
   "cell_type": "code",
   "execution_count": 69,
   "metadata": {},
   "outputs": [
    {
     "name": "stdout",
     "output_type": "stream",
     "text": [
      "0.973314606741573\n",
      "0.8156424581005587\n"
     ]
    }
   ],
   "source": [
    "print(rfc.score(X_train, y_train))\n",
    "print(rfc.score(X_test, y_test))"
   ]
  }
 ],
 "metadata": {
  "kernelspec": {
   "display_name": "Python 3",
   "language": "python",
   "name": "python3"
  },
  "language_info": {
   "codemirror_mode": {
    "name": "ipython",
    "version": 3
   },
   "file_extension": ".py",
   "mimetype": "text/x-python",
   "name": "python",
   "nbconvert_exporter": "python",
   "pygments_lexer": "ipython3",
   "version": "3.7.6"
  },
  "toc": {
   "base_numbering": 1,
   "nav_menu": {},
   "number_sections": true,
   "sideBar": true,
   "skip_h1_title": false,
   "title_cell": "Table of Contents",
   "title_sidebar": "Contents",
   "toc_cell": false,
   "toc_position": {},
   "toc_section_display": true,
   "toc_window_display": false
  }
 },
 "nbformat": 4,
 "nbformat_minor": 2
}
