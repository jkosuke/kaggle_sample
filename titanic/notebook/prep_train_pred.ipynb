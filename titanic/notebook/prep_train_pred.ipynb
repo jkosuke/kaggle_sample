{
 "cells": [
  {
   "cell_type": "code",
   "execution_count": 175,
   "metadata": {},
   "outputs": [],
   "source": [
    "import pandas as pd\n",
    "import numpy as np\n",
    "\n",
    "from sklearn.preprocessing import LabelEncoder\n",
    "\n",
    "import matplotlib.pyplot as plt\n",
    "import seaborn as sns\n",
    "sns.set()"
   ]
  },
  {
   "cell_type": "code",
   "execution_count": 158,
   "metadata": {},
   "outputs": [
    {
     "name": "stdout",
     "output_type": "stream",
     "text": [
      "The size of the train data:(891, 12)\n",
      "The size of the test data:(418, 11)\n",
      "The size of the alldata data:(1309, 13)\n"
     ]
    }
   ],
   "source": [
    "train_raw = pd.read_csv('../data/raw//train.csv') #学習データ\n",
    "test_raw = pd.read_csv('../data/raw/test.csv') #テストデータ\n",
    "print('The size of the train data:' + str(train_raw.shape))\n",
    "print('The size of the test data:' + str(test_raw.shape))\n",
    "\n",
    "train_mid = train_raw.copy()\n",
    "test_mid = test_raw.copy()\n",
    "train_mid['train_or_test'] = 'train' #学習データフラグ\n",
    "test_mid['train_or_test'] = 'test' #テストデータフラグ\n",
    "test_mid['Survived'] = 9 #テストにSurvivedカラムを仮置き\n",
    "\n",
    "alldata = pd.concat(\n",
    "    [\n",
    "        train_mid,\n",
    "        test_mid\n",
    "    ],\n",
    "    sort=False,\n",
    "    axis=0\n",
    ").reset_index(drop=True)\n",
    "print('The size of the alldata data:' + str(alldata.shape))"
   ]
  },
  {
   "cell_type": "markdown",
   "metadata": {},
   "source": [
    "# 前処理"
   ]
  },
  {
   "cell_type": "markdown",
   "metadata": {},
   "source": [
    "## 欠損値補完"
   ]
  },
  {
   "cell_type": "code",
   "execution_count": 159,
   "metadata": {},
   "outputs": [
    {
     "data": {
      "text/plain": [
       "PassengerId         0\n",
       "Survived            0\n",
       "Pclass              0\n",
       "Name                0\n",
       "Sex                 0\n",
       "Age               263\n",
       "SibSp               0\n",
       "Parch               0\n",
       "Ticket              0\n",
       "Fare                1\n",
       "Cabin            1014\n",
       "Embarked            2\n",
       "train_or_test       0\n",
       "dtype: int64"
      ]
     },
     "execution_count": 159,
     "metadata": {},
     "output_type": "execute_result"
    }
   ],
   "source": [
    "# 欠損値補完\n",
    "alldata.isnull().sum()"
   ]
  },
  {
   "cell_type": "code",
   "execution_count": 160,
   "metadata": {},
   "outputs": [
    {
     "name": "stdout",
     "output_type": "stream",
     "text": [
      "PassengerId         0\n",
      "Survived            0\n",
      "Pclass              0\n",
      "Name                0\n",
      "Sex                 0\n",
      "Age               263\n",
      "SibSp               0\n",
      "Parch               0\n",
      "Ticket              0\n",
      "Fare                0\n",
      "Cabin            1014\n",
      "Embarked            0\n",
      "train_or_test       0\n",
      "dtype: int64\n"
     ]
    }
   ],
   "source": [
    "# Embarkedには最頻値を代入\n",
    "alldata.Embarked.fillna(alldata.Embarked.mode()[0], inplace=True)\n",
    "# Fareには中央値を代入\n",
    "alldata.Fare.fillna(alldata.Fare.median(), inplace=True)\n",
    "# 欠損値補完がされたかを確認\n",
    "print(alldata.isnull().sum())"
   ]
  },
  {
   "cell_type": "markdown",
   "metadata": {},
   "source": [
    "## 特徴量別加工"
   ]
  },
  {
   "cell_type": "markdown",
   "metadata": {},
   "source": [
    "### Ticket"
   ]
  },
  {
   "cell_type": "code",
   "execution_count": 161,
   "metadata": {},
   "outputs": [],
   "source": [
    "# Ticket頻度\n",
    "alldata.loc[:, 'TicketFreq'] = alldata.groupby(['Ticket'])['PassengerId'].transform('count')"
   ]
  },
  {
   "cell_type": "markdown",
   "metadata": {},
   "source": [
    "### Name"
   ]
  },
  {
   "cell_type": "code",
   "execution_count": 162,
   "metadata": {},
   "outputs": [],
   "source": [
    "# テストデータの敬称(honorific)を抽出\n",
    "alldata['honorific'] = alldata['Name'].map(lambda x: x.split(', ')[1].split('. ')[0])\n",
    "# 敬称(honorific)の加工\n",
    "alldata['honorific'].replace(['Col','Dr', 'Rev'], 'Rare',inplace=True) #少数派の敬称を統合\n",
    "alldata['honorific'].replace('Mlle', 'Miss',inplace=True) #Missに統合\n",
    "alldata['honorific'].replace('Ms', 'Miss',inplace=True) #Missに統合"
   ]
  },
  {
   "cell_type": "markdown",
   "metadata": {},
   "source": [
    "### Fare"
   ]
  },
  {
   "cell_type": "code",
   "execution_count": 163,
   "metadata": {},
   "outputs": [],
   "source": [
    "# Fareの分割\n",
    "alldata.loc[:, 'Fare_bin'] = pd.qcut(alldata.Fare, 14)"
   ]
  },
  {
   "cell_type": "markdown",
   "metadata": {},
   "source": [
    "### Parch/Sibsp"
   ]
  },
  {
   "cell_type": "code",
   "execution_count": 164,
   "metadata": {},
   "outputs": [],
   "source": [
    "# Familysize\n",
    "alldata['FamilySize'] = alldata['Parch'] + alldata['SibSp'] + 1 #ALLデータ\n",
    "# FamilySizeを離散化\n",
    "alldata['FamilySize_bin'] = 'big'\n",
    "alldata.loc[alldata['FamilySize']==1,'FamilySize_bin'] = 'alone'\n",
    "alldata.loc[(alldata['FamilySize']>=2) & (alldata['FamilySize']<=4),'FamilySize_bin'] = 'small'\n",
    "alldata.loc[(alldata['FamilySize']>=5) & (alldata['FamilySize']<=7),'FamilySize_bin'] = 'mediam'"
   ]
  },
  {
   "cell_type": "markdown",
   "metadata": {},
   "source": [
    "### Cabin"
   ]
  },
  {
   "cell_type": "code",
   "execution_count": 165,
   "metadata": {},
   "outputs": [],
   "source": [
    "# Cabinの頭文字\n",
    "alldata['Cabin_ini'] = alldata['Cabin'].map(lambda x:str(x)[0])\n",
    "alldata['Cabin_ini'].replace(['G','T'], 'Rare',inplace=True) #少数派のCabin_iniを統合"
   ]
  },
  {
   "cell_type": "markdown",
   "metadata": {},
   "source": [
    "## エンコーディング"
   ]
  },
  {
   "cell_type": "code",
   "execution_count": 166,
   "metadata": {},
   "outputs": [
    {
     "data": {
      "text/plain": [
       "PassengerId          int64\n",
       "Survived             int64\n",
       "Pclass               int64\n",
       "Name                object\n",
       "Sex                 object\n",
       "Age                float64\n",
       "SibSp                int64\n",
       "Parch                int64\n",
       "Ticket              object\n",
       "Fare               float64\n",
       "Cabin               object\n",
       "Embarked            object\n",
       "train_or_test       object\n",
       "TicketFreq           int64\n",
       "honorific           object\n",
       "Fare_bin          category\n",
       "FamilySize           int64\n",
       "FamilySize_bin      object\n",
       "Cabin_ini           object\n",
       "dtype: object"
      ]
     },
     "execution_count": 166,
     "metadata": {},
     "output_type": "execute_result"
    }
   ],
   "source": [
    "alldata.dtypes"
   ]
  },
  {
   "cell_type": "code",
   "execution_count": 167,
   "metadata": {},
   "outputs": [],
   "source": [
    "# PclassをObject型に変換\n",
    "alldata.Pclass = alldata.Pclass.astype('str')"
   ]
  },
  {
   "cell_type": "code",
   "execution_count": 168,
   "metadata": {},
   "outputs": [],
   "source": [
    "# カテゴリ特徴量についてラベルエンコーディング\n",
    "le_target_col = ['Sex', 'Fare_bin']\n",
    "le = LabelEncoder()\n",
    "for col in le_target_col:\n",
    "    alldata.loc[:, col] = le.fit_transform(alldata[col])"
   ]
  },
  {
   "cell_type": "code",
   "execution_count": 169,
   "metadata": {},
   "outputs": [],
   "source": [
    "# # カテゴリカル変数\n",
    "cat_col = ['Pclass', 'Embarked','honorific','Cabin_ini', 'FamilySize_bin', 'Fare_bin']\n",
    "alldata = pd.get_dummies(alldata, drop_first=True, columns=cat_col)"
   ]
  },
  {
   "cell_type": "code",
   "execution_count": 170,
   "metadata": {},
   "outputs": [
    {
     "data": {
      "text/plain": [
       "Index(['PassengerId', 'Survived', 'Name', 'Sex', 'Age', 'SibSp', 'Parch',\n",
       "       'Ticket', 'Fare', 'Cabin', 'train_or_test', 'TicketFreq', 'FamilySize',\n",
       "       'Pclass_2', 'Pclass_3', 'Embarked_Q', 'Embarked_S', 'honorific_Don',\n",
       "       'honorific_Dona', 'honorific_Jonkheer', 'honorific_Lady',\n",
       "       'honorific_Major', 'honorific_Master', 'honorific_Miss',\n",
       "       'honorific_Mme', 'honorific_Mr', 'honorific_Mrs', 'honorific_Rare',\n",
       "       'honorific_Sir', 'honorific_the Countess', 'Cabin_ini_B', 'Cabin_ini_C',\n",
       "       'Cabin_ini_D', 'Cabin_ini_E', 'Cabin_ini_F', 'Cabin_ini_Rare',\n",
       "       'Cabin_ini_n', 'FamilySize_bin_big', 'FamilySize_bin_mediam',\n",
       "       'FamilySize_bin_small', 'Fare_bin_1', 'Fare_bin_2', 'Fare_bin_3',\n",
       "       'Fare_bin_4', 'Fare_bin_5', 'Fare_bin_6', 'Fare_bin_7', 'Fare_bin_8',\n",
       "       'Fare_bin_9', 'Fare_bin_10', 'Fare_bin_11', 'Fare_bin_12',\n",
       "       'Fare_bin_13'],\n",
       "      dtype='object')"
      ]
     },
     "execution_count": 170,
     "metadata": {},
     "output_type": "execute_result"
    }
   ],
   "source": [
    "alldata.columns"
   ]
  },
  {
   "cell_type": "markdown",
   "metadata": {},
   "source": [
    "# モデル構築"
   ]
  },
  {
   "cell_type": "code",
   "execution_count": 171,
   "metadata": {},
   "outputs": [],
   "source": [
    "from sklearn.model_selection import train_test_split\n",
    "\n",
    "# 最初に統合したtrainとtestを分離\n",
    "train = alldata.query('train_or_test == \"train\"')\n",
    "test = alldata.query('train_or_test == \"test\"')\n",
    "# ターゲット変数と、学習に不要なカラムを定義\n",
    "target_col = 'Survived'\n",
    "drop_col = ['PassengerId','Survived', 'Name', 'Fare', 'Ticket', 'Cabin', 'train_or_test', 'Age', 'Parch', 'FamilySize', 'SibSp']\n",
    "# 学習に必要な特徴量のみを保持\n",
    "train_feature = train.drop(columns=drop_col)\n",
    "test_feature = test.drop(columns=drop_col)\n",
    "train_tagert = train[target_col]\n",
    "# trainデータを分割\n",
    "X_train, X_test, y_train, y_test = train_test_split(\n",
    "    train_feature, train_tagert, test_size=0.2, random_state=0, stratify=train_tagert)"
   ]
  },
  {
   "cell_type": "markdown",
   "metadata": {},
   "source": [
    "## ベースライン"
   ]
  },
  {
   "cell_type": "code",
   "execution_count": 172,
   "metadata": {},
   "outputs": [
    {
     "name": "stdout",
     "output_type": "stream",
     "text": [
      "survive rate:0.38342696629213485\n",
      "base line accuracy: 0.6165730337078652\n"
     ]
    }
   ],
   "source": [
    "# trainから頻度に応じて単純なモデルを作る場合\n",
    "survive_rate = y_train.sum()/len(y_train)\n",
    "print(f'survive rate:{survive_rate}')\n",
    "print(f'base line accuracy: {1 - survive_rate}')"
   ]
  },
  {
   "cell_type": "code",
   "execution_count": 173,
   "metadata": {},
   "outputs": [
    {
     "name": "stdout",
     "output_type": "stream",
     "text": [
      "====================\n",
      "RandomForestClassifier\n",
      "accuracy of train set: 0.9199438202247191\n",
      "accuracy of test set: 0.7821229050279329\n",
      "====================\n",
      "XGBClassifier\n",
      "accuracy of train set: 0.8778089887640449\n",
      "accuracy of train set: 0.7932960893854749\n",
      "====================\n",
      "LGBMClassifier\n",
      "accuracy of train set: 0.8932584269662921\n",
      "accuracy of train set: 0.7988826815642458\n",
      "====================\n",
      "LogisticRegression\n",
      "accuracy of train set: 0.8426966292134831\n",
      "accuracy of train set: 0.8156424581005587\n",
      "====================\n",
      "SVC\n",
      "accuracy of train set: 0.8426966292134831\n",
      "accuracy of train set: 0.8156424581005587\n"
     ]
    }
   ],
   "source": [
    "from sklearn.ensemble import RandomForestClassifier\n",
    "from xgboost import XGBClassifier\n",
    "from lightgbm import LGBMClassifier\n",
    "from sklearn.svm import SVC\n",
    "from sklearn.linear_model import LogisticRegression\n",
    "\n",
    "rfc = RandomForestClassifier(random_state=0)\n",
    "rfc.fit(X_train, y_train)\n",
    "print('='*20)\n",
    "print('RandomForestClassifier')\n",
    "print(f'accuracy of train set: {rfc.score(X_train, y_train)}')\n",
    "print(f'accuracy of test set: {rfc.score(X_test, y_test)}')\n",
    "\n",
    "xgb = XGBClassifier(random_state=0)\n",
    "xgb.fit(X_train, y_train)\n",
    "print('='*20)\n",
    "print('XGBClassifier')\n",
    "print(f'accuracy of train set: {xgb.score(X_train, y_train)}')\n",
    "print(f'accuracy of train set: {xgb.score(X_test, y_test)}')\n",
    "\n",
    "lgb = LGBMClassifier(random_state=0)\n",
    "lgb.fit(X_train, y_train)\n",
    "print('='*20)\n",
    "print('LGBMClassifier')\n",
    "print(f'accuracy of train set: {lgb.score(X_train, y_train)}')\n",
    "print(f'accuracy of train set: {lgb.score(X_test, y_test)}')\n",
    "\n",
    "lr = LogisticRegression(random_state=0)\n",
    "lr.fit(X_train, y_train)\n",
    "print('='*20)\n",
    "print('LogisticRegression')\n",
    "print(f'accuracy of train set: {lr.score(X_train, y_train)}')\n",
    "print(f'accuracy of train set: {lr.score(X_test, y_test)}')\n",
    "\n",
    "svc = SVC(random_state=0)\n",
    "svc.fit(X_train, y_train)\n",
    "print('='*20)\n",
    "print('SVC')\n",
    "print(f'accuracy of train set: {svc.score(X_train, y_train)}')\n",
    "print(f'accuracy of train set: {svc.score(X_test, y_test)}')"
   ]
  },
  {
   "cell_type": "code",
   "execution_count": 174,
   "metadata": {},
   "outputs": [
    {
     "data": {
      "text/plain": [
       "Text(0.5, 1.0, 'RandomForestClassifier feature importance')"
      ]
     },
     "execution_count": 174,
     "metadata": {},
     "output_type": "execute_result"
    },
    {
     "data": {
      "image/png": "[encoded data removed]",
      "text/plain": [
       "<Figure size 1440x720 with 1 Axes>"
      ]
     },
     "metadata": {},
     "output_type": "display_data"
    }
   ],
   "source": [
    "# 試しにRandamForestClassifierの重要度を可視化する\n",
    "plt.figure(figsize=(20,10))\n",
    "plt.barh(\n",
    "    X_train.columns[np.argsort(rfc.feature_importances_)],\n",
    "    rfc.feature_importances_[np.argsort(rfc.feature_importances_)],\n",
    "    label='RandomForestClassifier'\n",
    ")\n",
    "plt.title('RandomForestClassifier feature importance')"
   ]
  },
  {
   "cell_type": "markdown",
   "metadata": {},
   "source": [
    "## パラメータチューニング"
   ]
  },
  {
   "cell_type": "code",
   "execution_count": 177,
   "metadata": {},
   "outputs": [],
   "source": [
    "from sklearn.model_selection import StratifiedKFold, cross_validate\n",
    "import optuna\n",
    "\n",
    "# CV分割数\n",
    "cv = 5"
   ]
  },
  {
   "cell_type": "code",
   "execution_count": 185,
   "metadata": {},
   "outputs": [
    {
     "name": "stderr",
     "output_type": "stream",
     "text": [
      "\u001b[32m[I 2020-01-21 20:40:13,829]\u001b[0m Finished trial#0 resulted in value: 0.8328671328671329. Current best value is 0.8328671328671329 with parameters: {'max_depth': 7, 'min_samples_leaf': 2, 'min_samples_split': 14, 'criterion': 'gini', 'max_features': 6}.\u001b[0m\n",
      "\u001b[32m[I 2020-01-21 20:40:14,691]\u001b[0m Finished trial#1 resulted in value: 0.8272628779671033. Current best value is 0.8328671328671329 with parameters: {'max_depth': 7, 'min_samples_leaf': 2, 'min_samples_split': 14, 'criterion': 'gini', 'max_features': 6}.\u001b[0m\n",
      "\u001b[32m[I 2020-01-21 20:40:15,589]\u001b[0m Finished trial#2 resulted in value: 0.8272431793558553. Current best value is 0.8328671328671329 with parameters: {'max_depth': 7, 'min_samples_leaf': 2, 'min_samples_split': 14, 'criterion': 'gini', 'max_features': 6}.\u001b[0m\n",
      "\u001b[32m[I 2020-01-21 20:40:16,562]\u001b[0m Finished trial#3 resulted in value: 0.8342657342657344. Current best value is 0.8342657342657344 with parameters: {'max_depth': 14, 'min_samples_leaf': 3, 'min_samples_split': 11, 'criterion': 'entropy', 'max_features': 9}.\u001b[0m\n",
      "\u001b[32m[I 2020-01-21 20:40:17,571]\u001b[0m Finished trial#4 resulted in value: 0.8314488328572835. Current best value is 0.8342657342657344 with parameters: {'max_depth': 14, 'min_samples_leaf': 3, 'min_samples_split': 11, 'criterion': 'entropy', 'max_features': 9}.\u001b[0m\n",
      "\u001b[32m[I 2020-01-21 20:40:18,578]\u001b[0m Finished trial#5 resulted in value: 0.8286614793657048. Current best value is 0.8342657342657344 with parameters: {'max_depth': 14, 'min_samples_leaf': 3, 'min_samples_split': 11, 'criterion': 'entropy', 'max_features': 9}.\u001b[0m\n",
      "\u001b[32m[I 2020-01-21 20:40:19,456]\u001b[0m Finished trial#6 resulted in value: 0.8314685314685315. Current best value is 0.8342657342657344 with parameters: {'max_depth': 14, 'min_samples_leaf': 3, 'min_samples_split': 11, 'criterion': 'entropy', 'max_features': 9}.\u001b[0m\n",
      "\u001b[32m[I 2020-01-21 20:40:20,513]\u001b[0m Finished trial#7 resulted in value: 0.8286713286713286. Current best value is 0.8342657342657344 with parameters: {'max_depth': 14, 'min_samples_leaf': 3, 'min_samples_split': 11, 'criterion': 'entropy', 'max_features': 9}.\u001b[0m\n",
      "\u001b[32m[I 2020-01-21 20:40:21,460]\u001b[0m Finished trial#8 resulted in value: 0.8356643356643356. Current best value is 0.8356643356643356 with parameters: {'max_depth': 15, 'min_samples_leaf': 3, 'min_samples_split': 10, 'criterion': 'gini', 'max_features': 5}.\u001b[0m\n",
      "\u001b[32m[I 2020-01-21 20:40:22,419]\u001b[0m Finished trial#9 resulted in value: 0.8370924849798088. Current best value is 0.8370924849798088 with parameters: {'max_depth': 14, 'min_samples_leaf': 2, 'min_samples_split': 11, 'criterion': 'entropy', 'max_features': 9}.\u001b[0m\n",
      "\u001b[32m[I 2020-01-21 20:40:23,358]\u001b[0m Finished trial#10 resulted in value: 0.8342854328769821. Current best value is 0.8370924849798088 with parameters: {'max_depth': 14, 'min_samples_leaf': 2, 'min_samples_split': 11, 'criterion': 'entropy', 'max_features': 9}.\u001b[0m\n",
      "\u001b[32m[I 2020-01-21 20:40:24,224]\u001b[0m Finished trial#11 resulted in value: 0.8356840342755836. Current best value is 0.8370924849798088 with parameters: {'max_depth': 14, 'min_samples_leaf': 2, 'min_samples_split': 11, 'criterion': 'entropy', 'max_features': 9}.\u001b[0m\n",
      "\u001b[32m[I 2020-01-21 20:40:25,101]\u001b[0m Finished trial#12 resulted in value: 0.8398798384713878. Current best value is 0.8398798384713878 with parameters: {'max_depth': 12, 'min_samples_leaf': 1, 'min_samples_split': 9, 'criterion': 'gini', 'max_features': 9}.\u001b[0m\n",
      "\u001b[32m[I 2020-01-21 20:40:25,948]\u001b[0m Finished trial#13 resulted in value: 0.8370924849798088. Current best value is 0.8398798384713878 with parameters: {'max_depth': 12, 'min_samples_leaf': 1, 'min_samples_split': 9, 'criterion': 'gini', 'max_features': 9}.\u001b[0m\n",
      "\u001b[32m[I 2020-01-21 20:40:26,833]\u001b[0m Finished trial#14 resulted in value: 0.8342854328769821. Current best value is 0.8398798384713878 with parameters: {'max_depth': 12, 'min_samples_leaf': 1, 'min_samples_split': 9, 'criterion': 'gini', 'max_features': 9}.\u001b[0m\n",
      "\u001b[32m[I 2020-01-21 20:40:27,690]\u001b[0m Finished trial#15 resulted in value: 0.8356741849699596. Current best value is 0.8398798384713878 with parameters: {'max_depth': 12, 'min_samples_leaf': 1, 'min_samples_split': 9, 'criterion': 'gini', 'max_features': 9}.\u001b[0m\n",
      "\u001b[32m[I 2020-01-21 20:40:28,553]\u001b[0m Finished trial#16 resulted in value: 0.8384713877671623. Current best value is 0.8398798384713878 with parameters: {'max_depth': 12, 'min_samples_leaf': 1, 'min_samples_split': 9, 'criterion': 'gini', 'max_features': 9}.\u001b[0m\n",
      "\u001b[32m[I 2020-01-21 20:40:29,416]\u001b[0m Finished trial#17 resulted in value: 0.8371023342854329. Current best value is 0.8398798384713878 with parameters: {'max_depth': 12, 'min_samples_leaf': 1, 'min_samples_split': 9, 'criterion': 'gini', 'max_features': 9}.\u001b[0m\n",
      "\u001b[32m[I 2020-01-21 20:40:30,298]\u001b[0m Finished trial#18 resulted in value: 0.8398896877770117. Current best value is 0.8398896877770117 with parameters: {'max_depth': 9, 'min_samples_leaf': 2, 'min_samples_split': 9, 'criterion': 'gini', 'max_features': 8}.\u001b[0m\n",
      "\u001b[32m[I 2020-01-21 20:40:31,188]\u001b[0m Finished trial#19 resulted in value: 0.8455037919826653. Current best value is 0.8455037919826653 with parameters: {'max_depth': 9, 'min_samples_leaf': 1, 'min_samples_split': 8, 'criterion': 'gini', 'max_features': 8}.\u001b[0m\n",
      "\u001b[32m[I 2020-01-21 20:40:32,014]\u001b[0m Finished trial#20 resulted in value: 0.8398896877770117. Current best value is 0.8455037919826653 with parameters: {'max_depth': 9, 'min_samples_leaf': 1, 'min_samples_split': 8, 'criterion': 'gini', 'max_features': 8}.\u001b[0m\n",
      "\u001b[32m[I 2020-01-21 20:40:32,943]\u001b[0m Finished trial#21 resulted in value: 0.8398896877770117. Current best value is 0.8455037919826653 with parameters: {'max_depth': 9, 'min_samples_leaf': 1, 'min_samples_split': 8, 'criterion': 'gini', 'max_features': 8}.\u001b[0m\n",
      "\u001b[32m[I 2020-01-21 20:40:33,861]\u001b[0m Finished trial#22 resulted in value: 0.8384812370727864. Current best value is 0.8455037919826653 with parameters: {'max_depth': 9, 'min_samples_leaf': 1, 'min_samples_split': 8, 'criterion': 'gini', 'max_features': 8}.\u001b[0m\n",
      "\u001b[32m[I 2020-01-21 20:40:34,808]\u001b[0m Finished trial#23 resulted in value: 0.8440953412784399. Current best value is 0.8455037919826653 with parameters: {'max_depth': 9, 'min_samples_leaf': 1, 'min_samples_split': 8, 'criterion': 'gini', 'max_features': 8}.\u001b[0m\n",
      "\u001b[32m[I 2020-01-21 20:40:35,715]\u001b[0m Finished trial#24 resulted in value: 0.8384910863784103. Current best value is 0.8455037919826653 with parameters: {'max_depth': 9, 'min_samples_leaf': 1, 'min_samples_split': 8, 'criterion': 'gini', 'max_features': 8}.\u001b[0m\n",
      "\u001b[32m[I 2020-01-21 20:40:36,544]\u001b[0m Finished trial#25 resulted in value: 0.8370727863685611. Current best value is 0.8455037919826653 with parameters: {'max_depth': 9, 'min_samples_leaf': 1, 'min_samples_split': 8, 'criterion': 'gini', 'max_features': 8}.\u001b[0m\n",
      "\u001b[32m[I 2020-01-21 20:40:37,371]\u001b[0m Finished trial#26 resulted in value: 0.8441051905840637. Current best value is 0.8455037919826653 with parameters: {'max_depth': 9, 'min_samples_leaf': 1, 'min_samples_split': 8, 'criterion': 'gini', 'max_features': 8}.\u001b[0m\n",
      "\u001b[32m[I 2020-01-21 20:40:38,284]\u001b[0m Finished trial#27 resulted in value: 0.8412882891756132. Current best value is 0.8455037919826653 with parameters: {'max_depth': 9, 'min_samples_leaf': 1, 'min_samples_split': 8, 'criterion': 'gini', 'max_features': 8}.\u001b[0m\n",
      "\u001b[32m[I 2020-01-21 20:40:39,197]\u001b[0m Finished trial#28 resulted in value: 0.837082635674185. Current best value is 0.8455037919826653 with parameters: {'max_depth': 9, 'min_samples_leaf': 1, 'min_samples_split': 8, 'criterion': 'gini', 'max_features': 8}.\u001b[0m\n",
      "\u001b[32m[I 2020-01-21 20:40:40,032]\u001b[0m Finished trial#29 resulted in value: 0.8342657342657341. Current best value is 0.8455037919826653 with parameters: {'max_depth': 9, 'min_samples_leaf': 1, 'min_samples_split': 8, 'criterion': 'gini', 'max_features': 8}.\u001b[0m\n",
      "\u001b[32m[I 2020-01-21 20:40:40,886]\u001b[0m Finished trial#30 resulted in value: 0.8328474342558849. Current best value is 0.8455037919826653 with parameters: {'max_depth': 9, 'min_samples_leaf': 1, 'min_samples_split': 8, 'criterion': 'gini', 'max_features': 8}.\u001b[0m\n",
      "\u001b[32m[I 2020-01-21 20:40:41,814]\u001b[0m Finished trial#31 resulted in value: 0.8412882891756132. Current best value is 0.8455037919826653 with parameters: {'max_depth': 9, 'min_samples_leaf': 1, 'min_samples_split': 8, 'criterion': 'gini', 'max_features': 8}.\u001b[0m\n",
      "\u001b[32m[I 2020-01-21 20:40:42,680]\u001b[0m Finished trial#32 resulted in value: 0.8412882891756132. Current best value is 0.8455037919826653 with parameters: {'max_depth': 9, 'min_samples_leaf': 1, 'min_samples_split': 8, 'criterion': 'gini', 'max_features': 8}.\u001b[0m\n",
      "\u001b[32m[I 2020-01-21 20:40:43,556]\u001b[0m Finished trial#33 resulted in value: 0.8314882300797795. Current best value is 0.8455037919826653 with parameters: {'max_depth': 9, 'min_samples_leaf': 1, 'min_samples_split': 8, 'criterion': 'gini', 'max_features': 8}.\u001b[0m\n",
      "\u001b[32m[I 2020-01-21 20:40:44,501]\u001b[0m Finished trial#34 resulted in value: 0.8385009356840343. Current best value is 0.8455037919826653 with parameters: {'max_depth': 9, 'min_samples_leaf': 1, 'min_samples_split': 8, 'criterion': 'gini', 'max_features': 8}.\u001b[0m\n",
      "\u001b[32m[I 2020-01-21 20:40:45,420]\u001b[0m Finished trial#35 resulted in value: 0.8342854328769823. Current best value is 0.8455037919826653 with parameters: {'max_depth': 9, 'min_samples_leaf': 1, 'min_samples_split': 8, 'criterion': 'gini', 'max_features': 8}.\u001b[0m\n",
      "\u001b[32m[I 2020-01-21 20:40:46,339]\u001b[0m Finished trial#36 resulted in value: 0.8412784398699891. Current best value is 0.8455037919826653 with parameters: {'max_depth': 9, 'min_samples_leaf': 1, 'min_samples_split': 8, 'criterion': 'gini', 'max_features': 8}.\u001b[0m\n",
      "\u001b[32m[I 2020-01-21 20:40:47,287]\u001b[0m Finished trial#37 resulted in value: 0.8314685314685315. Current best value is 0.8455037919826653 with parameters: {'max_depth': 9, 'min_samples_leaf': 1, 'min_samples_split': 8, 'criterion': 'gini', 'max_features': 8}.\u001b[0m\n",
      "\u001b[32m[I 2020-01-21 20:40:48,124]\u001b[0m Finished trial#38 resulted in value: 0.8328769821727569. Current best value is 0.8455037919826653 with parameters: {'max_depth': 9, 'min_samples_leaf': 1, 'min_samples_split': 8, 'criterion': 'gini', 'max_features': 8}.\u001b[0m\n",
      "\u001b[32m[I 2020-01-21 20:40:48,986]\u001b[0m Finished trial#39 resulted in value: 0.8384910863784103. Current best value is 0.8455037919826653 with parameters: {'max_depth': 9, 'min_samples_leaf': 1, 'min_samples_split': 8, 'criterion': 'gini', 'max_features': 8}.\u001b[0m\n",
      "\u001b[32m[I 2020-01-21 20:40:49,891]\u001b[0m Finished trial#40 resulted in value: 0.841307987786861. Current best value is 0.8455037919826653 with parameters: {'max_depth': 9, 'min_samples_leaf': 1, 'min_samples_split': 8, 'criterion': 'gini', 'max_features': 8}.\u001b[0m\n",
      "\u001b[32m[I 2020-01-21 20:40:50,770]\u001b[0m Finished trial#41 resulted in value: 0.841307987786861. Current best value is 0.8455037919826653 with parameters: {'max_depth': 9, 'min_samples_leaf': 1, 'min_samples_split': 8, 'criterion': 'gini', 'max_features': 8}.\u001b[0m\n",
      "\u001b[32m[I 2020-01-21 20:40:51,657]\u001b[0m Finished trial#42 resulted in value: 0.8398896877770117. Current best value is 0.8455037919826653 with parameters: {'max_depth': 9, 'min_samples_leaf': 1, 'min_samples_split': 8, 'criterion': 'gini', 'max_features': 8}.\u001b[0m\n",
      "\u001b[32m[I 2020-01-21 20:40:52,527]\u001b[0m Finished trial#43 resulted in value: 0.8398995370826358. Current best value is 0.8455037919826653 with parameters: {'max_depth': 9, 'min_samples_leaf': 1, 'min_samples_split': 8, 'criterion': 'gini', 'max_features': 8}.\u001b[0m\n",
      "\u001b[32m[I 2020-01-21 20:40:53,445]\u001b[0m Finished trial#44 resulted in value: 0.8412882891756132. Current best value is 0.8455037919826653 with parameters: {'max_depth': 9, 'min_samples_leaf': 1, 'min_samples_split': 8, 'criterion': 'gini', 'max_features': 8}.\u001b[0m\n",
      "\u001b[32m[I 2020-01-21 20:40:54,273]\u001b[0m Finished trial#45 resulted in value: 0.837082635674185. Current best value is 0.8455037919826653 with parameters: {'max_depth': 9, 'min_samples_leaf': 1, 'min_samples_split': 8, 'criterion': 'gini', 'max_features': 8}.\u001b[0m\n",
      "\u001b[32m[I 2020-01-21 20:40:55,138]\u001b[0m Finished trial#46 resulted in value: 0.8398798384713878. Current best value is 0.8455037919826653 with parameters: {'max_depth': 9, 'min_samples_leaf': 1, 'min_samples_split': 8, 'criterion': 'gini', 'max_features': 8}.\u001b[0m\n",
      "\u001b[32m[I 2020-01-21 20:40:55,993]\u001b[0m Finished trial#47 resulted in value: 0.8328769821727569. Current best value is 0.8455037919826653 with parameters: {'max_depth': 9, 'min_samples_leaf': 1, 'min_samples_split': 8, 'criterion': 'gini', 'max_features': 8}.\u001b[0m\n",
      "\u001b[32m[I 2020-01-21 20:40:56,828]\u001b[0m Finished trial#48 resulted in value: 0.8328572835615089. Current best value is 0.8455037919826653 with parameters: {'max_depth': 9, 'min_samples_leaf': 1, 'min_samples_split': 8, 'criterion': 'gini', 'max_features': 8}.\u001b[0m\n",
      "\u001b[32m[I 2020-01-21 20:40:57,660]\u001b[0m Finished trial#49 resulted in value: 0.8441051905840637. Current best value is 0.8455037919826653 with parameters: {'max_depth': 9, 'min_samples_leaf': 1, 'min_samples_split': 8, 'criterion': 'gini', 'max_features': 8}.\u001b[0m\n",
      "\u001b[32m[I 2020-01-21 20:40:58,465]\u001b[0m Finished trial#50 resulted in value: 0.8272530286614795. Current best value is 0.8455037919826653 with parameters: {'max_depth': 9, 'min_samples_leaf': 1, 'min_samples_split': 8, 'criterion': 'gini', 'max_features': 8}.\u001b[0m\n",
      "\u001b[32m[I 2020-01-21 20:40:59,297]\u001b[0m Finished trial#51 resulted in value: 0.837082635674185. Current best value is 0.8455037919826653 with parameters: {'max_depth': 9, 'min_samples_leaf': 1, 'min_samples_split': 8, 'criterion': 'gini', 'max_features': 8}.\u001b[0m\n",
      "\u001b[32m[I 2020-01-21 20:41:00,135]\u001b[0m Finished trial#52 resulted in value: 0.8441051905840637. Current best value is 0.8455037919826653 with parameters: {'max_depth': 9, 'min_samples_leaf': 1, 'min_samples_split': 8, 'criterion': 'gini', 'max_features': 8}.\u001b[0m\n",
      "\u001b[32m[I 2020-01-21 20:41:01,012]\u001b[0m Finished trial#53 resulted in value: 0.8385009356840344. Current best value is 0.8455037919826653 with parameters: {'max_depth': 9, 'min_samples_leaf': 1, 'min_samples_split': 8, 'criterion': 'gini', 'max_features': 8}.\u001b[0m\n",
      "\u001b[32m[I 2020-01-21 20:41:01,978]\u001b[0m Finished trial#54 resulted in value: 0.8399093863882596. Current best value is 0.8455037919826653 with parameters: {'max_depth': 9, 'min_samples_leaf': 1, 'min_samples_split': 8, 'criterion': 'gini', 'max_features': 8}.\u001b[0m\n",
      "\u001b[32m[I 2020-01-21 20:41:03,074]\u001b[0m Finished trial#55 resulted in value: 0.8441051905840637. Current best value is 0.8455037919826653 with parameters: {'max_depth': 9, 'min_samples_leaf': 1, 'min_samples_split': 8, 'criterion': 'gini', 'max_features': 8}.\u001b[0m\n",
      "\u001b[32m[I 2020-01-21 20:41:04,071]\u001b[0m Finished trial#56 resulted in value: 0.8342657342657341. Current best value is 0.8455037919826653 with parameters: {'max_depth': 9, 'min_samples_leaf': 1, 'min_samples_split': 8, 'criterion': 'gini', 'max_features': 8}.\u001b[0m\n",
      "\u001b[32m[I 2020-01-21 20:41:05,076]\u001b[0m Finished trial#57 resulted in value: 0.8356840342755836. Current best value is 0.8455037919826653 with parameters: {'max_depth': 9, 'min_samples_leaf': 1, 'min_samples_split': 8, 'criterion': 'gini', 'max_features': 8}.\u001b[0m\n",
      "\u001b[32m[I 2020-01-21 20:41:06,034]\u001b[0m Finished trial#58 resulted in value: 0.8441051905840637. Current best value is 0.8455037919826653 with parameters: {'max_depth': 9, 'min_samples_leaf': 1, 'min_samples_split': 8, 'criterion': 'gini', 'max_features': 8}.\u001b[0m\n",
      "\u001b[32m[I 2020-01-21 20:41:06,969]\u001b[0m Finished trial#59 resulted in value: 0.841298138481237. Current best value is 0.8455037919826653 with parameters: {'max_depth': 9, 'min_samples_leaf': 1, 'min_samples_split': 8, 'criterion': 'gini', 'max_features': 8}.\u001b[0m\n",
      "\u001b[32m[I 2020-01-21 20:41:07,947]\u001b[0m Finished trial#60 resulted in value: 0.837092484979809. Current best value is 0.8455037919826653 with parameters: {'max_depth': 9, 'min_samples_leaf': 1, 'min_samples_split': 8, 'criterion': 'gini', 'max_features': 8}.\u001b[0m\n",
      "\u001b[32m[I 2020-01-21 20:41:08,847]\u001b[0m Finished trial#61 resulted in value: 0.8385009356840344. Current best value is 0.8455037919826653 with parameters: {'max_depth': 9, 'min_samples_leaf': 1, 'min_samples_split': 8, 'criterion': 'gini', 'max_features': 8}.\u001b[0m\n",
      "\u001b[32m[I 2020-01-21 20:41:09,802]\u001b[0m Finished trial#62 resulted in value: 0.8441051905840637. Current best value is 0.8455037919826653 with parameters: {'max_depth': 9, 'min_samples_leaf': 1, 'min_samples_split': 8, 'criterion': 'gini', 'max_features': 8}.\u001b[0m\n",
      "\u001b[32m[I 2020-01-21 20:41:10,679]\u001b[0m Finished trial#63 resulted in value: 0.8427164384910864. Current best value is 0.8455037919826653 with parameters: {'max_depth': 9, 'min_samples_leaf': 1, 'min_samples_split': 8, 'criterion': 'gini', 'max_features': 8}.\u001b[0m\n",
      "\u001b[32m[I 2020-01-21 20:41:11,529]\u001b[0m Finished trial#64 resulted in value: 0.8399093863882596. Current best value is 0.8455037919826653 with parameters: {'max_depth': 9, 'min_samples_leaf': 1, 'min_samples_split': 8, 'criterion': 'gini', 'max_features': 8}.\u001b[0m\n",
      "\u001b[32m[I 2020-01-21 20:41:12,367]\u001b[0m Finished trial#65 resulted in value: 0.8412882891756132. Current best value is 0.8455037919826653 with parameters: {'max_depth': 9, 'min_samples_leaf': 1, 'min_samples_split': 8, 'criterion': 'gini', 'max_features': 8}.\u001b[0m\n",
      "\u001b[32m[I 2020-01-21 20:41:13,340]\u001b[0m Finished trial#66 resulted in value: 0.8441051905840637. Current best value is 0.8455037919826653 with parameters: {'max_depth': 9, 'min_samples_leaf': 1, 'min_samples_split': 8, 'criterion': 'gini', 'max_features': 8}.\u001b[0m\n",
      "\u001b[32m[I 2020-01-21 20:41:14,253]\u001b[0m Finished trial#67 resulted in value: 0.8384910863784103. Current best value is 0.8455037919826653 with parameters: {'max_depth': 9, 'min_samples_leaf': 1, 'min_samples_split': 8, 'criterion': 'gini', 'max_features': 8}.\u001b[0m\n",
      "\u001b[32m[I 2020-01-21 20:41:15,130]\u001b[0m Finished trial#68 resulted in value: 0.8398995370826358. Current best value is 0.8455037919826653 with parameters: {'max_depth': 9, 'min_samples_leaf': 1, 'min_samples_split': 8, 'criterion': 'gini', 'max_features': 8}.\u001b[0m\n",
      "\u001b[32m[I 2020-01-21 20:41:16,074]\u001b[0m Finished trial#69 resulted in value: 0.8356840342755836. Current best value is 0.8455037919826653 with parameters: {'max_depth': 9, 'min_samples_leaf': 1, 'min_samples_split': 8, 'criterion': 'gini', 'max_features': 8}.\u001b[0m\n",
      "\u001b[32m[I 2020-01-21 20:41:16,947]\u001b[0m Finished trial#70 resulted in value: 0.841298138481237. Current best value is 0.8455037919826653 with parameters: {'max_depth': 9, 'min_samples_leaf': 1, 'min_samples_split': 8, 'criterion': 'gini', 'max_features': 8}.\u001b[0m\n",
      "\u001b[32m[I 2020-01-21 20:41:17,782]\u001b[0m Finished trial#71 resulted in value: 0.8441051905840637. Current best value is 0.8455037919826653 with parameters: {'max_depth': 9, 'min_samples_leaf': 1, 'min_samples_split': 8, 'criterion': 'gini', 'max_features': 8}.\u001b[0m\n",
      "\u001b[32m[I 2020-01-21 20:41:18,615]\u001b[0m Finished trial#72 resulted in value: 0.8441051905840637. Current best value is 0.8455037919826653 with parameters: {'max_depth': 9, 'min_samples_leaf': 1, 'min_samples_split': 8, 'criterion': 'gini', 'max_features': 8}.\u001b[0m\n",
      "\u001b[32m[I 2020-01-21 20:41:19,435]\u001b[0m Finished trial#73 resulted in value: 0.8399093863882596. Current best value is 0.8455037919826653 with parameters: {'max_depth': 9, 'min_samples_leaf': 1, 'min_samples_split': 8, 'criterion': 'gini', 'max_features': 8}.\u001b[0m\n",
      "\u001b[32m[I 2020-01-21 20:41:20,275]\u001b[0m Finished trial#74 resulted in value: 0.8342854328769823. Current best value is 0.8455037919826653 with parameters: {'max_depth': 9, 'min_samples_leaf': 1, 'min_samples_split': 8, 'criterion': 'gini', 'max_features': 8}.\u001b[0m\n",
      "\u001b[32m[I 2020-01-21 20:41:21,120]\u001b[0m Finished trial#75 resulted in value: 0.8441051905840637. Current best value is 0.8455037919826653 with parameters: {'max_depth': 9, 'min_samples_leaf': 1, 'min_samples_split': 8, 'criterion': 'gini', 'max_features': 8}.\u001b[0m\n",
      "\u001b[32m[I 2020-01-21 20:41:21,959]\u001b[0m Finished trial#76 resulted in value: 0.8441051905840637. Current best value is 0.8455037919826653 with parameters: {'max_depth': 9, 'min_samples_leaf': 1, 'min_samples_split': 8, 'criterion': 'gini', 'max_features': 8}.\u001b[0m\n",
      "\u001b[32m[I 2020-01-21 20:41:22,831]\u001b[0m Finished trial#77 resulted in value: 0.837082635674185. Current best value is 0.8455037919826653 with parameters: {'max_depth': 9, 'min_samples_leaf': 1, 'min_samples_split': 8, 'criterion': 'gini', 'max_features': 8}.\u001b[0m\n",
      "\u001b[32m[I 2020-01-21 20:41:23,666]\u001b[0m Finished trial#78 resulted in value: 0.8356741849699596. Current best value is 0.8455037919826653 with parameters: {'max_depth': 9, 'min_samples_leaf': 1, 'min_samples_split': 8, 'criterion': 'gini', 'max_features': 8}.\u001b[0m\n",
      "\u001b[32m[I 2020-01-21 20:41:24,489]\u001b[0m Finished trial#79 resulted in value: 0.8342755835713582. Current best value is 0.8455037919826653 with parameters: {'max_depth': 9, 'min_samples_leaf': 1, 'min_samples_split': 8, 'criterion': 'gini', 'max_features': 8}.\u001b[0m\n",
      "\u001b[32m[I 2020-01-21 20:41:25,433]\u001b[0m Finished trial#80 resulted in value: 0.841307987786861. Current best value is 0.8455037919826653 with parameters: {'max_depth': 9, 'min_samples_leaf': 1, 'min_samples_split': 8, 'criterion': 'gini', 'max_features': 8}.\u001b[0m\n",
      "\u001b[32m[I 2020-01-21 20:41:26,280]\u001b[0m Finished trial#81 resulted in value: 0.8441051905840637. Current best value is 0.8455037919826653 with parameters: {'max_depth': 9, 'min_samples_leaf': 1, 'min_samples_split': 8, 'criterion': 'gini', 'max_features': 8}.\u001b[0m\n",
      "\u001b[32m[I 2020-01-21 20:41:27,116]\u001b[0m Finished trial#82 resulted in value: 0.8441051905840637. Current best value is 0.8455037919826653 with parameters: {'max_depth': 9, 'min_samples_leaf': 1, 'min_samples_split': 8, 'criterion': 'gini', 'max_features': 8}.\u001b[0m\n",
      "\u001b[32m[I 2020-01-21 20:41:27,961]\u001b[0m Finished trial#83 resulted in value: 0.8441051905840637. Current best value is 0.8455037919826653 with parameters: {'max_depth': 9, 'min_samples_leaf': 1, 'min_samples_split': 8, 'criterion': 'gini', 'max_features': 8}.\u001b[0m\n",
      "\u001b[32m[I 2020-01-21 20:41:28,786]\u001b[0m Finished trial#84 resulted in value: 0.8385009356840343. Current best value is 0.8455037919826653 with parameters: {'max_depth': 9, 'min_samples_leaf': 1, 'min_samples_split': 8, 'criterion': 'gini', 'max_features': 8}.\u001b[0m\n",
      "\u001b[32m[I 2020-01-21 20:41:29,738]\u001b[0m Finished trial#85 resulted in value: 0.8427164384910864. Current best value is 0.8455037919826653 with parameters: {'max_depth': 9, 'min_samples_leaf': 1, 'min_samples_split': 8, 'criterion': 'gini', 'max_features': 8}.\u001b[0m\n",
      "\u001b[32m[I 2020-01-21 20:41:30,617]\u001b[0m Finished trial#86 resulted in value: 0.8371023342854329. Current best value is 0.8455037919826653 with parameters: {'max_depth': 9, 'min_samples_leaf': 1, 'min_samples_split': 8, 'criterion': 'gini', 'max_features': 8}.\u001b[0m\n",
      "\u001b[32m[I 2020-01-21 20:41:31,515]\u001b[0m Finished trial#87 resulted in value: 0.8441051905840637. Current best value is 0.8455037919826653 with parameters: {'max_depth': 9, 'min_samples_leaf': 1, 'min_samples_split': 8, 'criterion': 'gini', 'max_features': 8}.\u001b[0m\n",
      "\u001b[32m[I 2020-01-21 20:41:32,401]\u001b[0m Finished trial#88 resulted in value: 0.8384713877671623. Current best value is 0.8455037919826653 with parameters: {'max_depth': 9, 'min_samples_leaf': 1, 'min_samples_split': 8, 'criterion': 'gini', 'max_features': 8}.\u001b[0m\n",
      "\u001b[32m[I 2020-01-21 20:41:33,276]\u001b[0m Finished trial#89 resulted in value: 0.8371023342854329. Current best value is 0.8455037919826653 with parameters: {'max_depth': 9, 'min_samples_leaf': 1, 'min_samples_split': 8, 'criterion': 'gini', 'max_features': 8}.\u001b[0m\n",
      "\u001b[32m[I 2020-01-21 20:41:34,122]\u001b[0m Finished trial#90 resulted in value: 0.8385009356840343. Current best value is 0.8455037919826653 with parameters: {'max_depth': 9, 'min_samples_leaf': 1, 'min_samples_split': 8, 'criterion': 'gini', 'max_features': 8}.\u001b[0m\n",
      "\u001b[32m[I 2020-01-21 20:41:35,052]\u001b[0m Finished trial#91 resulted in value: 0.8441051905840637. Current best value is 0.8455037919826653 with parameters: {'max_depth': 9, 'min_samples_leaf': 1, 'min_samples_split': 8, 'criterion': 'gini', 'max_features': 8}.\u001b[0m\n",
      "\u001b[32m[I 2020-01-21 20:41:35,966]\u001b[0m Finished trial#92 resulted in value: 0.8441051905840637. Current best value is 0.8455037919826653 with parameters: {'max_depth': 9, 'min_samples_leaf': 1, 'min_samples_split': 8, 'criterion': 'gini', 'max_features': 8}.\u001b[0m\n",
      "\u001b[32m[I 2020-01-21 20:41:36,831]\u001b[0m Finished trial#93 resulted in value: 0.8441051905840637. Current best value is 0.8455037919826653 with parameters: {'max_depth': 9, 'min_samples_leaf': 1, 'min_samples_split': 8, 'criterion': 'gini', 'max_features': 8}.\u001b[0m\n",
      "\u001b[32m[I 2020-01-21 20:41:37,694]\u001b[0m Finished trial#94 resulted in value: 0.8314586821629074. Current best value is 0.8455037919826653 with parameters: {'max_depth': 9, 'min_samples_leaf': 1, 'min_samples_split': 8, 'criterion': 'gini', 'max_features': 8}.\u001b[0m\n",
      "\u001b[32m[I 2020-01-21 20:41:38,585]\u001b[0m Finished trial#95 resulted in value: 0.8441051905840637. Current best value is 0.8455037919826653 with parameters: {'max_depth': 9, 'min_samples_leaf': 1, 'min_samples_split': 8, 'criterion': 'gini', 'max_features': 8}.\u001b[0m\n",
      "\u001b[32m[I 2020-01-21 20:41:39,519]\u001b[0m Finished trial#96 resulted in value: 0.8384713877671623. Current best value is 0.8455037919826653 with parameters: {'max_depth': 9, 'min_samples_leaf': 1, 'min_samples_split': 8, 'criterion': 'gini', 'max_features': 8}.\u001b[0m\n",
      "\u001b[32m[I 2020-01-21 20:41:40,383]\u001b[0m Finished trial#97 resulted in value: 0.8342854328769823. Current best value is 0.8455037919826653 with parameters: {'max_depth': 9, 'min_samples_leaf': 1, 'min_samples_split': 8, 'criterion': 'gini', 'max_features': 8}.\u001b[0m\n",
      "\u001b[32m[I 2020-01-21 20:41:41,305]\u001b[0m Finished trial#98 resulted in value: 0.8399093863882596. Current best value is 0.8455037919826653 with parameters: {'max_depth': 9, 'min_samples_leaf': 1, 'min_samples_split': 8, 'criterion': 'gini', 'max_features': 8}.\u001b[0m\n",
      "\u001b[32m[I 2020-01-21 20:41:42,120]\u001b[0m Finished trial#99 resulted in value: 0.8328671328671329. Current best value is 0.8455037919826653 with parameters: {'max_depth': 9, 'min_samples_leaf': 1, 'min_samples_split': 8, 'criterion': 'gini', 'max_features': 8}.\u001b[0m\n"
     ]
    },
    {
     "name": "stdout",
     "output_type": "stream",
     "text": [
      "{'max_depth': 9, 'min_samples_leaf': 1, 'min_samples_split': 8, 'criterion': 'gini', 'max_features': 8}\n",
      "0.8455037919826653\n"
     ]
    }
   ],
   "source": [
    "def objective(trial):\n",
    "    \n",
    "    param_grid_rfc = {\n",
    "        \"max_depth\": trial.suggest_int(\"max_depth\", 5, 15),\n",
    "        \"min_samples_leaf\": trial.suggest_int(\"min_samples_leaf\", 1, 5),\n",
    "        'min_samples_split': trial.suggest_int(\"min_samples_split\", 7, 15),\n",
    "        \"criterion\": trial.suggest_categorical(\"criterion\", [\"gini\", \"entropy\"]),\n",
    "        'max_features': trial.suggest_int(\"max_features\", 3, 10),\n",
    "        \"random_state\": 0\n",
    "    }\n",
    "\n",
    "    model = RandomForestClassifier(**param_grid_rfc)\n",
    "    \n",
    "    # 5-Fold CV / Accuracy でモデルを評価する\n",
    "    kf = StratifiedKFold(n_splits=5, shuffle=True, random_state=0)\n",
    "    scores = cross_validate(model, X=X_train, y=y_train, cv=kf)\n",
    "    # 最小化なので 1.0 からスコアを引く\n",
    "    return scores['test_score'].mean()\n",
    "\n",
    "study = optuna.create_study(direction='maximize')\n",
    "study.optimize(objective, n_trials=100)\n",
    "print(study.best_params)\n",
    "print(study.best_value)\n",
    "rfc_best_param = study.best_params"
   ]
  },
  {
   "cell_type": "code",
   "execution_count": 179,
   "metadata": {},
   "outputs": [
    {
     "name": "stderr",
     "output_type": "stream",
     "text": [
      "\u001b[32m[I 2020-01-21 20:38:00,054]\u001b[0m Finished trial#0 resulted in value: 0.8258741258741258. Current best value is 0.8258741258741258 with parameters: {'min_child_weight': 2, 'gamma': 0.7000000000000001, 'subsample': 0.5, 'colsample_bytree': 0.8, 'max_depth': 9}.\u001b[0m\n",
      "\u001b[32m[I 2020-01-21 20:38:00,572]\u001b[0m Finished trial#1 resulted in value: 0.8090515118684133. Current best value is 0.8258741258741258 with parameters: {'min_child_weight': 2, 'gamma': 0.7000000000000001, 'subsample': 0.5, 'colsample_bytree': 0.8, 'max_depth': 9}.\u001b[0m\n",
      "\u001b[32m[I 2020-01-21 20:38:00,913]\u001b[0m Finished trial#2 resulted in value: 0.8160839160839162. Current best value is 0.8258741258741258 with parameters: {'min_child_weight': 2, 'gamma': 0.7000000000000001, 'subsample': 0.5, 'colsample_bytree': 0.8, 'max_depth': 9}.\u001b[0m\n",
      "\u001b[32m[I 2020-01-21 20:38:01,352]\u001b[0m Finished trial#3 resulted in value: 0.83006993006993. Current best value is 0.83006993006993 with parameters: {'min_child_weight': 2, 'gamma': 0.2, 'subsample': 0.9, 'colsample_bytree': 0.6, 'max_depth': 5}.\u001b[0m\n",
      "\u001b[32m[I 2020-01-21 20:38:01,808]\u001b[0m Finished trial#4 resulted in value: 0.811878262582488. Current best value is 0.83006993006993 with parameters: {'min_child_weight': 2, 'gamma': 0.2, 'subsample': 0.9, 'colsample_bytree': 0.6, 'max_depth': 5}.\u001b[0m\n",
      "\u001b[32m[I 2020-01-21 20:38:02,282]\u001b[0m Finished trial#5 resulted in value: 0.8314783807741554. Current best value is 0.8314783807741554 with parameters: {'min_child_weight': 1, 'gamma': 0.30000000000000004, 'subsample': 0.7, 'colsample_bytree': 0.8, 'max_depth': 3}.\u001b[0m\n",
      "\u001b[32m[I 2020-01-21 20:38:02,953]\u001b[0m Finished trial#6 resulted in value: 0.8230572244656752. Current best value is 0.8314783807741554 with parameters: {'min_child_weight': 1, 'gamma': 0.30000000000000004, 'subsample': 0.7, 'colsample_bytree': 0.8, 'max_depth': 3}.\u001b[0m\n",
      "\u001b[32m[I 2020-01-21 20:38:03,357]\u001b[0m Finished trial#7 resulted in value: 0.81609376538954. Current best value is 0.8314783807741554 with parameters: {'min_child_weight': 1, 'gamma': 0.30000000000000004, 'subsample': 0.7, 'colsample_bytree': 0.8, 'max_depth': 3}.\u001b[0m\n",
      "\u001b[32m[I 2020-01-21 20:38:03,809]\u001b[0m Finished trial#8 resulted in value: 0.8258938244853737. Current best value is 0.8314783807741554 with parameters: {'min_child_weight': 1, 'gamma': 0.30000000000000004, 'subsample': 0.7, 'colsample_bytree': 0.8, 'max_depth': 3}.\u001b[0m\n",
      "\u001b[32m[I 2020-01-21 20:38:04,538]\u001b[0m Finished trial#9 resulted in value: 0.8342755835713582. Current best value is 0.8342755835713582 with parameters: {'min_child_weight': 1, 'gamma': 0.9, 'subsample': 0.6, 'colsample_bytree': 0.9, 'max_depth': 6}.\u001b[0m\n",
      "\u001b[32m[I 2020-01-21 20:38:05,181]\u001b[0m Finished trial#10 resulted in value: 0.8272825765783512. Current best value is 0.8342755835713582 with parameters: {'min_child_weight': 1, 'gamma': 0.9, 'subsample': 0.6, 'colsample_bytree': 0.9, 'max_depth': 6}.\u001b[0m\n",
      "\u001b[32m[I 2020-01-21 20:38:05,736]\u001b[0m Finished trial#11 resulted in value: 0.8160445188614203. Current best value is 0.8342755835713582 with parameters: {'min_child_weight': 1, 'gamma': 0.9, 'subsample': 0.6, 'colsample_bytree': 0.9, 'max_depth': 6}.\u001b[0m\n",
      "\u001b[32m[I 2020-01-21 20:38:06,103]\u001b[0m Finished trial#12 resulted in value: 0.823096621688171. Current best value is 0.8342755835713582 with parameters: {'min_child_weight': 1, 'gamma': 0.9, 'subsample': 0.6, 'colsample_bytree': 0.9, 'max_depth': 6}.\u001b[0m\n",
      "\u001b[32m[I 2020-01-21 20:38:06,682]\u001b[0m Finished trial#13 resulted in value: 0.8244755244755245. Current best value is 0.8342755835713582 with parameters: {'min_child_weight': 1, 'gamma': 0.9, 'subsample': 0.6, 'colsample_bytree': 0.9, 'max_depth': 6}.\u001b[0m\n",
      "\u001b[32m[I 2020-01-21 20:38:07,093]\u001b[0m Finished trial#14 resulted in value: 0.8104599625726386. Current best value is 0.8342755835713582 with parameters: {'min_child_weight': 1, 'gamma': 0.9, 'subsample': 0.6, 'colsample_bytree': 0.9, 'max_depth': 6}.\u001b[0m\n",
      "\u001b[32m[I 2020-01-21 20:38:07,474]\u001b[0m Finished trial#15 resulted in value: 0.8076430611641878. Current best value is 0.8342755835713582 with parameters: {'min_child_weight': 1, 'gamma': 0.9, 'subsample': 0.6, 'colsample_bytree': 0.9, 'max_depth': 6}.\u001b[0m\n",
      "\u001b[32m[I 2020-01-21 20:38:08,065]\u001b[0m Finished trial#16 resulted in value: 0.8230769230769232. Current best value is 0.8342755835713582 with parameters: {'min_child_weight': 1, 'gamma': 0.9, 'subsample': 0.6, 'colsample_bytree': 0.9, 'max_depth': 6}.\u001b[0m\n",
      "\u001b[32m[I 2020-01-21 20:38:08,565]\u001b[0m Finished trial#17 resulted in value: 0.8146656160740668. Current best value is 0.8342755835713582 with parameters: {'min_child_weight': 1, 'gamma': 0.9, 'subsample': 0.6, 'colsample_bytree': 0.9, 'max_depth': 6}.\u001b[0m\n",
      "\u001b[32m[I 2020-01-21 20:38:09,115]\u001b[0m Finished trial#18 resulted in value: 0.8272825765783512. Current best value is 0.8342755835713582 with parameters: {'min_child_weight': 1, 'gamma': 0.9, 'subsample': 0.6, 'colsample_bytree': 0.9, 'max_depth': 6}.\u001b[0m\n",
      "\u001b[32m[I 2020-01-21 20:38:09,568]\u001b[0m Finished trial#19 resulted in value: 0.8132768639810892. Current best value is 0.8342755835713582 with parameters: {'min_child_weight': 1, 'gamma': 0.9, 'subsample': 0.6, 'colsample_bytree': 0.9, 'max_depth': 6}.\u001b[0m\n",
      "\u001b[32m[I 2020-01-21 20:38:10,064]\u001b[0m Finished trial#20 resulted in value: 0.8188712695754949. Current best value is 0.8342755835713582 with parameters: {'min_child_weight': 1, 'gamma': 0.9, 'subsample': 0.6, 'colsample_bytree': 0.9, 'max_depth': 6}.\u001b[0m\n",
      "\u001b[32m[I 2020-01-21 20:38:10,564]\u001b[0m Finished trial#21 resulted in value: 0.8202994188909682. Current best value is 0.8342755835713582 with parameters: {'min_child_weight': 1, 'gamma': 0.9, 'subsample': 0.6, 'colsample_bytree': 0.9, 'max_depth': 6}.\u001b[0m\n",
      "\u001b[32m[I 2020-01-21 20:38:11,060]\u001b[0m Finished trial#22 resulted in value: 0.8258741258741258. Current best value is 0.8342755835713582 with parameters: {'min_child_weight': 1, 'gamma': 0.9, 'subsample': 0.6, 'colsample_bytree': 0.9, 'max_depth': 6}.\u001b[0m\n",
      "\u001b[32m[I 2020-01-21 20:38:11,475]\u001b[0m Finished trial#23 resulted in value: 0.8230867723825469. Current best value is 0.8342755835713582 with parameters: {'min_child_weight': 1, 'gamma': 0.9, 'subsample': 0.6, 'colsample_bytree': 0.9, 'max_depth': 6}.\u001b[0m\n",
      "\u001b[32m[I 2020-01-21 20:38:12,020]\u001b[0m Finished trial#24 resulted in value: 0.8258642765685019. Current best value is 0.8342755835713582 with parameters: {'min_child_weight': 1, 'gamma': 0.9, 'subsample': 0.6, 'colsample_bytree': 0.9, 'max_depth': 6}.\u001b[0m\n",
      "\u001b[32m[I 2020-01-21 20:38:12,501]\u001b[0m Finished trial#25 resulted in value: 0.8245050723923963. Current best value is 0.8342755835713582 with parameters: {'min_child_weight': 1, 'gamma': 0.9, 'subsample': 0.6, 'colsample_bytree': 0.9, 'max_depth': 6}.\u001b[0m\n",
      "\u001b[32m[I 2020-01-21 20:38:12,971]\u001b[0m Finished trial#26 resulted in value: 0.8258741258741258. Current best value is 0.8342755835713582 with parameters: {'min_child_weight': 1, 'gamma': 0.9, 'subsample': 0.6, 'colsample_bytree': 0.9, 'max_depth': 6}.\u001b[0m\n",
      "\u001b[32m[I 2020-01-21 20:38:13,499]\u001b[0m Finished trial#27 resulted in value: 0.8146459174628189. Current best value is 0.8342755835713582 with parameters: {'min_child_weight': 1, 'gamma': 0.9, 'subsample': 0.6, 'colsample_bytree': 0.9, 'max_depth': 6}.\u001b[0m\n",
      "\u001b[32m[I 2020-01-21 20:38:13,918]\u001b[0m Finished trial#28 resulted in value: 0.8104501132670148. Current best value is 0.8342755835713582 with parameters: {'min_child_weight': 1, 'gamma': 0.9, 'subsample': 0.6, 'colsample_bytree': 0.9, 'max_depth': 6}.\u001b[0m\n",
      "\u001b[32m[I 2020-01-21 20:38:14,324]\u001b[0m Finished trial#29 resulted in value: 0.8342657342657344. Current best value is 0.8342755835713582 with parameters: {'min_child_weight': 1, 'gamma': 0.9, 'subsample': 0.6, 'colsample_bytree': 0.9, 'max_depth': 6}.\u001b[0m\n",
      "\u001b[32m[I 2020-01-21 20:38:14,697]\u001b[0m Finished trial#30 resulted in value: 0.8314783807741554. Current best value is 0.8342755835713582 with parameters: {'min_child_weight': 1, 'gamma': 0.9, 'subsample': 0.6, 'colsample_bytree': 0.9, 'max_depth': 6}.\u001b[0m\n",
      "\u001b[32m[I 2020-01-21 20:38:15,103]\u001b[0m Finished trial#31 resulted in value: 0.8300797793755541. Current best value is 0.8342755835713582 with parameters: {'min_child_weight': 1, 'gamma': 0.9, 'subsample': 0.6, 'colsample_bytree': 0.9, 'max_depth': 6}.\u001b[0m\n",
      "\u001b[32m[I 2020-01-21 20:38:15,530]\u001b[0m Finished trial#32 resulted in value: 0.8314783807741554. Current best value is 0.8342755835713582 with parameters: {'min_child_weight': 1, 'gamma': 0.9, 'subsample': 0.6, 'colsample_bytree': 0.9, 'max_depth': 6}.\u001b[0m\n",
      "\u001b[32m[I 2020-01-21 20:38:15,978]\u001b[0m Finished trial#33 resulted in value: 0.8300797793755541. Current best value is 0.8342755835713582 with parameters: {'min_child_weight': 1, 'gamma': 0.9, 'subsample': 0.6, 'colsample_bytree': 0.9, 'max_depth': 6}.\u001b[0m\n",
      "\u001b[32m[I 2020-01-21 20:38:16,686]\u001b[0m Finished trial#34 resulted in value: 0.825824879346006. Current best value is 0.8342755835713582 with parameters: {'min_child_weight': 1, 'gamma': 0.9, 'subsample': 0.6, 'colsample_bytree': 0.9, 'max_depth': 6}.\u001b[0m\n",
      "\u001b[32m[I 2020-01-21 20:38:17,104]\u001b[0m Finished trial#35 resulted in value: 0.83006993006993. Current best value is 0.8342755835713582 with parameters: {'min_child_weight': 1, 'gamma': 0.9, 'subsample': 0.6, 'colsample_bytree': 0.9, 'max_depth': 6}.\u001b[0m\n",
      "\u001b[32m[I 2020-01-21 20:38:17,508]\u001b[0m Finished trial#36 resulted in value: 0.8174923667881414. Current best value is 0.8342755835713582 with parameters: {'min_child_weight': 1, 'gamma': 0.9, 'subsample': 0.6, 'colsample_bytree': 0.9, 'max_depth': 6}.\u001b[0m\n",
      "\u001b[32m[I 2020-01-21 20:38:17,910]\u001b[0m Finished trial#37 resulted in value: 0.8104698118782625. Current best value is 0.8342755835713582 with parameters: {'min_child_weight': 1, 'gamma': 0.9, 'subsample': 0.6, 'colsample_bytree': 0.9, 'max_depth': 6}.\u001b[0m\n",
      "\u001b[32m[I 2020-01-21 20:38:18,413]\u001b[0m Finished trial#38 resulted in value: 0.8342952821826062. Current best value is 0.8342952821826062 with parameters: {'min_child_weight': 2, 'gamma': 0.30000000000000004, 'subsample': 0.7, 'colsample_bytree': 0.7, 'max_depth': 4}.\u001b[0m\n",
      "\u001b[32m[I 2020-01-21 20:38:18,949]\u001b[0m Finished trial#39 resulted in value: 0.8342854328769821. Current best value is 0.8342952821826062 with parameters: {'min_child_weight': 2, 'gamma': 0.30000000000000004, 'subsample': 0.7, 'colsample_bytree': 0.7, 'max_depth': 4}.\u001b[0m\n",
      "\u001b[32m[I 2020-01-21 20:38:19,499]\u001b[0m Finished trial#40 resulted in value: 0.8342854328769821. Current best value is 0.8342952821826062 with parameters: {'min_child_weight': 2, 'gamma': 0.30000000000000004, 'subsample': 0.7, 'colsample_bytree': 0.7, 'max_depth': 4}.\u001b[0m\n",
      "\u001b[32m[I 2020-01-21 20:38:20,019]\u001b[0m Finished trial#41 resulted in value: 0.8174726681768935. Current best value is 0.8342952821826062 with parameters: {'min_child_weight': 2, 'gamma': 0.30000000000000004, 'subsample': 0.7, 'colsample_bytree': 0.7, 'max_depth': 4}.\u001b[0m\n",
      "\u001b[32m[I 2020-01-21 20:38:20,544]\u001b[0m Finished trial#42 resulted in value: 0.8174726681768935. Current best value is 0.8342952821826062 with parameters: {'min_child_weight': 2, 'gamma': 0.30000000000000004, 'subsample': 0.7, 'colsample_bytree': 0.7, 'max_depth': 4}.\u001b[0m\n",
      "\u001b[32m[I 2020-01-21 20:38:21,086]\u001b[0m Finished trial#43 resulted in value: 0.8342854328769821. Current best value is 0.8342952821826062 with parameters: {'min_child_weight': 2, 'gamma': 0.30000000000000004, 'subsample': 0.7, 'colsample_bytree': 0.7, 'max_depth': 4}.\u001b[0m\n",
      "\u001b[32m[I 2020-01-21 20:38:21,584]\u001b[0m Finished trial#44 resulted in value: 0.8286713286713286. Current best value is 0.8342952821826062 with parameters: {'min_child_weight': 2, 'gamma': 0.30000000000000004, 'subsample': 0.7, 'colsample_bytree': 0.7, 'max_depth': 4}.\u001b[0m\n",
      "\u001b[32m[I 2020-01-21 20:38:22,104]\u001b[0m Finished trial#45 resulted in value: 0.81185856397124. Current best value is 0.8342952821826062 with parameters: {'min_child_weight': 2, 'gamma': 0.30000000000000004, 'subsample': 0.7, 'colsample_bytree': 0.7, 'max_depth': 4}.\u001b[0m\n",
      "\u001b[32m[I 2020-01-21 20:38:22,635]\u001b[0m Finished trial#46 resulted in value: 0.8188712695754947. Current best value is 0.8342952821826062 with parameters: {'min_child_weight': 2, 'gamma': 0.30000000000000004, 'subsample': 0.7, 'colsample_bytree': 0.7, 'max_depth': 4}.\u001b[0m\n",
      "\u001b[32m[I 2020-01-21 20:38:23,192]\u001b[0m Finished trial#47 resulted in value: 0.8286614793657046. Current best value is 0.8342952821826062 with parameters: {'min_child_weight': 2, 'gamma': 0.30000000000000004, 'subsample': 0.7, 'colsample_bytree': 0.7, 'max_depth': 4}.\u001b[0m\n",
      "\u001b[32m[I 2020-01-21 20:38:23,778]\u001b[0m Finished trial#48 resulted in value: 0.8174726681768935. Current best value is 0.8342952821826062 with parameters: {'min_child_weight': 2, 'gamma': 0.30000000000000004, 'subsample': 0.7, 'colsample_bytree': 0.7, 'max_depth': 4}.\u001b[0m\n",
      "\u001b[32m[I 2020-01-21 20:38:24,193]\u001b[0m Finished trial#49 resulted in value: 0.8244755244755243. Current best value is 0.8342952821826062 with parameters: {'min_child_weight': 2, 'gamma': 0.30000000000000004, 'subsample': 0.7, 'colsample_bytree': 0.7, 'max_depth': 4}.\u001b[0m\n",
      "\u001b[32m[I 2020-01-21 20:38:24,729]\u001b[0m Finished trial#50 resulted in value: 0.8104698118782625. Current best value is 0.8342952821826062 with parameters: {'min_child_weight': 2, 'gamma': 0.30000000000000004, 'subsample': 0.7, 'colsample_bytree': 0.7, 'max_depth': 4}.\u001b[0m\n",
      "\u001b[32m[I 2020-01-21 20:38:25,291]\u001b[0m Finished trial#51 resulted in value: 0.8342952821826062. Current best value is 0.8342952821826062 with parameters: {'min_child_weight': 2, 'gamma': 0.30000000000000004, 'subsample': 0.7, 'colsample_bytree': 0.7, 'max_depth': 4}.\u001b[0m\n",
      "\u001b[32m[I 2020-01-21 20:38:25,781]\u001b[0m Finished trial#52 resulted in value: 0.8258938244853737. Current best value is 0.8342952821826062 with parameters: {'min_child_weight': 2, 'gamma': 0.30000000000000004, 'subsample': 0.7, 'colsample_bytree': 0.7, 'max_depth': 4}.\u001b[0m\n",
      "\u001b[32m[I 2020-01-21 20:38:26,287]\u001b[0m Finished trial#53 resulted in value: 0.8272727272727272. Current best value is 0.8342952821826062 with parameters: {'min_child_weight': 2, 'gamma': 0.30000000000000004, 'subsample': 0.7, 'colsample_bytree': 0.7, 'max_depth': 4}.\u001b[0m\n",
      "\u001b[32m[I 2020-01-21 20:38:26,751]\u001b[0m Finished trial#54 resulted in value: 0.8328671328671329. Current best value is 0.8342952821826062 with parameters: {'min_child_weight': 2, 'gamma': 0.30000000000000004, 'subsample': 0.7, 'colsample_bytree': 0.7, 'max_depth': 4}.\u001b[0m\n",
      "\u001b[32m[I 2020-01-21 20:38:27,368]\u001b[0m Finished trial#55 resulted in value: 0.8104599625726386. Current best value is 0.8342952821826062 with parameters: {'min_child_weight': 2, 'gamma': 0.30000000000000004, 'subsample': 0.7, 'colsample_bytree': 0.7, 'max_depth': 4}.\u001b[0m\n",
      "\u001b[32m[I 2020-01-21 20:38:27,940]\u001b[0m Finished trial#56 resulted in value: 0.8286713286713286. Current best value is 0.8342952821826062 with parameters: {'min_child_weight': 2, 'gamma': 0.30000000000000004, 'subsample': 0.7, 'colsample_bytree': 0.7, 'max_depth': 4}.\u001b[0m\n",
      "\u001b[32m[I 2020-01-21 20:38:28,416]\u001b[0m Finished trial#57 resulted in value: 0.8244755244755243. Current best value is 0.8342952821826062 with parameters: {'min_child_weight': 2, 'gamma': 0.30000000000000004, 'subsample': 0.7, 'colsample_bytree': 0.7, 'max_depth': 4}.\u001b[0m\n",
      "\u001b[32m[I 2020-01-21 20:38:28,956]\u001b[0m Finished trial#58 resulted in value: 0.8286614793657046. Current best value is 0.8342952821826062 with parameters: {'min_child_weight': 2, 'gamma': 0.30000000000000004, 'subsample': 0.7, 'colsample_bytree': 0.7, 'max_depth': 4}.\u001b[0m\n",
      "\u001b[32m[I 2020-01-21 20:38:29,423]\u001b[0m Finished trial#59 resulted in value: 0.8160543681670441. Current best value is 0.8342952821826062 with parameters: {'min_child_weight': 2, 'gamma': 0.30000000000000004, 'subsample': 0.7, 'colsample_bytree': 0.7, 'max_depth': 4}.\u001b[0m\n",
      "\u001b[32m[I 2020-01-21 20:38:29,905]\u001b[0m Finished trial#60 resulted in value: 0.8244755244755243. Current best value is 0.8342952821826062 with parameters: {'min_child_weight': 2, 'gamma': 0.30000000000000004, 'subsample': 0.7, 'colsample_bytree': 0.7, 'max_depth': 4}.\u001b[0m\n",
      "\u001b[32m[I 2020-01-21 20:38:30,398]\u001b[0m Finished trial#61 resulted in value: 0.8342952821826062. Current best value is 0.8342952821826062 with parameters: {'min_child_weight': 2, 'gamma': 0.30000000000000004, 'subsample': 0.7, 'colsample_bytree': 0.7, 'max_depth': 4}.\u001b[0m\n",
      "\u001b[32m[I 2020-01-21 20:38:30,846]\u001b[0m Finished trial#62 resulted in value: 0.8244755244755243. Current best value is 0.8342952821826062 with parameters: {'min_child_weight': 2, 'gamma': 0.30000000000000004, 'subsample': 0.7, 'colsample_bytree': 0.7, 'max_depth': 4}.\u001b[0m\n",
      "\u001b[32m[I 2020-01-21 20:38:31,313]\u001b[0m Finished trial#63 resulted in value: 0.8286713286713286. Current best value is 0.8342952821826062 with parameters: {'min_child_weight': 2, 'gamma': 0.30000000000000004, 'subsample': 0.7, 'colsample_bytree': 0.7, 'max_depth': 4}.\u001b[0m\n",
      "\u001b[32m[I 2020-01-21 20:38:31,736]\u001b[0m Finished trial#64 resulted in value: 0.8244755244755243. Current best value is 0.8342952821826062 with parameters: {'min_child_weight': 2, 'gamma': 0.30000000000000004, 'subsample': 0.7, 'colsample_bytree': 0.7, 'max_depth': 4}.\u001b[0m\n",
      "\u001b[32m[I 2020-01-21 20:38:32,260]\u001b[0m Finished trial#65 resulted in value: 0.8286614793657046. Current best value is 0.8342952821826062 with parameters: {'min_child_weight': 2, 'gamma': 0.30000000000000004, 'subsample': 0.7, 'colsample_bytree': 0.7, 'max_depth': 4}.\u001b[0m\n",
      "\u001b[32m[I 2020-01-21 20:38:32,724]\u001b[0m Finished trial#66 resulted in value: 0.8160543681670441. Current best value is 0.8342952821826062 with parameters: {'min_child_weight': 2, 'gamma': 0.30000000000000004, 'subsample': 0.7, 'colsample_bytree': 0.7, 'max_depth': 4}.\u001b[0m\n",
      "\u001b[32m[I 2020-01-21 20:38:33,151]\u001b[0m Finished trial#67 resulted in value: 0.8244755244755243. Current best value is 0.8342952821826062 with parameters: {'min_child_weight': 2, 'gamma': 0.30000000000000004, 'subsample': 0.7, 'colsample_bytree': 0.7, 'max_depth': 4}.\u001b[0m\n",
      "\u001b[32m[I 2020-01-21 20:38:33,702]\u001b[0m Finished trial#68 resulted in value: 0.8258642765685019. Current best value is 0.8342952821826062 with parameters: {'min_child_weight': 2, 'gamma': 0.30000000000000004, 'subsample': 0.7, 'colsample_bytree': 0.7, 'max_depth': 4}.\u001b[0m\n",
      "\u001b[32m[I 2020-01-21 20:38:34,180]\u001b[0m Finished trial#69 resulted in value: 0.8286713286713286. Current best value is 0.8342952821826062 with parameters: {'min_child_weight': 2, 'gamma': 0.30000000000000004, 'subsample': 0.7, 'colsample_bytree': 0.7, 'max_depth': 4}.\u001b[0m\n",
      "\u001b[32m[I 2020-01-21 20:38:34,686]\u001b[0m Finished trial#70 resulted in value: 0.81185856397124. Current best value is 0.8342952821826062 with parameters: {'min_child_weight': 2, 'gamma': 0.30000000000000004, 'subsample': 0.7, 'colsample_bytree': 0.7, 'max_depth': 4}.\u001b[0m\n",
      "\u001b[32m[I 2020-01-21 20:38:35,169]\u001b[0m Finished trial#71 resulted in value: 0.8314783807741554. Current best value is 0.8342952821826062 with parameters: {'min_child_weight': 2, 'gamma': 0.30000000000000004, 'subsample': 0.7, 'colsample_bytree': 0.7, 'max_depth': 4}.\u001b[0m\n",
      "\u001b[32m[I 2020-01-21 20:38:35,700]\u001b[0m Finished trial#72 resulted in value: 0.8314783807741554. Current best value is 0.8342952821826062 with parameters: {'min_child_weight': 2, 'gamma': 0.30000000000000004, 'subsample': 0.7, 'colsample_bytree': 0.7, 'max_depth': 4}.\u001b[0m\n",
      "\u001b[32m[I 2020-01-21 20:38:36,240]\u001b[0m Finished trial#73 resulted in value: 0.8328769821727569. Current best value is 0.8342952821826062 with parameters: {'min_child_weight': 2, 'gamma': 0.30000000000000004, 'subsample': 0.7, 'colsample_bytree': 0.7, 'max_depth': 4}.\u001b[0m\n",
      "\u001b[32m[I 2020-01-21 20:38:36,689]\u001b[0m Finished trial#74 resulted in value: 0.8314783807741554. Current best value is 0.8342952821826062 with parameters: {'min_child_weight': 2, 'gamma': 0.30000000000000004, 'subsample': 0.7, 'colsample_bytree': 0.7, 'max_depth': 4}.\u001b[0m\n",
      "\u001b[32m[I 2020-01-21 20:38:37,312]\u001b[0m Finished trial#75 resulted in value: 0.8342854328769821. Current best value is 0.8342952821826062 with parameters: {'min_child_weight': 2, 'gamma': 0.30000000000000004, 'subsample': 0.7, 'colsample_bytree': 0.7, 'max_depth': 4}.\u001b[0m\n",
      "\u001b[32m[I 2020-01-21 20:38:37,853]\u001b[0m Finished trial#76 resulted in value: 0.8286713286713286. Current best value is 0.8342952821826062 with parameters: {'min_child_weight': 2, 'gamma': 0.30000000000000004, 'subsample': 0.7, 'colsample_bytree': 0.7, 'max_depth': 4}.\u001b[0m\n",
      "\u001b[32m[I 2020-01-21 20:38:38,373]\u001b[0m Finished trial#77 resulted in value: 0.8272727272727272. Current best value is 0.8342952821826062 with parameters: {'min_child_weight': 2, 'gamma': 0.30000000000000004, 'subsample': 0.7, 'colsample_bytree': 0.7, 'max_depth': 4}.\u001b[0m\n",
      "\u001b[32m[I 2020-01-21 20:38:38,961]\u001b[0m Finished trial#78 resulted in value: 0.8286614793657046. Current best value is 0.8342952821826062 with parameters: {'min_child_weight': 2, 'gamma': 0.30000000000000004, 'subsample': 0.7, 'colsample_bytree': 0.7, 'max_depth': 4}.\u001b[0m\n",
      "\u001b[32m[I 2020-01-21 20:38:39,471]\u001b[0m Finished trial#79 resulted in value: 0.8286713286713286. Current best value is 0.8342952821826062 with parameters: {'min_child_weight': 2, 'gamma': 0.30000000000000004, 'subsample': 0.7, 'colsample_bytree': 0.7, 'max_depth': 4}.\u001b[0m\n",
      "\u001b[32m[I 2020-01-21 20:38:39,918]\u001b[0m Finished trial#80 resulted in value: 0.8244755244755243. Current best value is 0.8342952821826062 with parameters: {'min_child_weight': 2, 'gamma': 0.30000000000000004, 'subsample': 0.7, 'colsample_bytree': 0.7, 'max_depth': 4}.\u001b[0m\n",
      "\u001b[32m[I 2020-01-21 20:38:40,515]\u001b[0m Finished trial#81 resulted in value: 0.8314291342460358. Current best value is 0.8342952821826062 with parameters: {'min_child_weight': 2, 'gamma': 0.30000000000000004, 'subsample': 0.7, 'colsample_bytree': 0.7, 'max_depth': 4}.\u001b[0m\n",
      "\u001b[32m[I 2020-01-21 20:38:41,072]\u001b[0m Finished trial#82 resulted in value: 0.8314783807741554. Current best value is 0.8342952821826062 with parameters: {'min_child_weight': 2, 'gamma': 0.30000000000000004, 'subsample': 0.7, 'colsample_bytree': 0.7, 'max_depth': 4}.\u001b[0m\n",
      "\u001b[32m[I 2020-01-21 20:38:41,662]\u001b[0m Finished trial#83 resulted in value: 0.8342854328769821. Current best value is 0.8342952821826062 with parameters: {'min_child_weight': 2, 'gamma': 0.30000000000000004, 'subsample': 0.7, 'colsample_bytree': 0.7, 'max_depth': 4}.\u001b[0m\n",
      "\u001b[32m[I 2020-01-21 20:38:42,151]\u001b[0m Finished trial#84 resulted in value: 0.8286713286713286. Current best value is 0.8342952821826062 with parameters: {'min_child_weight': 2, 'gamma': 0.30000000000000004, 'subsample': 0.7, 'colsample_bytree': 0.7, 'max_depth': 4}.\u001b[0m\n",
      "\u001b[32m[I 2020-01-21 20:38:42,643]\u001b[0m Finished trial#85 resulted in value: 0.8272727272727272. Current best value is 0.8342952821826062 with parameters: {'min_child_weight': 2, 'gamma': 0.30000000000000004, 'subsample': 0.7, 'colsample_bytree': 0.7, 'max_depth': 4}.\u001b[0m\n",
      "\u001b[32m[I 2020-01-21 20:38:43,174]\u001b[0m Finished trial#86 resulted in value: 0.8314586821629074. Current best value is 0.8342952821826062 with parameters: {'min_child_weight': 2, 'gamma': 0.30000000000000004, 'subsample': 0.7, 'colsample_bytree': 0.7, 'max_depth': 4}.\u001b[0m\n",
      "\u001b[32m[I 2020-01-21 20:38:43,656]\u001b[0m Finished trial#87 resulted in value: 0.8272727272727272. Current best value is 0.8342952821826062 with parameters: {'min_child_weight': 2, 'gamma': 0.30000000000000004, 'subsample': 0.7, 'colsample_bytree': 0.7, 'max_depth': 4}.\u001b[0m\n",
      "\u001b[32m[I 2020-01-21 20:38:44,081]\u001b[0m Finished trial#88 resulted in value: 0.8328671328671329. Current best value is 0.8342952821826062 with parameters: {'min_child_weight': 2, 'gamma': 0.30000000000000004, 'subsample': 0.7, 'colsample_bytree': 0.7, 'max_depth': 4}.\u001b[0m\n",
      "\u001b[32m[I 2020-01-21 20:38:44,588]\u001b[0m Finished trial#89 resulted in value: 0.8258839751797499. Current best value is 0.8342952821826062 with parameters: {'min_child_weight': 2, 'gamma': 0.30000000000000004, 'subsample': 0.7, 'colsample_bytree': 0.7, 'max_depth': 4}.\u001b[0m\n",
      "\u001b[32m[I 2020-01-21 20:38:45,186]\u001b[0m Finished trial#90 resulted in value: 0.8272727272727272. Current best value is 0.8342952821826062 with parameters: {'min_child_weight': 2, 'gamma': 0.30000000000000004, 'subsample': 0.7, 'colsample_bytree': 0.7, 'max_depth': 4}.\u001b[0m\n",
      "\u001b[32m[I 2020-01-21 20:38:45,807]\u001b[0m Finished trial#91 resulted in value: 0.8244755244755246. Current best value is 0.8342952821826062 with parameters: {'min_child_weight': 2, 'gamma': 0.30000000000000004, 'subsample': 0.7, 'colsample_bytree': 0.7, 'max_depth': 4}.\u001b[0m\n",
      "\u001b[32m[I 2020-01-21 20:38:46,280]\u001b[0m Finished trial#92 resulted in value: 0.8314783807741554. Current best value is 0.8342952821826062 with parameters: {'min_child_weight': 2, 'gamma': 0.30000000000000004, 'subsample': 0.7, 'colsample_bytree': 0.7, 'max_depth': 4}.\u001b[0m\n",
      "\u001b[32m[I 2020-01-21 20:38:46,850]\u001b[0m Finished trial#93 resulted in value: 0.8328868314783808. Current best value is 0.8342952821826062 with parameters: {'min_child_weight': 2, 'gamma': 0.30000000000000004, 'subsample': 0.7, 'colsample_bytree': 0.7, 'max_depth': 4}.\u001b[0m\n",
      "\u001b[32m[I 2020-01-21 20:38:47,297]\u001b[0m Finished trial#94 resulted in value: 0.8371121835910568. Current best value is 0.8371121835910568 with parameters: {'min_child_weight': 2, 'gamma': 0.30000000000000004, 'subsample': 0.8, 'colsample_bytree': 0.8, 'max_depth': 3}.\u001b[0m\n",
      "\u001b[32m[I 2020-01-21 20:38:47,720]\u001b[0m Finished trial#95 resulted in value: 0.8328671328671329. Current best value is 0.8371121835910568 with parameters: {'min_child_weight': 2, 'gamma': 0.30000000000000004, 'subsample': 0.8, 'colsample_bytree': 0.8, 'max_depth': 3}.\u001b[0m\n",
      "\u001b[32m[I 2020-01-21 20:38:48,246]\u001b[0m Finished trial#96 resulted in value: 0.8272727272727272. Current best value is 0.8371121835910568 with parameters: {'min_child_weight': 2, 'gamma': 0.30000000000000004, 'subsample': 0.8, 'colsample_bytree': 0.8, 'max_depth': 3}.\u001b[0m\n",
      "\u001b[32m[I 2020-01-21 20:38:48,864]\u001b[0m Finished trial#97 resulted in value: 0.8328671328671329. Current best value is 0.8371121835910568 with parameters: {'min_child_weight': 2, 'gamma': 0.30000000000000004, 'subsample': 0.8, 'colsample_bytree': 0.8, 'max_depth': 3}.\u001b[0m\n",
      "\u001b[32m[I 2020-01-21 20:38:49,384]\u001b[0m Finished trial#98 resulted in value: 0.8104501132670148. Current best value is 0.8371121835910568 with parameters: {'min_child_weight': 2, 'gamma': 0.30000000000000004, 'subsample': 0.8, 'colsample_bytree': 0.8, 'max_depth': 3}.\u001b[0m\n",
      "\u001b[32m[I 2020-01-21 20:38:49,860]\u001b[0m Finished trial#99 resulted in value: 0.8328671328671329. Current best value is 0.8371121835910568 with parameters: {'min_child_weight': 2, 'gamma': 0.30000000000000004, 'subsample': 0.8, 'colsample_bytree': 0.8, 'max_depth': 3}.\u001b[0m\n"
     ]
    },
    {
     "name": "stdout",
     "output_type": "stream",
     "text": [
      "{'min_child_weight': 2, 'gamma': 0.30000000000000004, 'subsample': 0.8, 'colsample_bytree': 0.8, 'max_depth': 3}\n",
      "0.8371121835910568\n"
     ]
    }
   ],
   "source": [
    "def objective(trial):\n",
    "    \n",
    "    param_grid_xgb = {\n",
    "        'min_child_weight': trial.suggest_int(\"min_child_weight\", 1, 5),\n",
    "        'gamma': trial.suggest_discrete_uniform(\"gamma\", 0.1, 1.0, 0.1),\n",
    "        'subsample': trial.suggest_discrete_uniform(\"subsample\", 0.5, 1.0, 0.1),\n",
    "        'colsample_bytree': trial.suggest_discrete_uniform(\"colsample_bytree\", 0.5, 1.0, 0.1),\n",
    "        'max_depth': trial.suggest_int(\"max_depth\", 3, 10),\n",
    "        \"random_state\": 0\n",
    "    }\n",
    "\n",
    "    model = XGBClassifier(**param_grid_xgb)\n",
    "    \n",
    "    # 5-Fold CV / Accuracy でモデルを評価する\n",
    "    kf = StratifiedKFold(n_splits=5, shuffle=True, random_state=0)\n",
    "    scores = cross_validate(model, X=X_train, y=y_train, cv=kf)\n",
    "    # 最小化なので 1.0 からスコアを引く\n",
    "    return scores['test_score'].mean()\n",
    "\n",
    "study = optuna.create_study(direction='maximize')\n",
    "study.optimize(objective, n_trials=100)\n",
    "print(study.best_params)\n",
    "print(study.best_value)\n",
    "xgb_best_param = study.best_params"
   ]
  },
  {
   "cell_type": "code",
   "execution_count": 180,
   "metadata": {},
   "outputs": [
    {
     "name": "stderr",
     "output_type": "stream",
     "text": [
      "\u001b[32m[I 2020-01-21 20:38:50,165]\u001b[0m Finished trial#0 resulted in value: 0.783709248497981. Current best value is 0.783709248497981 with parameters: {'num_leaves': 5, 'learning_rate': 0.0037628985606424307, 'max_depth': 6}.\u001b[0m\n",
      "\u001b[32m[I 2020-01-21 20:38:50,377]\u001b[0m Finished trial#1 resulted in value: 0.6165763813651137. Current best value is 0.783709248497981 with parameters: {'num_leaves': 5, 'learning_rate': 0.0037628985606424307, 'max_depth': 6}.\u001b[0m\n",
      "\u001b[32m[I 2020-01-21 20:38:50,605]\u001b[0m Finished trial#2 resulted in value: 0.8314882300797795. Current best value is 0.8314882300797795 with parameters: {'num_leaves': 7, 'learning_rate': 0.02862826175870242, 'max_depth': 3}.\u001b[0m\n",
      "\u001b[32m[I 2020-01-21 20:38:50,856]\u001b[0m Finished trial#3 resulted in value: 0.8174135723431497. Current best value is 0.8314882300797795 with parameters: {'num_leaves': 7, 'learning_rate': 0.02862826175870242, 'max_depth': 3}.\u001b[0m\n",
      "\u001b[32m[I 2020-01-21 20:38:51,062]\u001b[0m Finished trial#4 resulted in value: 0.6165763813651137. Current best value is 0.8314882300797795 with parameters: {'num_leaves': 7, 'learning_rate': 0.02862826175870242, 'max_depth': 3}.\u001b[0m\n",
      "\u001b[32m[I 2020-01-21 20:38:51,289]\u001b[0m Finished trial#5 resulted in value: 0.6165763813651137. Current best value is 0.8314882300797795 with parameters: {'num_leaves': 7, 'learning_rate': 0.02862826175870242, 'max_depth': 3}.\u001b[0m\n",
      "\u001b[32m[I 2020-01-21 20:38:51,523]\u001b[0m Finished trial#6 resulted in value: 0.8047966118388654. Current best value is 0.8314882300797795 with parameters: {'num_leaves': 7, 'learning_rate': 0.02862826175870242, 'max_depth': 3}.\u001b[0m\n",
      "\u001b[32m[I 2020-01-21 20:38:51,770]\u001b[0m Finished trial#7 resulted in value: 0.7625824879346006. Current best value is 0.8314882300797795 with parameters: {'num_leaves': 7, 'learning_rate': 0.02862826175870242, 'max_depth': 3}.\u001b[0m\n",
      "\u001b[32m[I 2020-01-21 20:38:52,012]\u001b[0m Finished trial#8 resulted in value: 0.6165763813651137. Current best value is 0.8314882300797795 with parameters: {'num_leaves': 7, 'learning_rate': 0.02862826175870242, 'max_depth': 3}.\u001b[0m\n",
      "\u001b[32m[I 2020-01-21 20:38:52,247]\u001b[0m Finished trial#9 resulted in value: 0.6165763813651137. Current best value is 0.8314882300797795 with parameters: {'num_leaves': 7, 'learning_rate': 0.02862826175870242, 'max_depth': 3}.\u001b[0m\n",
      "\u001b[32m[I 2020-01-21 20:38:52,484]\u001b[0m Finished trial#10 resulted in value: 0.8273022751895992. Current best value is 0.8314882300797795 with parameters: {'num_leaves': 7, 'learning_rate': 0.02862826175870242, 'max_depth': 3}.\u001b[0m\n",
      "\u001b[32m[I 2020-01-21 20:38:52,719]\u001b[0m Finished trial#11 resulted in value: 0.8273022751895992. Current best value is 0.8314882300797795 with parameters: {'num_leaves': 7, 'learning_rate': 0.02862826175870242, 'max_depth': 3}.\u001b[0m\n",
      "\u001b[32m[I 2020-01-21 20:38:52,958]\u001b[0m Finished trial#12 resulted in value: 0.8272825765783512. Current best value is 0.8314882300797795 with parameters: {'num_leaves': 7, 'learning_rate': 0.02862826175870242, 'max_depth': 3}.\u001b[0m\n",
      "\u001b[32m[I 2020-01-21 20:38:53,210]\u001b[0m Finished trial#13 resulted in value: 0.6165763813651137. Current best value is 0.8314882300797795 with parameters: {'num_leaves': 7, 'learning_rate': 0.02862826175870242, 'max_depth': 3}.\u001b[0m\n",
      "\u001b[32m[I 2020-01-21 20:38:53,444]\u001b[0m Finished trial#14 resulted in value: 0.8272727272727272. Current best value is 0.8314882300797795 with parameters: {'num_leaves': 7, 'learning_rate': 0.02862826175870242, 'max_depth': 3}.\u001b[0m\n",
      "\u001b[32m[I 2020-01-21 20:38:53,732]\u001b[0m Finished trial#15 resulted in value: 0.8146262188515709. Current best value is 0.8314882300797795 with parameters: {'num_leaves': 7, 'learning_rate': 0.02862826175870242, 'max_depth': 3}.\u001b[0m\n",
      "\u001b[32m[I 2020-01-21 20:38:54,020]\u001b[0m Finished trial#16 resulted in value: 0.8371023342854329. Current best value is 0.8371023342854329 with parameters: {'num_leaves': 6, 'learning_rate': 0.013583211494174036, 'max_depth': 10}.\u001b[0m\n",
      "\u001b[32m[I 2020-01-21 20:38:54,303]\u001b[0m Finished trial#17 resulted in value: 0.6165763813651137. Current best value is 0.8371023342854329 with parameters: {'num_leaves': 6, 'learning_rate': 0.013583211494174036, 'max_depth': 10}.\u001b[0m\n",
      "\u001b[32m[I 2020-01-21 20:38:54,587]\u001b[0m Finished trial#18 resulted in value: 0.7851078498965823. Current best value is 0.8371023342854329 with parameters: {'num_leaves': 6, 'learning_rate': 0.013583211494174036, 'max_depth': 10}.\u001b[0m\n",
      "\u001b[32m[I 2020-01-21 20:38:54,858]\u001b[0m Finished trial#19 resulted in value: 0.6165763813651137. Current best value is 0.8371023342854329 with parameters: {'num_leaves': 6, 'learning_rate': 0.013583211494174036, 'max_depth': 10}.\u001b[0m\n",
      "\u001b[32m[I 2020-01-21 20:38:55,126]\u001b[0m Finished trial#20 resulted in value: 0.8202698709740963. Current best value is 0.8371023342854329 with parameters: {'num_leaves': 6, 'learning_rate': 0.013583211494174036, 'max_depth': 10}.\u001b[0m\n",
      "\u001b[32m[I 2020-01-21 20:38:55,380]\u001b[0m Finished trial#21 resulted in value: 0.8272727272727274. Current best value is 0.8371023342854329 with parameters: {'num_leaves': 6, 'learning_rate': 0.013583211494174036, 'max_depth': 10}.\u001b[0m\n",
      "\u001b[32m[I 2020-01-21 20:38:55,604]\u001b[0m Finished trial#22 resulted in value: 0.810371318822023. Current best value is 0.8371023342854329 with parameters: {'num_leaves': 6, 'learning_rate': 0.013583211494174036, 'max_depth': 10}.\u001b[0m\n",
      "\u001b[32m[I 2020-01-21 20:38:55,878]\u001b[0m Finished trial#23 resulted in value: 0.6165763813651137. Current best value is 0.8371023342854329 with parameters: {'num_leaves': 6, 'learning_rate': 0.013583211494174036, 'max_depth': 10}.\u001b[0m\n",
      "\u001b[32m[I 2020-01-21 20:38:56,120]\u001b[0m Finished trial#24 resulted in value: 0.8202403230572244. Current best value is 0.8371023342854329 with parameters: {'num_leaves': 6, 'learning_rate': 0.013583211494174036, 'max_depth': 10}.\u001b[0m\n",
      "\u001b[32m[I 2020-01-21 20:38:56,359]\u001b[0m Finished trial#25 resulted in value: 0.8371023342854329. Current best value is 0.8371023342854329 with parameters: {'num_leaves': 6, 'learning_rate': 0.013583211494174036, 'max_depth': 10}.\u001b[0m\n",
      "\u001b[32m[I 2020-01-21 20:38:56,603]\u001b[0m Finished trial#26 resulted in value: 0.6165763813651137. Current best value is 0.8371023342854329 with parameters: {'num_leaves': 6, 'learning_rate': 0.013583211494174036, 'max_depth': 10}.\u001b[0m\n",
      "\u001b[32m[I 2020-01-21 20:38:56,843]\u001b[0m Finished trial#27 resulted in value: 0.821619225844578. Current best value is 0.8371023342854329 with parameters: {'num_leaves': 6, 'learning_rate': 0.013583211494174036, 'max_depth': 10}.\u001b[0m\n",
      "\u001b[32m[I 2020-01-21 20:38:57,099]\u001b[0m Finished trial#28 resulted in value: 0.6165763813651137. Current best value is 0.8371023342854329 with parameters: {'num_leaves': 6, 'learning_rate': 0.013583211494174036, 'max_depth': 10}.\u001b[0m\n",
      "\u001b[32m[I 2020-01-21 20:38:57,341]\u001b[0m Finished trial#29 resulted in value: 0.7823007977937556. Current best value is 0.8371023342854329 with parameters: {'num_leaves': 6, 'learning_rate': 0.013583211494174036, 'max_depth': 10}.\u001b[0m\n",
      "\u001b[32m[I 2020-01-21 20:38:57,589]\u001b[0m Finished trial#30 resulted in value: 0.8258642765685019. Current best value is 0.8371023342854329 with parameters: {'num_leaves': 6, 'learning_rate': 0.013583211494174036, 'max_depth': 10}.\u001b[0m\n",
      "\u001b[32m[I 2020-01-21 20:38:57,840]\u001b[0m Finished trial#31 resulted in value: 0.8385107849896581. Current best value is 0.8385107849896581 with parameters: {'num_leaves': 7, 'learning_rate': 0.013244610270097636, 'max_depth': 5}.\u001b[0m\n",
      "\u001b[32m[I 2020-01-21 20:38:58,084]\u001b[0m Finished trial#32 resulted in value: 0.8272825765783512. Current best value is 0.8385107849896581 with parameters: {'num_leaves': 7, 'learning_rate': 0.013244610270097636, 'max_depth': 5}.\u001b[0m\n",
      "\u001b[32m[I 2020-01-21 20:38:58,339]\u001b[0m Finished trial#33 resulted in value: 0.6165763813651137. Current best value is 0.8385107849896581 with parameters: {'num_leaves': 7, 'learning_rate': 0.013244610270097636, 'max_depth': 5}.\u001b[0m\n",
      "\u001b[32m[I 2020-01-21 20:38:58,586]\u001b[0m Finished trial#34 resulted in value: 0.8202403230572244. Current best value is 0.8385107849896581 with parameters: {'num_leaves': 7, 'learning_rate': 0.013244610270097636, 'max_depth': 5}.\u001b[0m\n",
      "\u001b[32m[I 2020-01-21 20:38:58,829]\u001b[0m Finished trial#35 resulted in value: 0.8202206244459767. Current best value is 0.8385107849896581 with parameters: {'num_leaves': 7, 'learning_rate': 0.013244610270097636, 'max_depth': 5}.\u001b[0m\n",
      "\u001b[32m[I 2020-01-21 20:38:59,054]\u001b[0m Finished trial#36 resulted in value: 0.6165763813651137. Current best value is 0.8385107849896581 with parameters: {'num_leaves': 7, 'learning_rate': 0.013244610270097636, 'max_depth': 5}.\u001b[0m\n",
      "\u001b[32m[I 2020-01-21 20:38:59,297]\u001b[0m Finished trial#37 resulted in value: 0.8272924258839751. Current best value is 0.8385107849896581 with parameters: {'num_leaves': 7, 'learning_rate': 0.013244610270097636, 'max_depth': 5}.\u001b[0m\n",
      "\u001b[32m[I 2020-01-21 20:38:59,541]\u001b[0m Finished trial#38 resulted in value: 0.7879149019994091. Current best value is 0.8385107849896581 with parameters: {'num_leaves': 7, 'learning_rate': 0.013244610270097636, 'max_depth': 5}.\u001b[0m\n",
      "\u001b[32m[I 2020-01-21 20:38:59,798]\u001b[0m Finished trial#39 resulted in value: 0.8244164286417808. Current best value is 0.8385107849896581 with parameters: {'num_leaves': 7, 'learning_rate': 0.013244610270097636, 'max_depth': 5}.\u001b[0m\n",
      "\u001b[32m[I 2020-01-21 20:39:00,071]\u001b[0m Finished trial#40 resulted in value: 0.6165763813651137. Current best value is 0.8385107849896581 with parameters: {'num_leaves': 7, 'learning_rate': 0.013244610270097636, 'max_depth': 5}.\u001b[0m\n",
      "\u001b[32m[I 2020-01-21 20:39:00,334]\u001b[0m Finished trial#41 resulted in value: 0.8273022751895992. Current best value is 0.8385107849896581 with parameters: {'num_leaves': 7, 'learning_rate': 0.013244610270097636, 'max_depth': 5}.\u001b[0m\n",
      "\u001b[32m[I 2020-01-21 20:39:00,570]\u001b[0m Finished trial#42 resulted in value: 0.8300994779868021. Current best value is 0.8385107849896581 with parameters: {'num_leaves': 7, 'learning_rate': 0.013244610270097636, 'max_depth': 5}.\u001b[0m\n",
      "\u001b[32m[I 2020-01-21 20:39:00,860]\u001b[0m Finished trial#43 resulted in value: 0.6165763813651137. Current best value is 0.8385107849896581 with parameters: {'num_leaves': 7, 'learning_rate': 0.013244610270097636, 'max_depth': 5}.\u001b[0m\n",
      "\u001b[32m[I 2020-01-21 20:39:01,099]\u001b[0m Finished trial#44 resulted in value: 0.830089628681178. Current best value is 0.8385107849896581 with parameters: {'num_leaves': 7, 'learning_rate': 0.013244610270097636, 'max_depth': 5}.\u001b[0m\n",
      "\u001b[32m[I 2020-01-21 20:39:01,362]\u001b[0m Finished trial#45 resulted in value: 0.8230572244656752. Current best value is 0.8385107849896581 with parameters: {'num_leaves': 7, 'learning_rate': 0.013244610270097636, 'max_depth': 5}.\u001b[0m\n",
      "\u001b[32m[I 2020-01-21 20:39:01,648]\u001b[0m Finished trial#46 resulted in value: 0.6165763813651137. Current best value is 0.8385107849896581 with parameters: {'num_leaves': 7, 'learning_rate': 0.013244610270097636, 'max_depth': 5}.\u001b[0m\n",
      "\u001b[32m[I 2020-01-21 20:39:01,932]\u001b[0m Finished trial#47 resulted in value: 0.7991825076332119. Current best value is 0.8385107849896581 with parameters: {'num_leaves': 7, 'learning_rate': 0.013244610270097636, 'max_depth': 5}.\u001b[0m\n",
      "\u001b[32m[I 2020-01-21 20:39:02,224]\u001b[0m Finished trial#48 resulted in value: 0.8286910272825766. Current best value is 0.8385107849896581 with parameters: {'num_leaves': 7, 'learning_rate': 0.013244610270097636, 'max_depth': 5}.\u001b[0m\n",
      "\u001b[32m[I 2020-01-21 20:39:02,481]\u001b[0m Finished trial#49 resulted in value: 0.8202403230572244. Current best value is 0.8385107849896581 with parameters: {'num_leaves': 7, 'learning_rate': 0.013244610270097636, 'max_depth': 5}.\u001b[0m\n",
      "\u001b[32m[I 2020-01-21 20:39:02,709]\u001b[0m Finished trial#50 resulted in value: 0.6165763813651137. Current best value is 0.8385107849896581 with parameters: {'num_leaves': 7, 'learning_rate': 0.013244610270097636, 'max_depth': 5}.\u001b[0m\n",
      "\u001b[32m[I 2020-01-21 20:39:02,958]\u001b[0m Finished trial#51 resulted in value: 0.830089628681178. Current best value is 0.8385107849896581 with parameters: {'num_leaves': 7, 'learning_rate': 0.013244610270097636, 'max_depth': 5}.\u001b[0m\n",
      "\u001b[32m[I 2020-01-21 20:39:03,283]\u001b[0m Finished trial#52 resulted in value: 0.8286910272825766. Current best value is 0.8385107849896581 with parameters: {'num_leaves': 7, 'learning_rate': 0.013244610270097636, 'max_depth': 5}.\u001b[0m\n",
      "\u001b[32m[I 2020-01-21 20:39:03,554]\u001b[0m Finished trial#53 resulted in value: 0.8328966807840047. Current best value is 0.8385107849896581 with parameters: {'num_leaves': 7, 'learning_rate': 0.013244610270097636, 'max_depth': 5}.\u001b[0m\n",
      "\u001b[32m[I 2020-01-21 20:39:03,841]\u001b[0m Finished trial#54 resulted in value: 0.8272825765783512. Current best value is 0.8385107849896581 with parameters: {'num_leaves': 7, 'learning_rate': 0.013244610270097636, 'max_depth': 5}.\u001b[0m\n",
      "\u001b[32m[I 2020-01-21 20:39:04,133]\u001b[0m Finished trial#55 resulted in value: 0.7738500935684034. Current best value is 0.8385107849896581 with parameters: {'num_leaves': 7, 'learning_rate': 0.013244610270097636, 'max_depth': 5}.\u001b[0m\n",
      "\u001b[32m[I 2020-01-21 20:39:04,394]\u001b[0m Finished trial#56 resulted in value: 0.8159854230276766. Current best value is 0.8385107849896581 with parameters: {'num_leaves': 7, 'learning_rate': 0.013244610270097636, 'max_depth': 5}.\u001b[0m\n",
      "\u001b[32m[I 2020-01-21 20:39:04,659]\u001b[0m Finished trial#57 resulted in value: 0.834324830099478. Current best value is 0.8385107849896581 with parameters: {'num_leaves': 7, 'learning_rate': 0.013244610270097636, 'max_depth': 5}.\u001b[0m\n",
      "\u001b[32m[I 2020-01-21 20:39:04,934]\u001b[0m Finished trial#58 resulted in value: 0.8315079286910272. Current best value is 0.8385107849896581 with parameters: {'num_leaves': 7, 'learning_rate': 0.013244610270097636, 'max_depth': 5}.\u001b[0m\n",
      "\u001b[32m[I 2020-01-21 20:39:05,211]\u001b[0m Finished trial#59 resulted in value: 0.8286713286713286. Current best value is 0.8385107849896581 with parameters: {'num_leaves': 7, 'learning_rate': 0.013244610270097636, 'max_depth': 5}.\u001b[0m\n",
      "\u001b[32m[I 2020-01-21 20:39:05,503]\u001b[0m Finished trial#60 resulted in value: 0.8118093174431202. Current best value is 0.8385107849896581 with parameters: {'num_leaves': 7, 'learning_rate': 0.013244610270097636, 'max_depth': 5}.\u001b[0m\n",
      "\u001b[32m[I 2020-01-21 20:39:05,766]\u001b[0m Finished trial#61 resulted in value: 0.8301191765980498. Current best value is 0.8385107849896581 with parameters: {'num_leaves': 7, 'learning_rate': 0.013244610270097636, 'max_depth': 5}.\u001b[0m\n",
      "\u001b[32m[I 2020-01-21 20:39:06,027]\u001b[0m Finished trial#62 resulted in value: 0.8090121146459175. Current best value is 0.8385107849896581 with parameters: {'num_leaves': 7, 'learning_rate': 0.013244610270097636, 'max_depth': 5}.\u001b[0m\n",
      "\u001b[32m[I 2020-01-21 20:39:06,305]\u001b[0m Finished trial#63 resulted in value: 0.8230572244656752. Current best value is 0.8385107849896581 with parameters: {'num_leaves': 7, 'learning_rate': 0.013244610270097636, 'max_depth': 5}.\u001b[0m\n",
      "\u001b[32m[I 2020-01-21 20:39:06,577]\u001b[0m Finished trial#64 resulted in value: 0.823086772382547. Current best value is 0.8385107849896581 with parameters: {'num_leaves': 7, 'learning_rate': 0.013244610270097636, 'max_depth': 5}.\u001b[0m\n",
      "\u001b[32m[I 2020-01-21 20:39:06,829]\u001b[0m Finished trial#65 resulted in value: 0.837082635674185. Current best value is 0.8385107849896581 with parameters: {'num_leaves': 7, 'learning_rate': 0.013244610270097636, 'max_depth': 5}.\u001b[0m\n",
      "\u001b[32m[I 2020-01-21 20:39:07,083]\u001b[0m Finished trial#66 resulted in value: 0.7893233527036344. Current best value is 0.8385107849896581 with parameters: {'num_leaves': 7, 'learning_rate': 0.013244610270097636, 'max_depth': 5}.\u001b[0m\n",
      "\u001b[32m[I 2020-01-21 20:39:07,353]\u001b[0m Finished trial#67 resulted in value: 0.8132079188417215. Current best value is 0.8385107849896581 with parameters: {'num_leaves': 7, 'learning_rate': 0.013244610270097636, 'max_depth': 5}.\u001b[0m\n",
      "\u001b[32m[I 2020-01-21 20:39:07,606]\u001b[0m Finished trial#68 resulted in value: 0.830089628681178. Current best value is 0.8385107849896581 with parameters: {'num_leaves': 7, 'learning_rate': 0.013244610270097636, 'max_depth': 5}.\u001b[0m\n",
      "\u001b[32m[I 2020-01-21 20:39:07,848]\u001b[0m Finished trial#69 resulted in value: 0.6165763813651137. Current best value is 0.8385107849896581 with parameters: {'num_leaves': 7, 'learning_rate': 0.013244610270097636, 'max_depth': 5}.\u001b[0m\n",
      "\u001b[32m[I 2020-01-21 20:39:08,096]\u001b[0m Finished trial#70 resulted in value: 0.7850980005909584. Current best value is 0.8385107849896581 with parameters: {'num_leaves': 7, 'learning_rate': 0.013244610270097636, 'max_depth': 5}.\u001b[0m\n",
      "\u001b[32m[I 2020-01-21 20:39:08,342]\u001b[0m Finished trial#71 resulted in value: 0.8244656751699007. Current best value is 0.8385107849896581 with parameters: {'num_leaves': 7, 'learning_rate': 0.013244610270097636, 'max_depth': 5}.\u001b[0m\n",
      "\u001b[32m[I 2020-01-21 20:39:08,601]\u001b[0m Finished trial#72 resulted in value: 0.8356938835812076. Current best value is 0.8385107849896581 with parameters: {'num_leaves': 7, 'learning_rate': 0.013244610270097636, 'max_depth': 5}.\u001b[0m\n",
      "\u001b[32m[I 2020-01-21 20:39:08,858]\u001b[0m Finished trial#73 resulted in value: 0.8384910863784103. Current best value is 0.8385107849896581 with parameters: {'num_leaves': 7, 'learning_rate': 0.013244610270097636, 'max_depth': 5}.\u001b[0m\n",
      "\u001b[32m[I 2020-01-21 20:39:09,095]\u001b[0m Finished trial#74 resulted in value: 0.8371023342854329. Current best value is 0.8385107849896581 with parameters: {'num_leaves': 7, 'learning_rate': 0.013244610270097636, 'max_depth': 5}.\u001b[0m\n",
      "\u001b[32m[I 2020-01-21 20:39:09,357]\u001b[0m Finished trial#75 resulted in value: 0.8385107849896581. Current best value is 0.8385107849896581 with parameters: {'num_leaves': 7, 'learning_rate': 0.013244610270097636, 'max_depth': 5}.\u001b[0m\n",
      "\u001b[32m[I 2020-01-21 20:39:09,592]\u001b[0m Finished trial#76 resulted in value: 0.7738500935684034. Current best value is 0.8385107849896581 with parameters: {'num_leaves': 7, 'learning_rate': 0.013244610270097636, 'max_depth': 5}.\u001b[0m\n",
      "\u001b[32m[I 2020-01-21 20:39:09,850]\u001b[0m Finished trial#77 resulted in value: 0.6165763813651137. Current best value is 0.8385107849896581 with parameters: {'num_leaves': 7, 'learning_rate': 0.013244610270097636, 'max_depth': 5}.\u001b[0m\n",
      "\u001b[32m[I 2020-01-21 20:39:10,087]\u001b[0m Finished trial#78 resulted in value: 0.8371023342854329. Current best value is 0.8385107849896581 with parameters: {'num_leaves': 7, 'learning_rate': 0.013244610270097636, 'max_depth': 5}.\u001b[0m\n",
      "\u001b[32m[I 2020-01-21 20:39:10,320]\u001b[0m Finished trial#79 resulted in value: 0.7879050526937852. Current best value is 0.8385107849896581 with parameters: {'num_leaves': 7, 'learning_rate': 0.013244610270097636, 'max_depth': 5}.\u001b[0m\n",
      "\u001b[32m[I 2020-01-21 20:39:10,553]\u001b[0m Finished trial#80 resulted in value: 0.8033389146065202. Current best value is 0.8385107849896581 with parameters: {'num_leaves': 7, 'learning_rate': 0.013244610270097636, 'max_depth': 5}.\u001b[0m\n",
      "\u001b[32m[I 2020-01-21 20:39:10,795]\u001b[0m Finished trial#81 resulted in value: 0.8314685314685313. Current best value is 0.8385107849896581 with parameters: {'num_leaves': 7, 'learning_rate': 0.013244610270097636, 'max_depth': 5}.\u001b[0m\n",
      "\u001b[32m[I 2020-01-21 20:39:11,041]\u001b[0m Finished trial#82 resulted in value: 0.8342854328769821. Current best value is 0.8385107849896581 with parameters: {'num_leaves': 7, 'learning_rate': 0.013244610270097636, 'max_depth': 5}.\u001b[0m\n",
      "\u001b[32m[I 2020-01-21 20:39:11,290]\u001b[0m Finished trial#83 resulted in value: 0.6165763813651137. Current best value is 0.8385107849896581 with parameters: {'num_leaves': 7, 'learning_rate': 0.013244610270097636, 'max_depth': 5}.\u001b[0m\n",
      "\u001b[32m[I 2020-01-21 20:39:11,543]\u001b[0m Finished trial#84 resulted in value: 0.7893135033980105. Current best value is 0.8385107849896581 with parameters: {'num_leaves': 7, 'learning_rate': 0.013244610270097636, 'max_depth': 5}.\u001b[0m\n",
      "\u001b[32m[I 2020-01-21 20:39:11,791]\u001b[0m Finished trial#85 resulted in value: 0.8384812370727864. Current best value is 0.8385107849896581 with parameters: {'num_leaves': 7, 'learning_rate': 0.013244610270097636, 'max_depth': 5}.\u001b[0m\n",
      "\u001b[32m[I 2020-01-21 20:39:12,039]\u001b[0m Finished trial#86 resulted in value: 0.8300797793755541. Current best value is 0.8385107849896581 with parameters: {'num_leaves': 7, 'learning_rate': 0.013244610270097636, 'max_depth': 5}.\u001b[0m\n",
      "\u001b[32m[I 2020-01-21 20:39:12,290]\u001b[0m Finished trial#87 resulted in value: 0.8286713286713286. Current best value is 0.8385107849896581 with parameters: {'num_leaves': 7, 'learning_rate': 0.013244610270097636, 'max_depth': 5}.\u001b[0m\n",
      "\u001b[32m[I 2020-01-21 20:39:12,522]\u001b[0m Finished trial#88 resulted in value: 0.806155816014971. Current best value is 0.8385107849896581 with parameters: {'num_leaves': 7, 'learning_rate': 0.013244610270097636, 'max_depth': 5}.\u001b[0m\n",
      "\u001b[32m[I 2020-01-21 20:39:12,767]\u001b[0m Finished trial#89 resulted in value: 0.7738500935684034. Current best value is 0.8385107849896581 with parameters: {'num_leaves': 7, 'learning_rate': 0.013244610270097636, 'max_depth': 5}.\u001b[0m\n",
      "\u001b[32m[I 2020-01-21 20:39:12,999]\u001b[0m Finished trial#90 resulted in value: 0.6165763813651137. Current best value is 0.8385107849896581 with parameters: {'num_leaves': 7, 'learning_rate': 0.013244610270097636, 'max_depth': 5}.\u001b[0m\n",
      "\u001b[32m[I 2020-01-21 20:39:13,241]\u001b[0m Finished trial#91 resulted in value: 0.8342854328769821. Current best value is 0.8385107849896581 with parameters: {'num_leaves': 7, 'learning_rate': 0.013244610270097636, 'max_depth': 5}.\u001b[0m\n",
      "\u001b[32m[I 2020-01-21 20:39:13,495]\u001b[0m Finished trial#92 resulted in value: 0.8342854328769821. Current best value is 0.8385107849896581 with parameters: {'num_leaves': 7, 'learning_rate': 0.013244610270097636, 'max_depth': 5}.\u001b[0m\n",
      "\u001b[32m[I 2020-01-21 20:39:13,730]\u001b[0m Finished trial#93 resulted in value: 0.7836895498867331. Current best value is 0.8385107849896581 with parameters: {'num_leaves': 7, 'learning_rate': 0.013244610270097636, 'max_depth': 5}.\u001b[0m\n",
      "\u001b[32m[I 2020-01-21 20:39:13,967]\u001b[0m Finished trial#94 resulted in value: 0.7977445090121147. Current best value is 0.8385107849896581 with parameters: {'num_leaves': 7, 'learning_rate': 0.013244610270097636, 'max_depth': 5}.\u001b[0m\n",
      "\u001b[32m[I 2020-01-21 20:39:14,214]\u001b[0m Finished trial#95 resulted in value: 0.8342854328769821. Current best value is 0.8385107849896581 with parameters: {'num_leaves': 7, 'learning_rate': 0.013244610270097636, 'max_depth': 5}.\u001b[0m\n",
      "\u001b[32m[I 2020-01-21 20:39:14,476]\u001b[0m Finished trial#96 resulted in value: 0.8258741258741258. Current best value is 0.8385107849896581 with parameters: {'num_leaves': 7, 'learning_rate': 0.013244610270097636, 'max_depth': 5}.\u001b[0m\n",
      "\u001b[32m[I 2020-01-21 20:39:14,711]\u001b[0m Finished trial#97 resulted in value: 0.8328868314783808. Current best value is 0.8385107849896581 with parameters: {'num_leaves': 7, 'learning_rate': 0.013244610270097636, 'max_depth': 5}.\u001b[0m\n",
      "\u001b[32m[I 2020-01-21 20:39:14,963]\u001b[0m Finished trial#98 resulted in value: 0.7907318034078598. Current best value is 0.8385107849896581 with parameters: {'num_leaves': 7, 'learning_rate': 0.013244610270097636, 'max_depth': 5}.\u001b[0m\n",
      "\u001b[32m[I 2020-01-21 20:39:15,286]\u001b[0m Finished trial#99 resulted in value: 0.8371023342854329. Current best value is 0.8385107849896581 with parameters: {'num_leaves': 7, 'learning_rate': 0.013244610270097636, 'max_depth': 5}.\u001b[0m\n"
     ]
    },
    {
     "name": "stdout",
     "output_type": "stream",
     "text": [
      "{'num_leaves': 7, 'learning_rate': 0.013244610270097636, 'max_depth': 5}\n",
      "0.8385107849896581\n"
     ]
    }
   ],
   "source": [
    "def objective(trial):\n",
    "    \n",
    "    param_grid_lgb = {\n",
    "        'num_leaves': trial.suggest_int(\"num_leaves\", 3, 10),\n",
    "        'learning_rate': trial.suggest_loguniform(\"learning_rate\", 1e-8, 1.0),\n",
    "        'max_depth': trial.suggest_int(\"max_depth\", 3, 10),\n",
    "        \"random_state\": 0\n",
    "    }\n",
    "\n",
    "    model = LGBMClassifier(**param_grid_lgb)\n",
    "    \n",
    "    # 5-Fold CV / Accuracy でモデルを評価する\n",
    "    kf = StratifiedKFold(n_splits=5, shuffle=True, random_state=0)\n",
    "    scores = cross_validate(model, X=X_train, y=y_train, cv=kf)\n",
    "    # 最小化なので 1.0 からスコアを引く\n",
    "    return scores['test_score'].mean()\n",
    "\n",
    "study = optuna.create_study(direction='maximize')\n",
    "study.optimize(objective, n_trials=100)\n",
    "print(study.best_params)\n",
    "print(study.best_value)\n",
    "lgb_best_param = study.best_params"
   ]
  },
  {
   "cell_type": "code",
   "execution_count": 181,
   "metadata": {},
   "outputs": [
    {
     "name": "stderr",
     "output_type": "stream",
     "text": [
      "\u001b[32m[I 2020-01-21 20:39:15,806]\u001b[0m Finished trial#0 resulted in value: 0.821638924455826. Current best value is 0.821638924455826 with parameters: {'C': 69}.\u001b[0m\n",
      "\u001b[32m[I 2020-01-21 20:39:16,207]\u001b[0m Finished trial#1 resulted in value: 0.8286713286713286. Current best value is 0.8286713286713286 with parameters: {'C': 12}.\u001b[0m\n",
      "\u001b[32m[I 2020-01-21 20:39:16,611]\u001b[0m Finished trial#2 resulted in value: 0.8230375258544272. Current best value is 0.8286713286713286 with parameters: {'C': 12}.\u001b[0m\n",
      "\u001b[32m[I 2020-01-21 20:39:17,349]\u001b[0m Finished trial#3 resulted in value: 0.8286614793657048. Current best value is 0.8286713286713286 with parameters: {'C': 12}.\u001b[0m\n",
      "\u001b[32m[I 2020-01-21 20:39:18,156]\u001b[0m Finished trial#4 resulted in value: 0.8342657342657344. Current best value is 0.8342657342657344 with parameters: {'C': 3}.\u001b[0m\n",
      "\u001b[32m[I 2020-01-21 20:39:18,757]\u001b[0m Finished trial#5 resulted in value: 0.8244558258642766. Current best value is 0.8342657342657344 with parameters: {'C': 3}.\u001b[0m\n",
      "\u001b[32m[I 2020-01-21 20:39:19,269]\u001b[0m Finished trial#6 resulted in value: 0.8230375258544272. Current best value is 0.8342657342657344 with parameters: {'C': 3}.\u001b[0m\n",
      "\u001b[32m[I 2020-01-21 20:39:19,765]\u001b[0m Finished trial#7 resulted in value: 0.8230375258544272. Current best value is 0.8342657342657344 with parameters: {'C': 3}.\u001b[0m\n",
      "\u001b[32m[I 2020-01-21 20:39:20,420]\u001b[0m Finished trial#8 resulted in value: 0.8230375258544272. Current best value is 0.8342657342657344 with parameters: {'C': 3}.\u001b[0m\n",
      "\u001b[32m[I 2020-01-21 20:39:21,094]\u001b[0m Finished trial#9 resulted in value: 0.8230375258544272. Current best value is 0.8342657342657344 with parameters: {'C': 3}.\u001b[0m\n"
     ]
    },
    {
     "name": "stdout",
     "output_type": "stream",
     "text": [
      "{'C': 3}\n",
      "0.8342657342657344\n"
     ]
    }
   ],
   "source": [
    "import warnings\n",
    "warnings.filterwarnings('ignore')\n",
    "\n",
    "def objective(trial):\n",
    "    \n",
    "    param_grid_lr = {\n",
    "        'C' : trial.suggest_int(\"C\", 1, 100),\n",
    "        \"random_state\": 0\n",
    "    }\n",
    "\n",
    "    model = LogisticRegression(**param_grid_lr)\n",
    "    \n",
    "    # 5-Fold CV / Accuracy でモデルを評価する\n",
    "    kf = StratifiedKFold(n_splits=5, shuffle=True, random_state=0)\n",
    "    scores = cross_validate(model, X=X_train, y=y_train, cv=kf)\n",
    "    # 最小化なので 1.0 からスコアを引く\n",
    "    return scores['test_score'].mean()\n",
    "\n",
    "study = optuna.create_study(direction='maximize')\n",
    "study.optimize(objective, n_trials=10)\n",
    "print(study.best_params)\n",
    "print(study.best_value)\n",
    "lr_best_param = study.best_params"
   ]
  },
  {
   "cell_type": "code",
   "execution_count": 182,
   "metadata": {},
   "outputs": [
    {
     "name": "stderr",
     "output_type": "stream",
     "text": [
      "\u001b[32m[I 2020-01-21 20:39:21,286]\u001b[0m Finished trial#0 resulted in value: 0.8342952821826062. Current best value is 0.8342952821826062 with parameters: {'C': 168, 'gamma': 0.0002607742807017676}.\u001b[0m\n",
      "\u001b[32m[I 2020-01-21 20:39:21,484]\u001b[0m Finished trial#1 resulted in value: 0.8146557667684429. Current best value is 0.8342952821826062 with parameters: {'C': 168, 'gamma': 0.0002607742807017676}.\u001b[0m\n",
      "\u001b[32m[I 2020-01-21 20:39:21,678]\u001b[0m Finished trial#2 resulted in value: 0.8174431202600217. Current best value is 0.8342952821826062 with parameters: {'C': 168, 'gamma': 0.0002607742807017676}.\u001b[0m\n",
      "\u001b[32m[I 2020-01-21 20:39:21,872]\u001b[0m Finished trial#3 resulted in value: 0.8399290849995076. Current best value is 0.8399290849995076 with parameters: {'C': 137, 'gamma': 0.008196864738463544}.\u001b[0m\n",
      "\u001b[32m[I 2020-01-21 20:39:22,104]\u001b[0m Finished trial#4 resulted in value: 0.8385107849896581. Current best value is 0.8399290849995076 with parameters: {'C': 137, 'gamma': 0.008196864738463544}.\u001b[0m\n",
      "\u001b[32m[I 2020-01-21 20:39:22,294]\u001b[0m Finished trial#5 resulted in value: 0.8230276765488032. Current best value is 0.8399290849995076 with parameters: {'C': 137, 'gamma': 0.008196864738463544}.\u001b[0m\n",
      "\u001b[32m[I 2020-01-21 20:39:22,492]\u001b[0m Finished trial#6 resulted in value: 0.8132374667585935. Current best value is 0.8399290849995076 with parameters: {'C': 137, 'gamma': 0.008196864738463544}.\u001b[0m\n",
      "\u001b[32m[I 2020-01-21 20:39:22,704]\u001b[0m Finished trial#7 resulted in value: 0.8314882300797795. Current best value is 0.8399290849995076 with parameters: {'C': 137, 'gamma': 0.008196864738463544}.\u001b[0m\n",
      "\u001b[32m[I 2020-01-21 20:39:22,913]\u001b[0m Finished trial#8 resulted in value: 0.8314980793854033. Current best value is 0.8399290849995076 with parameters: {'C': 137, 'gamma': 0.008196864738463544}.\u001b[0m\n",
      "\u001b[32m[I 2020-01-21 20:39:23,077]\u001b[0m Finished trial#9 resulted in value: 0.8328966807840047. Current best value is 0.8399290849995076 with parameters: {'C': 137, 'gamma': 0.008196864738463544}.\u001b[0m\n"
     ]
    },
    {
     "name": "stdout",
     "output_type": "stream",
     "text": [
      "{'C': 137, 'gamma': 0.008196864738463544}\n",
      "0.8399290849995076\n"
     ]
    }
   ],
   "source": [
    "import warnings\n",
    "warnings.filterwarnings('ignore')\n",
    "\n",
    "def objective(trial):\n",
    "    \n",
    "    param_grid_svc = {\n",
    "        'C' : trial.suggest_int(\"C\", 50, 200),\n",
    "        'gamma': trial.suggest_loguniform(\"gamma\", 1e-4, 1.0),\n",
    "        \"random_state\": 0,\n",
    "        'kernel': 'rbf'\n",
    "    }\n",
    "\n",
    "    model = SVC(**param_grid_svc)\n",
    "    \n",
    "    # 5-Fold CV / Accuracy でモデルを評価する\n",
    "    kf = StratifiedKFold(n_splits=5, shuffle=True, random_state=0)\n",
    "    scores = cross_validate(model, X=X_train, y=y_train, cv=kf)\n",
    "    # 最小化なので 1.0 からスコアを引く\n",
    "    return scores['test_score'].mean()\n",
    "\n",
    "study = optuna.create_study(direction='maximize')\n",
    "study.optimize(objective, n_trials=10)\n",
    "print(study.best_params)\n",
    "print(study.best_value)\n",
    "svc_best_param = study.best_params"
   ]
  },
  {
   "cell_type": "markdown",
   "metadata": {},
   "source": [
    "### 汎化性能検証"
   ]
  },
  {
   "cell_type": "code",
   "execution_count": 186,
   "metadata": {},
   "outputs": [
    {
     "name": "stdout",
     "output_type": "stream",
     "text": [
      "RandomForestClassifier\n",
      "====================\n",
      "mean:0.8260247316552632, std:0.014793329171865436\n",
      "====================\n",
      "XGBClassifier\n",
      "====================\n",
      "mean:0.8091896302805852, std:0.01754044707039134\n",
      "====================\n",
      "LGBMClassifier\n",
      "====================\n",
      "mean:0.8192706044818279, std:0.03411615247033993\n",
      "====================\n",
      "LogisticRegression\n",
      "====================\n",
      "mean:0.8204004770573097, std:0.023470908532220384\n",
      "====================\n",
      "SVC\n",
      "====================\n",
      "mean:0.8158998179649739, std:0.025691782403221345\n",
      "====================\n"
     ]
    }
   ],
   "source": [
    "# 5-Fold CV / Accuracy でモデルを評価する\n",
    "kf = StratifiedKFold(n_splits=5, shuffle=True, random_state=0)\n",
    "\n",
    "rfc_best = RandomForestClassifier(**rfc_best_param)\n",
    "print('RandomForestClassifier')\n",
    "print('='*20)\n",
    "scores = cross_validate(rfc_best, X=train_feature, y=train_tagert, cv=kf)\n",
    "print(f'mean:{scores[\"test_score\"].mean()}, std:{scores[\"test_score\"].std()}')\n",
    "print('='*20)\n",
    "\n",
    "xgb_best = XGBClassifier(**xgb_best_param)\n",
    "print('XGBClassifier')\n",
    "print('='*20)\n",
    "scores = cross_validate(xgb_best, X=train_feature, y=train_tagert, cv=kf)\n",
    "print(f'mean:{scores[\"test_score\"].mean()}, std:{scores[\"test_score\"].std()}')\n",
    "print('='*20)\n",
    "\n",
    "lgb_best = LGBMClassifier(**lgb_best_param)\n",
    "print('LGBMClassifier')\n",
    "print('='*20)\n",
    "scores = cross_validate(lgb_best, X=train_feature, y=train_tagert, cv=kf)\n",
    "print(f'mean:{scores[\"test_score\"].mean()}, std:{scores[\"test_score\"].std()}')\n",
    "print('='*20)\n",
    "\n",
    "lr_best = LogisticRegression(**lr_best_param)\n",
    "print('LogisticRegression')\n",
    "print('='*20)\n",
    "scores = cross_validate(lr_best, X=train_feature, y=train_tagert, cv=kf)\n",
    "print(f'mean:{scores[\"test_score\"].mean()}, std:{scores[\"test_score\"].std()}')\n",
    "print('='*20)\n",
    "\n",
    "svc_best = SVC(**svc_best_param)\n",
    "print('SVC')\n",
    "print('='*20)\n",
    "scores = cross_validate(svc_best, X=train_feature, y=train_tagert, cv=kf)\n",
    "print(f'mean:{scores[\"test_score\"].mean()}, std:{scores[\"test_score\"].std()}')\n",
    "print('='*20)"
   ]
  },
  {
   "cell_type": "code",
   "execution_count": 187,
   "metadata": {},
   "outputs": [
    {
     "name": "stdout",
     "output_type": "stream",
     "text": [
      "VotingClassifier\n",
      "====================\n",
      "mean:0.823758709434436, std:0.02340554802689898\n"
     ]
    }
   ],
   "source": [
    "from sklearn.ensemble import VotingClassifier\n",
    "\n",
    "# voting に使う分類器を用意する\n",
    "estimators = [\n",
    "    ('rfc', RandomForestClassifier(**rfc_best_param)),\n",
    "    ('xgb', XGBClassifier(**xgb_best_param)),\n",
    "    ('lgb', LGBMClassifier(**lgb_best_param)),\n",
    "    ('lr', LogisticRegression(**lr_best_param)),\n",
    "    ('svc', SVC(**lr_best_param))\n",
    "]\n",
    "voting = VotingClassifier(estimators)\n",
    "\n",
    "print('VotingClassifier')\n",
    "print('='*20)\n",
    "scores = cross_validate(voting, X=train_feature, y=train_tagert, cv=kf)\n",
    "print(f'mean:{scores[\"test_score\"].mean()}, std:{scores[\"test_score\"].std()}')"
   ]
  },
  {
   "cell_type": "markdown",
   "metadata": {},
   "source": [
    "# 推論"
   ]
  },
  {
   "cell_type": "code",
   "execution_count": 195,
   "metadata": {},
   "outputs": [],
   "source": [
    "# RandomForest\n",
    "rfc_best = RandomForestClassifier(**rfc_best_param)\n",
    "rfc_best.fit(train_feature, train_tagert)\n",
    "# XGBoost\n",
    "xgb_best = XGBClassifier(**xgb_best_param)\n",
    "xgb_best.fit(train_feature, train_tagert)\n",
    "# LightGBM\n",
    "lgb_best = LGBMClassifier(**lgb_best_param)\n",
    "lgb_best.fit(train_feature, train_tagert)\n",
    "# LogisticRegression\n",
    "lr_best = LogisticRegression(**lr_best_param)\n",
    "lr_best.fit(train_feature, train_tagert)\n",
    "# SVC\n",
    "svc_best = SVC(**svc_best_param)\n",
    "svc_best.fit(train_feature, train_tagert)\n",
    "# 推論\n",
    "pred = {\n",
    "    'rfc': rfc_best.predict(test_feature),\n",
    "    'xgb': xgb_best.predict(test_feature),\n",
    "    'lgb': lgb_best.predict(test_feature),\n",
    "    'lr': lr_best.predict(test_feature),\n",
    "    'svc': svc_best.predict(test_feature)\n",
    "}\n",
    "# ファイル出力\n",
    "for key, value in pred.items():\n",
    "    pd.concat(\n",
    "        [\n",
    "            pd.DataFrame(test.PassengerId, columns=['PassengerId']).reset_index(drop=True),\n",
    "            pd.DataFrame(value, columns=['Survived'])\n",
    "        ],\n",
    "        axis=1\n",
    "    ).to_csv(f'output_{key}.csv', index=False)"
   ]
  }
 ],
 "metadata": {
  "kernelspec": {
   "display_name": "Python 3",
   "language": "python",
   "name": "python3"
  },
  "language_info": {
   "codemirror_mode": {
    "name": "ipython",
    "version": 3
   },
   "file_extension": ".py",
   "mimetype": "text/x-python",
   "name": "python",
   "nbconvert_exporter": "python",
   "pygments_lexer": "ipython3",
   "version": "3.7.6"
  }
 },
 "nbformat": 4,
 "nbformat_minor": 4
}
