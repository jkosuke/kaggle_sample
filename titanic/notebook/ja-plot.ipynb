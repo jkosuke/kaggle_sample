{
 "cells": [
  {
   "cell_type": "code",
   "execution_count": 314,
   "metadata": {},
   "outputs": [],
   "source": [
    "import pandas as pd\n",
    "import numpy as np\n",
    "\n",
    "import matplotlib.pyplot as plt\n",
    "import seaborn as sns"
   ]
  },
  {
   "cell_type": "code",
   "execution_count": 315,
   "metadata": {},
   "outputs": [
    {
     "name": "stdout",
     "output_type": "stream",
     "text": [
      "The size of the train data:(891, 12)\n",
      "The size of the test data:(418, 11)\n"
     ]
    }
   ],
   "source": [
    "train_raw = pd.read_csv('../data/processed/train.csv') #学習データ\n",
    "test_raw = pd.read_csv('../data/processed/test.csv') #テストデータ\n",
    "print('The size of the train data:' + str(train_raw.shape))\n",
    "print('The size of the test data:' + str(test_raw.shape))"
   ]
  },
  {
   "cell_type": "code",
   "execution_count": 316,
   "metadata": {},
   "outputs": [],
   "source": [
    "train_mid = train_raw.copy()\n",
    "test_mid = test_raw.copy()\n",
    "train_mid['train_or_test'] = 'Train' #学習データフラグ\n",
    "test_mid['train_or_test'] = 'Test' #テストデータフラグ\n",
    "test_mid['Survived'] = 9 #テストにSurvivedカラムを仮置き\n",
    "\n",
    "alldata = pd.concat(\n",
    "    [\n",
    "        train_mid,\n",
    "        test_mid\n",
    "    ],\n",
    "    sort=False,\n",
    "    axis=0\n",
    ").reset_index(drop=True)"
   ]
  },
  {
   "cell_type": "code",
   "execution_count": 317,
   "metadata": {},
   "outputs": [
    {
     "name": "stdout",
     "output_type": "stream",
     "text": [
      "(1309, 13)\n"
     ]
    },
    {
     "data": {
      "text/html": [
       "<div>\n",
       "<style scoped>\n",
       "    .dataframe tbody tr th:only-of-type {\n",
       "        vertical-align: middle;\n",
       "    }\n",
       "\n",
       "    .dataframe tbody tr th {\n",
       "        vertical-align: top;\n",
       "    }\n",
       "\n",
       "    .dataframe thead th {\n",
       "        text-align: right;\n",
       "    }\n",
       "</style>\n",
       "<table border=\"1\" class=\"dataframe\">\n",
       "  <thead>\n",
       "    <tr style=\"text-align: right;\">\n",
       "      <th></th>\n",
       "      <th>PassengerId</th>\n",
       "      <th>Survived</th>\n",
       "      <th>Pclass</th>\n",
       "      <th>Name</th>\n",
       "      <th>Sex</th>\n",
       "      <th>Age</th>\n",
       "      <th>SibSp</th>\n",
       "      <th>Parch</th>\n",
       "      <th>Ticket</th>\n",
       "      <th>Fare</th>\n",
       "      <th>Cabin</th>\n",
       "      <th>Embarked</th>\n",
       "      <th>train_or_test</th>\n",
       "    </tr>\n",
       "  </thead>\n",
       "  <tbody>\n",
       "    <tr>\n",
       "      <th>0</th>\n",
       "      <td>1</td>\n",
       "      <td>0</td>\n",
       "      <td>3</td>\n",
       "      <td>Braund, Mr. Owen Harris</td>\n",
       "      <td>male</td>\n",
       "      <td>22.0</td>\n",
       "      <td>1</td>\n",
       "      <td>0</td>\n",
       "      <td>A/5 21171</td>\n",
       "      <td>7.2500</td>\n",
       "      <td>NaN</td>\n",
       "      <td>S</td>\n",
       "      <td>Train</td>\n",
       "    </tr>\n",
       "    <tr>\n",
       "      <th>1</th>\n",
       "      <td>2</td>\n",
       "      <td>1</td>\n",
       "      <td>1</td>\n",
       "      <td>Cumings, Mrs. John Bradley (Florence Briggs Th...</td>\n",
       "      <td>female</td>\n",
       "      <td>38.0</td>\n",
       "      <td>1</td>\n",
       "      <td>0</td>\n",
       "      <td>PC 17599</td>\n",
       "      <td>71.2833</td>\n",
       "      <td>C85</td>\n",
       "      <td>C</td>\n",
       "      <td>Train</td>\n",
       "    </tr>\n",
       "    <tr>\n",
       "      <th>2</th>\n",
       "      <td>3</td>\n",
       "      <td>1</td>\n",
       "      <td>3</td>\n",
       "      <td>Heikkinen, Miss. Laina</td>\n",
       "      <td>female</td>\n",
       "      <td>26.0</td>\n",
       "      <td>0</td>\n",
       "      <td>0</td>\n",
       "      <td>STON/O2. 3101282</td>\n",
       "      <td>7.9250</td>\n",
       "      <td>NaN</td>\n",
       "      <td>S</td>\n",
       "      <td>Train</td>\n",
       "    </tr>\n",
       "    <tr>\n",
       "      <th>3</th>\n",
       "      <td>4</td>\n",
       "      <td>1</td>\n",
       "      <td>1</td>\n",
       "      <td>Futrelle, Mrs. Jacques Heath (Lily May Peel)</td>\n",
       "      <td>female</td>\n",
       "      <td>35.0</td>\n",
       "      <td>1</td>\n",
       "      <td>0</td>\n",
       "      <td>113803</td>\n",
       "      <td>53.1000</td>\n",
       "      <td>C123</td>\n",
       "      <td>S</td>\n",
       "      <td>Train</td>\n",
       "    </tr>\n",
       "    <tr>\n",
       "      <th>4</th>\n",
       "      <td>5</td>\n",
       "      <td>0</td>\n",
       "      <td>3</td>\n",
       "      <td>Allen, Mr. William Henry</td>\n",
       "      <td>male</td>\n",
       "      <td>35.0</td>\n",
       "      <td>0</td>\n",
       "      <td>0</td>\n",
       "      <td>373450</td>\n",
       "      <td>8.0500</td>\n",
       "      <td>NaN</td>\n",
       "      <td>S</td>\n",
       "      <td>Train</td>\n",
       "    </tr>\n",
       "  </tbody>\n",
       "</table>\n",
       "</div>"
      ],
      "text/plain": [
       "   PassengerId  Survived  Pclass  \\\n",
       "0            1         0       3   \n",
       "1            2         1       1   \n",
       "2            3         1       3   \n",
       "3            4         1       1   \n",
       "4            5         0       3   \n",
       "\n",
       "                                                Name     Sex   Age  SibSp  \\\n",
       "0                            Braund, Mr. Owen Harris    male  22.0      1   \n",
       "1  Cumings, Mrs. John Bradley (Florence Briggs Th...  female  38.0      1   \n",
       "2                             Heikkinen, Miss. Laina  female  26.0      0   \n",
       "3       Futrelle, Mrs. Jacques Heath (Lily May Peel)  female  35.0      1   \n",
       "4                           Allen, Mr. William Henry    male  35.0      0   \n",
       "\n",
       "   Parch            Ticket     Fare Cabin Embarked train_or_test  \n",
       "0      0         A/5 21171   7.2500   NaN        S         Train  \n",
       "1      0          PC 17599  71.2833   C85        C         Train  \n",
       "2      0  STON/O2. 3101282   7.9250   NaN        S         Train  \n",
       "3      0            113803  53.1000  C123        S         Train  \n",
       "4      0            373450   8.0500   NaN        S         Train  "
      ]
     },
     "execution_count": 317,
     "metadata": {},
     "output_type": "execute_result"
    }
   ],
   "source": [
    "print(alldata.shape)\n",
    "alldata.head()"
   ]
  },
  {
   "cell_type": "code",
   "execution_count": 318,
   "metadata": {},
   "outputs": [
    {
     "data": {
      "text/plain": [
       "4    234\n",
       "1    194\n",
       "6    174\n",
       "C    118\n",
       ".    103\n",
       "3    102\n",
       "5     74\n",
       "7     57\n",
       "9     52\n",
       "8     38\n",
       "/     35\n",
       "2     31\n",
       "O     28\n",
       "T     22\n",
       "A     22\n",
       "       8\n",
       "P      5\n",
       "I      4\n",
       "Q      2\n",
       "0      2\n",
       "E      2\n",
       "W      1\n",
       "a      1\n",
       "Name: Ticket, dtype: int64"
      ]
     },
     "execution_count": 318,
     "metadata": {},
     "output_type": "execute_result"
    }
   ],
   "source": [
    "alldata.Ticket.map(lambda x: x[1]).value_counts()"
   ]
  },
  {
   "cell_type": "code",
   "execution_count": 319,
   "metadata": {},
   "outputs": [],
   "source": [
    "# テストデータの敬称(honorific)を抽出\n",
    "alldata['honorific'] = alldata['Name'].map(lambda x: x.split(', ')[1].split('. ')[0])"
   ]
  },
  {
   "cell_type": "code",
   "execution_count": 320,
   "metadata": {},
   "outputs": [],
   "source": [
    "# Ageを補完\n",
    "for i,v in alldata.groupby(['honorific']):\n",
    "    if v.Age.isnull().sum() > 0:\n",
    "        alldata.loc[(alldata.honorific==i) & alldata.Age.isnull(), 'Age'] = v.Age.mean()"
   ]
  },
  {
   "cell_type": "code",
   "execution_count": 321,
   "metadata": {},
   "outputs": [],
   "source": [
    "# Embarkedには最頻値を代入\n",
    "alldata.Embarked.fillna(alldata.Embarked.mode()[0], inplace=True)\n",
    "# Fareには中央値を代入\n",
    "alldata.Fare.fillna(alldata.Fare.median(), inplace=True)"
   ]
  },
  {
   "cell_type": "code",
   "execution_count": 322,
   "metadata": {},
   "outputs": [
    {
     "data": {
      "text/plain": [
       "<matplotlib.axes._subplots.AxesSubplot at 0x7f1b7e181f90>"
      ]
     },
     "execution_count": 322,
     "metadata": {},
     "output_type": "execute_result"
    },
    {
     "data": {
      "image/png": "[encoded data removed]",
      "text/plain": [
       "<Figure size 1440x720 with 1 Axes>"
      ]
     },
     "metadata": {
      "needs_background": "light"
     },
     "output_type": "display_data"
    },
    {
     "data": {
      "image/png": "[encoded data removed]",
      "text/plain": [
       "<Figure size 1440x720 with 1 Axes>"
      ]
     },
     "metadata": {
      "needs_background": "light"
     },
     "output_type": "display_data"
    }
   ],
   "source": [
    "# Fareを対数変換した後のプロット\n",
    "plt.figure(figsize=(20,10))\n",
    "sns.distplot(alldata.query('train_or_test == \"Train\"').Fare)\n",
    "sns.distplot(alldata.query('train_or_test == \"Test\"').Fare)\n",
    "plt.figure(figsize=(20,10))\n",
    "sns.distplot(np.log1p(alldata.query('train_or_test == \"Train\"').Fare))\n",
    "sns.distplot(np.log1p(alldata.query('train_or_test == \"Test\"').Fare))"
   ]
  },
  {
   "cell_type": "code",
   "execution_count": 323,
   "metadata": {},
   "outputs": [],
   "source": [
    "alldata.loc[:, 'Fare_log'] = np.log1p(alldata.Fare)\n",
    "\n",
    "# print(alldata.query('Fare_log < 2 & train_or_test == \"Train\"').Survived.sum()/len(alldata.query('Fare_log < 2 & train_or_test == \"Train\"')))\n",
    "# print(alldata.query('Fare_log > 4 & train_or_test == \"Train\"').Survived.sum()/len(alldata.query('Fare_log > 4 & train_or_test == \"Train\"')))\n",
    "# print(alldata.query('4 >= Fare_log >= 2 & train_or_test == \"Train\"').Survived.sum()/len(alldata.query('4 >= Fare_log >= 2 & train_or_test == \"Train\"')))"
   ]
  },
  {
   "cell_type": "code",
   "execution_count": 324,
   "metadata": {},
   "outputs": [],
   "source": [
    "# Fareの分割\n",
    "# alldata['Fare_bin'] = 'low'\n",
    "# alldata.loc[alldata['Fare_log']>4, 'Fare_bin'] = 'high'\n",
    "# alldata.loc[(alldata['Fare']>=2) & (alldata['Fare']<=4), 'Fare_bin'] = 'middle'\n",
    "# 敬称(honorific)の加工\n",
    "alldata['honorific'].replace(['Col','Dr', 'Rev'], 'Rare',inplace=True) #少数派の敬称を統合\n",
    "alldata['honorific'].replace('Mlle', 'Miss',inplace=True) #Missに統合\n",
    "alldata['honorific'].replace('Ms', 'Miss',inplace=True) #Missに統合\n",
    "# Familysize\n",
    "alldata['FamilySize'] = alldata['Parch'] + alldata['SibSp'] #ALLデータ\n",
    "# FamilySizeを離散化\n",
    "# alldata['FamilySize_bin'] = 'big'\n",
    "# alldata.loc[alldata['FamilySize']==1,'FamilySize_bin'] = 'alone'\n",
    "# alldata.loc[(alldata['FamilySize']>=2) & (alldata['FamilySize']<=4),'FamilySize_bin'] = 'small'\n",
    "# alldata.loc[(alldata['FamilySize']>=5) & (alldata['FamilySize']<=7),'FamilySize_bin'] = 'mediam'\n",
    "# Cabinの頭文字\n",
    "alldata['Cabin_ini'] = alldata['Cabin'].map(lambda x:str(x)[0])\n",
    "alldata['Cabin_ini'].replace(['G','T'], 'Rare',inplace=True) #少数派のCabin_iniを統合"
   ]
  },
  {
   "cell_type": "code",
   "execution_count": 325,
   "metadata": {},
   "outputs": [],
   "source": [
    "id_col = 'PassengerId'\n",
    "target_col = 'Survived'\n",
    "# feature_cols = ['Pclass', 'Sex', 'Age', 'SibSp','Parch', 'Fare', 'Fare_bin', 'Embarked','honorific', 'FamilySize', 'FamilySize_bin', 'Cabin_ini']\n",
    "# feature_cols = ['Pclass', 'Sex', 'SibSp', 'Fare_bin', 'Embarked','honorific', 'FamilySize_bin', 'Cabin_ini']\n",
    "drop_col = ['PassengerId','Survived', 'Name', 'Fare', 'Ticket', 'Cabin', 'train_or_test', 'Age', 'Parch']"
   ]
  },
  {
   "cell_type": "code",
   "execution_count": 326,
   "metadata": {},
   "outputs": [],
   "source": [
    "# Pclassをオブジェクト型に変換\n",
    "alldata.Pclass = alldata.Pclass.astype('str')"
   ]
  },
  {
   "cell_type": "code",
   "execution_count": 327,
   "metadata": {},
   "outputs": [],
   "source": [
    "# カテゴリカル変数\n",
    "# cat_col = ['Pclass','Sex','Embarked','honorific','Fare_bin','FamilySize_bin','Cabin_ini']\n",
    "cat_col = ['Pclass','Sex','Embarked','honorific','Cabin_ini']"
   ]
  },
  {
   "cell_type": "code",
   "execution_count": 328,
   "metadata": {},
   "outputs": [
    {
     "data": {
      "text/plain": [
       "PassengerId         0\n",
       "Survived            0\n",
       "Pclass              0\n",
       "Name                0\n",
       "Sex                 0\n",
       "Age                 0\n",
       "SibSp               0\n",
       "Parch               0\n",
       "Ticket              0\n",
       "Fare                0\n",
       "Cabin            1014\n",
       "Embarked            0\n",
       "train_or_test       0\n",
       "honorific           0\n",
       "Fare_log            0\n",
       "FamilySize          0\n",
       "Cabin_ini           0\n",
       "dtype: int64"
      ]
     },
     "execution_count": 328,
     "metadata": {},
     "output_type": "execute_result"
    }
   ],
   "source": [
    "# 欠損値補完\n",
    "alldata.isnull().sum()"
   ]
  },
  {
   "cell_type": "code",
   "execution_count": 329,
   "metadata": {},
   "outputs": [],
   "source": [
    "# # カテゴリ特徴量についてラベルエンコーディング\n",
    "# from sklearn.preprocessing import LabelEncoder\n",
    "# le = LabelEncoder()\n",
    "# for col in object_cols:\n",
    "#     alldata.loc[:, col] = le.fit_transform(alldata[col])"
   ]
  },
  {
   "cell_type": "code",
   "execution_count": 330,
   "metadata": {},
   "outputs": [],
   "source": [
    "alldata = pd.get_dummies(alldata, drop_first=True, columns=cat_col)"
   ]
  },
  {
   "cell_type": "code",
   "execution_count": 331,
   "metadata": {},
   "outputs": [
    {
     "data": {
      "text/plain": [
       "Index(['PassengerId', 'Survived', 'Name', 'Age', 'SibSp', 'Parch', 'Ticket',\n",
       "       'Fare', 'Cabin', 'train_or_test', 'Fare_log', 'FamilySize', 'Pclass_2',\n",
       "       'Pclass_3', 'Sex_male', 'Embarked_Q', 'Embarked_S', 'honorific_Don',\n",
       "       'honorific_Dona', 'honorific_Jonkheer', 'honorific_Lady',\n",
       "       'honorific_Major', 'honorific_Master', 'honorific_Miss',\n",
       "       'honorific_Mme', 'honorific_Mr', 'honorific_Mrs', 'honorific_Rare',\n",
       "       'honorific_Sir', 'honorific_the Countess', 'Cabin_ini_B', 'Cabin_ini_C',\n",
       "       'Cabin_ini_D', 'Cabin_ini_E', 'Cabin_ini_F', 'Cabin_ini_Rare',\n",
       "       'Cabin_ini_n'],\n",
       "      dtype='object')"
      ]
     },
     "execution_count": 331,
     "metadata": {},
     "output_type": "execute_result"
    }
   ],
   "source": [
    "alldata.columns"
   ]
  },
  {
   "cell_type": "code",
   "execution_count": 332,
   "metadata": {},
   "outputs": [],
   "source": [
    "train = alldata.query('train_or_test == \"Train\"')\n",
    "test = alldata.query('train_or_test == \"Test\"')"
   ]
  },
  {
   "cell_type": "code",
   "execution_count": 333,
   "metadata": {},
   "outputs": [],
   "source": [
    "from sklearn.model_selection import train_test_split"
   ]
  },
  {
   "cell_type": "code",
   "execution_count": 334,
   "metadata": {},
   "outputs": [],
   "source": [
    "train_feature = train.drop(columns=drop_col)\n",
    "test_feature = test.drop(columns=drop_col)\n",
    "train_tagert = train[target_col]\n",
    "X_train, X_test, y_train, y_test = train_test_split(\n",
    "    train_feature, train_tagert, test_size=0.2, random_state=0, stratify=train_tagert)"
   ]
  },
  {
   "cell_type": "code",
   "execution_count": 335,
   "metadata": {},
   "outputs": [],
   "source": [
    "from sklearn.ensemble import RandomForestClassifier\n",
    "from xgboost import XGBClassifier\n",
    "from lightgbm import LGBMClassifier\n",
    "from sklearn.svm import SVC\n",
    "from sklearn.linear_model import LogisticRegression"
   ]
  },
  {
   "cell_type": "markdown",
   "metadata": {},
   "source": [
    "## ベースライン"
   ]
  },
  {
   "cell_type": "code",
   "execution_count": 336,
   "metadata": {},
   "outputs": [
    {
     "name": "stdout",
     "output_type": "stream",
     "text": [
      "survive rate:0.38342696629213485\n"
     ]
    }
   ],
   "source": [
    "survive_rate = y_train.sum()/len(y_train)\n",
    "print(f'survive rate:{survive_rate}')"
   ]
  },
  {
   "cell_type": "code",
   "execution_count": 337,
   "metadata": {},
   "outputs": [
    {
     "name": "stdout",
     "output_type": "stream",
     "text": [
      "base line accuracy: 0.6165730337078652\n"
     ]
    }
   ],
   "source": [
    "print(f'base line accuracy: {1 - survive_rate}')"
   ]
  },
  {
   "cell_type": "code",
   "execution_count": 338,
   "metadata": {},
   "outputs": [
    {
     "name": "stdout",
     "output_type": "stream",
     "text": [
      "RandomForestClassifier\n",
      "====================\n",
      "accuracy of train set: 0.9424157303370787\n",
      "accuracy of test set: 0.7988826815642458\n"
     ]
    }
   ],
   "source": [
    "rfc = RandomForestClassifier(random_state=0)\n",
    "rfc.fit(X_train, y_train)\n",
    "print('RandomForestClassifier')\n",
    "print('='*20)\n",
    "print(f'accuracy of train set: {rfc.score(X_train, y_train)}')\n",
    "print(f'accuracy of test set: {rfc.score(X_test, y_test)}')"
   ]
  },
  {
   "cell_type": "code",
   "execution_count": 339,
   "metadata": {},
   "outputs": [
    {
     "name": "stdout",
     "output_type": "stream",
     "text": [
      "XGBClassifier\n",
      "====================\n",
      "accuracy of train set: 0.8862359550561798\n",
      "accuracy of train set: 0.8379888268156425\n"
     ]
    }
   ],
   "source": [
    "xgb = XGBClassifier(random_state=0)\n",
    "xgb.fit(X_train, y_train)\n",
    "print('XGBClassifier')\n",
    "print('='*20)\n",
    "print(f'accuracy of train set: {xgb.score(X_train, y_train)}')\n",
    "print(f'accuracy of train set: {xgb.score(X_test, y_test)}')"
   ]
  },
  {
   "cell_type": "code",
   "execution_count": 340,
   "metadata": {},
   "outputs": [
    {
     "name": "stdout",
     "output_type": "stream",
     "text": [
      "LGBMClassifier\n",
      "====================\n",
      "accuracy of train set: 0.901685393258427\n",
      "accuracy of train set: 0.8324022346368715\n"
     ]
    }
   ],
   "source": [
    "lgb = LGBMClassifier(random_state=0)\n",
    "lgb.fit(X_train, y_train)\n",
    "print('LGBMClassifier')\n",
    "print('='*20)\n",
    "print(f'accuracy of train set: {lgb.score(X_train, y_train)}')\n",
    "print(f'accuracy of train set: {lgb.score(X_test, y_test)}')"
   ]
  },
  {
   "cell_type": "code",
   "execution_count": 341,
   "metadata": {},
   "outputs": [
    {
     "name": "stdout",
     "output_type": "stream",
     "text": [
      "SVC\n",
      "====================\n",
      "accuracy of train set: 0.8384831460674157\n",
      "accuracy of train set: 0.8100558659217877\n"
     ]
    }
   ],
   "source": [
    "svc = SVC(random_state=0)\n",
    "svc.fit(X_train, y_train)\n",
    "print('SVC')\n",
    "print('='*20)\n",
    "print(f'accuracy of train set: {svc.score(X_train, y_train)}')\n",
    "print(f'accuracy of train set: {svc.score(X_test, y_test)}')"
   ]
  },
  {
   "cell_type": "code",
   "execution_count": 342,
   "metadata": {},
   "outputs": [
    {
     "name": "stdout",
     "output_type": "stream",
     "text": [
      "LogisticRegression\n",
      "====================\n",
      "accuracy of train set: 0.8300561797752809\n",
      "accuracy of train set: 0.8156424581005587\n"
     ]
    }
   ],
   "source": [
    "lr = LogisticRegression(random_state=0)\n",
    "lr.fit(X_train, y_train)\n",
    "print('LogisticRegression')\n",
    "print('='*20)\n",
    "print(f'accuracy of train set: {lr.score(X_train, y_train)}')\n",
    "print(f'accuracy of train set: {lr.score(X_test, y_test)}')"
   ]
  },
  {
   "cell_type": "code",
   "execution_count": 343,
   "metadata": {},
   "outputs": [],
   "source": [
    "import matplotlib.pyplot as plt"
   ]
  },
  {
   "cell_type": "code",
   "execution_count": 344,
   "metadata": {},
   "outputs": [
    {
     "data": {
      "image/png": "[encoded data removed]",
      "text/plain": [
       "<Figure size 1440x504 with 3 Axes>"
      ]
     },
     "metadata": {
      "needs_background": "light"
     },
     "output_type": "display_data"
    }
   ],
   "source": [
    "model_dict = {'RandomForestClassifier': rfc, 'XGBClassifier': xgb, 'LGBMClassifier': lgb}\n",
    "plt.figure(figsize=(20,7))\n",
    "i = 1\n",
    "for model_nm, model in model_dict.items():\n",
    "    plt.subplot(1,3,i)\n",
    "    plt.barh(X_train.columns, model.feature_importances_, label=model_nm)\n",
    "    plt.title(model_nm)\n",
    "    i += 1"
   ]
  },
  {
   "cell_type": "code",
   "execution_count": 345,
   "metadata": {},
   "outputs": [
    {
     "data": {
      "text/plain": [
       "<BarContainer object of 28 artists>"
      ]
     },
     "execution_count": 345,
     "metadata": {},
     "output_type": "execute_result"
    },
    {
     "data": {
      "image/png": "[encoded data removed]",
      "text/plain": [
       "<Figure size 1440x720 with 1 Axes>"
      ]
     },
     "metadata": {
      "needs_background": "light"
     },
     "output_type": "display_data"
    }
   ],
   "source": [
    "import numpy as np\n",
    "plt.figure(figsize=(20,10))\n",
    "plt.barh(np.array(X_train.columns),lr.coef_[0])"
   ]
  },
  {
   "cell_type": "markdown",
   "metadata": {},
   "source": [
    "# 特徴量選択"
   ]
  },
  {
   "cell_type": "code",
   "execution_count": 347,
   "metadata": {},
   "outputs": [],
   "source": [
    "# from sklearn.linear_model import LogisticRegression\n",
    "# lr = LogisticRegression(random_state=0)\n",
    "# lr.fit(X_train, y_train)\n",
    "# print('LogisticRegression')\n",
    "# print('='*20)\n",
    "# print(f'accuracy of train set: {lr.score(X_train, y_train)}')\n",
    "# print(f'accuracy of train set: {lr.score(X_test, y_test)}')"
   ]
  },
  {
   "cell_type": "markdown",
   "metadata": {},
   "source": [
    "## パラメータチューニング"
   ]
  },
  {
   "cell_type": "code",
   "execution_count": 348,
   "metadata": {},
   "outputs": [],
   "source": [
    "from sklearn.model_selection import StratifiedKFold, cross_validate"
   ]
  },
  {
   "cell_type": "code",
   "execution_count": 349,
   "metadata": {},
   "outputs": [],
   "source": [
    "import optuna"
   ]
  },
  {
   "cell_type": "code",
   "execution_count": 350,
   "metadata": {},
   "outputs": [],
   "source": [
    "cv = 5"
   ]
  },
  {
   "cell_type": "code",
   "execution_count": 351,
   "metadata": {},
   "outputs": [
    {
     "name": "stderr",
     "output_type": "stream",
     "text": [
      "\u001b[32m[I 2020-01-18 07:36:24,149]\u001b[0m Finished trial#0 resulted in value: 0.8300600807643062. Current best value is 0.8300600807643062 with parameters: {'max_depth': 5, 'min_samples_leaf': 4, 'criterion': 'gini'}.\u001b[0m\n",
      "\u001b[32m[I 2020-01-18 07:36:25,675]\u001b[0m Finished trial#1 resulted in value: 0.8328474342558849. Current best value is 0.8328474342558849 with parameters: {'max_depth': 8, 'min_samples_leaf': 2, 'criterion': 'entropy'}.\u001b[0m\n",
      "\u001b[32m[I 2020-01-18 07:36:26,825]\u001b[0m Finished trial#2 resulted in value: 0.825844577957254. Current best value is 0.8328474342558849 with parameters: {'max_depth': 8, 'min_samples_leaf': 2, 'criterion': 'entropy'}.\u001b[0m\n",
      "\u001b[32m[I 2020-01-18 07:36:27,972]\u001b[0m Finished trial#3 resulted in value: 0.8272628779671033. Current best value is 0.8328474342558849 with parameters: {'max_depth': 8, 'min_samples_leaf': 2, 'criterion': 'entropy'}.\u001b[0m\n",
      "\u001b[32m[I 2020-01-18 07:36:29,092]\u001b[0m Finished trial#4 resulted in value: 0.8286516300600807. Current best value is 0.8328474342558849 with parameters: {'max_depth': 8, 'min_samples_leaf': 2, 'criterion': 'entropy'}.\u001b[0m\n",
      "\u001b[32m[I 2020-01-18 07:36:30,049]\u001b[0m Finished trial#5 resulted in value: 0.8104402639613909. Current best value is 0.8328474342558849 with parameters: {'max_depth': 8, 'min_samples_leaf': 2, 'criterion': 'entropy'}.\u001b[0m\n",
      "\u001b[32m[I 2020-01-18 07:36:30,918]\u001b[0m Finished trial#6 resulted in value: 0.8286910272825766. Current best value is 0.8328474342558849 with parameters: {'max_depth': 8, 'min_samples_leaf': 2, 'criterion': 'entropy'}.\u001b[0m\n",
      "\u001b[32m[I 2020-01-18 07:36:31,769]\u001b[0m Finished trial#7 resulted in value: 0.8244952230867723. Current best value is 0.8328474342558849 with parameters: {'max_depth': 8, 'min_samples_leaf': 2, 'criterion': 'entropy'}.\u001b[0m\n",
      "\u001b[32m[I 2020-01-18 07:36:32,644]\u001b[0m Finished trial#8 resulted in value: 0.8286614793657048. Current best value is 0.8328474342558849 with parameters: {'max_depth': 8, 'min_samples_leaf': 2, 'criterion': 'entropy'}.\u001b[0m\n",
      "\u001b[32m[I 2020-01-18 07:36:33,828]\u001b[0m Finished trial#9 resulted in value: 0.8342952821826062. Current best value is 0.8342952821826062 with parameters: {'max_depth': 10, 'min_samples_leaf': 2, 'criterion': 'gini'}.\u001b[0m\n",
      "\u001b[32m[I 2020-01-18 07:36:34,813]\u001b[0m Finished trial#10 resulted in value: 0.823106470993795. Current best value is 0.8342952821826062 with parameters: {'max_depth': 10, 'min_samples_leaf': 2, 'criterion': 'gini'}.\u001b[0m\n",
      "\u001b[32m[I 2020-01-18 07:36:36,055]\u001b[0m Finished trial#11 resulted in value: 0.8328966807840047. Current best value is 0.8342952821826062 with parameters: {'max_depth': 10, 'min_samples_leaf': 2, 'criterion': 'gini'}.\u001b[0m\n",
      "\u001b[32m[I 2020-01-18 07:36:37,043]\u001b[0m Finished trial#12 resulted in value: 0.8328966807840047. Current best value is 0.8342952821826062 with parameters: {'max_depth': 10, 'min_samples_leaf': 2, 'criterion': 'gini'}.\u001b[0m\n",
      "\u001b[32m[I 2020-01-18 07:36:38,142]\u001b[0m Finished trial#13 resulted in value: 0.8314488328572835. Current best value is 0.8342952821826062 with parameters: {'max_depth': 10, 'min_samples_leaf': 2, 'criterion': 'gini'}.\u001b[0m\n",
      "\u001b[32m[I 2020-01-18 07:36:39,194]\u001b[0m Finished trial#14 resulted in value: 0.8286811779769525. Current best value is 0.8342952821826062 with parameters: {'max_depth': 10, 'min_samples_leaf': 2, 'criterion': 'gini'}.\u001b[0m\n",
      "\u001b[32m[I 2020-01-18 07:36:40,286]\u001b[0m Finished trial#15 resulted in value: 0.823106470993795. Current best value is 0.8342952821826062 with parameters: {'max_depth': 10, 'min_samples_leaf': 2, 'criterion': 'gini'}.\u001b[0m\n",
      "\u001b[32m[I 2020-01-18 07:36:41,270]\u001b[0m Finished trial#16 resulted in value: 0.8342558849601105. Current best value is 0.8342952821826062 with parameters: {'max_depth': 10, 'min_samples_leaf': 2, 'criterion': 'gini'}.\u001b[0m\n",
      "\u001b[32m[I 2020-01-18 07:36:42,237]\u001b[0m Finished trial#17 resulted in value: 0.8342558849601105. Current best value is 0.8342952821826062 with parameters: {'max_depth': 10, 'min_samples_leaf': 2, 'criterion': 'gini'}.\u001b[0m\n",
      "\u001b[32m[I 2020-01-18 07:36:43,426]\u001b[0m Finished trial#18 resulted in value: 0.8342558849601105. Current best value is 0.8342952821826062 with parameters: {'max_depth': 10, 'min_samples_leaf': 2, 'criterion': 'gini'}.\u001b[0m\n",
      "\u001b[32m[I 2020-01-18 07:36:44,440]\u001b[0m Finished trial#19 resulted in value: 0.8314685314685313. Current best value is 0.8342952821826062 with parameters: {'max_depth': 10, 'min_samples_leaf': 2, 'criterion': 'gini'}.\u001b[0m\n",
      "\u001b[32m[I 2020-01-18 07:36:45,709]\u001b[0m Finished trial#20 resulted in value: 0.8286516300600809. Current best value is 0.8342952821826062 with parameters: {'max_depth': 10, 'min_samples_leaf': 2, 'criterion': 'gini'}.\u001b[0m\n",
      "\u001b[32m[I 2020-01-18 07:36:46,826]\u001b[0m Finished trial#21 resulted in value: 0.8342558849601105. Current best value is 0.8342952821826062 with parameters: {'max_depth': 10, 'min_samples_leaf': 2, 'criterion': 'gini'}.\u001b[0m\n",
      "\u001b[32m[I 2020-01-18 07:36:48,285]\u001b[0m Finished trial#22 resulted in value: 0.8300502314586822. Current best value is 0.8342952821826062 with parameters: {'max_depth': 10, 'min_samples_leaf': 2, 'criterion': 'gini'}.\u001b[0m\n",
      "\u001b[32m[I 2020-01-18 07:36:49,520]\u001b[0m Finished trial#23 resulted in value: 0.8342460356544864. Current best value is 0.8342952821826062 with parameters: {'max_depth': 10, 'min_samples_leaf': 2, 'criterion': 'gini'}.\u001b[0m\n",
      "\u001b[32m[I 2020-01-18 07:36:50,962]\u001b[0m Finished trial#24 resulted in value: 0.8314586821629074. Current best value is 0.8342952821826062 with parameters: {'max_depth': 10, 'min_samples_leaf': 2, 'criterion': 'gini'}.\u001b[0m\n",
      "\u001b[32m[I 2020-01-18 07:36:51,939]\u001b[0m Finished trial#25 resulted in value: 0.8286516300600809. Current best value is 0.8342952821826062 with parameters: {'max_depth': 10, 'min_samples_leaf': 2, 'criterion': 'gini'}.\u001b[0m\n",
      "\u001b[32m[I 2020-01-18 07:36:52,913]\u001b[0m Finished trial#26 resulted in value: 0.8342460356544864. Current best value is 0.8342952821826062 with parameters: {'max_depth': 10, 'min_samples_leaf': 2, 'criterion': 'gini'}.\u001b[0m\n",
      "\u001b[32m[I 2020-01-18 07:36:53,920]\u001b[0m Finished trial#27 resulted in value: 0.8314488328572835. Current best value is 0.8342952821826062 with parameters: {'max_depth': 10, 'min_samples_leaf': 2, 'criterion': 'gini'}.\u001b[0m\n",
      "\u001b[32m[I 2020-01-18 07:36:55,052]\u001b[0m Finished trial#28 resulted in value: 0.823106470993795. Current best value is 0.8342952821826062 with parameters: {'max_depth': 10, 'min_samples_leaf': 2, 'criterion': 'gini'}.\u001b[0m\n",
      "\u001b[32m[I 2020-01-18 07:36:55,922]\u001b[0m Finished trial#29 resulted in value: 0.8300600807643062. Current best value is 0.8342952821826062 with parameters: {'max_depth': 10, 'min_samples_leaf': 2, 'criterion': 'gini'}.\u001b[0m\n",
      "\u001b[32m[I 2020-01-18 07:36:56,923]\u001b[0m Finished trial#30 resulted in value: 0.8314586821629074. Current best value is 0.8342952821826062 with parameters: {'max_depth': 10, 'min_samples_leaf': 2, 'criterion': 'gini'}.\u001b[0m\n",
      "\u001b[32m[I 2020-01-18 07:36:57,977]\u001b[0m Finished trial#31 resulted in value: 0.8342558849601105. Current best value is 0.8342952821826062 with parameters: {'max_depth': 10, 'min_samples_leaf': 2, 'criterion': 'gini'}.\u001b[0m\n",
      "\u001b[32m[I 2020-01-18 07:36:58,864]\u001b[0m Finished trial#32 resulted in value: 0.8300502314586822. Current best value is 0.8342952821826062 with parameters: {'max_depth': 10, 'min_samples_leaf': 2, 'criterion': 'gini'}.\u001b[0m\n",
      "\u001b[32m[I 2020-01-18 07:36:59,723]\u001b[0m Finished trial#33 resulted in value: 0.8342558849601105. Current best value is 0.8342952821826062 with parameters: {'max_depth': 10, 'min_samples_leaf': 2, 'criterion': 'gini'}.\u001b[0m\n",
      "\u001b[32m[I 2020-01-18 07:37:00,574]\u001b[0m Finished trial#34 resulted in value: 0.8314685314685313. Current best value is 0.8342952821826062 with parameters: {'max_depth': 10, 'min_samples_leaf': 2, 'criterion': 'gini'}.\u001b[0m\n",
      "\u001b[32m[I 2020-01-18 07:37:01,447]\u001b[0m Finished trial#35 resulted in value: 0.8314586821629074. Current best value is 0.8342952821826062 with parameters: {'max_depth': 10, 'min_samples_leaf': 2, 'criterion': 'gini'}.\u001b[0m\n",
      "\u001b[32m[I 2020-01-18 07:37:02,313]\u001b[0m Finished trial#36 resulted in value: 0.8286516300600809. Current best value is 0.8342952821826062 with parameters: {'max_depth': 10, 'min_samples_leaf': 2, 'criterion': 'gini'}.\u001b[0m\n",
      "\u001b[32m[I 2020-01-18 07:37:03,154]\u001b[0m Finished trial#37 resulted in value: 0.8314586821629074. Current best value is 0.8342952821826062 with parameters: {'max_depth': 10, 'min_samples_leaf': 2, 'criterion': 'gini'}.\u001b[0m\n",
      "\u001b[32m[I 2020-01-18 07:37:04,024]\u001b[0m Finished trial#38 resulted in value: 0.8314488328572835. Current best value is 0.8342952821826062 with parameters: {'max_depth': 10, 'min_samples_leaf': 2, 'criterion': 'gini'}.\u001b[0m\n",
      "\u001b[32m[I 2020-01-18 07:37:04,854]\u001b[0m Finished trial#39 resulted in value: 0.8272628779671033. Current best value is 0.8342952821826062 with parameters: {'max_depth': 10, 'min_samples_leaf': 2, 'criterion': 'gini'}.\u001b[0m\n",
      "\u001b[32m[I 2020-01-18 07:37:05,693]\u001b[0m Finished trial#40 resulted in value: 0.823086772382547. Current best value is 0.8342952821826062 with parameters: {'max_depth': 10, 'min_samples_leaf': 2, 'criterion': 'gini'}.\u001b[0m\n",
      "\u001b[32m[I 2020-01-18 07:37:06,539]\u001b[0m Finished trial#41 resulted in value: 0.8300502314586822. Current best value is 0.8342952821826062 with parameters: {'max_depth': 10, 'min_samples_leaf': 2, 'criterion': 'gini'}.\u001b[0m\n",
      "\u001b[32m[I 2020-01-18 07:37:07,399]\u001b[0m Finished trial#42 resulted in value: 0.8342558849601105. Current best value is 0.8342952821826062 with parameters: {'max_depth': 10, 'min_samples_leaf': 2, 'criterion': 'gini'}.\u001b[0m\n",
      "\u001b[32m[I 2020-01-18 07:37:08,263]\u001b[0m Finished trial#43 resulted in value: 0.8342460356544864. Current best value is 0.8342952821826062 with parameters: {'max_depth': 10, 'min_samples_leaf': 2, 'criterion': 'gini'}.\u001b[0m\n",
      "\u001b[32m[I 2020-01-18 07:37:09,107]\u001b[0m Finished trial#44 resulted in value: 0.8342558849601105. Current best value is 0.8342952821826062 with parameters: {'max_depth': 10, 'min_samples_leaf': 2, 'criterion': 'gini'}.\u001b[0m\n",
      "\u001b[32m[I 2020-01-18 07:37:09,995]\u001b[0m Finished trial#45 resulted in value: 0.8314488328572835. Current best value is 0.8342952821826062 with parameters: {'max_depth': 10, 'min_samples_leaf': 2, 'criterion': 'gini'}.\u001b[0m\n",
      "\u001b[32m[I 2020-01-18 07:37:10,836]\u001b[0m Finished trial#46 resulted in value: 0.8314685314685313. Current best value is 0.8342952821826062 with parameters: {'max_depth': 10, 'min_samples_leaf': 2, 'criterion': 'gini'}.\u001b[0m\n",
      "\u001b[32m[I 2020-01-18 07:37:11,686]\u001b[0m Finished trial#47 resulted in value: 0.8314685314685313. Current best value is 0.8342952821826062 with parameters: {'max_depth': 10, 'min_samples_leaf': 2, 'criterion': 'gini'}.\u001b[0m\n",
      "\u001b[32m[I 2020-01-18 07:37:12,536]\u001b[0m Finished trial#48 resulted in value: 0.8286516300600809. Current best value is 0.8342952821826062 with parameters: {'max_depth': 10, 'min_samples_leaf': 2, 'criterion': 'gini'}.\u001b[0m\n",
      "\u001b[32m[I 2020-01-18 07:37:13,398]\u001b[0m Finished trial#49 resulted in value: 0.8314488328572835. Current best value is 0.8342952821826062 with parameters: {'max_depth': 10, 'min_samples_leaf': 2, 'criterion': 'gini'}.\u001b[0m\n",
      "\u001b[32m[I 2020-01-18 07:37:14,228]\u001b[0m Finished trial#50 resulted in value: 0.8104402639613909. Current best value is 0.8342952821826062 with parameters: {'max_depth': 10, 'min_samples_leaf': 2, 'criterion': 'gini'}.\u001b[0m\n",
      "\u001b[32m[I 2020-01-18 07:37:15,086]\u001b[0m Finished trial#51 resulted in value: 0.8342558849601105. Current best value is 0.8342952821826062 with parameters: {'max_depth': 10, 'min_samples_leaf': 2, 'criterion': 'gini'}.\u001b[0m\n",
      "\u001b[32m[I 2020-01-18 07:37:15,936]\u001b[0m Finished trial#52 resulted in value: 0.8342558849601105. Current best value is 0.8342952821826062 with parameters: {'max_depth': 10, 'min_samples_leaf': 2, 'criterion': 'gini'}.\u001b[0m\n",
      "\u001b[32m[I 2020-01-18 07:37:16,802]\u001b[0m Finished trial#53 resulted in value: 0.8342558849601105. Current best value is 0.8342952821826062 with parameters: {'max_depth': 10, 'min_samples_leaf': 2, 'criterion': 'gini'}.\u001b[0m\n",
      "\u001b[32m[I 2020-01-18 07:37:17,656]\u001b[0m Finished trial#54 resulted in value: 0.8300502314586822. Current best value is 0.8342952821826062 with parameters: {'max_depth': 10, 'min_samples_leaf': 2, 'criterion': 'gini'}.\u001b[0m\n",
      "\u001b[32m[I 2020-01-18 07:37:18,517]\u001b[0m Finished trial#55 resulted in value: 0.8342460356544864. Current best value is 0.8342952821826062 with parameters: {'max_depth': 10, 'min_samples_leaf': 2, 'criterion': 'gini'}.\u001b[0m\n",
      "\u001b[32m[I 2020-01-18 07:37:19,397]\u001b[0m Finished trial#56 resulted in value: 0.8342558849601105. Current best value is 0.8342952821826062 with parameters: {'max_depth': 10, 'min_samples_leaf': 2, 'criterion': 'gini'}.\u001b[0m\n",
      "\u001b[32m[I 2020-01-18 07:37:20,262]\u001b[0m Finished trial#57 resulted in value: 0.832867132867133. Current best value is 0.8342952821826062 with parameters: {'max_depth': 10, 'min_samples_leaf': 2, 'criterion': 'gini'}.\u001b[0m\n",
      "\u001b[32m[I 2020-01-18 07:37:21,126]\u001b[0m Finished trial#58 resulted in value: 0.8314488328572835. Current best value is 0.8342952821826062 with parameters: {'max_depth': 10, 'min_samples_leaf': 2, 'criterion': 'gini'}.\u001b[0m\n",
      "\u001b[32m[I 2020-01-18 07:37:21,956]\u001b[0m Finished trial#59 resulted in value: 0.8202698709740963. Current best value is 0.8342952821826062 with parameters: {'max_depth': 10, 'min_samples_leaf': 2, 'criterion': 'gini'}.\u001b[0m\n",
      "\u001b[32m[I 2020-01-18 07:37:22,823]\u001b[0m Finished trial#60 resulted in value: 0.8342460356544864. Current best value is 0.8342952821826062 with parameters: {'max_depth': 10, 'min_samples_leaf': 2, 'criterion': 'gini'}.\u001b[0m\n",
      "\u001b[32m[I 2020-01-18 07:37:23,692]\u001b[0m Finished trial#61 resulted in value: 0.8300502314586822. Current best value is 0.8342952821826062 with parameters: {'max_depth': 10, 'min_samples_leaf': 2, 'criterion': 'gini'}.\u001b[0m\n",
      "\u001b[32m[I 2020-01-18 07:37:24,559]\u001b[0m Finished trial#62 resulted in value: 0.8342558849601105. Current best value is 0.8342952821826062 with parameters: {'max_depth': 10, 'min_samples_leaf': 2, 'criterion': 'gini'}.\u001b[0m\n",
      "\u001b[32m[I 2020-01-18 07:37:25,424]\u001b[0m Finished trial#63 resulted in value: 0.8342558849601105. Current best value is 0.8342952821826062 with parameters: {'max_depth': 10, 'min_samples_leaf': 2, 'criterion': 'gini'}.\u001b[0m\n",
      "\u001b[32m[I 2020-01-18 07:37:26,309]\u001b[0m Finished trial#64 resulted in value: 0.8342558849601105. Current best value is 0.8342952821826062 with parameters: {'max_depth': 10, 'min_samples_leaf': 2, 'criterion': 'gini'}.\u001b[0m\n",
      "\u001b[32m[I 2020-01-18 07:37:27,157]\u001b[0m Finished trial#65 resulted in value: 0.8300502314586822. Current best value is 0.8342952821826062 with parameters: {'max_depth': 10, 'min_samples_leaf': 2, 'criterion': 'gini'}.\u001b[0m\n",
      "\u001b[32m[I 2020-01-18 07:37:28,041]\u001b[0m Finished trial#66 resulted in value: 0.8342460356544864. Current best value is 0.8342952821826062 with parameters: {'max_depth': 10, 'min_samples_leaf': 2, 'criterion': 'gini'}.\u001b[0m\n",
      "\u001b[32m[I 2020-01-18 07:37:28,891]\u001b[0m Finished trial#67 resulted in value: 0.8314685314685313. Current best value is 0.8342952821826062 with parameters: {'max_depth': 10, 'min_samples_leaf': 2, 'criterion': 'gini'}.\u001b[0m\n",
      "\u001b[32m[I 2020-01-18 07:37:29,750]\u001b[0m Finished trial#68 resulted in value: 0.8286516300600809. Current best value is 0.8342952821826062 with parameters: {'max_depth': 10, 'min_samples_leaf': 2, 'criterion': 'gini'}.\u001b[0m\n",
      "\u001b[32m[I 2020-01-18 07:37:30,600]\u001b[0m Finished trial#69 resulted in value: 0.8342558849601105. Current best value is 0.8342952821826062 with parameters: {'max_depth': 10, 'min_samples_leaf': 2, 'criterion': 'gini'}.\u001b[0m\n",
      "\u001b[32m[I 2020-01-18 07:37:31,487]\u001b[0m Finished trial#70 resulted in value: 0.8328572835615089. Current best value is 0.8342952821826062 with parameters: {'max_depth': 10, 'min_samples_leaf': 2, 'criterion': 'gini'}.\u001b[0m\n",
      "\u001b[32m[I 2020-01-18 07:37:32,337]\u001b[0m Finished trial#71 resulted in value: 0.8342558849601105. Current best value is 0.8342952821826062 with parameters: {'max_depth': 10, 'min_samples_leaf': 2, 'criterion': 'gini'}.\u001b[0m\n",
      "\u001b[32m[I 2020-01-18 07:37:33,190]\u001b[0m Finished trial#72 resulted in value: 0.8342558849601105. Current best value is 0.8342952821826062 with parameters: {'max_depth': 10, 'min_samples_leaf': 2, 'criterion': 'gini'}.\u001b[0m\n",
      "\u001b[32m[I 2020-01-18 07:37:34,065]\u001b[0m Finished trial#73 resulted in value: 0.8342558849601105. Current best value is 0.8342952821826062 with parameters: {'max_depth': 10, 'min_samples_leaf': 2, 'criterion': 'gini'}.\u001b[0m\n",
      "\u001b[32m[I 2020-01-18 07:37:34,911]\u001b[0m Finished trial#74 resulted in value: 0.8300502314586822. Current best value is 0.8342952821826062 with parameters: {'max_depth': 10, 'min_samples_leaf': 2, 'criterion': 'gini'}.\u001b[0m\n",
      "\u001b[32m[I 2020-01-18 07:37:35,778]\u001b[0m Finished trial#75 resulted in value: 0.8314488328572835. Current best value is 0.8342952821826062 with parameters: {'max_depth': 10, 'min_samples_leaf': 2, 'criterion': 'gini'}.\u001b[0m\n",
      "\u001b[32m[I 2020-01-18 07:37:36,720]\u001b[0m Finished trial#76 resulted in value: 0.8314685314685313. Current best value is 0.8342952821826062 with parameters: {'max_depth': 10, 'min_samples_leaf': 2, 'criterion': 'gini'}.\u001b[0m\n",
      "\u001b[32m[I 2020-01-18 07:37:37,585]\u001b[0m Finished trial#77 resulted in value: 0.8314685314685313. Current best value is 0.8342952821826062 with parameters: {'max_depth': 10, 'min_samples_leaf': 2, 'criterion': 'gini'}.\u001b[0m\n",
      "\u001b[32m[I 2020-01-18 07:37:38,438]\u001b[0m Finished trial#78 resulted in value: 0.8342558849601105. Current best value is 0.8342952821826062 with parameters: {'max_depth': 10, 'min_samples_leaf': 2, 'criterion': 'gini'}.\u001b[0m\n",
      "\u001b[32m[I 2020-01-18 07:37:39,281]\u001b[0m Finished trial#79 resulted in value: 0.8300502314586822. Current best value is 0.8342952821826062 with parameters: {'max_depth': 10, 'min_samples_leaf': 2, 'criterion': 'gini'}.\u001b[0m\n",
      "\u001b[32m[I 2020-01-18 07:37:40,148]\u001b[0m Finished trial#80 resulted in value: 0.8314685314685313. Current best value is 0.8342952821826062 with parameters: {'max_depth': 10, 'min_samples_leaf': 2, 'criterion': 'gini'}.\u001b[0m\n",
      "\u001b[32m[I 2020-01-18 07:37:41,044]\u001b[0m Finished trial#81 resulted in value: 0.8342558849601105. Current best value is 0.8342952821826062 with parameters: {'max_depth': 10, 'min_samples_leaf': 2, 'criterion': 'gini'}.\u001b[0m\n",
      "\u001b[32m[I 2020-01-18 07:37:41,918]\u001b[0m Finished trial#82 resulted in value: 0.8342558849601105. Current best value is 0.8342952821826062 with parameters: {'max_depth': 10, 'min_samples_leaf': 2, 'criterion': 'gini'}.\u001b[0m\n",
      "\u001b[32m[I 2020-01-18 07:37:42,809]\u001b[0m Finished trial#83 resulted in value: 0.8342558849601105. Current best value is 0.8342952821826062 with parameters: {'max_depth': 10, 'min_samples_leaf': 2, 'criterion': 'gini'}.\u001b[0m\n",
      "\u001b[32m[I 2020-01-18 07:37:43,701]\u001b[0m Finished trial#84 resulted in value: 0.8342558849601105. Current best value is 0.8342952821826062 with parameters: {'max_depth': 10, 'min_samples_leaf': 2, 'criterion': 'gini'}.\u001b[0m\n",
      "\u001b[32m[I 2020-01-18 07:37:44,554]\u001b[0m Finished trial#85 resulted in value: 0.8342558849601105. Current best value is 0.8342952821826062 with parameters: {'max_depth': 10, 'min_samples_leaf': 2, 'criterion': 'gini'}.\u001b[0m\n",
      "\u001b[32m[I 2020-01-18 07:37:45,416]\u001b[0m Finished trial#86 resulted in value: 0.8342558849601105. Current best value is 0.8342952821826062 with parameters: {'max_depth': 10, 'min_samples_leaf': 2, 'criterion': 'gini'}.\u001b[0m\n",
      "\u001b[32m[I 2020-01-18 07:37:46,269]\u001b[0m Finished trial#87 resulted in value: 0.8300502314586822. Current best value is 0.8342952821826062 with parameters: {'max_depth': 10, 'min_samples_leaf': 2, 'criterion': 'gini'}.\u001b[0m\n",
      "\u001b[32m[I 2020-01-18 07:37:47,130]\u001b[0m Finished trial#88 resulted in value: 0.8342460356544864. Current best value is 0.8342952821826062 with parameters: {'max_depth': 10, 'min_samples_leaf': 2, 'criterion': 'gini'}.\u001b[0m\n",
      "\u001b[32m[I 2020-01-18 07:37:48,010]\u001b[0m Finished trial#89 resulted in value: 0.837092484979809. Current best value is 0.837092484979809 with parameters: {'max_depth': 9, 'min_samples_leaf': 2, 'criterion': 'gini'}.\u001b[0m\n",
      "\u001b[32m[I 2020-01-18 07:37:48,877]\u001b[0m Finished trial#90 resulted in value: 0.8342952821826062. Current best value is 0.837092484979809 with parameters: {'max_depth': 9, 'min_samples_leaf': 2, 'criterion': 'gini'}.\u001b[0m\n",
      "\u001b[32m[I 2020-01-18 07:37:49,747]\u001b[0m Finished trial#91 resulted in value: 0.8342952821826062. Current best value is 0.837092484979809 with parameters: {'max_depth': 9, 'min_samples_leaf': 2, 'criterion': 'gini'}.\u001b[0m\n",
      "\u001b[32m[I 2020-01-18 07:37:50,611]\u001b[0m Finished trial#92 resulted in value: 0.8342952821826062. Current best value is 0.837092484979809 with parameters: {'max_depth': 9, 'min_samples_leaf': 2, 'criterion': 'gini'}.\u001b[0m\n",
      "\u001b[32m[I 2020-01-18 07:37:51,475]\u001b[0m Finished trial#93 resulted in value: 0.8342952821826062. Current best value is 0.837092484979809 with parameters: {'max_depth': 9, 'min_samples_leaf': 2, 'criterion': 'gini'}.\u001b[0m\n",
      "\u001b[32m[I 2020-01-18 07:37:52,345]\u001b[0m Finished trial#94 resulted in value: 0.8342952821826062. Current best value is 0.837092484979809 with parameters: {'max_depth': 9, 'min_samples_leaf': 2, 'criterion': 'gini'}.\u001b[0m\n",
      "\u001b[32m[I 2020-01-18 07:37:53,229]\u001b[0m Finished trial#95 resulted in value: 0.8342952821826062. Current best value is 0.837092484979809 with parameters: {'max_depth': 9, 'min_samples_leaf': 2, 'criterion': 'gini'}.\u001b[0m\n",
      "\u001b[32m[I 2020-01-18 07:37:54,098]\u001b[0m Finished trial#96 resulted in value: 0.8342952821826062. Current best value is 0.837092484979809 with parameters: {'max_depth': 9, 'min_samples_leaf': 2, 'criterion': 'gini'}.\u001b[0m\n",
      "\u001b[32m[I 2020-01-18 07:37:54,969]\u001b[0m Finished trial#97 resulted in value: 0.8342952821826062. Current best value is 0.837092484979809 with parameters: {'max_depth': 9, 'min_samples_leaf': 2, 'criterion': 'gini'}.\u001b[0m\n",
      "\u001b[32m[I 2020-01-18 07:37:55,863]\u001b[0m Finished trial#98 resulted in value: 0.8342952821826062. Current best value is 0.837092484979809 with parameters: {'max_depth': 9, 'min_samples_leaf': 2, 'criterion': 'gini'}.\u001b[0m\n",
      "\u001b[32m[I 2020-01-18 07:37:56,769]\u001b[0m Finished trial#99 resulted in value: 0.8328966807840047. Current best value is 0.837092484979809 with parameters: {'max_depth': 9, 'min_samples_leaf': 2, 'criterion': 'gini'}.\u001b[0m\n"
     ]
    },
    {
     "name": "stdout",
     "output_type": "stream",
     "text": [
      "{'max_depth': 9, 'min_samples_leaf': 2, 'criterion': 'gini'}\n",
      "0.837092484979809\n"
     ]
    }
   ],
   "source": [
    "def objective(trial):\n",
    "    # \"n_estimators\":trial.suggest_int(\"n_estimators\", 50, 200),\n",
    "    #\n",
    "    param_grid_rfc = {\n",
    "        \"max_depth\": trial.suggest_int(\"max_depth\", 2, 10),\n",
    "        \"min_samples_leaf\": trial.suggest_int(\"min_samples_leaf\", 1, 5),\n",
    "        \"criterion\": trial.suggest_categorical(\"criterion\", [\"gini\", \"entropy\"]),\n",
    "        \"random_state\": 0\n",
    "    }\n",
    "\n",
    "    model = RandomForestClassifier(**param_grid_rfc)\n",
    "    \n",
    "    # 5-Fold CV / Accuracy でモデルを評価する\n",
    "    kf = StratifiedKFold(n_splits=5, shuffle=True, random_state=0)\n",
    "    scores = cross_validate(model, X=X_train, y=y_train, cv=kf)\n",
    "    # 最小化なので 1.0 からスコアを引く\n",
    "    return scores['test_score'].mean()\n",
    "\n",
    "study = optuna.create_study(direction='maximize')\n",
    "study.optimize(objective, n_trials=100)\n",
    "print(study.best_params)\n",
    "print(study.best_value)\n",
    "rfc_best_param = study.best_params"
   ]
  },
  {
   "cell_type": "code",
   "execution_count": 352,
   "metadata": {},
   "outputs": [
    {
     "name": "stderr",
     "output_type": "stream",
     "text": [
      "\u001b[32m[I 2020-01-18 07:37:57,224]\u001b[0m Finished trial#0 resulted in value: 0.8314783807741554. Current best value is 0.8314783807741554 with parameters: {'min_child_weight': 2, 'gamma': 0.8, 'subsample': 0.6, 'colsample_bytree': 0.9, 'max_depth': 3}.\u001b[0m\n",
      "\u001b[32m[I 2020-01-18 07:37:57,636]\u001b[0m Finished trial#1 resulted in value: 0.8244558258642766. Current best value is 0.8314783807741554 with parameters: {'min_child_weight': 2, 'gamma': 0.8, 'subsample': 0.6, 'colsample_bytree': 0.9, 'max_depth': 3}.\u001b[0m\n",
      "\u001b[32m[I 2020-01-18 07:37:58,078]\u001b[0m Finished trial#2 resulted in value: 0.8286713286713286. Current best value is 0.8314783807741554 with parameters: {'min_child_weight': 2, 'gamma': 0.8, 'subsample': 0.6, 'colsample_bytree': 0.9, 'max_depth': 3}.\u001b[0m\n",
      "\u001b[32m[I 2020-01-18 07:37:58,688]\u001b[0m Finished trial#3 resulted in value: 0.8272333300502315. Current best value is 0.8314783807741554 with parameters: {'min_child_weight': 2, 'gamma': 0.8, 'subsample': 0.6, 'colsample_bytree': 0.9, 'max_depth': 3}.\u001b[0m\n",
      "\u001b[32m[I 2020-01-18 07:37:59,241]\u001b[0m Finished trial#4 resulted in value: 0.8272530286614794. Current best value is 0.8314783807741554 with parameters: {'min_child_weight': 2, 'gamma': 0.8, 'subsample': 0.6, 'colsample_bytree': 0.9, 'max_depth': 3}.\u001b[0m\n",
      "\u001b[32m[I 2020-01-18 07:37:59,784]\u001b[0m Finished trial#5 resulted in value: 0.8356938835812076. Current best value is 0.8356938835812076 with parameters: {'min_child_weight': 5, 'gamma': 0.5, 'subsample': 0.9, 'colsample_bytree': 0.9, 'max_depth': 10}.\u001b[0m\n",
      "\u001b[32m[I 2020-01-18 07:38:00,282]\u001b[0m Finished trial#6 resulted in value: 0.8202698709740963. Current best value is 0.8356938835812076 with parameters: {'min_child_weight': 5, 'gamma': 0.5, 'subsample': 0.9, 'colsample_bytree': 0.9, 'max_depth': 10}.\u001b[0m\n",
      "\u001b[32m[I 2020-01-18 07:38:00,916]\u001b[0m Finished trial#7 resulted in value: 0.8384319905446667. Current best value is 0.8384319905446667 with parameters: {'min_child_weight': 1, 'gamma': 0.5, 'subsample': 1.0, 'colsample_bytree': 0.8, 'max_depth': 9}.\u001b[0m\n",
      "\u001b[32m[I 2020-01-18 07:38:01,414]\u001b[0m Finished trial#8 resulted in value: 0.8300502314586822. Current best value is 0.8384319905446667 with parameters: {'min_child_weight': 1, 'gamma': 0.5, 'subsample': 1.0, 'colsample_bytree': 0.8, 'max_depth': 9}.\u001b[0m\n",
      "\u001b[32m[I 2020-01-18 07:38:01,864]\u001b[0m Finished trial#9 resulted in value: 0.8412882891756132. Current best value is 0.8412882891756132 with parameters: {'min_child_weight': 2, 'gamma': 0.4, 'subsample': 0.6, 'colsample_bytree': 0.6, 'max_depth': 5}.\u001b[0m\n",
      "\u001b[32m[I 2020-01-18 07:38:02,392]\u001b[0m Finished trial#10 resulted in value: 0.83430513148823. Current best value is 0.8412882891756132 with parameters: {'min_child_weight': 2, 'gamma': 0.4, 'subsample': 0.6, 'colsample_bytree': 0.6, 'max_depth': 5}.\u001b[0m\n",
      "\u001b[32m[I 2020-01-18 07:38:03,080]\u001b[0m Finished trial#11 resulted in value: 0.8230375258544272. Current best value is 0.8412882891756132 with parameters: {'min_child_weight': 2, 'gamma': 0.4, 'subsample': 0.6, 'colsample_bytree': 0.6, 'max_depth': 5}.\u001b[0m\n",
      "\u001b[32m[I 2020-01-18 07:38:03,764]\u001b[0m Finished trial#12 resulted in value: 0.8216487737614498. Current best value is 0.8412882891756132 with parameters: {'min_child_weight': 2, 'gamma': 0.4, 'subsample': 0.6, 'colsample_bytree': 0.6, 'max_depth': 5}.\u001b[0m\n",
      "\u001b[32m[I 2020-01-18 07:38:04,317]\u001b[0m Finished trial#13 resulted in value: 0.8426868905742145. Current best value is 0.8426868905742145 with parameters: {'min_child_weight': 2, 'gamma': 0.30000000000000004, 'subsample': 0.5, 'colsample_bytree': 1.0, 'max_depth': 5}.\u001b[0m\n",
      "\u001b[32m[I 2020-01-18 07:38:04,857]\u001b[0m Finished trial#14 resulted in value: 0.841307987786861. Current best value is 0.8426868905742145 with parameters: {'min_child_weight': 2, 'gamma': 0.30000000000000004, 'subsample': 0.5, 'colsample_bytree': 1.0, 'max_depth': 5}.\u001b[0m\n",
      "\u001b[32m[I 2020-01-18 07:38:05,298]\u001b[0m Finished trial#15 resulted in value: 0.8328868314783808. Current best value is 0.8426868905742145 with parameters: {'min_child_weight': 2, 'gamma': 0.30000000000000004, 'subsample': 0.5, 'colsample_bytree': 1.0, 'max_depth': 5}.\u001b[0m\n",
      "\u001b[32m[I 2020-01-18 07:38:05,738]\u001b[0m Finished trial#16 resulted in value: 0.8342952821826062. Current best value is 0.8426868905742145 with parameters: {'min_child_weight': 2, 'gamma': 0.30000000000000004, 'subsample': 0.5, 'colsample_bytree': 1.0, 'max_depth': 5}.\u001b[0m\n",
      "\u001b[32m[I 2020-01-18 07:38:06,151]\u001b[0m Finished trial#17 resulted in value: 0.8258741258741258. Current best value is 0.8426868905742145 with parameters: {'min_child_weight': 2, 'gamma': 0.30000000000000004, 'subsample': 0.5, 'colsample_bytree': 1.0, 'max_depth': 5}.\u001b[0m\n",
      "\u001b[32m[I 2020-01-18 07:38:06,565]\u001b[0m Finished trial#18 resulted in value: 0.8314586821629074. Current best value is 0.8426868905742145 with parameters: {'min_child_weight': 2, 'gamma': 0.30000000000000004, 'subsample': 0.5, 'colsample_bytree': 1.0, 'max_depth': 5}.\u001b[0m\n",
      "\u001b[32m[I 2020-01-18 07:38:07,018]\u001b[0m Finished trial#19 resulted in value: 0.8300994779868021. Current best value is 0.8426868905742145 with parameters: {'min_child_weight': 2, 'gamma': 0.30000000000000004, 'subsample': 0.5, 'colsample_bytree': 1.0, 'max_depth': 5}.\u001b[0m\n",
      "\u001b[32m[I 2020-01-18 07:38:07,469]\u001b[0m Finished trial#20 resulted in value: 0.8342755835713582. Current best value is 0.8426868905742145 with parameters: {'min_child_weight': 2, 'gamma': 0.30000000000000004, 'subsample': 0.5, 'colsample_bytree': 1.0, 'max_depth': 5}.\u001b[0m\n",
      "\u001b[32m[I 2020-01-18 07:38:07,910]\u001b[0m Finished trial#21 resulted in value: 0.8258741258741258. Current best value is 0.8426868905742145 with parameters: {'min_child_weight': 2, 'gamma': 0.30000000000000004, 'subsample': 0.5, 'colsample_bytree': 1.0, 'max_depth': 5}.\u001b[0m\n",
      "\u001b[32m[I 2020-01-18 07:38:08,329]\u001b[0m Finished trial#22 resulted in value: 0.8258741258741258. Current best value is 0.8426868905742145 with parameters: {'min_child_weight': 2, 'gamma': 0.30000000000000004, 'subsample': 0.5, 'colsample_bytree': 1.0, 'max_depth': 5}.\u001b[0m\n",
      "\u001b[32m[I 2020-01-18 07:38:08,739]\u001b[0m Finished trial#23 resulted in value: 0.8230670737712991. Current best value is 0.8426868905742145 with parameters: {'min_child_weight': 2, 'gamma': 0.30000000000000004, 'subsample': 0.5, 'colsample_bytree': 1.0, 'max_depth': 5}.\u001b[0m\n",
      "\u001b[32m[I 2020-01-18 07:38:09,181]\u001b[0m Finished trial#24 resulted in value: 0.8258741258741258. Current best value is 0.8426868905742145 with parameters: {'min_child_weight': 2, 'gamma': 0.30000000000000004, 'subsample': 0.5, 'colsample_bytree': 1.0, 'max_depth': 5}.\u001b[0m\n",
      "\u001b[32m[I 2020-01-18 07:38:09,649]\u001b[0m Finished trial#25 resulted in value: 0.8272825765783512. Current best value is 0.8426868905742145 with parameters: {'min_child_weight': 2, 'gamma': 0.30000000000000004, 'subsample': 0.5, 'colsample_bytree': 1.0, 'max_depth': 5}.\u001b[0m\n",
      "\u001b[32m[I 2020-01-18 07:38:10,014]\u001b[0m Finished trial#26 resulted in value: 0.8356938835812076. Current best value is 0.8426868905742145 with parameters: {'min_child_weight': 2, 'gamma': 0.30000000000000004, 'subsample': 0.5, 'colsample_bytree': 1.0, 'max_depth': 5}.\u001b[0m\n",
      "\u001b[32m[I 2020-01-18 07:38:10,423]\u001b[0m Finished trial#27 resulted in value: 0.8356840342755836. Current best value is 0.8426868905742145 with parameters: {'min_child_weight': 2, 'gamma': 0.30000000000000004, 'subsample': 0.5, 'colsample_bytree': 1.0, 'max_depth': 5}.\u001b[0m\n",
      "\u001b[32m[I 2020-01-18 07:38:10,906]\u001b[0m Finished trial#28 resulted in value: 0.834295282182606. Current best value is 0.8426868905742145 with parameters: {'min_child_weight': 2, 'gamma': 0.30000000000000004, 'subsample': 0.5, 'colsample_bytree': 1.0, 'max_depth': 5}.\u001b[0m\n",
      "\u001b[32m[I 2020-01-18 07:38:11,269]\u001b[0m Finished trial#29 resulted in value: 0.8300699300699301. Current best value is 0.8426868905742145 with parameters: {'min_child_weight': 2, 'gamma': 0.30000000000000004, 'subsample': 0.5, 'colsample_bytree': 1.0, 'max_depth': 5}.\u001b[0m\n",
      "\u001b[32m[I 2020-01-18 07:38:11,700]\u001b[0m Finished trial#30 resulted in value: 0.8385009356840343. Current best value is 0.8426868905742145 with parameters: {'min_child_weight': 2, 'gamma': 0.30000000000000004, 'subsample': 0.5, 'colsample_bytree': 1.0, 'max_depth': 5}.\u001b[0m\n",
      "\u001b[32m[I 2020-01-18 07:38:12,129]\u001b[0m Finished trial#31 resulted in value: 0.8385009356840343. Current best value is 0.8426868905742145 with parameters: {'min_child_weight': 2, 'gamma': 0.30000000000000004, 'subsample': 0.5, 'colsample_bytree': 1.0, 'max_depth': 5}.\u001b[0m\n",
      "\u001b[32m[I 2020-01-18 07:38:12,614]\u001b[0m Finished trial#32 resulted in value: 0.837092484979809. Current best value is 0.8426868905742145 with parameters: {'min_child_weight': 2, 'gamma': 0.30000000000000004, 'subsample': 0.5, 'colsample_bytree': 1.0, 'max_depth': 5}.\u001b[0m\n",
      "\u001b[32m[I 2020-01-18 07:38:13,049]\u001b[0m Finished trial#33 resulted in value: 0.8328769821727569. Current best value is 0.8426868905742145 with parameters: {'min_child_weight': 2, 'gamma': 0.30000000000000004, 'subsample': 0.5, 'colsample_bytree': 1.0, 'max_depth': 5}.\u001b[0m\n",
      "\u001b[32m[I 2020-01-18 07:38:13,458]\u001b[0m Finished trial#34 resulted in value: 0.8371023342854329. Current best value is 0.8426868905742145 with parameters: {'min_child_weight': 2, 'gamma': 0.30000000000000004, 'subsample': 0.5, 'colsample_bytree': 1.0, 'max_depth': 5}.\u001b[0m\n",
      "\u001b[32m[I 2020-01-18 07:38:13,823]\u001b[0m Finished trial#35 resulted in value: 0.8328671328671329. Current best value is 0.8426868905742145 with parameters: {'min_child_weight': 2, 'gamma': 0.30000000000000004, 'subsample': 0.5, 'colsample_bytree': 1.0, 'max_depth': 5}.\u001b[0m\n",
      "\u001b[32m[I 2020-01-18 07:38:14,280]\u001b[0m Finished trial#36 resulted in value: 0.8342854328769823. Current best value is 0.8426868905742145 with parameters: {'min_child_weight': 2, 'gamma': 0.30000000000000004, 'subsample': 0.5, 'colsample_bytree': 1.0, 'max_depth': 5}.\u001b[0m\n",
      "\u001b[32m[I 2020-01-18 07:38:14,716]\u001b[0m Finished trial#37 resulted in value: 0.8328769821727569. Current best value is 0.8426868905742145 with parameters: {'min_child_weight': 2, 'gamma': 0.30000000000000004, 'subsample': 0.5, 'colsample_bytree': 1.0, 'max_depth': 5}.\u001b[0m\n",
      "\u001b[32m[I 2020-01-18 07:38:15,122]\u001b[0m Finished trial#38 resulted in value: 0.8272333300502315. Current best value is 0.8426868905742145 with parameters: {'min_child_weight': 2, 'gamma': 0.30000000000000004, 'subsample': 0.5, 'colsample_bytree': 1.0, 'max_depth': 5}.\u001b[0m\n",
      "\u001b[32m[I 2020-01-18 07:38:15,583]\u001b[0m Finished trial#39 resulted in value: 0.8342952821826062. Current best value is 0.8426868905742145 with parameters: {'min_child_weight': 2, 'gamma': 0.30000000000000004, 'subsample': 0.5, 'colsample_bytree': 1.0, 'max_depth': 5}.\u001b[0m\n",
      "\u001b[32m[I 2020-01-18 07:38:16,111]\u001b[0m Finished trial#40 resulted in value: 0.8258642765685019. Current best value is 0.8426868905742145 with parameters: {'min_child_weight': 2, 'gamma': 0.30000000000000004, 'subsample': 0.5, 'colsample_bytree': 1.0, 'max_depth': 5}.\u001b[0m\n",
      "\u001b[32m[I 2020-01-18 07:38:16,556]\u001b[0m Finished trial#41 resulted in value: 0.8385009356840343. Current best value is 0.8426868905742145 with parameters: {'min_child_weight': 2, 'gamma': 0.30000000000000004, 'subsample': 0.5, 'colsample_bytree': 1.0, 'max_depth': 5}.\u001b[0m\n",
      "\u001b[32m[I 2020-01-18 07:38:17,014]\u001b[0m Finished trial#42 resulted in value: 0.8413079877868611. Current best value is 0.8426868905742145 with parameters: {'min_child_weight': 2, 'gamma': 0.30000000000000004, 'subsample': 0.5, 'colsample_bytree': 1.0, 'max_depth': 5}.\u001b[0m\n",
      "\u001b[32m[I 2020-01-18 07:38:17,453]\u001b[0m Finished trial#43 resulted in value: 0.8385009356840343. Current best value is 0.8426868905742145 with parameters: {'min_child_weight': 2, 'gamma': 0.30000000000000004, 'subsample': 0.5, 'colsample_bytree': 1.0, 'max_depth': 5}.\u001b[0m\n",
      "\u001b[32m[I 2020-01-18 07:38:17,865]\u001b[0m Finished trial#44 resulted in value: 0.8314685314685315. Current best value is 0.8426868905742145 with parameters: {'min_child_weight': 2, 'gamma': 0.30000000000000004, 'subsample': 0.5, 'colsample_bytree': 1.0, 'max_depth': 5}.\u001b[0m\n",
      "\u001b[32m[I 2020-01-18 07:38:18,336]\u001b[0m Finished trial#45 resulted in value: 0.8342952821826062. Current best value is 0.8426868905742145 with parameters: {'min_child_weight': 2, 'gamma': 0.30000000000000004, 'subsample': 0.5, 'colsample_bytree': 1.0, 'max_depth': 5}.\u001b[0m\n",
      "\u001b[32m[I 2020-01-18 07:38:18,791]\u001b[0m Finished trial#46 resulted in value: 0.8328769821727569. Current best value is 0.8426868905742145 with parameters: {'min_child_weight': 2, 'gamma': 0.30000000000000004, 'subsample': 0.5, 'colsample_bytree': 1.0, 'max_depth': 5}.\u001b[0m\n",
      "\u001b[32m[I 2020-01-18 07:38:19,198]\u001b[0m Finished trial#47 resulted in value: 0.8356938835812076. Current best value is 0.8426868905742145 with parameters: {'min_child_weight': 2, 'gamma': 0.30000000000000004, 'subsample': 0.5, 'colsample_bytree': 1.0, 'max_depth': 5}.\u001b[0m\n",
      "\u001b[32m[I 2020-01-18 07:38:19,648]\u001b[0m Finished trial#48 resulted in value: 0.8356840342755835. Current best value is 0.8426868905742145 with parameters: {'min_child_weight': 2, 'gamma': 0.30000000000000004, 'subsample': 0.5, 'colsample_bytree': 1.0, 'max_depth': 5}.\u001b[0m\n",
      "\u001b[32m[I 2020-01-18 07:38:20,049]\u001b[0m Finished trial#49 resulted in value: 0.8356938835812076. Current best value is 0.8426868905742145 with parameters: {'min_child_weight': 2, 'gamma': 0.30000000000000004, 'subsample': 0.5, 'colsample_bytree': 1.0, 'max_depth': 5}.\u001b[0m\n",
      "\u001b[32m[I 2020-01-18 07:38:20,533]\u001b[0m Finished trial#50 resulted in value: 0.8356840342755836. Current best value is 0.8426868905742145 with parameters: {'min_child_weight': 2, 'gamma': 0.30000000000000004, 'subsample': 0.5, 'colsample_bytree': 1.0, 'max_depth': 5}.\u001b[0m\n",
      "\u001b[32m[I 2020-01-18 07:38:20,970]\u001b[0m Finished trial#51 resulted in value: 0.8385009356840343. Current best value is 0.8426868905742145 with parameters: {'min_child_weight': 2, 'gamma': 0.30000000000000004, 'subsample': 0.5, 'colsample_bytree': 1.0, 'max_depth': 5}.\u001b[0m\n",
      "\u001b[32m[I 2020-01-18 07:38:21,403]\u001b[0m Finished trial#52 resulted in value: 0.8385009356840343. Current best value is 0.8426868905742145 with parameters: {'min_child_weight': 2, 'gamma': 0.30000000000000004, 'subsample': 0.5, 'colsample_bytree': 1.0, 'max_depth': 5}.\u001b[0m\n",
      "\u001b[32m[I 2020-01-18 07:38:21,836]\u001b[0m Finished trial#53 resulted in value: 0.8385009356840343. Current best value is 0.8426868905742145 with parameters: {'min_child_weight': 2, 'gamma': 0.30000000000000004, 'subsample': 0.5, 'colsample_bytree': 1.0, 'max_depth': 5}.\u001b[0m\n",
      "\u001b[32m[I 2020-01-18 07:38:22,236]\u001b[0m Finished trial#54 resulted in value: 0.8356938835812076. Current best value is 0.8426868905742145 with parameters: {'min_child_weight': 2, 'gamma': 0.30000000000000004, 'subsample': 0.5, 'colsample_bytree': 1.0, 'max_depth': 5}.\u001b[0m\n",
      "\u001b[32m[I 2020-01-18 07:38:22,711]\u001b[0m Finished trial#55 resulted in value: 0.8342952821826062. Current best value is 0.8426868905742145 with parameters: {'min_child_weight': 2, 'gamma': 0.30000000000000004, 'subsample': 0.5, 'colsample_bytree': 1.0, 'max_depth': 5}.\u001b[0m\n",
      "\u001b[32m[I 2020-01-18 07:38:23,160]\u001b[0m Finished trial#56 resulted in value: 0.8356840342755835. Current best value is 0.8426868905742145 with parameters: {'min_child_weight': 2, 'gamma': 0.30000000000000004, 'subsample': 0.5, 'colsample_bytree': 1.0, 'max_depth': 5}.\u001b[0m\n",
      "\u001b[32m[I 2020-01-18 07:38:23,620]\u001b[0m Finished trial#57 resulted in value: 0.8286516300600807. Current best value is 0.8426868905742145 with parameters: {'min_child_weight': 2, 'gamma': 0.30000000000000004, 'subsample': 0.5, 'colsample_bytree': 1.0, 'max_depth': 5}.\u001b[0m\n",
      "\u001b[32m[I 2020-01-18 07:38:24,020]\u001b[0m Finished trial#58 resulted in value: 0.8342854328769821. Current best value is 0.8426868905742145 with parameters: {'min_child_weight': 2, 'gamma': 0.30000000000000004, 'subsample': 0.5, 'colsample_bytree': 1.0, 'max_depth': 5}.\u001b[0m\n",
      "\u001b[32m[I 2020-01-18 07:38:24,453]\u001b[0m Finished trial#59 resulted in value: 0.8385009356840343. Current best value is 0.8426868905742145 with parameters: {'min_child_weight': 2, 'gamma': 0.30000000000000004, 'subsample': 0.5, 'colsample_bytree': 1.0, 'max_depth': 5}.\u001b[0m\n",
      "\u001b[32m[I 2020-01-18 07:38:24,877]\u001b[0m Finished trial#60 resulted in value: 0.8385206342952822. Current best value is 0.8426868905742145 with parameters: {'min_child_weight': 2, 'gamma': 0.30000000000000004, 'subsample': 0.5, 'colsample_bytree': 1.0, 'max_depth': 5}.\u001b[0m\n",
      "\u001b[32m[I 2020-01-18 07:38:25,398]\u001b[0m Finished trial#61 resulted in value: 0.837092484979809. Current best value is 0.8426868905742145 with parameters: {'min_child_weight': 2, 'gamma': 0.30000000000000004, 'subsample': 0.5, 'colsample_bytree': 1.0, 'max_depth': 5}.\u001b[0m\n",
      "\u001b[32m[I 2020-01-18 07:38:25,918]\u001b[0m Finished trial#62 resulted in value: 0.837092484979809. Current best value is 0.8426868905742145 with parameters: {'min_child_weight': 2, 'gamma': 0.30000000000000004, 'subsample': 0.5, 'colsample_bytree': 1.0, 'max_depth': 5}.\u001b[0m\n",
      "\u001b[32m[I 2020-01-18 07:38:26,313]\u001b[0m Finished trial#63 resulted in value: 0.8371023342854329. Current best value is 0.8426868905742145 with parameters: {'min_child_weight': 2, 'gamma': 0.30000000000000004, 'subsample': 0.5, 'colsample_bytree': 1.0, 'max_depth': 5}.\u001b[0m\n",
      "\u001b[32m[I 2020-01-18 07:38:26,753]\u001b[0m Finished trial#64 resulted in value: 0.8356741849699596. Current best value is 0.8426868905742145 with parameters: {'min_child_weight': 2, 'gamma': 0.30000000000000004, 'subsample': 0.5, 'colsample_bytree': 1.0, 'max_depth': 5}.\u001b[0m\n",
      "\u001b[32m[I 2020-01-18 07:38:27,323]\u001b[0m Finished trial#65 resulted in value: 0.8216290751502019. Current best value is 0.8426868905742145 with parameters: {'min_child_weight': 2, 'gamma': 0.30000000000000004, 'subsample': 0.5, 'colsample_bytree': 1.0, 'max_depth': 5}.\u001b[0m\n",
      "\u001b[32m[I 2020-01-18 07:38:27,890]\u001b[0m Finished trial#66 resulted in value: 0.8356938835812076. Current best value is 0.8426868905742145 with parameters: {'min_child_weight': 2, 'gamma': 0.30000000000000004, 'subsample': 0.5, 'colsample_bytree': 1.0, 'max_depth': 5}.\u001b[0m\n",
      "\u001b[32m[I 2020-01-18 07:38:28,343]\u001b[0m Finished trial#67 resulted in value: 0.8371023342854329. Current best value is 0.8426868905742145 with parameters: {'min_child_weight': 2, 'gamma': 0.30000000000000004, 'subsample': 0.5, 'colsample_bytree': 1.0, 'max_depth': 5}.\u001b[0m\n",
      "\u001b[32m[I 2020-01-18 07:38:28,851]\u001b[0m Finished trial#68 resulted in value: 0.837092484979809. Current best value is 0.8426868905742145 with parameters: {'min_child_weight': 2, 'gamma': 0.30000000000000004, 'subsample': 0.5, 'colsample_bytree': 1.0, 'max_depth': 5}.\u001b[0m\n",
      "\u001b[32m[I 2020-01-18 07:38:29,286]\u001b[0m Finished trial#69 resulted in value: 0.8286713286713286. Current best value is 0.8426868905742145 with parameters: {'min_child_weight': 2, 'gamma': 0.30000000000000004, 'subsample': 0.5, 'colsample_bytree': 1.0, 'max_depth': 5}.\u001b[0m\n",
      "\u001b[32m[I 2020-01-18 07:38:29,766]\u001b[0m Finished trial#70 resulted in value: 0.832867132867133. Current best value is 0.8426868905742145 with parameters: {'min_child_weight': 2, 'gamma': 0.30000000000000004, 'subsample': 0.5, 'colsample_bytree': 1.0, 'max_depth': 5}.\u001b[0m\n",
      "\u001b[32m[I 2020-01-18 07:38:30,272]\u001b[0m Finished trial#71 resulted in value: 0.837092484979809. Current best value is 0.8426868905742145 with parameters: {'min_child_weight': 2, 'gamma': 0.30000000000000004, 'subsample': 0.5, 'colsample_bytree': 1.0, 'max_depth': 5}.\u001b[0m\n",
      "\u001b[32m[I 2020-01-18 07:38:30,784]\u001b[0m Finished trial#72 resulted in value: 0.837092484979809. Current best value is 0.8426868905742145 with parameters: {'min_child_weight': 2, 'gamma': 0.30000000000000004, 'subsample': 0.5, 'colsample_bytree': 1.0, 'max_depth': 5}.\u001b[0m\n",
      "\u001b[32m[I 2020-01-18 07:38:31,293]\u001b[0m Finished trial#73 resulted in value: 0.837092484979809. Current best value is 0.8426868905742145 with parameters: {'min_child_weight': 2, 'gamma': 0.30000000000000004, 'subsample': 0.5, 'colsample_bytree': 1.0, 'max_depth': 5}.\u001b[0m\n",
      "\u001b[32m[I 2020-01-18 07:38:31,803]\u001b[0m Finished trial#74 resulted in value: 0.837092484979809. Current best value is 0.8426868905742145 with parameters: {'min_child_weight': 2, 'gamma': 0.30000000000000004, 'subsample': 0.5, 'colsample_bytree': 1.0, 'max_depth': 5}.\u001b[0m\n",
      "\u001b[32m[I 2020-01-18 07:38:32,259]\u001b[0m Finished trial#75 resulted in value: 0.8356938835812076. Current best value is 0.8426868905742145 with parameters: {'min_child_weight': 2, 'gamma': 0.30000000000000004, 'subsample': 0.5, 'colsample_bytree': 1.0, 'max_depth': 5}.\u001b[0m\n",
      "\u001b[32m[I 2020-01-18 07:38:32,821]\u001b[0m Finished trial#76 resulted in value: 0.8356938835812076. Current best value is 0.8426868905742145 with parameters: {'min_child_weight': 2, 'gamma': 0.30000000000000004, 'subsample': 0.5, 'colsample_bytree': 1.0, 'max_depth': 5}.\u001b[0m\n",
      "\u001b[32m[I 2020-01-18 07:38:33,404]\u001b[0m Finished trial#77 resulted in value: 0.837092484979809. Current best value is 0.8426868905742145 with parameters: {'min_child_weight': 2, 'gamma': 0.30000000000000004, 'subsample': 0.5, 'colsample_bytree': 1.0, 'max_depth': 5}.\u001b[0m\n",
      "\u001b[32m[I 2020-01-18 07:38:34,065]\u001b[0m Finished trial#78 resulted in value: 0.8216290751502019. Current best value is 0.8426868905742145 with parameters: {'min_child_weight': 2, 'gamma': 0.30000000000000004, 'subsample': 0.5, 'colsample_bytree': 1.0, 'max_depth': 5}.\u001b[0m\n",
      "\u001b[32m[I 2020-01-18 07:38:34,520]\u001b[0m Finished trial#79 resulted in value: 0.8399093863882596. Current best value is 0.8426868905742145 with parameters: {'min_child_weight': 2, 'gamma': 0.30000000000000004, 'subsample': 0.5, 'colsample_bytree': 1.0, 'max_depth': 5}.\u001b[0m\n",
      "\u001b[32m[I 2020-01-18 07:38:34,942]\u001b[0m Finished trial#80 resulted in value: 0.8328868314783808. Current best value is 0.8426868905742145 with parameters: {'min_child_weight': 2, 'gamma': 0.30000000000000004, 'subsample': 0.5, 'colsample_bytree': 1.0, 'max_depth': 5}.\u001b[0m\n",
      "\u001b[32m[I 2020-01-18 07:38:35,489]\u001b[0m Finished trial#81 resulted in value: 0.837092484979809. Current best value is 0.8426868905742145 with parameters: {'min_child_weight': 2, 'gamma': 0.30000000000000004, 'subsample': 0.5, 'colsample_bytree': 1.0, 'max_depth': 5}.\u001b[0m\n",
      "\u001b[32m[I 2020-01-18 07:38:35,958]\u001b[0m Finished trial#82 resulted in value: 0.8356938835812076. Current best value is 0.8426868905742145 with parameters: {'min_child_weight': 2, 'gamma': 0.30000000000000004, 'subsample': 0.5, 'colsample_bytree': 1.0, 'max_depth': 5}.\u001b[0m\n",
      "\u001b[32m[I 2020-01-18 07:38:36,378]\u001b[0m Finished trial#83 resulted in value: 0.8399093863882596. Current best value is 0.8426868905742145 with parameters: {'min_child_weight': 2, 'gamma': 0.30000000000000004, 'subsample': 0.5, 'colsample_bytree': 1.0, 'max_depth': 5}.\u001b[0m\n",
      "\u001b[32m[I 2020-01-18 07:38:36,837]\u001b[0m Finished trial#84 resulted in value: 0.8385206342952822. Current best value is 0.8426868905742145 with parameters: {'min_child_weight': 2, 'gamma': 0.30000000000000004, 'subsample': 0.5, 'colsample_bytree': 1.0, 'max_depth': 5}.\u001b[0m\n",
      "\u001b[32m[I 2020-01-18 07:38:37,310]\u001b[0m Finished trial#85 resulted in value: 0.8385009356840343. Current best value is 0.8426868905742145 with parameters: {'min_child_weight': 2, 'gamma': 0.30000000000000004, 'subsample': 0.5, 'colsample_bytree': 1.0, 'max_depth': 5}.\u001b[0m\n",
      "\u001b[32m[I 2020-01-18 07:38:37,809]\u001b[0m Finished trial#86 resulted in value: 0.8399093863882596. Current best value is 0.8426868905742145 with parameters: {'min_child_weight': 2, 'gamma': 0.30000000000000004, 'subsample': 0.5, 'colsample_bytree': 1.0, 'max_depth': 5}.\u001b[0m\n",
      "\u001b[32m[I 2020-01-18 07:38:38,262]\u001b[0m Finished trial#87 resulted in value: 0.8385206342952822. Current best value is 0.8426868905742145 with parameters: {'min_child_weight': 2, 'gamma': 0.30000000000000004, 'subsample': 0.5, 'colsample_bytree': 1.0, 'max_depth': 5}.\u001b[0m\n",
      "\u001b[32m[I 2020-01-18 07:38:38,703]\u001b[0m Finished trial#88 resulted in value: 0.8314882300797795. Current best value is 0.8426868905742145 with parameters: {'min_child_weight': 2, 'gamma': 0.30000000000000004, 'subsample': 0.5, 'colsample_bytree': 1.0, 'max_depth': 5}.\u001b[0m\n",
      "\u001b[32m[I 2020-01-18 07:38:39,140]\u001b[0m Finished trial#89 resulted in value: 0.8385206342952822. Current best value is 0.8426868905742145 with parameters: {'min_child_weight': 2, 'gamma': 0.30000000000000004, 'subsample': 0.5, 'colsample_bytree': 1.0, 'max_depth': 5}.\u001b[0m\n",
      "\u001b[32m[I 2020-01-18 07:38:39,791]\u001b[0m Finished trial#90 resulted in value: 0.8342854328769821. Current best value is 0.8426868905742145 with parameters: {'min_child_weight': 2, 'gamma': 0.30000000000000004, 'subsample': 0.5, 'colsample_bytree': 1.0, 'max_depth': 5}.\u001b[0m\n",
      "\u001b[32m[I 2020-01-18 07:38:40,217]\u001b[0m Finished trial#91 resulted in value: 0.8300994779868021. Current best value is 0.8426868905742145 with parameters: {'min_child_weight': 2, 'gamma': 0.30000000000000004, 'subsample': 0.5, 'colsample_bytree': 1.0, 'max_depth': 5}.\u001b[0m\n",
      "\u001b[32m[I 2020-01-18 07:38:40,694]\u001b[0m Finished trial#92 resulted in value: 0.8385206342952822. Current best value is 0.8426868905742145 with parameters: {'min_child_weight': 2, 'gamma': 0.30000000000000004, 'subsample': 0.5, 'colsample_bytree': 1.0, 'max_depth': 5}.\u001b[0m\n",
      "\u001b[32m[I 2020-01-18 07:38:41,110]\u001b[0m Finished trial#93 resulted in value: 0.8385206342952822. Current best value is 0.8426868905742145 with parameters: {'min_child_weight': 2, 'gamma': 0.30000000000000004, 'subsample': 0.5, 'colsample_bytree': 1.0, 'max_depth': 5}.\u001b[0m\n",
      "\u001b[32m[I 2020-01-18 07:38:41,570]\u001b[0m Finished trial#94 resulted in value: 0.8385009356840343. Current best value is 0.8426868905742145 with parameters: {'min_child_weight': 2, 'gamma': 0.30000000000000004, 'subsample': 0.5, 'colsample_bytree': 1.0, 'max_depth': 5}.\u001b[0m\n",
      "\u001b[32m[I 2020-01-18 07:38:41,954]\u001b[0m Finished trial#95 resulted in value: 0.8356938835812076. Current best value is 0.8426868905742145 with parameters: {'min_child_weight': 2, 'gamma': 0.30000000000000004, 'subsample': 0.5, 'colsample_bytree': 1.0, 'max_depth': 5}.\u001b[0m\n",
      "\u001b[32m[I 2020-01-18 07:38:42,385]\u001b[0m Finished trial#96 resulted in value: 0.8300797793755539. Current best value is 0.8426868905742145 with parameters: {'min_child_weight': 2, 'gamma': 0.30000000000000004, 'subsample': 0.5, 'colsample_bytree': 1.0, 'max_depth': 5}.\u001b[0m\n",
      "\u001b[32m[I 2020-01-18 07:38:42,783]\u001b[0m Finished trial#97 resulted in value: 0.8300994779868021. Current best value is 0.8426868905742145 with parameters: {'min_child_weight': 2, 'gamma': 0.30000000000000004, 'subsample': 0.5, 'colsample_bytree': 1.0, 'max_depth': 5}.\u001b[0m\n",
      "\u001b[32m[I 2020-01-18 07:38:43,212]\u001b[0m Finished trial#98 resulted in value: 0.8385009356840343. Current best value is 0.8426868905742145 with parameters: {'min_child_weight': 2, 'gamma': 0.30000000000000004, 'subsample': 0.5, 'colsample_bytree': 1.0, 'max_depth': 5}.\u001b[0m\n",
      "\u001b[32m[I 2020-01-18 07:38:43,653]\u001b[0m Finished trial#99 resulted in value: 0.8342854328769821. Current best value is 0.8426868905742145 with parameters: {'min_child_weight': 2, 'gamma': 0.30000000000000004, 'subsample': 0.5, 'colsample_bytree': 1.0, 'max_depth': 5}.\u001b[0m\n"
     ]
    },
    {
     "name": "stdout",
     "output_type": "stream",
     "text": [
      "{'min_child_weight': 2, 'gamma': 0.30000000000000004, 'subsample': 0.5, 'colsample_bytree': 1.0, 'max_depth': 5}\n",
      "0.8426868905742145\n"
     ]
    }
   ],
   "source": [
    "def objective(trial):\n",
    "    \n",
    "    param_grid_xgb = {\n",
    "        'min_child_weight': trial.suggest_int(\"min_child_weight\", 1, 5),\n",
    "        'gamma': trial.suggest_discrete_uniform(\"gamma\", 0.1, 1.0, 0.1),\n",
    "        'subsample': trial.suggest_discrete_uniform(\"subsample\", 0.5, 1.0, 0.1),\n",
    "        'colsample_bytree': trial.suggest_discrete_uniform(\"colsample_bytree\", 0.5, 1.0, 0.1),\n",
    "        'max_depth': trial.suggest_int(\"max_depth\", 3, 10),\n",
    "        \"random_state\": 0\n",
    "    }\n",
    "\n",
    "    model = XGBClassifier(**param_grid_xgb)\n",
    "    \n",
    "    # 5-Fold CV / Accuracy でモデルを評価する\n",
    "    kf = StratifiedKFold(n_splits=5, shuffle=True, random_state=0)\n",
    "    scores = cross_validate(model, X=X_train, y=y_train, cv=kf)\n",
    "    # 最小化なので 1.0 からスコアを引く\n",
    "    return scores['test_score'].mean()\n",
    "\n",
    "study = optuna.create_study(direction='maximize')\n",
    "study.optimize(objective, n_trials=100)\n",
    "print(study.best_params)\n",
    "print(study.best_value)\n",
    "xgb_best_param = study.best_params"
   ]
  },
  {
   "cell_type": "code",
   "execution_count": 353,
   "metadata": {},
   "outputs": [
    {
     "name": "stderr",
     "output_type": "stream",
     "text": [
      "\u001b[32m[I 2020-01-18 07:38:43,974]\u001b[0m Finished trial#0 resulted in value: 0.749995075347188. Current best value is 0.749995075347188 with parameters: {'num_leaves': 5, 'learning_rate': 0.0027275289693207343, 'max_depth': 4}.\u001b[0m\n",
      "\u001b[32m[I 2020-01-18 07:38:44,232]\u001b[0m Finished trial#1 resulted in value: 0.6165763813651137. Current best value is 0.749995075347188 with parameters: {'num_leaves': 5, 'learning_rate': 0.0027275289693207343, 'max_depth': 4}.\u001b[0m\n",
      "\u001b[32m[I 2020-01-18 07:38:44,530]\u001b[0m Finished trial#2 resulted in value: 0.6165763813651137. Current best value is 0.749995075347188 with parameters: {'num_leaves': 5, 'learning_rate': 0.0027275289693207343, 'max_depth': 4}.\u001b[0m\n",
      "\u001b[32m[I 2020-01-18 07:38:44,838]\u001b[0m Finished trial#3 resulted in value: 0.8356840342755836. Current best value is 0.8356840342755836 with parameters: {'num_leaves': 10, 'learning_rate': 0.07089825894630716, 'max_depth': 7}.\u001b[0m\n",
      "\u001b[32m[I 2020-01-18 07:38:45,124]\u001b[0m Finished trial#4 resulted in value: 0.8272727272727274. Current best value is 0.8356840342755836 with parameters: {'num_leaves': 10, 'learning_rate': 0.07089825894630716, 'max_depth': 7}.\u001b[0m\n",
      "\u001b[32m[I 2020-01-18 07:38:45,425]\u001b[0m Finished trial#5 resulted in value: 0.7879444499162809. Current best value is 0.8356840342755836 with parameters: {'num_leaves': 10, 'learning_rate': 0.07089825894630716, 'max_depth': 7}.\u001b[0m\n",
      "\u001b[32m[I 2020-01-18 07:38:45,731]\u001b[0m Finished trial#6 resulted in value: 0.6165763813651137. Current best value is 0.8356840342755836 with parameters: {'num_leaves': 10, 'learning_rate': 0.07089825894630716, 'max_depth': 7}.\u001b[0m\n",
      "\u001b[32m[I 2020-01-18 07:38:46,015]\u001b[0m Finished trial#7 resulted in value: 0.6165763813651137. Current best value is 0.8356840342755836 with parameters: {'num_leaves': 10, 'learning_rate': 0.07089825894630716, 'max_depth': 7}.\u001b[0m\n",
      "\u001b[32m[I 2020-01-18 07:38:46,310]\u001b[0m Finished trial#8 resulted in value: 0.6165763813651137. Current best value is 0.8356840342755836 with parameters: {'num_leaves': 10, 'learning_rate': 0.07089825894630716, 'max_depth': 7}.\u001b[0m\n",
      "\u001b[32m[I 2020-01-18 07:38:46,591]\u001b[0m Finished trial#9 resulted in value: 0.6165763813651137. Current best value is 0.8356840342755836 with parameters: {'num_leaves': 10, 'learning_rate': 0.07089825894630716, 'max_depth': 7}.\u001b[0m\n",
      "\u001b[32m[I 2020-01-18 07:38:46,884]\u001b[0m Finished trial#10 resulted in value: 0.8005417118093174. Current best value is 0.8356840342755836 with parameters: {'num_leaves': 10, 'learning_rate': 0.07089825894630716, 'max_depth': 7}.\u001b[0m\n",
      "\u001b[32m[I 2020-01-18 07:38:47,187]\u001b[0m Finished trial#11 resulted in value: 0.8061459667093469. Current best value is 0.8356840342755836 with parameters: {'num_leaves': 10, 'learning_rate': 0.07089825894630716, 'max_depth': 7}.\u001b[0m\n",
      "\u001b[32m[I 2020-01-18 07:38:47,475]\u001b[0m Finished trial#12 resulted in value: 0.8258839751797499. Current best value is 0.8356840342755836 with parameters: {'num_leaves': 10, 'learning_rate': 0.07089825894630716, 'max_depth': 7}.\u001b[0m\n",
      "\u001b[32m[I 2020-01-18 07:38:47,784]\u001b[0m Finished trial#13 resulted in value: 0.830089628681178. Current best value is 0.8356840342755836 with parameters: {'num_leaves': 10, 'learning_rate': 0.07089825894630716, 'max_depth': 7}.\u001b[0m\n",
      "\u001b[32m[I 2020-01-18 07:38:48,077]\u001b[0m Finished trial#14 resulted in value: 0.837092484979809. Current best value is 0.837092484979809 with parameters: {'num_leaves': 7, 'learning_rate': 0.08436005886085972, 'max_depth': 5}.\u001b[0m\n",
      "\u001b[32m[I 2020-01-18 07:38:48,365]\u001b[0m Finished trial#15 resulted in value: 0.8357135821924555. Current best value is 0.837092484979809 with parameters: {'num_leaves': 7, 'learning_rate': 0.08436005886085972, 'max_depth': 5}.\u001b[0m\n",
      "\u001b[32m[I 2020-01-18 07:38:48,655]\u001b[0m Finished trial#16 resulted in value: 0.6165763813651137. Current best value is 0.837092484979809 with parameters: {'num_leaves': 7, 'learning_rate': 0.08436005886085972, 'max_depth': 5}.\u001b[0m\n",
      "\u001b[32m[I 2020-01-18 07:38:48,948]\u001b[0m Finished trial#17 resulted in value: 0.8244459765586527. Current best value is 0.837092484979809 with parameters: {'num_leaves': 7, 'learning_rate': 0.08436005886085972, 'max_depth': 5}.\u001b[0m\n",
      "\u001b[32m[I 2020-01-18 07:38:49,229]\u001b[0m Finished trial#18 resulted in value: 0.6165763813651137. Current best value is 0.837092484979809 with parameters: {'num_leaves': 7, 'learning_rate': 0.08436005886085972, 'max_depth': 5}.\u001b[0m\n",
      "\u001b[32m[I 2020-01-18 07:38:49,527]\u001b[0m Finished trial#19 resulted in value: 0.8188220230473752. Current best value is 0.837092484979809 with parameters: {'num_leaves': 7, 'learning_rate': 0.08436005886085972, 'max_depth': 5}.\u001b[0m\n",
      "\u001b[32m[I 2020-01-18 07:38:49,808]\u001b[0m Finished trial#20 resulted in value: 0.6165763813651137. Current best value is 0.837092484979809 with parameters: {'num_leaves': 7, 'learning_rate': 0.08436005886085972, 'max_depth': 5}.\u001b[0m\n",
      "\u001b[32m[I 2020-01-18 07:38:50,098]\u001b[0m Finished trial#21 resulted in value: 0.8371318822023047. Current best value is 0.8371318822023047 with parameters: {'num_leaves': 6, 'learning_rate': 0.1355342365832679, 'max_depth': 7}.\u001b[0m\n",
      "\u001b[32m[I 2020-01-18 07:38:50,387]\u001b[0m Finished trial#22 resulted in value: 0.8286319314488327. Current best value is 0.8371318822023047 with parameters: {'num_leaves': 6, 'learning_rate': 0.1355342365832679, 'max_depth': 7}.\u001b[0m\n",
      "\u001b[32m[I 2020-01-18 07:38:50,681]\u001b[0m Finished trial#23 resulted in value: 0.8286811779769525. Current best value is 0.8371318822023047 with parameters: {'num_leaves': 6, 'learning_rate': 0.1355342365832679, 'max_depth': 7}.\u001b[0m\n",
      "\u001b[32m[I 2020-01-18 07:38:50,959]\u001b[0m Finished trial#24 resulted in value: 0.8272825765783512. Current best value is 0.8371318822023047 with parameters: {'num_leaves': 6, 'learning_rate': 0.1355342365832679, 'max_depth': 7}.\u001b[0m\n",
      "\u001b[32m[I 2020-01-18 07:38:51,247]\u001b[0m Finished trial#25 resulted in value: 0.7921205555008373. Current best value is 0.8371318822023047 with parameters: {'num_leaves': 6, 'learning_rate': 0.1355342365832679, 'max_depth': 7}.\u001b[0m\n",
      "\u001b[32m[I 2020-01-18 07:38:51,543]\u001b[0m Finished trial#26 resulted in value: 0.6165763813651137. Current best value is 0.8371318822023047 with parameters: {'num_leaves': 6, 'learning_rate': 0.1355342365832679, 'max_depth': 7}.\u001b[0m\n",
      "\u001b[32m[I 2020-01-18 07:38:51,824]\u001b[0m Finished trial#27 resulted in value: 0.8286417807544568. Current best value is 0.8371318822023047 with parameters: {'num_leaves': 6, 'learning_rate': 0.1355342365832679, 'max_depth': 7}.\u001b[0m\n",
      "\u001b[32m[I 2020-01-18 07:38:52,106]\u001b[0m Finished trial#28 resulted in value: 0.825844577957254. Current best value is 0.8371318822023047 with parameters: {'num_leaves': 6, 'learning_rate': 0.1355342365832679, 'max_depth': 7}.\u001b[0m\n",
      "\u001b[32m[I 2020-01-18 07:38:52,401]\u001b[0m Finished trial#29 resulted in value: 0.7865261499064317. Current best value is 0.8371318822023047 with parameters: {'num_leaves': 6, 'learning_rate': 0.1355342365832679, 'max_depth': 7}.\u001b[0m\n",
      "\u001b[32m[I 2020-01-18 07:38:52,712]\u001b[0m Finished trial#30 resulted in value: 0.6165763813651137. Current best value is 0.8371318822023047 with parameters: {'num_leaves': 6, 'learning_rate': 0.1355342365832679, 'max_depth': 7}.\u001b[0m\n",
      "\u001b[32m[I 2020-01-18 07:38:53,013]\u001b[0m Finished trial#31 resulted in value: 0.8356938835812076. Current best value is 0.8371318822023047 with parameters: {'num_leaves': 6, 'learning_rate': 0.1355342365832679, 'max_depth': 7}.\u001b[0m\n",
      "\u001b[32m[I 2020-01-18 07:38:53,329]\u001b[0m Finished trial#32 resulted in value: 0.8286811779769525. Current best value is 0.8371318822023047 with parameters: {'num_leaves': 6, 'learning_rate': 0.1355342365832679, 'max_depth': 7}.\u001b[0m\n",
      "\u001b[32m[I 2020-01-18 07:38:53,604]\u001b[0m Finished trial#33 resulted in value: 0.8047670639219936. Current best value is 0.8371318822023047 with parameters: {'num_leaves': 6, 'learning_rate': 0.1355342365832679, 'max_depth': 7}.\u001b[0m\n",
      "\u001b[32m[I 2020-01-18 07:38:53,886]\u001b[0m Finished trial#34 resulted in value: 0.8230473751600511. Current best value is 0.8371318822023047 with parameters: {'num_leaves': 6, 'learning_rate': 0.1355342365832679, 'max_depth': 7}.\u001b[0m\n",
      "\u001b[32m[I 2020-01-18 07:38:54,183]\u001b[0m Finished trial#35 resulted in value: 0.8314685314685313. Current best value is 0.8371318822023047 with parameters: {'num_leaves': 6, 'learning_rate': 0.1355342365832679, 'max_depth': 7}.\u001b[0m\n",
      "\u001b[32m[I 2020-01-18 07:38:54,485]\u001b[0m Finished trial#36 resulted in value: 0.8328966807840047. Current best value is 0.8371318822023047 with parameters: {'num_leaves': 6, 'learning_rate': 0.1355342365832679, 'max_depth': 7}.\u001b[0m\n",
      "\u001b[32m[I 2020-01-18 07:38:54,773]\u001b[0m Finished trial#37 resulted in value: 0.749995075347188. Current best value is 0.8371318822023047 with parameters: {'num_leaves': 6, 'learning_rate': 0.1355342365832679, 'max_depth': 7}.\u001b[0m\n",
      "\u001b[32m[I 2020-01-18 07:38:55,067]\u001b[0m Finished trial#38 resulted in value: 0.8230572244656752. Current best value is 0.8371318822023047 with parameters: {'num_leaves': 6, 'learning_rate': 0.1355342365832679, 'max_depth': 7}.\u001b[0m\n",
      "\u001b[32m[I 2020-01-18 07:38:55,349]\u001b[0m Finished trial#39 resulted in value: 0.6165763813651137. Current best value is 0.8371318822023047 with parameters: {'num_leaves': 6, 'learning_rate': 0.1355342365832679, 'max_depth': 7}.\u001b[0m\n",
      "\u001b[32m[I 2020-01-18 07:38:55,652]\u001b[0m Finished trial#40 resulted in value: 0.8244164286417808. Current best value is 0.8371318822023047 with parameters: {'num_leaves': 6, 'learning_rate': 0.1355342365832679, 'max_depth': 7}.\u001b[0m\n",
      "\u001b[32m[I 2020-01-18 07:38:55,980]\u001b[0m Finished trial#41 resulted in value: 0.8230473751600511. Current best value is 0.8371318822023047 with parameters: {'num_leaves': 6, 'learning_rate': 0.1355342365832679, 'max_depth': 7}.\u001b[0m\n",
      "\u001b[32m[I 2020-01-18 07:38:56,259]\u001b[0m Finished trial#42 resulted in value: 0.83006993006993. Current best value is 0.8371318822023047 with parameters: {'num_leaves': 6, 'learning_rate': 0.1355342365832679, 'max_depth': 7}.\u001b[0m\n",
      "\u001b[32m[I 2020-01-18 07:38:56,545]\u001b[0m Finished trial#43 resulted in value: 0.8202206244459767. Current best value is 0.8371318822023047 with parameters: {'num_leaves': 6, 'learning_rate': 0.1355342365832679, 'max_depth': 7}.\u001b[0m\n",
      "\u001b[32m[I 2020-01-18 07:38:56,857]\u001b[0m Finished trial#44 resulted in value: 0.8187924751305033. Current best value is 0.8371318822023047 with parameters: {'num_leaves': 6, 'learning_rate': 0.1355342365832679, 'max_depth': 7}.\u001b[0m\n",
      "\u001b[32m[I 2020-01-18 07:38:57,149]\u001b[0m Finished trial#45 resulted in value: 0.6165763813651137. Current best value is 0.8371318822023047 with parameters: {'num_leaves': 6, 'learning_rate': 0.1355342365832679, 'max_depth': 7}.\u001b[0m\n",
      "\u001b[32m[I 2020-01-18 07:38:57,442]\u001b[0m Finished trial#46 resulted in value: 0.8272727272727274. Current best value is 0.8371318822023047 with parameters: {'num_leaves': 6, 'learning_rate': 0.1355342365832679, 'max_depth': 7}.\u001b[0m\n",
      "\u001b[32m[I 2020-01-18 07:38:57,751]\u001b[0m Finished trial#47 resulted in value: 0.6165763813651137. Current best value is 0.8371318822023047 with parameters: {'num_leaves': 6, 'learning_rate': 0.1355342365832679, 'max_depth': 7}.\u001b[0m\n",
      "\u001b[32m[I 2020-01-18 07:38:58,036]\u001b[0m Finished trial#48 resulted in value: 0.8286713286713286. Current best value is 0.8371318822023047 with parameters: {'num_leaves': 6, 'learning_rate': 0.1355342365832679, 'max_depth': 7}.\u001b[0m\n",
      "\u001b[32m[I 2020-01-18 07:38:58,326]\u001b[0m Finished trial#49 resulted in value: 0.8300994779868021. Current best value is 0.8371318822023047 with parameters: {'num_leaves': 6, 'learning_rate': 0.1355342365832679, 'max_depth': 7}.\u001b[0m\n",
      "\u001b[32m[I 2020-01-18 07:38:58,623]\u001b[0m Finished trial#50 resulted in value: 0.8019797104304148. Current best value is 0.8371318822023047 with parameters: {'num_leaves': 6, 'learning_rate': 0.1355342365832679, 'max_depth': 7}.\u001b[0m\n",
      "\u001b[32m[I 2020-01-18 07:38:58,922]\u001b[0m Finished trial#51 resulted in value: 0.8356938835812077. Current best value is 0.8371318822023047 with parameters: {'num_leaves': 6, 'learning_rate': 0.1355342365832679, 'max_depth': 7}.\u001b[0m\n",
      "\u001b[32m[I 2020-01-18 07:38:59,225]\u001b[0m Finished trial#52 resulted in value: 0.818851570964247. Current best value is 0.8371318822023047 with parameters: {'num_leaves': 6, 'learning_rate': 0.1355342365832679, 'max_depth': 7}.\u001b[0m\n",
      "\u001b[32m[I 2020-01-18 07:38:59,518]\u001b[0m Finished trial#53 resulted in value: 0.825824879346006. Current best value is 0.8371318822023047 with parameters: {'num_leaves': 6, 'learning_rate': 0.1355342365832679, 'max_depth': 7}.\u001b[0m\n",
      "\u001b[32m[I 2020-01-18 07:38:59,819]\u001b[0m Finished trial#54 resulted in value: 0.8286811779769527. Current best value is 0.8371318822023047 with parameters: {'num_leaves': 6, 'learning_rate': 0.1355342365832679, 'max_depth': 7}.\u001b[0m\n",
      "\u001b[32m[I 2020-01-18 07:39:00,121]\u001b[0m Finished trial#55 resulted in value: 0.8328868314783808. Current best value is 0.8371318822023047 with parameters: {'num_leaves': 6, 'learning_rate': 0.1355342365832679, 'max_depth': 7}.\u001b[0m\n",
      "\u001b[32m[I 2020-01-18 07:39:00,408]\u001b[0m Finished trial#56 resulted in value: 0.8244361272530286. Current best value is 0.8371318822023047 with parameters: {'num_leaves': 6, 'learning_rate': 0.1355342365832679, 'max_depth': 7}.\u001b[0m\n",
      "\u001b[32m[I 2020-01-18 07:39:00,704]\u001b[0m Finished trial#57 resulted in value: 0.8357135821924555. Current best value is 0.8371318822023047 with parameters: {'num_leaves': 6, 'learning_rate': 0.1355342365832679, 'max_depth': 7}.\u001b[0m\n",
      "\u001b[32m[I 2020-01-18 07:39:00,996]\u001b[0m Finished trial#58 resulted in value: 0.8145671230178273. Current best value is 0.8371318822023047 with parameters: {'num_leaves': 6, 'learning_rate': 0.1355342365832679, 'max_depth': 7}.\u001b[0m\n",
      "\u001b[32m[I 2020-01-18 07:39:01,295]\u001b[0m Finished trial#59 resulted in value: 0.6165763813651137. Current best value is 0.8371318822023047 with parameters: {'num_leaves': 6, 'learning_rate': 0.1355342365832679, 'max_depth': 7}.\u001b[0m\n",
      "\u001b[32m[I 2020-01-18 07:39:01,594]\u001b[0m Finished trial#60 resulted in value: 0.8300994779868021. Current best value is 0.8371318822023047 with parameters: {'num_leaves': 6, 'learning_rate': 0.1355342365832679, 'max_depth': 7}.\u001b[0m\n",
      "\u001b[32m[I 2020-01-18 07:39:01,913]\u001b[0m Finished trial#61 resulted in value: 0.8356938835812076. Current best value is 0.8371318822023047 with parameters: {'num_leaves': 6, 'learning_rate': 0.1355342365832679, 'max_depth': 7}.\u001b[0m\n",
      "\u001b[32m[I 2020-01-18 07:39:02,207]\u001b[0m Finished trial#62 resulted in value: 0.8314783807741554. Current best value is 0.8371318822023047 with parameters: {'num_leaves': 6, 'learning_rate': 0.1355342365832679, 'max_depth': 7}.\u001b[0m\n",
      "\u001b[32m[I 2020-01-18 07:39:02,509]\u001b[0m Finished trial#63 resulted in value: 0.8356840342755836. Current best value is 0.8371318822023047 with parameters: {'num_leaves': 6, 'learning_rate': 0.1355342365832679, 'max_depth': 7}.\u001b[0m\n",
      "\u001b[32m[I 2020-01-18 07:39:02,791]\u001b[0m Finished trial#64 resulted in value: 0.83006993006993. Current best value is 0.8371318822023047 with parameters: {'num_leaves': 6, 'learning_rate': 0.1355342365832679, 'max_depth': 7}.\u001b[0m\n",
      "\u001b[32m[I 2020-01-18 07:39:03,077]\u001b[0m Finished trial#65 resulted in value: 0.787934600610657. Current best value is 0.8371318822023047 with parameters: {'num_leaves': 6, 'learning_rate': 0.1355342365832679, 'max_depth': 7}.\u001b[0m\n",
      "\u001b[32m[I 2020-01-18 07:39:03,373]\u001b[0m Finished trial#66 resulted in value: 0.8272628779671034. Current best value is 0.8371318822023047 with parameters: {'num_leaves': 6, 'learning_rate': 0.1355342365832679, 'max_depth': 7}.\u001b[0m\n",
      "\u001b[32m[I 2020-01-18 07:39:03,668]\u001b[0m Finished trial#67 resulted in value: 0.8328769821727569. Current best value is 0.8371318822023047 with parameters: {'num_leaves': 6, 'learning_rate': 0.1355342365832679, 'max_depth': 7}.\u001b[0m\n",
      "\u001b[32m[I 2020-01-18 07:39:03,955]\u001b[0m Finished trial#68 resulted in value: 0.8103713188220232. Current best value is 0.8371318822023047 with parameters: {'num_leaves': 6, 'learning_rate': 0.1355342365832679, 'max_depth': 7}.\u001b[0m\n",
      "\u001b[32m[I 2020-01-18 07:39:04,247]\u001b[0m Finished trial#69 resulted in value: 0.8314783807741554. Current best value is 0.8371318822023047 with parameters: {'num_leaves': 6, 'learning_rate': 0.1355342365832679, 'max_depth': 7}.\u001b[0m\n",
      "\u001b[32m[I 2020-01-18 07:39:04,549]\u001b[0m Finished trial#70 resulted in value: 0.8315079286910272. Current best value is 0.8371318822023047 with parameters: {'num_leaves': 6, 'learning_rate': 0.1355342365832679, 'max_depth': 7}.\u001b[0m\n",
      "\u001b[32m[I 2020-01-18 07:39:04,840]\u001b[0m Finished trial#71 resulted in value: 0.8300797793755541. Current best value is 0.8371318822023047 with parameters: {'num_leaves': 6, 'learning_rate': 0.1355342365832679, 'max_depth': 7}.\u001b[0m\n",
      "\u001b[32m[I 2020-01-18 07:39:05,166]\u001b[0m Finished trial#72 resulted in value: 0.8272431793558555. Current best value is 0.8371318822023047 with parameters: {'num_leaves': 6, 'learning_rate': 0.1355342365832679, 'max_depth': 7}.\u001b[0m\n",
      "\u001b[32m[I 2020-01-18 07:39:05,458]\u001b[0m Finished trial#73 resulted in value: 0.8202206244459767. Current best value is 0.8371318822023047 with parameters: {'num_leaves': 6, 'learning_rate': 0.1355342365832679, 'max_depth': 7}.\u001b[0m\n",
      "\u001b[32m[I 2020-01-18 07:39:05,762]\u001b[0m Finished trial#74 resulted in value: 0.8174234216487737. Current best value is 0.8371318822023047 with parameters: {'num_leaves': 6, 'learning_rate': 0.1355342365832679, 'max_depth': 7}.\u001b[0m\n",
      "\u001b[32m[I 2020-01-18 07:39:06,043]\u001b[0m Finished trial#75 resulted in value: 0.830089628681178. Current best value is 0.8371318822023047 with parameters: {'num_leaves': 6, 'learning_rate': 0.1355342365832679, 'max_depth': 7}.\u001b[0m\n",
      "\u001b[32m[I 2020-01-18 07:39:06,333]\u001b[0m Finished trial#76 resulted in value: 0.8314980793854033. Current best value is 0.8371318822023047 with parameters: {'num_leaves': 6, 'learning_rate': 0.1355342365832679, 'max_depth': 7}.\u001b[0m\n",
      "\u001b[32m[I 2020-01-18 07:39:06,633]\u001b[0m Finished trial#77 resulted in value: 0.8287008765882005. Current best value is 0.8371318822023047 with parameters: {'num_leaves': 6, 'learning_rate': 0.1355342365832679, 'max_depth': 7}.\u001b[0m\n",
      "\u001b[32m[I 2020-01-18 07:39:06,917]\u001b[0m Finished trial#78 resulted in value: 0.7725401359204176. Current best value is 0.8371318822023047 with parameters: {'num_leaves': 6, 'learning_rate': 0.1355342365832679, 'max_depth': 7}.\u001b[0m\n",
      "\u001b[32m[I 2020-01-18 07:39:07,232]\u001b[0m Finished trial#79 resulted in value: 0.83006993006993. Current best value is 0.8371318822023047 with parameters: {'num_leaves': 6, 'learning_rate': 0.1355342365832679, 'max_depth': 7}.\u001b[0m\n",
      "\u001b[32m[I 2020-01-18 07:39:07,537]\u001b[0m Finished trial#80 resulted in value: 0.8286811779769525. Current best value is 0.8371318822023047 with parameters: {'num_leaves': 6, 'learning_rate': 0.1355342365832679, 'max_depth': 7}.\u001b[0m\n",
      "\u001b[32m[I 2020-01-18 07:39:07,838]\u001b[0m Finished trial#81 resulted in value: 0.8342755835713582. Current best value is 0.8371318822023047 with parameters: {'num_leaves': 6, 'learning_rate': 0.1355342365832679, 'max_depth': 7}.\u001b[0m\n",
      "\u001b[32m[I 2020-01-18 07:39:08,136]\u001b[0m Finished trial#82 resulted in value: 0.8385206342952822. Current best value is 0.8385206342952822 with parameters: {'num_leaves': 6, 'learning_rate': 0.015822886296663927, 'max_depth': 7}.\u001b[0m\n",
      "\u001b[32m[I 2020-01-18 07:39:08,417]\u001b[0m Finished trial#83 resulted in value: 0.8174234216487737. Current best value is 0.8385206342952822 with parameters: {'num_leaves': 6, 'learning_rate': 0.015822886296663927, 'max_depth': 7}.\u001b[0m\n",
      "\u001b[32m[I 2020-01-18 07:39:08,713]\u001b[0m Finished trial#84 resulted in value: 0.8216586230670739. Current best value is 0.8385206342952822 with parameters: {'num_leaves': 6, 'learning_rate': 0.015822886296663927, 'max_depth': 7}.\u001b[0m\n",
      "\u001b[32m[I 2020-01-18 07:39:09,019]\u001b[0m Finished trial#85 resulted in value: 0.8287008765882005. Current best value is 0.8385206342952822 with parameters: {'num_leaves': 6, 'learning_rate': 0.015822886296663927, 'max_depth': 7}.\u001b[0m\n",
      "\u001b[32m[I 2020-01-18 07:39:09,319]\u001b[0m Finished trial#86 resulted in value: 0.8216487737614498. Current best value is 0.8385206342952822 with parameters: {'num_leaves': 6, 'learning_rate': 0.015822886296663927, 'max_depth': 7}.\u001b[0m\n",
      "\u001b[32m[I 2020-01-18 07:39:09,632]\u001b[0m Finished trial#87 resulted in value: 0.8103910174332709. Current best value is 0.8385206342952822 with parameters: {'num_leaves': 6, 'learning_rate': 0.015822886296663927, 'max_depth': 7}.\u001b[0m\n",
      "\u001b[32m[I 2020-01-18 07:39:09,914]\u001b[0m Finished trial#88 resulted in value: 0.6165763813651137. Current best value is 0.8385206342952822 with parameters: {'num_leaves': 6, 'learning_rate': 0.015822886296663927, 'max_depth': 7}.\u001b[0m\n",
      "\u001b[32m[I 2020-01-18 07:39:10,222]\u001b[0m Finished trial#89 resulted in value: 0.8272727272727274. Current best value is 0.8385206342952822 with parameters: {'num_leaves': 6, 'learning_rate': 0.015822886296663927, 'max_depth': 7}.\u001b[0m\n",
      "\u001b[32m[I 2020-01-18 07:39:10,521]\u001b[0m Finished trial#90 resulted in value: 0.6165763813651137. Current best value is 0.8385206342952822 with parameters: {'num_leaves': 6, 'learning_rate': 0.015822886296663927, 'max_depth': 7}.\u001b[0m\n",
      "\u001b[32m[I 2020-01-18 07:39:10,816]\u001b[0m Finished trial#91 resulted in value: 0.8272825765783512. Current best value is 0.8385206342952822 with parameters: {'num_leaves': 6, 'learning_rate': 0.015822886296663927, 'max_depth': 7}.\u001b[0m\n",
      "\u001b[32m[I 2020-01-18 07:39:11,110]\u001b[0m Finished trial#92 resulted in value: 0.821609376538954. Current best value is 0.8385206342952822 with parameters: {'num_leaves': 6, 'learning_rate': 0.015822886296663927, 'max_depth': 7}.\u001b[0m\n",
      "\u001b[32m[I 2020-01-18 07:39:11,400]\u001b[0m Finished trial#93 resulted in value: 0.8300797793755539. Current best value is 0.8385206342952822 with parameters: {'num_leaves': 6, 'learning_rate': 0.015822886296663927, 'max_depth': 7}.\u001b[0m\n",
      "\u001b[32m[I 2020-01-18 07:39:11,698]\u001b[0m Finished trial#94 resulted in value: 0.8328868314783808. Current best value is 0.8385206342952822 with parameters: {'num_leaves': 6, 'learning_rate': 0.015822886296663927, 'max_depth': 7}.\u001b[0m\n",
      "\u001b[32m[I 2020-01-18 07:39:11,994]\u001b[0m Finished trial#95 resulted in value: 0.8399093863882596. Current best value is 0.8399093863882596 with parameters: {'num_leaves': 6, 'learning_rate': 0.1778995181251207, 'max_depth': 8}.\u001b[0m\n",
      "\u001b[32m[I 2020-01-18 07:39:12,282]\u001b[0m Finished trial#96 resulted in value: 0.8329163793952526. Current best value is 0.8399093863882596 with parameters: {'num_leaves': 6, 'learning_rate': 0.1778995181251207, 'max_depth': 8}.\u001b[0m\n",
      "\u001b[32m[I 2020-01-18 07:39:12,585]\u001b[0m Finished trial#97 resulted in value: 0.818851570964247. Current best value is 0.8399093863882596 with parameters: {'num_leaves': 6, 'learning_rate': 0.1778995181251207, 'max_depth': 8}.\u001b[0m\n",
      "\u001b[32m[I 2020-01-18 07:39:12,858]\u001b[0m Finished trial#98 resulted in value: 0.8272431793558555. Current best value is 0.8399093863882596 with parameters: {'num_leaves': 6, 'learning_rate': 0.1778995181251207, 'max_depth': 8}.\u001b[0m\n",
      "\u001b[32m[I 2020-01-18 07:39:13,155]\u001b[0m Finished trial#99 resulted in value: 0.8300994779868021. Current best value is 0.8399093863882596 with parameters: {'num_leaves': 6, 'learning_rate': 0.1778995181251207, 'max_depth': 8}.\u001b[0m\n"
     ]
    },
    {
     "name": "stdout",
     "output_type": "stream",
     "text": [
      "{'num_leaves': 6, 'learning_rate': 0.1778995181251207, 'max_depth': 8}\n",
      "0.8399093863882596\n"
     ]
    }
   ],
   "source": [
    "def objective(trial):\n",
    "    \n",
    "    param_grid_lgb = {\n",
    "        'num_leaves': trial.suggest_int(\"num_leaves\", 3, 10),\n",
    "        'learning_rate': trial.suggest_loguniform(\"learning_rate\", 1e-8, 1.0),\n",
    "        'max_depth': trial.suggest_int(\"max_depth\", 3, 10),\n",
    "        \"random_state\": 0\n",
    "    }\n",
    "\n",
    "    model = LGBMClassifier(**param_grid_lgb)\n",
    "    \n",
    "    # 5-Fold CV / Accuracy でモデルを評価する\n",
    "    kf = StratifiedKFold(n_splits=5, shuffle=True, random_state=0)\n",
    "    scores = cross_validate(model, X=X_train, y=y_train, cv=kf)\n",
    "    # 最小化なので 1.0 からスコアを引く\n",
    "    return scores['test_score'].mean()\n",
    "\n",
    "study = optuna.create_study(direction='maximize')\n",
    "study.optimize(objective, n_trials=100)\n",
    "print(study.best_params)\n",
    "print(study.best_value)\n",
    "lgb_best_param = study.best_params"
   ]
  },
  {
   "cell_type": "code",
   "execution_count": 354,
   "metadata": {},
   "outputs": [
    {
     "name": "stderr",
     "output_type": "stream",
     "text": [
      "\u001b[32m[I 2020-01-18 07:39:13,706]\u001b[0m Finished trial#0 resulted in value: 0.8188712695754949. Current best value is 0.8188712695754949 with parameters: {'C': 89}.\u001b[0m\n",
      "\u001b[32m[I 2020-01-18 07:39:14,275]\u001b[0m Finished trial#1 resulted in value: 0.823086772382547. Current best value is 0.823086772382547 with parameters: {'C': 97}.\u001b[0m\n",
      "\u001b[32m[I 2020-01-18 07:39:14,788]\u001b[0m Finished trial#2 resulted in value: 0.8202797202797203. Current best value is 0.823086772382547 with parameters: {'C': 97}.\u001b[0m\n",
      "\u001b[32m[I 2020-01-18 07:39:15,364]\u001b[0m Finished trial#3 resulted in value: 0.823086772382547. Current best value is 0.823086772382547 with parameters: {'C': 97}.\u001b[0m\n",
      "\u001b[32m[I 2020-01-18 07:39:15,847]\u001b[0m Finished trial#4 resulted in value: 0.8216783216783217. Current best value is 0.823086772382547 with parameters: {'C': 97}.\u001b[0m\n",
      "\u001b[32m[I 2020-01-18 07:39:16,324]\u001b[0m Finished trial#5 resulted in value: 0.8202698709740963. Current best value is 0.823086772382547 with parameters: {'C': 97}.\u001b[0m\n",
      "\u001b[32m[I 2020-01-18 07:39:16,861]\u001b[0m Finished trial#6 resulted in value: 0.8188712695754949. Current best value is 0.823086772382547 with parameters: {'C': 97}.\u001b[0m\n",
      "\u001b[32m[I 2020-01-18 07:39:17,344]\u001b[0m Finished trial#7 resulted in value: 0.8202797202797203. Current best value is 0.823086772382547 with parameters: {'C': 97}.\u001b[0m\n",
      "\u001b[32m[I 2020-01-18 07:39:17,849]\u001b[0m Finished trial#8 resulted in value: 0.8202797202797203. Current best value is 0.823086772382547 with parameters: {'C': 97}.\u001b[0m\n",
      "\u001b[32m[I 2020-01-18 07:39:18,311]\u001b[0m Finished trial#9 resulted in value: 0.818881118881119. Current best value is 0.823086772382547 with parameters: {'C': 97}.\u001b[0m\n"
     ]
    },
    {
     "name": "stdout",
     "output_type": "stream",
     "text": [
      "{'C': 97}\n",
      "0.823086772382547\n"
     ]
    }
   ],
   "source": [
    "import warnings\n",
    "warnings.filterwarnings('ignore')\n",
    "\n",
    "def objective(trial):\n",
    "    \n",
    "    param_grid_lr = {\n",
    "        'C' : trial.suggest_int(\"C\", 1, 100),\n",
    "        \"random_state\": 0\n",
    "    }\n",
    "\n",
    "    model = LogisticRegression(**param_grid_lr)\n",
    "    \n",
    "    # 5-Fold CV / Accuracy でモデルを評価する\n",
    "    kf = StratifiedKFold(n_splits=5, shuffle=True, random_state=0)\n",
    "    scores = cross_validate(model, X=X_train, y=y_train, cv=kf)\n",
    "    # 最小化なので 1.0 からスコアを引く\n",
    "    return scores['test_score'].mean()\n",
    "\n",
    "study = optuna.create_study(direction='maximize')\n",
    "study.optimize(objective, n_trials=10)\n",
    "print(study.best_params)\n",
    "print(study.best_value)\n",
    "lr_best_param = study.best_params"
   ]
  },
  {
   "cell_type": "code",
   "execution_count": 355,
   "metadata": {},
   "outputs": [],
   "source": [
    "# param_grid_svc = {'C': [50, 100, 150], 'gamma': [0.0001, 0.0005, 0.0007], 'kernel': ['rbf']}\n",
    "\n",
    "# svc_grid = GridSearchCV(\n",
    "#     estimator=SVC(random_state=0),\n",
    "#     param_grid=param_grid_svc,   \n",
    "#     scoring=\"accuracy\",\n",
    "#     cv=cv,\n",
    "#     n_jobs=4\n",
    "# )\n",
    "\n",
    "# svc_grid.fit(X_train, y_train)\n",
    "\n",
    "# print(f'best param:{svc_grid.best_params_}')\n",
    "# print(f'test score:{svc_grid.score(X_test, y_test)}')"
   ]
  },
  {
   "cell_type": "markdown",
   "metadata": {},
   "source": [
    "### 再学習"
   ]
  },
  {
   "cell_type": "code",
   "execution_count": 356,
   "metadata": {},
   "outputs": [],
   "source": [
    "# 5-Fold CV / Accuracy でモデルを評価する\n",
    "kf = StratifiedKFold(n_splits=5, shuffle=True, random_state=0)"
   ]
  },
  {
   "cell_type": "code",
   "execution_count": 357,
   "metadata": {},
   "outputs": [
    {
     "name": "stdout",
     "output_type": "stream",
     "text": [
      "RandomForestClassifier\n",
      "====================\n",
      "mean:0.8293704098926622, std:0.0211289714791781\n",
      "====================\n",
      "XGBClassifier\n",
      "====================\n",
      "mean:0.8170547988199109, std:0.009872336337193846\n",
      "====================\n",
      "LGBMClassifier\n",
      "====================\n",
      "mean:0.8181721172556651, std:0.006975759450561742\n",
      "====================\n",
      "LogisticRegression\n",
      "====================\n",
      "mean:0.8158935408951102, std:0.030022536812084617\n"
     ]
    }
   ],
   "source": [
    "rfc_best = RandomForestClassifier(**rfc_best_param)\n",
    "print('RandomForestClassifier')\n",
    "print('='*20)\n",
    "scores = cross_validate(rfc_best, X=train_feature, y=train_tagert, cv=kf)\n",
    "print(f'mean:{scores[\"test_score\"].mean()}, std:{scores[\"test_score\"].std()}')\n",
    "print('='*20)\n",
    "xgb_best = XGBClassifier(**xgb_best_param)\n",
    "print('XGBClassifier')\n",
    "print('='*20)\n",
    "scores = cross_validate(xgb_best, X=train_feature, y=train_tagert, cv=kf)\n",
    "print(f'mean:{scores[\"test_score\"].mean()}, std:{scores[\"test_score\"].std()}')\n",
    "print('='*20)\n",
    "lgb_best = LGBMClassifier(**lgb_best_param)\n",
    "print('LGBMClassifier')\n",
    "print('='*20)\n",
    "scores = cross_validate(lgb_best, X=train_feature, y=train_tagert, cv=kf)\n",
    "print(f'mean:{scores[\"test_score\"].mean()}, std:{scores[\"test_score\"].std()}')\n",
    "print('='*20)\n",
    "lr_best = LogisticRegression(**lr_best_param)\n",
    "print('LogisticRegression')\n",
    "print('='*20)\n",
    "scores = cross_validate(lr_best, X=train_feature, y=train_tagert, cv=kf)\n",
    "print(f'mean:{scores[\"test_score\"].mean()}, std:{scores[\"test_score\"].std()}')\n",
    "# print('='*20)\n",
    "# svc_best = SVC(**lr_best_param)\n",
    "# svc_best.fit(X_train, y_train)\n",
    "# print('SVC')\n",
    "# print('='*20)\n",
    "# print(svc_best.score(X_train, y_train))\n",
    "# print(svc_best.score(X_test, y_test))"
   ]
  },
  {
   "cell_type": "code",
   "execution_count": 358,
   "metadata": {},
   "outputs": [],
   "source": [
    "import numpy as np\n",
    "\n",
    "def average_model(\n",
    "    models:list,\n",
    "    ge:int,\n",
    "    train:pd.DataFrame,\n",
    "    test:pd.Series=None\n",
    "):\n",
    "    \n",
    "    sum_pred = 0\n",
    "    for model in models:\n",
    "        sum_pred += model.predict(train)\n",
    "    sum_pred = np.where(sum_pred >= ge, 1, 0)\n",
    "    if test is not None:\n",
    "        print(f'accuracy{(sum_pred == np.array(test)).sum()/len(train)}')\n",
    "    \n",
    "    return sum_pred"
   ]
  },
  {
   "cell_type": "markdown",
   "metadata": {},
   "source": [
    "# 推論"
   ]
  },
  {
   "cell_type": "code",
   "execution_count": 359,
   "metadata": {},
   "outputs": [
    {
     "data": {
      "text/plain": [
       "LogisticRegression(C=97, class_weight=None, dual=False, fit_intercept=True,\n",
       "                   intercept_scaling=1, l1_ratio=None, max_iter=100,\n",
       "                   multi_class='auto', n_jobs=None, penalty='l2',\n",
       "                   random_state=None, solver='lbfgs', tol=0.0001, verbose=0,\n",
       "                   warm_start=False)"
      ]
     },
     "execution_count": 359,
     "metadata": {},
     "output_type": "execute_result"
    }
   ],
   "source": [
    "rfc_best = RandomForestClassifier(**rfc_best_param)\n",
    "rfc_best.fit(train_feature, train_tagert)\n",
    "\n",
    "xgb_best = XGBClassifier(**xgb_best_param)\n",
    "xgb_best.fit(train_feature, train_tagert)\n",
    "\n",
    "lgb_best = LGBMClassifier(**lgb_best_param)\n",
    "lgb_best.fit(train_feature, train_tagert)\n",
    "\n",
    "lr_best = LogisticRegression(**lr_best_param)\n",
    "lr_best.fit(train_feature, train_tagert)\n",
    "\n",
    "# svc_best = SVC(**svc_best_param)\n",
    "# svc_best.fit(train_feature, train_tagert)"
   ]
  },
  {
   "cell_type": "code",
   "execution_count": 360,
   "metadata": {},
   "outputs": [],
   "source": [
    "# pred = average_model([rfc_best,xgb_best,lgb_best], test_feature)\n",
    "# pred = svc_best.predict(test_feature)\n",
    "pred_rfc = rfc_best.predict(test_feature)\n",
    "pred_xgb = xgb_best.predict(test_feature)\n",
    "pred_lgb = lgb_best.predict(test_feature)\n",
    "pred_lr = lr_best.predict(test_feature)\n",
    "# pred = average_model(\n",
    "#     [rfc_best,xgb_best,lgb_best,lr_best,svc_best],\n",
    "#     3,\n",
    "#     test_feature\n",
    "# )\n",
    "# pred = average_model([rfc,xgb,lgb], test_feature)\n",
    "# pred = lr.predict(test_feature)"
   ]
  },
  {
   "cell_type": "code",
   "execution_count": 302,
   "metadata": {},
   "outputs": [],
   "source": [
    "pd.concat(\n",
    "    [\n",
    "        pd.DataFrame(test.PassengerId, columns=['PassengerId']).reset_index(drop=True),\n",
    "        pd.DataFrame(pred_rfc, columns=['Survived'])\n",
    "    ],\n",
    "    axis=1\n",
    ").to_csv('output_rfc.csv', index=False)\n",
    "\n",
    "pd.concat(\n",
    "    [\n",
    "        pd.DataFrame(test.PassengerId, columns=['PassengerId']).reset_index(drop=True),\n",
    "        pd.DataFrame(pred_xgb, columns=['Survived'])\n",
    "    ],\n",
    "    axis=1\n",
    ").to_csv('output_xgb.csv', index=False)\n",
    "\n",
    "pd.concat(\n",
    "    [\n",
    "        pd.DataFrame(test.PassengerId, columns=['PassengerId']).reset_index(drop=True),\n",
    "        pd.DataFrame(pred_lgb, columns=['Survived'])\n",
    "    ],\n",
    "    axis=1\n",
    ").to_csv('output_lgb.csv', index=False)\n",
    "\n",
    "pd.concat(\n",
    "    [\n",
    "        pd.DataFrame(test.PassengerId, columns=['PassengerId']).reset_index(drop=True),\n",
    "        pd.DataFrame(pred_lr, columns=['Survived'])\n",
    "    ],\n",
    "    axis=1\n",
    ").to_csv('output_lr.csv', index=False)"
   ]
  },
  {
   "cell_type": "code",
   "execution_count": 194,
   "metadata": {},
   "outputs": [],
   "source": [
    "a = pd.read_csv('output.csv')\n",
    "b = pd.read_csv('output_1.csv')\n",
    "c = pd.read_csv('output_2.csv')"
   ]
  },
  {
   "cell_type": "code",
   "execution_count": 195,
   "metadata": {},
   "outputs": [
    {
     "data": {
      "text/plain": [
       "PassengerId    418\n",
       "Survived       389\n",
       "dtype: int64"
      ]
     },
     "execution_count": 195,
     "metadata": {},
     "output_type": "execute_result"
    }
   ],
   "source": [
    "(a==c).sum()"
   ]
  },
  {
   "cell_type": "code",
   "execution_count": 53,
   "metadata": {},
   "outputs": [
    {
     "data": {
      "text/html": [
       "<div>\n",
       "<style scoped>\n",
       "    .dataframe tbody tr th:only-of-type {\n",
       "        vertical-align: middle;\n",
       "    }\n",
       "\n",
       "    .dataframe tbody tr th {\n",
       "        vertical-align: top;\n",
       "    }\n",
       "\n",
       "    .dataframe thead th {\n",
       "        text-align: right;\n",
       "    }\n",
       "</style>\n",
       "<table border=\"1\" class=\"dataframe\">\n",
       "  <thead>\n",
       "    <tr style=\"text-align: right;\">\n",
       "      <th></th>\n",
       "      <th>PassengerId</th>\n",
       "      <th>Survived</th>\n",
       "      <th>Pclass</th>\n",
       "      <th>Name</th>\n",
       "      <th>Age</th>\n",
       "      <th>SibSp</th>\n",
       "      <th>Parch</th>\n",
       "      <th>Ticket</th>\n",
       "      <th>Fare</th>\n",
       "      <th>Cabin</th>\n",
       "      <th>...</th>\n",
       "      <th>FamilySize_bin_big</th>\n",
       "      <th>FamilySize_bin_mediam</th>\n",
       "      <th>FamilySize_bin_small</th>\n",
       "      <th>Cabin_ini_B</th>\n",
       "      <th>Cabin_ini_C</th>\n",
       "      <th>Cabin_ini_D</th>\n",
       "      <th>Cabin_ini_E</th>\n",
       "      <th>Cabin_ini_F</th>\n",
       "      <th>Cabin_ini_Rare</th>\n",
       "      <th>Cabin_ini_n</th>\n",
       "    </tr>\n",
       "  </thead>\n",
       "  <tbody>\n",
       "    <tr>\n",
       "      <th>891</th>\n",
       "      <td>892</td>\n",
       "      <td>9</td>\n",
       "      <td>3</td>\n",
       "      <td>Kelly, Mr. James</td>\n",
       "      <td>34.500000</td>\n",
       "      <td>0</td>\n",
       "      <td>0</td>\n",
       "      <td>330911</td>\n",
       "      <td>7.8292</td>\n",
       "      <td>NaN</td>\n",
       "      <td>...</td>\n",
       "      <td>0</td>\n",
       "      <td>0</td>\n",
       "      <td>0</td>\n",
       "      <td>0</td>\n",
       "      <td>0</td>\n",
       "      <td>0</td>\n",
       "      <td>0</td>\n",
       "      <td>0</td>\n",
       "      <td>0</td>\n",
       "      <td>1</td>\n",
       "    </tr>\n",
       "    <tr>\n",
       "      <th>892</th>\n",
       "      <td>893</td>\n",
       "      <td>9</td>\n",
       "      <td>3</td>\n",
       "      <td>Wilkes, Mrs. James (Ellen Needs)</td>\n",
       "      <td>47.000000</td>\n",
       "      <td>1</td>\n",
       "      <td>0</td>\n",
       "      <td>363272</td>\n",
       "      <td>7.0000</td>\n",
       "      <td>NaN</td>\n",
       "      <td>...</td>\n",
       "      <td>0</td>\n",
       "      <td>0</td>\n",
       "      <td>1</td>\n",
       "      <td>0</td>\n",
       "      <td>0</td>\n",
       "      <td>0</td>\n",
       "      <td>0</td>\n",
       "      <td>0</td>\n",
       "      <td>0</td>\n",
       "      <td>1</td>\n",
       "    </tr>\n",
       "    <tr>\n",
       "      <th>893</th>\n",
       "      <td>894</td>\n",
       "      <td>9</td>\n",
       "      <td>2</td>\n",
       "      <td>Myles, Mr. Thomas Francis</td>\n",
       "      <td>62.000000</td>\n",
       "      <td>0</td>\n",
       "      <td>0</td>\n",
       "      <td>240276</td>\n",
       "      <td>9.6875</td>\n",
       "      <td>NaN</td>\n",
       "      <td>...</td>\n",
       "      <td>0</td>\n",
       "      <td>0</td>\n",
       "      <td>0</td>\n",
       "      <td>0</td>\n",
       "      <td>0</td>\n",
       "      <td>0</td>\n",
       "      <td>0</td>\n",
       "      <td>0</td>\n",
       "      <td>0</td>\n",
       "      <td>1</td>\n",
       "    </tr>\n",
       "    <tr>\n",
       "      <th>894</th>\n",
       "      <td>895</td>\n",
       "      <td>9</td>\n",
       "      <td>3</td>\n",
       "      <td>Wirz, Mr. Albert</td>\n",
       "      <td>27.000000</td>\n",
       "      <td>0</td>\n",
       "      <td>0</td>\n",
       "      <td>315154</td>\n",
       "      <td>8.6625</td>\n",
       "      <td>NaN</td>\n",
       "      <td>...</td>\n",
       "      <td>0</td>\n",
       "      <td>0</td>\n",
       "      <td>0</td>\n",
       "      <td>0</td>\n",
       "      <td>0</td>\n",
       "      <td>0</td>\n",
       "      <td>0</td>\n",
       "      <td>0</td>\n",
       "      <td>0</td>\n",
       "      <td>1</td>\n",
       "    </tr>\n",
       "    <tr>\n",
       "      <th>895</th>\n",
       "      <td>896</td>\n",
       "      <td>9</td>\n",
       "      <td>3</td>\n",
       "      <td>Hirvonen, Mrs. Alexander (Helga E Lindqvist)</td>\n",
       "      <td>22.000000</td>\n",
       "      <td>1</td>\n",
       "      <td>1</td>\n",
       "      <td>3101298</td>\n",
       "      <td>12.2875</td>\n",
       "      <td>NaN</td>\n",
       "      <td>...</td>\n",
       "      <td>0</td>\n",
       "      <td>0</td>\n",
       "      <td>1</td>\n",
       "      <td>0</td>\n",
       "      <td>0</td>\n",
       "      <td>0</td>\n",
       "      <td>0</td>\n",
       "      <td>0</td>\n",
       "      <td>0</td>\n",
       "      <td>1</td>\n",
       "    </tr>\n",
       "    <tr>\n",
       "      <th>...</th>\n",
       "      <td>...</td>\n",
       "      <td>...</td>\n",
       "      <td>...</td>\n",
       "      <td>...</td>\n",
       "      <td>...</td>\n",
       "      <td>...</td>\n",
       "      <td>...</td>\n",
       "      <td>...</td>\n",
       "      <td>...</td>\n",
       "      <td>...</td>\n",
       "      <td>...</td>\n",
       "      <td>...</td>\n",
       "      <td>...</td>\n",
       "      <td>...</td>\n",
       "      <td>...</td>\n",
       "      <td>...</td>\n",
       "      <td>...</td>\n",
       "      <td>...</td>\n",
       "      <td>...</td>\n",
       "      <td>...</td>\n",
       "      <td>...</td>\n",
       "    </tr>\n",
       "    <tr>\n",
       "      <th>1304</th>\n",
       "      <td>1305</td>\n",
       "      <td>9</td>\n",
       "      <td>3</td>\n",
       "      <td>Spector, Mr. Woolf</td>\n",
       "      <td>32.252151</td>\n",
       "      <td>0</td>\n",
       "      <td>0</td>\n",
       "      <td>A.5. 3236</td>\n",
       "      <td>8.0500</td>\n",
       "      <td>NaN</td>\n",
       "      <td>...</td>\n",
       "      <td>0</td>\n",
       "      <td>0</td>\n",
       "      <td>0</td>\n",
       "      <td>0</td>\n",
       "      <td>0</td>\n",
       "      <td>0</td>\n",
       "      <td>0</td>\n",
       "      <td>0</td>\n",
       "      <td>0</td>\n",
       "      <td>1</td>\n",
       "    </tr>\n",
       "    <tr>\n",
       "      <th>1305</th>\n",
       "      <td>1306</td>\n",
       "      <td>9</td>\n",
       "      <td>1</td>\n",
       "      <td>Oliva y Ocana, Dona. Fermina</td>\n",
       "      <td>39.000000</td>\n",
       "      <td>0</td>\n",
       "      <td>0</td>\n",
       "      <td>PC 17758</td>\n",
       "      <td>108.9000</td>\n",
       "      <td>C105</td>\n",
       "      <td>...</td>\n",
       "      <td>0</td>\n",
       "      <td>0</td>\n",
       "      <td>0</td>\n",
       "      <td>0</td>\n",
       "      <td>1</td>\n",
       "      <td>0</td>\n",
       "      <td>0</td>\n",
       "      <td>0</td>\n",
       "      <td>0</td>\n",
       "      <td>0</td>\n",
       "    </tr>\n",
       "    <tr>\n",
       "      <th>1306</th>\n",
       "      <td>1307</td>\n",
       "      <td>9</td>\n",
       "      <td>3</td>\n",
       "      <td>Saether, Mr. Simon Sivertsen</td>\n",
       "      <td>38.500000</td>\n",
       "      <td>0</td>\n",
       "      <td>0</td>\n",
       "      <td>SOTON/O.Q. 3101262</td>\n",
       "      <td>7.2500</td>\n",
       "      <td>NaN</td>\n",
       "      <td>...</td>\n",
       "      <td>0</td>\n",
       "      <td>0</td>\n",
       "      <td>0</td>\n",
       "      <td>0</td>\n",
       "      <td>0</td>\n",
       "      <td>0</td>\n",
       "      <td>0</td>\n",
       "      <td>0</td>\n",
       "      <td>0</td>\n",
       "      <td>1</td>\n",
       "    </tr>\n",
       "    <tr>\n",
       "      <th>1307</th>\n",
       "      <td>1308</td>\n",
       "      <td>9</td>\n",
       "      <td>3</td>\n",
       "      <td>Ware, Mr. Frederick</td>\n",
       "      <td>32.252151</td>\n",
       "      <td>0</td>\n",
       "      <td>0</td>\n",
       "      <td>359309</td>\n",
       "      <td>8.0500</td>\n",
       "      <td>NaN</td>\n",
       "      <td>...</td>\n",
       "      <td>0</td>\n",
       "      <td>0</td>\n",
       "      <td>0</td>\n",
       "      <td>0</td>\n",
       "      <td>0</td>\n",
       "      <td>0</td>\n",
       "      <td>0</td>\n",
       "      <td>0</td>\n",
       "      <td>0</td>\n",
       "      <td>1</td>\n",
       "    </tr>\n",
       "    <tr>\n",
       "      <th>1308</th>\n",
       "      <td>1309</td>\n",
       "      <td>9</td>\n",
       "      <td>3</td>\n",
       "      <td>Peter, Master. Michael J</td>\n",
       "      <td>5.482642</td>\n",
       "      <td>1</td>\n",
       "      <td>1</td>\n",
       "      <td>2668</td>\n",
       "      <td>22.3583</td>\n",
       "      <td>NaN</td>\n",
       "      <td>...</td>\n",
       "      <td>0</td>\n",
       "      <td>0</td>\n",
       "      <td>1</td>\n",
       "      <td>0</td>\n",
       "      <td>0</td>\n",
       "      <td>0</td>\n",
       "      <td>0</td>\n",
       "      <td>0</td>\n",
       "      <td>0</td>\n",
       "      <td>1</td>\n",
       "    </tr>\n",
       "  </tbody>\n",
       "</table>\n",
       "<p>418 rows × 40 columns</p>\n",
       "</div>"
      ],
      "text/plain": [
       "      PassengerId  Survived  Pclass  \\\n",
       "891           892         9       3   \n",
       "892           893         9       3   \n",
       "893           894         9       2   \n",
       "894           895         9       3   \n",
       "895           896         9       3   \n",
       "...           ...       ...     ...   \n",
       "1304         1305         9       3   \n",
       "1305         1306         9       1   \n",
       "1306         1307         9       3   \n",
       "1307         1308         9       3   \n",
       "1308         1309         9       3   \n",
       "\n",
       "                                              Name        Age  SibSp  Parch  \\\n",
       "891                               Kelly, Mr. James  34.500000      0      0   \n",
       "892               Wilkes, Mrs. James (Ellen Needs)  47.000000      1      0   \n",
       "893                      Myles, Mr. Thomas Francis  62.000000      0      0   \n",
       "894                               Wirz, Mr. Albert  27.000000      0      0   \n",
       "895   Hirvonen, Mrs. Alexander (Helga E Lindqvist)  22.000000      1      1   \n",
       "...                                            ...        ...    ...    ...   \n",
       "1304                            Spector, Mr. Woolf  32.252151      0      0   \n",
       "1305                  Oliva y Ocana, Dona. Fermina  39.000000      0      0   \n",
       "1306                  Saether, Mr. Simon Sivertsen  38.500000      0      0   \n",
       "1307                           Ware, Mr. Frederick  32.252151      0      0   \n",
       "1308                      Peter, Master. Michael J   5.482642      1      1   \n",
       "\n",
       "                  Ticket      Fare Cabin  ... FamilySize_bin_big  \\\n",
       "891               330911    7.8292   NaN  ...                  0   \n",
       "892               363272    7.0000   NaN  ...                  0   \n",
       "893               240276    9.6875   NaN  ...                  0   \n",
       "894               315154    8.6625   NaN  ...                  0   \n",
       "895              3101298   12.2875   NaN  ...                  0   \n",
       "...                  ...       ...   ...  ...                ...   \n",
       "1304           A.5. 3236    8.0500   NaN  ...                  0   \n",
       "1305            PC 17758  108.9000  C105  ...                  0   \n",
       "1306  SOTON/O.Q. 3101262    7.2500   NaN  ...                  0   \n",
       "1307              359309    8.0500   NaN  ...                  0   \n",
       "1308                2668   22.3583   NaN  ...                  0   \n",
       "\n",
       "      FamilySize_bin_mediam  FamilySize_bin_small  Cabin_ini_B  Cabin_ini_C  \\\n",
       "891                       0                     0            0            0   \n",
       "892                       0                     1            0            0   \n",
       "893                       0                     0            0            0   \n",
       "894                       0                     0            0            0   \n",
       "895                       0                     1            0            0   \n",
       "...                     ...                   ...          ...          ...   \n",
       "1304                      0                     0            0            0   \n",
       "1305                      0                     0            0            1   \n",
       "1306                      0                     0            0            0   \n",
       "1307                      0                     0            0            0   \n",
       "1308                      0                     1            0            0   \n",
       "\n",
       "      Cabin_ini_D  Cabin_ini_E  Cabin_ini_F  Cabin_ini_Rare  Cabin_ini_n  \n",
       "891             0            0            0               0            1  \n",
       "892             0            0            0               0            1  \n",
       "893             0            0            0               0            1  \n",
       "894             0            0            0               0            1  \n",
       "895             0            0            0               0            1  \n",
       "...           ...          ...          ...             ...          ...  \n",
       "1304            0            0            0               0            1  \n",
       "1305            0            0            0               0            0  \n",
       "1306            0            0            0               0            1  \n",
       "1307            0            0            0               0            1  \n",
       "1308            0            0            0               0            1  \n",
       "\n",
       "[418 rows x 40 columns]"
      ]
     },
     "execution_count": 53,
     "metadata": {},
     "output_type": "execute_result"
    }
   ],
   "source": [
    "test"
   ]
  },
  {
   "cell_type": "code",
   "execution_count": null,
   "metadata": {},
   "outputs": [],
   "source": [
    "train_feature = train[feature_cols]\n",
    "train_tagert = train[target_col]\n",
    "X_train, X_test, y_train, y_test = train_test_split(\n",
    "    train_feature, train_tagert, test_size=0.2, random_state=0, stratify=train_tagert)"
   ]
  }
 ],
 "metadata": {
  "kernelspec": {
   "display_name": "Python 3",
   "language": "python",
   "name": "python3"
  },
  "language_info": {
   "codemirror_mode": {
    "name": "ipython",
    "version": 3
   },
   "file_extension": ".py",
   "mimetype": "text/x-python",
   "name": "python",
   "nbconvert_exporter": "python",
   "pygments_lexer": "ipython3",
   "version": "3.7.6"
  }
 },
 "nbformat": 4,
 "nbformat_minor": 4
}
