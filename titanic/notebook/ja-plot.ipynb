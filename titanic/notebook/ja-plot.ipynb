{
 "cells": [
  {
   "cell_type": "code",
   "execution_count": 264,
   "metadata": {},
   "outputs": [],
   "source": [
    "import pandas as pd\n",
    "import numpy as np\n",
    "\n",
    "import matplotlib.pyplot as plt\n",
    "import seaborn as sns"
   ]
  },
  {
   "cell_type": "code",
   "execution_count": 265,
   "metadata": {},
   "outputs": [
    {
     "name": "stdout",
     "output_type": "stream",
     "text": [
      "The size of the train data:(891, 12)\n",
      "The size of the test data:(418, 11)\n"
     ]
    }
   ],
   "source": [
    "train_raw = pd.read_csv('../data/raw//train.csv') #学習データ\n",
    "test_raw = pd.read_csv('../data/raw/test.csv') #テストデータ\n",
    "print('The size of the train data:' + str(train_raw.shape))\n",
    "print('The size of the test data:' + str(test_raw.shape))"
   ]
  },
  {
   "cell_type": "code",
   "execution_count": 266,
   "metadata": {},
   "outputs": [],
   "source": [
    "train_mid = train_raw.copy()\n",
    "test_mid = test_raw.copy()\n",
    "train_mid['train_or_test'] = 'Train' #学習データフラグ\n",
    "test_mid['train_or_test'] = 'Test' #テストデータフラグ\n",
    "test_mid['Survived'] = 9 #テストにSurvivedカラムを仮置き\n",
    "\n",
    "alldata = pd.concat(\n",
    "    [\n",
    "        train_mid,\n",
    "        test_mid\n",
    "    ],\n",
    "    sort=False,\n",
    "    axis=0\n",
    ").reset_index(drop=True)"
   ]
  },
  {
   "cell_type": "code",
   "execution_count": 267,
   "metadata": {},
   "outputs": [
    {
     "name": "stdout",
     "output_type": "stream",
     "text": [
      "(1309, 13)\n"
     ]
    },
    {
     "data": {
      "text/html": [
       "<div>\n",
       "<style scoped>\n",
       "    .dataframe tbody tr th:only-of-type {\n",
       "        vertical-align: middle;\n",
       "    }\n",
       "\n",
       "    .dataframe tbody tr th {\n",
       "        vertical-align: top;\n",
       "    }\n",
       "\n",
       "    .dataframe thead th {\n",
       "        text-align: right;\n",
       "    }\n",
       "</style>\n",
       "<table border=\"1\" class=\"dataframe\">\n",
       "  <thead>\n",
       "    <tr style=\"text-align: right;\">\n",
       "      <th></th>\n",
       "      <th>PassengerId</th>\n",
       "      <th>Survived</th>\n",
       "      <th>Pclass</th>\n",
       "      <th>Name</th>\n",
       "      <th>Sex</th>\n",
       "      <th>Age</th>\n",
       "      <th>SibSp</th>\n",
       "      <th>Parch</th>\n",
       "      <th>Ticket</th>\n",
       "      <th>Fare</th>\n",
       "      <th>Cabin</th>\n",
       "      <th>Embarked</th>\n",
       "      <th>train_or_test</th>\n",
       "    </tr>\n",
       "  </thead>\n",
       "  <tbody>\n",
       "    <tr>\n",
       "      <th>0</th>\n",
       "      <td>1</td>\n",
       "      <td>0</td>\n",
       "      <td>3</td>\n",
       "      <td>Braund, Mr. Owen Harris</td>\n",
       "      <td>male</td>\n",
       "      <td>22.0</td>\n",
       "      <td>1</td>\n",
       "      <td>0</td>\n",
       "      <td>A/5 21171</td>\n",
       "      <td>7.2500</td>\n",
       "      <td>NaN</td>\n",
       "      <td>S</td>\n",
       "      <td>Train</td>\n",
       "    </tr>\n",
       "    <tr>\n",
       "      <th>1</th>\n",
       "      <td>2</td>\n",
       "      <td>1</td>\n",
       "      <td>1</td>\n",
       "      <td>Cumings, Mrs. John Bradley (Florence Briggs Th...</td>\n",
       "      <td>female</td>\n",
       "      <td>38.0</td>\n",
       "      <td>1</td>\n",
       "      <td>0</td>\n",
       "      <td>PC 17599</td>\n",
       "      <td>71.2833</td>\n",
       "      <td>C85</td>\n",
       "      <td>C</td>\n",
       "      <td>Train</td>\n",
       "    </tr>\n",
       "    <tr>\n",
       "      <th>2</th>\n",
       "      <td>3</td>\n",
       "      <td>1</td>\n",
       "      <td>3</td>\n",
       "      <td>Heikkinen, Miss. Laina</td>\n",
       "      <td>female</td>\n",
       "      <td>26.0</td>\n",
       "      <td>0</td>\n",
       "      <td>0</td>\n",
       "      <td>STON/O2. 3101282</td>\n",
       "      <td>7.9250</td>\n",
       "      <td>NaN</td>\n",
       "      <td>S</td>\n",
       "      <td>Train</td>\n",
       "    </tr>\n",
       "    <tr>\n",
       "      <th>3</th>\n",
       "      <td>4</td>\n",
       "      <td>1</td>\n",
       "      <td>1</td>\n",
       "      <td>Futrelle, Mrs. Jacques Heath (Lily May Peel)</td>\n",
       "      <td>female</td>\n",
       "      <td>35.0</td>\n",
       "      <td>1</td>\n",
       "      <td>0</td>\n",
       "      <td>113803</td>\n",
       "      <td>53.1000</td>\n",
       "      <td>C123</td>\n",
       "      <td>S</td>\n",
       "      <td>Train</td>\n",
       "    </tr>\n",
       "    <tr>\n",
       "      <th>4</th>\n",
       "      <td>5</td>\n",
       "      <td>0</td>\n",
       "      <td>3</td>\n",
       "      <td>Allen, Mr. William Henry</td>\n",
       "      <td>male</td>\n",
       "      <td>35.0</td>\n",
       "      <td>0</td>\n",
       "      <td>0</td>\n",
       "      <td>373450</td>\n",
       "      <td>8.0500</td>\n",
       "      <td>NaN</td>\n",
       "      <td>S</td>\n",
       "      <td>Train</td>\n",
       "    </tr>\n",
       "  </tbody>\n",
       "</table>\n",
       "</div>"
      ],
      "text/plain": [
       "   PassengerId  Survived  Pclass  \\\n",
       "0            1         0       3   \n",
       "1            2         1       1   \n",
       "2            3         1       3   \n",
       "3            4         1       1   \n",
       "4            5         0       3   \n",
       "\n",
       "                                                Name     Sex   Age  SibSp  \\\n",
       "0                            Braund, Mr. Owen Harris    male  22.0      1   \n",
       "1  Cumings, Mrs. John Bradley (Florence Briggs Th...  female  38.0      1   \n",
       "2                             Heikkinen, Miss. Laina  female  26.0      0   \n",
       "3       Futrelle, Mrs. Jacques Heath (Lily May Peel)  female  35.0      1   \n",
       "4                           Allen, Mr. William Henry    male  35.0      0   \n",
       "\n",
       "   Parch            Ticket     Fare Cabin Embarked train_or_test  \n",
       "0      0         A/5 21171   7.2500   NaN        S         Train  \n",
       "1      0          PC 17599  71.2833   C85        C         Train  \n",
       "2      0  STON/O2. 3101282   7.9250   NaN        S         Train  \n",
       "3      0            113803  53.1000  C123        S         Train  \n",
       "4      0            373450   8.0500   NaN        S         Train  "
      ]
     },
     "execution_count": 267,
     "metadata": {},
     "output_type": "execute_result"
    }
   ],
   "source": [
    "print(alldata.shape)\n",
    "alldata.head()"
   ]
  },
  {
   "cell_type": "code",
   "execution_count": 268,
   "metadata": {},
   "outputs": [],
   "source": [
    "# Ticketの分析\n",
    "# 同一チケット\n",
    "for i, v in alldata.groupby(['Ticket']):\n",
    "    if len(v) > 5:\n",
    "        break"
   ]
  },
  {
   "cell_type": "code",
   "execution_count": 269,
   "metadata": {},
   "outputs": [
    {
     "data": {
      "text/html": [
       "<div>\n",
       "<style scoped>\n",
       "    .dataframe tbody tr th:only-of-type {\n",
       "        vertical-align: middle;\n",
       "    }\n",
       "\n",
       "    .dataframe tbody tr th {\n",
       "        vertical-align: top;\n",
       "    }\n",
       "\n",
       "    .dataframe thead th {\n",
       "        text-align: right;\n",
       "    }\n",
       "</style>\n",
       "<table border=\"1\" class=\"dataframe\">\n",
       "  <thead>\n",
       "    <tr style=\"text-align: right;\">\n",
       "      <th></th>\n",
       "      <th>PassengerId</th>\n",
       "      <th>Survived</th>\n",
       "      <th>Pclass</th>\n",
       "      <th>Name</th>\n",
       "      <th>Sex</th>\n",
       "      <th>Age</th>\n",
       "      <th>SibSp</th>\n",
       "      <th>Parch</th>\n",
       "      <th>Ticket</th>\n",
       "      <th>Fare</th>\n",
       "      <th>Cabin</th>\n",
       "      <th>Embarked</th>\n",
       "      <th>train_or_test</th>\n",
       "    </tr>\n",
       "  </thead>\n",
       "  <tbody>\n",
       "    <tr>\n",
       "      <th>297</th>\n",
       "      <td>298</td>\n",
       "      <td>0</td>\n",
       "      <td>1</td>\n",
       "      <td>Allison, Miss. Helen Loraine</td>\n",
       "      <td>female</td>\n",
       "      <td>2.00</td>\n",
       "      <td>1</td>\n",
       "      <td>2</td>\n",
       "      <td>113781</td>\n",
       "      <td>151.55</td>\n",
       "      <td>C22 C26</td>\n",
       "      <td>S</td>\n",
       "      <td>Train</td>\n",
       "    </tr>\n",
       "    <tr>\n",
       "      <th>305</th>\n",
       "      <td>306</td>\n",
       "      <td>1</td>\n",
       "      <td>1</td>\n",
       "      <td>Allison, Master. Hudson Trevor</td>\n",
       "      <td>male</td>\n",
       "      <td>0.92</td>\n",
       "      <td>1</td>\n",
       "      <td>2</td>\n",
       "      <td>113781</td>\n",
       "      <td>151.55</td>\n",
       "      <td>C22 C26</td>\n",
       "      <td>S</td>\n",
       "      <td>Train</td>\n",
       "    </tr>\n",
       "    <tr>\n",
       "      <th>498</th>\n",
       "      <td>499</td>\n",
       "      <td>0</td>\n",
       "      <td>1</td>\n",
       "      <td>Allison, Mrs. Hudson J C (Bessie Waldo Daniels)</td>\n",
       "      <td>female</td>\n",
       "      <td>25.00</td>\n",
       "      <td>1</td>\n",
       "      <td>2</td>\n",
       "      <td>113781</td>\n",
       "      <td>151.55</td>\n",
       "      <td>C22 C26</td>\n",
       "      <td>S</td>\n",
       "      <td>Train</td>\n",
       "    </tr>\n",
       "    <tr>\n",
       "      <th>708</th>\n",
       "      <td>709</td>\n",
       "      <td>1</td>\n",
       "      <td>1</td>\n",
       "      <td>Cleaver, Miss. Alice</td>\n",
       "      <td>female</td>\n",
       "      <td>22.00</td>\n",
       "      <td>0</td>\n",
       "      <td>0</td>\n",
       "      <td>113781</td>\n",
       "      <td>151.55</td>\n",
       "      <td>NaN</td>\n",
       "      <td>S</td>\n",
       "      <td>Train</td>\n",
       "    </tr>\n",
       "    <tr>\n",
       "      <th>1032</th>\n",
       "      <td>1033</td>\n",
       "      <td>9</td>\n",
       "      <td>1</td>\n",
       "      <td>Daniels, Miss. Sarah</td>\n",
       "      <td>female</td>\n",
       "      <td>33.00</td>\n",
       "      <td>0</td>\n",
       "      <td>0</td>\n",
       "      <td>113781</td>\n",
       "      <td>151.55</td>\n",
       "      <td>NaN</td>\n",
       "      <td>S</td>\n",
       "      <td>Test</td>\n",
       "    </tr>\n",
       "    <tr>\n",
       "      <th>1197</th>\n",
       "      <td>1198</td>\n",
       "      <td>9</td>\n",
       "      <td>1</td>\n",
       "      <td>Allison, Mr. Hudson Joshua Creighton</td>\n",
       "      <td>male</td>\n",
       "      <td>30.00</td>\n",
       "      <td>1</td>\n",
       "      <td>2</td>\n",
       "      <td>113781</td>\n",
       "      <td>151.55</td>\n",
       "      <td>C22 C26</td>\n",
       "      <td>S</td>\n",
       "      <td>Test</td>\n",
       "    </tr>\n",
       "  </tbody>\n",
       "</table>\n",
       "</div>"
      ],
      "text/plain": [
       "      PassengerId  Survived  Pclass  \\\n",
       "297           298         0       1   \n",
       "305           306         1       1   \n",
       "498           499         0       1   \n",
       "708           709         1       1   \n",
       "1032         1033         9       1   \n",
       "1197         1198         9       1   \n",
       "\n",
       "                                                 Name     Sex    Age  SibSp  \\\n",
       "297                      Allison, Miss. Helen Loraine  female   2.00      1   \n",
       "305                    Allison, Master. Hudson Trevor    male   0.92      1   \n",
       "498   Allison, Mrs. Hudson J C (Bessie Waldo Daniels)  female  25.00      1   \n",
       "708                              Cleaver, Miss. Alice  female  22.00      0   \n",
       "1032                             Daniels, Miss. Sarah  female  33.00      0   \n",
       "1197             Allison, Mr. Hudson Joshua Creighton    male  30.00      1   \n",
       "\n",
       "      Parch  Ticket    Fare    Cabin Embarked train_or_test  \n",
       "297       2  113781  151.55  C22 C26        S         Train  \n",
       "305       2  113781  151.55  C22 C26        S         Train  \n",
       "498       2  113781  151.55  C22 C26        S         Train  \n",
       "708       0  113781  151.55      NaN        S         Train  \n",
       "1032      0  113781  151.55      NaN        S          Test  \n",
       "1197      2  113781  151.55  C22 C26        S          Test  "
      ]
     },
     "execution_count": 269,
     "metadata": {},
     "output_type": "execute_result"
    }
   ],
   "source": [
    "v"
   ]
  },
  {
   "cell_type": "code",
   "execution_count": 270,
   "metadata": {},
   "outputs": [
    {
     "data": {
      "text/html": [
       "<div>\n",
       "<style scoped>\n",
       "    .dataframe tbody tr th:only-of-type {\n",
       "        vertical-align: middle;\n",
       "    }\n",
       "\n",
       "    .dataframe tbody tr th {\n",
       "        vertical-align: top;\n",
       "    }\n",
       "\n",
       "    .dataframe thead th {\n",
       "        text-align: right;\n",
       "    }\n",
       "</style>\n",
       "<table border=\"1\" class=\"dataframe\">\n",
       "  <thead>\n",
       "    <tr style=\"text-align: right;\">\n",
       "      <th></th>\n",
       "      <th>PassengerId</th>\n",
       "      <th>Survived</th>\n",
       "      <th>Pclass</th>\n",
       "      <th>Name</th>\n",
       "      <th>Sex</th>\n",
       "      <th>Age</th>\n",
       "      <th>SibSp</th>\n",
       "      <th>Parch</th>\n",
       "      <th>Ticket</th>\n",
       "      <th>Fare</th>\n",
       "      <th>Cabin</th>\n",
       "      <th>Embarked</th>\n",
       "      <th>train_or_test</th>\n",
       "    </tr>\n",
       "  </thead>\n",
       "  <tbody>\n",
       "    <tr>\n",
       "      <th>297</th>\n",
       "      <td>298</td>\n",
       "      <td>0</td>\n",
       "      <td>1</td>\n",
       "      <td>Allison, Miss. Helen Loraine</td>\n",
       "      <td>female</td>\n",
       "      <td>2.00</td>\n",
       "      <td>1</td>\n",
       "      <td>2</td>\n",
       "      <td>113781</td>\n",
       "      <td>151.55</td>\n",
       "      <td>C22 C26</td>\n",
       "      <td>S</td>\n",
       "      <td>Train</td>\n",
       "    </tr>\n",
       "    <tr>\n",
       "      <th>305</th>\n",
       "      <td>306</td>\n",
       "      <td>1</td>\n",
       "      <td>1</td>\n",
       "      <td>Allison, Master. Hudson Trevor</td>\n",
       "      <td>male</td>\n",
       "      <td>0.92</td>\n",
       "      <td>1</td>\n",
       "      <td>2</td>\n",
       "      <td>113781</td>\n",
       "      <td>151.55</td>\n",
       "      <td>C22 C26</td>\n",
       "      <td>S</td>\n",
       "      <td>Train</td>\n",
       "    </tr>\n",
       "    <tr>\n",
       "      <th>498</th>\n",
       "      <td>499</td>\n",
       "      <td>0</td>\n",
       "      <td>1</td>\n",
       "      <td>Allison, Mrs. Hudson J C (Bessie Waldo Daniels)</td>\n",
       "      <td>female</td>\n",
       "      <td>25.00</td>\n",
       "      <td>1</td>\n",
       "      <td>2</td>\n",
       "      <td>113781</td>\n",
       "      <td>151.55</td>\n",
       "      <td>C22 C26</td>\n",
       "      <td>S</td>\n",
       "      <td>Train</td>\n",
       "    </tr>\n",
       "    <tr>\n",
       "      <th>708</th>\n",
       "      <td>709</td>\n",
       "      <td>1</td>\n",
       "      <td>1</td>\n",
       "      <td>Cleaver, Miss. Alice</td>\n",
       "      <td>female</td>\n",
       "      <td>22.00</td>\n",
       "      <td>0</td>\n",
       "      <td>0</td>\n",
       "      <td>113781</td>\n",
       "      <td>151.55</td>\n",
       "      <td>NaN</td>\n",
       "      <td>S</td>\n",
       "      <td>Train</td>\n",
       "    </tr>\n",
       "    <tr>\n",
       "      <th>1032</th>\n",
       "      <td>1033</td>\n",
       "      <td>9</td>\n",
       "      <td>1</td>\n",
       "      <td>Daniels, Miss. Sarah</td>\n",
       "      <td>female</td>\n",
       "      <td>33.00</td>\n",
       "      <td>0</td>\n",
       "      <td>0</td>\n",
       "      <td>113781</td>\n",
       "      <td>151.55</td>\n",
       "      <td>NaN</td>\n",
       "      <td>S</td>\n",
       "      <td>Test</td>\n",
       "    </tr>\n",
       "    <tr>\n",
       "      <th>1197</th>\n",
       "      <td>1198</td>\n",
       "      <td>9</td>\n",
       "      <td>1</td>\n",
       "      <td>Allison, Mr. Hudson Joshua Creighton</td>\n",
       "      <td>male</td>\n",
       "      <td>30.00</td>\n",
       "      <td>1</td>\n",
       "      <td>2</td>\n",
       "      <td>113781</td>\n",
       "      <td>151.55</td>\n",
       "      <td>C22 C26</td>\n",
       "      <td>S</td>\n",
       "      <td>Test</td>\n",
       "    </tr>\n",
       "  </tbody>\n",
       "</table>\n",
       "</div>"
      ],
      "text/plain": [
       "      PassengerId  Survived  Pclass  \\\n",
       "297           298         0       1   \n",
       "305           306         1       1   \n",
       "498           499         0       1   \n",
       "708           709         1       1   \n",
       "1032         1033         9       1   \n",
       "1197         1198         9       1   \n",
       "\n",
       "                                                 Name     Sex    Age  SibSp  \\\n",
       "297                      Allison, Miss. Helen Loraine  female   2.00      1   \n",
       "305                    Allison, Master. Hudson Trevor    male   0.92      1   \n",
       "498   Allison, Mrs. Hudson J C (Bessie Waldo Daniels)  female  25.00      1   \n",
       "708                              Cleaver, Miss. Alice  female  22.00      0   \n",
       "1032                             Daniels, Miss. Sarah  female  33.00      0   \n",
       "1197             Allison, Mr. Hudson Joshua Creighton    male  30.00      1   \n",
       "\n",
       "      Parch  Ticket    Fare    Cabin Embarked train_or_test  \n",
       "297       2  113781  151.55  C22 C26        S         Train  \n",
       "305       2  113781  151.55  C22 C26        S         Train  \n",
       "498       2  113781  151.55  C22 C26        S         Train  \n",
       "708       0  113781  151.55      NaN        S         Train  \n",
       "1032      0  113781  151.55      NaN        S          Test  \n",
       "1197      2  113781  151.55  C22 C26        S          Test  "
      ]
     },
     "execution_count": 270,
     "metadata": {},
     "output_type": "execute_result"
    }
   ],
   "source": [
    "v"
   ]
  },
  {
   "cell_type": "code",
   "execution_count": 271,
   "metadata": {},
   "outputs": [],
   "source": [
    "# Ticket頻度\n",
    "alldata.loc[:, 'TicketFreq'] = alldata.groupby(['Ticket'])['PassengerId'].transform('count')"
   ]
  },
  {
   "cell_type": "code",
   "execution_count": 272,
   "metadata": {},
   "outputs": [
    {
     "data": {
      "text/plain": [
       "<matplotlib.axes._subplots.AxesSubplot at 0x7f5317dcf510>"
      ]
     },
     "execution_count": 272,
     "metadata": {},
     "output_type": "execute_result"
    },
    {
     "data": {
      "image/png": "[encoded data removed]",
      "text/plain": [
       "<Figure size 432x288 with 1 Axes>"
      ]
     },
     "metadata": {
      "needs_background": "light"
     },
     "output_type": "display_data"
    }
   ],
   "source": [
    "import seaborn as sns\n",
    "sns.distplot(alldata.TicketFreq)"
   ]
  },
  {
   "cell_type": "code",
   "execution_count": 273,
   "metadata": {},
   "outputs": [],
   "source": [
    "# テストデータの敬称(honorific)を抽出\n",
    "alldata['honorific'] = alldata['Name'].map(lambda x: x.split(', ')[1].split('. ')[0])"
   ]
  },
  {
   "cell_type": "code",
   "execution_count": 274,
   "metadata": {},
   "outputs": [],
   "source": [
    "# Ageを補完\n",
    "# for i,v in alldata.groupby(['honorific']):\n",
    "#     if v.Age.isnull().sum() > 0:\n",
    "#         alldata.loc[(alldata.honorific==i) & alldata.Age.isnull(), 'Age'] = v.Age.mean()"
   ]
  },
  {
   "cell_type": "code",
   "execution_count": 275,
   "metadata": {},
   "outputs": [],
   "source": [
    "# Embarkedには最頻値を代入\n",
    "alldata.Embarked.fillna(alldata.Embarked.mode()[0], inplace=True)\n",
    "# Fareには中央値を代入\n",
    "alldata.Fare.fillna(alldata.Fare.median(), inplace=True)"
   ]
  },
  {
   "cell_type": "code",
   "execution_count": 276,
   "metadata": {},
   "outputs": [
    {
     "data": {
      "text/plain": [
       "<matplotlib.axes._subplots.AxesSubplot at 0x7f5317cbef10>"
      ]
     },
     "execution_count": 276,
     "metadata": {},
     "output_type": "execute_result"
    },
    {
     "data": {
      "image/png": "[encoded data removed]",
      "text/plain": [
       "<Figure size 1440x720 with 1 Axes>"
      ]
     },
     "metadata": {
      "needs_background": "light"
     },
     "output_type": "display_data"
    },
    {
     "data": {
      "image/png": "[encoded data removed]",
      "text/plain": [
       "<Figure size 1440x720 with 1 Axes>"
      ]
     },
     "metadata": {
      "needs_background": "light"
     },
     "output_type": "display_data"
    }
   ],
   "source": [
    "# Fareを対数変換した後のプロット\n",
    "plt.figure(figsize=(20,10))\n",
    "sns.distplot(alldata.query('train_or_test == \"Train\"').Fare)\n",
    "sns.distplot(alldata.query('train_or_test == \"Test\"').Fare)\n",
    "plt.figure(figsize=(20,10))\n",
    "sns.distplot(np.log1p(alldata.query('train_or_test == \"Train\"').Fare))\n",
    "sns.distplot(np.log1p(alldata.query('train_or_test == \"Test\"').Fare))"
   ]
  },
  {
   "cell_type": "code",
   "execution_count": 277,
   "metadata": {},
   "outputs": [],
   "source": [
    "alldata.loc[:, 'Fare_log'] = np.log1p(alldata.Fare)\n",
    "\n",
    "# print(alldata.query('Fare_log < 2 & train_or_test == \"Train\"').Survived.sum()/len(alldata.query('Fare_log < 2 & train_or_test == \"Train\"')))\n",
    "# print(alldata.query('Fare_log > 4 & train_or_test == \"Train\"').Survived.sum()/len(alldata.query('Fare_log > 4 & train_or_test == \"Train\"')))\n",
    "# print(alldata.query('4 >= Fare_log >= 2 & train_or_test == \"Train\"').Survived.sum()/len(alldata.query('4 >= Fare_log >= 2 & train_or_test == \"Train\"')))"
   ]
  },
  {
   "cell_type": "code",
   "execution_count": 278,
   "metadata": {},
   "outputs": [],
   "source": [
    "# Fareの分割\n",
    "# alldata['Fare_bin'] = 'low'\n",
    "# alldata.loc[alldata['Fare_log']>4, 'Fare_bin'] = 'high'\n",
    "# alldata.loc[(alldata['Fare']>=2) & (alldata['Fare']<=4), 'Fare_bin'] = 'middle'\n",
    "alldata.loc[:, 'Fare_bin'] = pd.qcut(alldata.Fare, 14)\n",
    "# 敬称(honorific)の加工\n",
    "alldata['honorific'].replace(['Col','Dr', 'Rev'], 'Rare',inplace=True) #少数派の敬称を統合\n",
    "alldata['honorific'].replace('Mlle', 'Miss',inplace=True) #Missに統合\n",
    "alldata['honorific'].replace('Ms', 'Miss',inplace=True) #Missに統合\n",
    "# Familysize\n",
    "alldata['FamilySize'] = alldata['Parch'] + alldata['SibSp'] + 1 #ALLデータ\n",
    "# isAlne\n",
    "# alldata.loc[:, 'isAlne'] = 1\n",
    "# alldata.loc[alldata['FamilySize']>1, 'isAlne'] = 0\n",
    "# FamilySizeを離散化\n",
    "alldata['FamilySize_bin'] = 'big'\n",
    "alldata.loc[alldata['FamilySize']==1,'FamilySize_bin'] = 'alone'\n",
    "alldata.loc[(alldata['FamilySize']>=2) & (alldata['FamilySize']<=4),'FamilySize_bin'] = 'small'\n",
    "alldata.loc[(alldata['FamilySize']>=5) & (alldata['FamilySize']<=7),'FamilySize_bin'] = 'mediam'\n",
    "# Cabinの頭文字\n",
    "alldata['Cabin_ini'] = alldata['Cabin'].map(lambda x:str(x)[0])\n",
    "alldata['Cabin_ini'].replace(['G','T'], 'Rare',inplace=True) #少数派のCabin_iniを統合"
   ]
  },
  {
   "cell_type": "code",
   "execution_count": 279,
   "metadata": {},
   "outputs": [],
   "source": [
    "id_col = 'PassengerId'\n",
    "target_col = 'Survived'\n",
    "# feature_cols = ['Pclass', 'Sex', 'Age', 'SibSp','Parch', 'Fare', 'Fare_bin', 'Embarked','honorific', 'FamilySize', 'FamilySize_bin', 'Cabin_ini']\n",
    "# feature_cols = ['Pclass', 'Sex', 'SibSp', 'Fare_bin', 'Embarked','honorific', 'FamilySize_bin', 'Cabin_ini']\n",
    "drop_col = ['PassengerId','Survived', 'Name', 'Fare', 'Ticket', 'Cabin', 'train_or_test', 'Age', 'Parch', 'FamilySize', 'SibSp', 'Fare_log']"
   ]
  },
  {
   "cell_type": "code",
   "execution_count": 280,
   "metadata": {},
   "outputs": [],
   "source": [
    "# Pclassをオブジェクト型に変換\n",
    "alldata.Pclass = alldata.Pclass.astype('str')"
   ]
  },
  {
   "cell_type": "code",
   "execution_count": 281,
   "metadata": {},
   "outputs": [],
   "source": [
    "# カテゴリカル変数\n",
    "# cat_col = ['Pclass','Sex','Embarked','honorific','Fare_bin','FamilySize_bin','Cabin_ini']\n",
    "cat_col = ['Pclass','Sex','Embarked','honorific','Cabin_ini', 'FamilySize_bin', 'Fare_bin']"
   ]
  },
  {
   "cell_type": "code",
   "execution_count": 282,
   "metadata": {},
   "outputs": [],
   "source": [
    "# カテゴリ特徴量についてラベルエンコーディング\n",
    "from sklearn.preprocessing import LabelEncoder\n",
    "le = LabelEncoder()\n",
    "for col in cat_col:\n",
    "    alldata.loc[:, col] = le.fit_transform(alldata[col])"
   ]
  },
  {
   "cell_type": "code",
   "execution_count": 283,
   "metadata": {},
   "outputs": [
    {
     "data": {
      "text/plain": [
       "PassengerId          0\n",
       "Survived             0\n",
       "Pclass               0\n",
       "Name                 0\n",
       "Sex                  0\n",
       "Age                263\n",
       "SibSp                0\n",
       "Parch                0\n",
       "Ticket               0\n",
       "Fare                 0\n",
       "Cabin             1014\n",
       "Embarked             0\n",
       "train_or_test        0\n",
       "TicketFreq           0\n",
       "honorific            0\n",
       "Fare_log             0\n",
       "Fare_bin             0\n",
       "FamilySize           0\n",
       "FamilySize_bin       0\n",
       "Cabin_ini            0\n",
       "dtype: int64"
      ]
     },
     "execution_count": 283,
     "metadata": {},
     "output_type": "execute_result"
    }
   ],
   "source": [
    "# 欠損値補完\n",
    "alldata.isnull().sum()"
   ]
  },
  {
   "cell_type": "code",
   "execution_count": 284,
   "metadata": {},
   "outputs": [],
   "source": [
    "alldata = pd.get_dummies(alldata, drop_first=True, columns=cat_col)"
   ]
  },
  {
   "cell_type": "code",
   "execution_count": 285,
   "metadata": {},
   "outputs": [
    {
     "data": {
      "text/plain": [
       "Index(['PassengerId', 'Survived', 'Name', 'Age', 'SibSp', 'Parch', 'Ticket',\n",
       "       'Fare', 'Cabin', 'train_or_test', 'TicketFreq', 'Fare_log',\n",
       "       'FamilySize', 'Pclass_1', 'Pclass_2', 'Sex_1', 'Embarked_1',\n",
       "       'Embarked_2', 'honorific_1', 'honorific_2', 'honorific_3',\n",
       "       'honorific_4', 'honorific_5', 'honorific_6', 'honorific_7',\n",
       "       'honorific_8', 'honorific_9', 'honorific_10', 'honorific_11',\n",
       "       'honorific_12', 'honorific_13', 'Cabin_ini_1', 'Cabin_ini_2',\n",
       "       'Cabin_ini_3', 'Cabin_ini_4', 'Cabin_ini_5', 'Cabin_ini_6',\n",
       "       'Cabin_ini_7', 'FamilySize_bin_1', 'FamilySize_bin_2',\n",
       "       'FamilySize_bin_3', 'Fare_bin_1', 'Fare_bin_2', 'Fare_bin_3',\n",
       "       'Fare_bin_4', 'Fare_bin_5', 'Fare_bin_6', 'Fare_bin_7', 'Fare_bin_8',\n",
       "       'Fare_bin_9', 'Fare_bin_10', 'Fare_bin_11', 'Fare_bin_12',\n",
       "       'Fare_bin_13'],\n",
       "      dtype='object')"
      ]
     },
     "execution_count": 285,
     "metadata": {},
     "output_type": "execute_result"
    }
   ],
   "source": [
    "alldata.columns"
   ]
  },
  {
   "cell_type": "code",
   "execution_count": 286,
   "metadata": {},
   "outputs": [],
   "source": [
    "train = alldata.query('train_or_test == \"Train\"')\n",
    "test = alldata.query('train_or_test == \"Test\"')"
   ]
  },
  {
   "cell_type": "code",
   "execution_count": 287,
   "metadata": {},
   "outputs": [],
   "source": [
    "from sklearn.model_selection import train_test_split"
   ]
  },
  {
   "cell_type": "code",
   "execution_count": 288,
   "metadata": {},
   "outputs": [],
   "source": [
    "train_feature = train.drop(columns=drop_col)\n",
    "test_feature = test.drop(columns=drop_col)\n",
    "train_tagert = train[target_col]\n",
    "X_train, X_test, y_train, y_test = train_test_split(\n",
    "    train_feature, train_tagert, test_size=0.2, random_state=0, stratify=train_tagert)"
   ]
  },
  {
   "cell_type": "code",
   "execution_count": 289,
   "metadata": {},
   "outputs": [],
   "source": [
    "from sklearn.ensemble import RandomForestClassifier\n",
    "from xgboost import XGBClassifier\n",
    "from lightgbm import LGBMClassifier\n",
    "from sklearn.svm import SVC\n",
    "from sklearn.linear_model import LogisticRegression"
   ]
  },
  {
   "cell_type": "markdown",
   "metadata": {},
   "source": [
    "## ベースライン"
   ]
  },
  {
   "cell_type": "code",
   "execution_count": 290,
   "metadata": {},
   "outputs": [
    {
     "name": "stdout",
     "output_type": "stream",
     "text": [
      "survive rate:0.38342696629213485\n"
     ]
    }
   ],
   "source": [
    "survive_rate = y_train.sum()/len(y_train)\n",
    "print(f'survive rate:{survive_rate}')"
   ]
  },
  {
   "cell_type": "code",
   "execution_count": 291,
   "metadata": {},
   "outputs": [
    {
     "name": "stdout",
     "output_type": "stream",
     "text": [
      "base line accuracy: 0.6165730337078652\n"
     ]
    }
   ],
   "source": [
    "print(f'base line accuracy: {1 - survive_rate}')"
   ]
  },
  {
   "cell_type": "code",
   "execution_count": 292,
   "metadata": {},
   "outputs": [
    {
     "name": "stdout",
     "output_type": "stream",
     "text": [
      "RandomForestClassifier\n",
      "====================\n",
      "accuracy of train set: 0.9199438202247191\n",
      "accuracy of test set: 0.776536312849162\n"
     ]
    }
   ],
   "source": [
    "rfc = RandomForestClassifier(random_state=0)\n",
    "rfc.fit(X_train, y_train)\n",
    "print('RandomForestClassifier')\n",
    "print('='*20)\n",
    "print(f'accuracy of train set: {rfc.score(X_train, y_train)}')\n",
    "print(f'accuracy of test set: {rfc.score(X_test, y_test)}')"
   ]
  },
  {
   "cell_type": "code",
   "execution_count": 293,
   "metadata": {},
   "outputs": [
    {
     "name": "stdout",
     "output_type": "stream",
     "text": [
      "XGBClassifier\n",
      "====================\n",
      "accuracy of train set: 0.8778089887640449\n",
      "accuracy of train set: 0.7932960893854749\n"
     ]
    }
   ],
   "source": [
    "xgb = XGBClassifier(random_state=0)\n",
    "xgb.fit(X_train, y_train)\n",
    "print('XGBClassifier')\n",
    "print('='*20)\n",
    "print(f'accuracy of train set: {xgb.score(X_train, y_train)}')\n",
    "print(f'accuracy of train set: {xgb.score(X_test, y_test)}')"
   ]
  },
  {
   "cell_type": "code",
   "execution_count": 294,
   "metadata": {},
   "outputs": [
    {
     "name": "stdout",
     "output_type": "stream",
     "text": [
      "LGBMClassifier\n",
      "====================\n",
      "accuracy of train set: 0.8932584269662921\n",
      "accuracy of train set: 0.7988826815642458\n"
     ]
    }
   ],
   "source": [
    "lgb = LGBMClassifier(random_state=0)\n",
    "lgb.fit(X_train, y_train)\n",
    "print('LGBMClassifier')\n",
    "print('='*20)\n",
    "print(f'accuracy of train set: {lgb.score(X_train, y_train)}')\n",
    "print(f'accuracy of train set: {lgb.score(X_test, y_test)}')"
   ]
  },
  {
   "cell_type": "code",
   "execution_count": 295,
   "metadata": {},
   "outputs": [
    {
     "name": "stdout",
     "output_type": "stream",
     "text": [
      "SVC\n",
      "====================\n",
      "accuracy of train set: 0.8426966292134831\n",
      "accuracy of train set: 0.8156424581005587\n"
     ]
    }
   ],
   "source": [
    "svc = SVC(random_state=0)\n",
    "svc.fit(X_train, y_train)\n",
    "print('SVC')\n",
    "print('='*20)\n",
    "print(f'accuracy of train set: {svc.score(X_train, y_train)}')\n",
    "print(f'accuracy of train set: {svc.score(X_test, y_test)}')"
   ]
  },
  {
   "cell_type": "code",
   "execution_count": 296,
   "metadata": {},
   "outputs": [
    {
     "name": "stdout",
     "output_type": "stream",
     "text": [
      "LogisticRegression\n",
      "====================\n",
      "accuracy of train set: 0.8426966292134831\n",
      "accuracy of train set: 0.8156424581005587\n"
     ]
    }
   ],
   "source": [
    "lr = LogisticRegression(random_state=0)\n",
    "lr.fit(X_train, y_train)\n",
    "print('LogisticRegression')\n",
    "print('='*20)\n",
    "print(f'accuracy of train set: {lr.score(X_train, y_train)}')\n",
    "print(f'accuracy of train set: {lr.score(X_test, y_test)}')"
   ]
  },
  {
   "cell_type": "code",
   "execution_count": 297,
   "metadata": {},
   "outputs": [],
   "source": [
    "import matplotlib.pyplot as plt"
   ]
  },
  {
   "cell_type": "code",
   "execution_count": 298,
   "metadata": {},
   "outputs": [
    {
     "data": {
      "image/png": "[encoded data removed]",
      "text/plain": [
       "<Figure size 1440x504 with 3 Axes>"
      ]
     },
     "metadata": {
      "needs_background": "light"
     },
     "output_type": "display_data"
    }
   ],
   "source": [
    "model_dict = {'RandomForestClassifier': rfc, 'XGBClassifier': xgb, 'LGBMClassifier': lgb}\n",
    "plt.figure(figsize=(20,7))\n",
    "i = 1\n",
    "for model_nm, model in model_dict.items():\n",
    "    plt.subplot(1,3,i)\n",
    "    plt.barh(X_train.columns, model.feature_importances_, label=model_nm)\n",
    "    plt.title(model_nm)\n",
    "    i += 1"
   ]
  },
  {
   "cell_type": "code",
   "execution_count": 299,
   "metadata": {},
   "outputs": [
    {
     "data": {
      "text/plain": [
       "<BarContainer object of 42 artists>"
      ]
     },
     "execution_count": 299,
     "metadata": {},
     "output_type": "execute_result"
    },
    {
     "data": {
      "image/png": "[encoded data removed]",
      "text/plain": [
       "<Figure size 1440x720 with 1 Axes>"
      ]
     },
     "metadata": {
      "needs_background": "light"
     },
     "output_type": "display_data"
    }
   ],
   "source": [
    "import numpy as np\n",
    "plt.figure(figsize=(20,10))\n",
    "plt.barh(np.array(X_train.columns),lr.coef_[0])"
   ]
  },
  {
   "cell_type": "markdown",
   "metadata": {},
   "source": [
    "# 特徴量選択"
   ]
  },
  {
   "cell_type": "code",
   "execution_count": 300,
   "metadata": {},
   "outputs": [],
   "source": [
    "# from sklearn.linear_model import LogisticRegression\n",
    "# lr = LogisticRegression(random_state=0)\n",
    "# lr.fit(X_train, y_train)\n",
    "# print('LogisticRegression')\n",
    "# print('='*20)\n",
    "# print(f'accuracy of train set: {lr.score(X_train, y_train)}')\n",
    "# print(f'accuracy of train set: {lr.score(X_test, y_test)}')"
   ]
  },
  {
   "cell_type": "markdown",
   "metadata": {},
   "source": [
    "## パラメータチューニング"
   ]
  },
  {
   "cell_type": "code",
   "execution_count": 301,
   "metadata": {},
   "outputs": [],
   "source": [
    "from sklearn.model_selection import StratifiedKFold, cross_validate"
   ]
  },
  {
   "cell_type": "code",
   "execution_count": 302,
   "metadata": {},
   "outputs": [],
   "source": [
    "import optuna"
   ]
  },
  {
   "cell_type": "code",
   "execution_count": 303,
   "metadata": {},
   "outputs": [],
   "source": [
    "cv = 5"
   ]
  },
  {
   "cell_type": "code",
   "execution_count": 314,
   "metadata": {},
   "outputs": [
    {
     "name": "stderr",
     "output_type": "stream",
     "text": [
      "\u001b[32m[I 2020-01-21 09:01:33,128]\u001b[0m Finished trial#0 resulted in value: 0.8427065891854625. Current best value is 0.8427065891854625 with parameters: {'max_depth': 10, 'min_samples_leaf': 3, 'min_samples_split': 8, 'criterion': 'entropy', 'max_features': 10}.\u001b[0m\n",
      "\u001b[32m[I 2020-01-21 09:01:34,091]\u001b[0m Finished trial#1 resulted in value: 0.8314586821629074. Current best value is 0.8427065891854625 with parameters: {'max_depth': 10, 'min_samples_leaf': 3, 'min_samples_split': 8, 'criterion': 'entropy', 'max_features': 10}.\u001b[0m\n",
      "\u001b[32m[I 2020-01-21 09:01:35,074]\u001b[0m Finished trial#2 resulted in value: 0.8384713877671623. Current best value is 0.8427065891854625 with parameters: {'max_depth': 10, 'min_samples_leaf': 3, 'min_samples_split': 8, 'criterion': 'entropy', 'max_features': 10}.\u001b[0m\n",
      "\u001b[32m[I 2020-01-21 09:01:35,970]\u001b[0m Finished trial#3 resulted in value: 0.8356741849699596. Current best value is 0.8427065891854625 with parameters: {'max_depth': 10, 'min_samples_leaf': 3, 'min_samples_split': 8, 'criterion': 'entropy', 'max_features': 10}.\u001b[0m\n",
      "\u001b[32m[I 2020-01-21 09:01:36,897]\u001b[0m Finished trial#4 resulted in value: 0.8412784398699891. Current best value is 0.8427065891854625 with parameters: {'max_depth': 10, 'min_samples_leaf': 3, 'min_samples_split': 8, 'criterion': 'entropy', 'max_features': 10}.\u001b[0m\n",
      "\u001b[32m[I 2020-01-21 09:01:37,796]\u001b[0m Finished trial#5 resulted in value: 0.837082635674185. Current best value is 0.8427065891854625 with parameters: {'max_depth': 10, 'min_samples_leaf': 3, 'min_samples_split': 8, 'criterion': 'entropy', 'max_features': 10}.\u001b[0m\n",
      "\u001b[32m[I 2020-01-21 09:01:38,716]\u001b[0m Finished trial#6 resulted in value: 0.8427164384910864. Current best value is 0.8427164384910864 with parameters: {'max_depth': 6, 'min_samples_leaf': 1, 'min_samples_split': 9, 'criterion': 'entropy', 'max_features': 10}.\u001b[0m\n",
      "\u001b[32m[I 2020-01-21 09:01:39,669]\u001b[0m Finished trial#7 resulted in value: 0.8398995370826358. Current best value is 0.8427164384910864 with parameters: {'max_depth': 6, 'min_samples_leaf': 1, 'min_samples_split': 9, 'criterion': 'entropy', 'max_features': 10}.\u001b[0m\n",
      "\u001b[32m[I 2020-01-21 09:01:40,623]\u001b[0m Finished trial#8 resulted in value: 0.8399192356938837. Current best value is 0.8427164384910864 with parameters: {'max_depth': 6, 'min_samples_leaf': 1, 'min_samples_split': 9, 'criterion': 'entropy', 'max_features': 10}.\u001b[0m\n",
      "\u001b[32m[I 2020-01-21 09:01:41,576]\u001b[0m Finished trial#9 resulted in value: 0.841298138481237. Current best value is 0.8427164384910864 with parameters: {'max_depth': 6, 'min_samples_leaf': 1, 'min_samples_split': 9, 'criterion': 'entropy', 'max_features': 10}.\u001b[0m\n",
      "\u001b[32m[I 2020-01-21 09:01:42,507]\u001b[0m Finished trial#10 resulted in value: 0.8328966807840047. Current best value is 0.8427164384910864 with parameters: {'max_depth': 6, 'min_samples_leaf': 1, 'min_samples_split': 9, 'criterion': 'entropy', 'max_features': 10}.\u001b[0m\n",
      "\u001b[32m[I 2020-01-21 09:01:43,462]\u001b[0m Finished trial#11 resulted in value: 0.8356741849699596. Current best value is 0.8427164384910864 with parameters: {'max_depth': 6, 'min_samples_leaf': 1, 'min_samples_split': 9, 'criterion': 'entropy', 'max_features': 10}.\u001b[0m\n",
      "\u001b[32m[I 2020-01-21 09:01:44,420]\u001b[0m Finished trial#12 resulted in value: 0.825844577957254. Current best value is 0.8427164384910864 with parameters: {'max_depth': 6, 'min_samples_leaf': 1, 'min_samples_split': 9, 'criterion': 'entropy', 'max_features': 10}.\u001b[0m\n",
      "\u001b[32m[I 2020-01-21 09:01:45,342]\u001b[0m Finished trial#13 resulted in value: 0.8286417807544568. Current best value is 0.8427164384910864 with parameters: {'max_depth': 6, 'min_samples_leaf': 1, 'min_samples_split': 9, 'criterion': 'entropy', 'max_features': 10}.\u001b[0m\n",
      "\u001b[32m[I 2020-01-21 09:01:46,281]\u001b[0m Finished trial#14 resulted in value: 0.8342854328769821. Current best value is 0.8427164384910864 with parameters: {'max_depth': 6, 'min_samples_leaf': 1, 'min_samples_split': 9, 'criterion': 'entropy', 'max_features': 10}.\u001b[0m\n",
      "\u001b[32m[I 2020-01-21 09:01:47,233]\u001b[0m Finished trial#15 resulted in value: 0.837082635674185. Current best value is 0.8427164384910864 with parameters: {'max_depth': 6, 'min_samples_leaf': 1, 'min_samples_split': 9, 'criterion': 'entropy', 'max_features': 10}.\u001b[0m\n",
      "\u001b[32m[I 2020-01-21 09:01:48,161]\u001b[0m Finished trial#16 resulted in value: 0.837082635674185. Current best value is 0.8427164384910864 with parameters: {'max_depth': 6, 'min_samples_leaf': 1, 'min_samples_split': 9, 'criterion': 'entropy', 'max_features': 10}.\u001b[0m\n",
      "\u001b[32m[I 2020-01-21 09:01:49,082]\u001b[0m Finished trial#17 resulted in value: 0.8286417807544568. Current best value is 0.8427164384910864 with parameters: {'max_depth': 6, 'min_samples_leaf': 1, 'min_samples_split': 9, 'criterion': 'entropy', 'max_features': 10}.\u001b[0m\n",
      "\u001b[32m[I 2020-01-21 09:01:50,036]\u001b[0m Finished trial#18 resulted in value: 0.837082635674185. Current best value is 0.8427164384910864 with parameters: {'max_depth': 6, 'min_samples_leaf': 1, 'min_samples_split': 9, 'criterion': 'entropy', 'max_features': 10}.\u001b[0m\n",
      "\u001b[32m[I 2020-01-21 09:01:51,001]\u001b[0m Finished trial#19 resulted in value: 0.841298138481237. Current best value is 0.8427164384910864 with parameters: {'max_depth': 6, 'min_samples_leaf': 1, 'min_samples_split': 9, 'criterion': 'entropy', 'max_features': 10}.\u001b[0m\n",
      "\u001b[32m[I 2020-01-21 09:01:51,972]\u001b[0m Finished trial#20 resulted in value: 0.8342755835713582. Current best value is 0.8427164384910864 with parameters: {'max_depth': 6, 'min_samples_leaf': 1, 'min_samples_split': 9, 'criterion': 'entropy', 'max_features': 10}.\u001b[0m\n",
      "\u001b[32m[I 2020-01-21 09:01:52,973]\u001b[0m Finished trial#21 resulted in value: 0.841298138481237. Current best value is 0.8427164384910864 with parameters: {'max_depth': 6, 'min_samples_leaf': 1, 'min_samples_split': 9, 'criterion': 'entropy', 'max_features': 10}.\u001b[0m\n",
      "\u001b[32m[I 2020-01-21 09:01:53,977]\u001b[0m Finished trial#22 resulted in value: 0.841298138481237. Current best value is 0.8427164384910864 with parameters: {'max_depth': 6, 'min_samples_leaf': 1, 'min_samples_split': 9, 'criterion': 'entropy', 'max_features': 10}.\u001b[0m\n",
      "\u001b[32m[I 2020-01-21 09:01:54,922]\u001b[0m Finished trial#23 resulted in value: 0.8342657342657344. Current best value is 0.8427164384910864 with parameters: {'max_depth': 6, 'min_samples_leaf': 1, 'min_samples_split': 9, 'criterion': 'entropy', 'max_features': 10}.\u001b[0m\n",
      "\u001b[32m[I 2020-01-21 09:01:55,876]\u001b[0m Finished trial#24 resulted in value: 0.837082635674185. Current best value is 0.8427164384910864 with parameters: {'max_depth': 6, 'min_samples_leaf': 1, 'min_samples_split': 9, 'criterion': 'entropy', 'max_features': 10}.\u001b[0m\n",
      "\u001b[32m[I 2020-01-21 09:01:56,801]\u001b[0m Finished trial#25 resulted in value: 0.8384910863784103. Current best value is 0.8427164384910864 with parameters: {'max_depth': 6, 'min_samples_leaf': 1, 'min_samples_split': 9, 'criterion': 'entropy', 'max_features': 10}.\u001b[0m\n",
      "\u001b[32m[I 2020-01-21 09:01:57,768]\u001b[0m Finished trial#26 resulted in value: 0.8385009356840343. Current best value is 0.8427164384910864 with parameters: {'max_depth': 6, 'min_samples_leaf': 1, 'min_samples_split': 9, 'criterion': 'entropy', 'max_features': 10}.\u001b[0m\n",
      "\u001b[32m[I 2020-01-21 09:01:58,725]\u001b[0m Finished trial#27 resulted in value: 0.8398896877770117. Current best value is 0.8427164384910864 with parameters: {'max_depth': 6, 'min_samples_leaf': 1, 'min_samples_split': 9, 'criterion': 'entropy', 'max_features': 10}.\u001b[0m\n",
      "\u001b[32m[I 2020-01-21 09:01:59,858]\u001b[0m Finished trial#28 resulted in value: 0.8356741849699596. Current best value is 0.8427164384910864 with parameters: {'max_depth': 6, 'min_samples_leaf': 1, 'min_samples_split': 9, 'criterion': 'entropy', 'max_features': 10}.\u001b[0m\n",
      "\u001b[32m[I 2020-01-21 09:02:00,898]\u001b[0m Finished trial#29 resulted in value: 0.8427164384910864. Current best value is 0.8427164384910864 with parameters: {'max_depth': 6, 'min_samples_leaf': 1, 'min_samples_split': 9, 'criterion': 'entropy', 'max_features': 10}.\u001b[0m\n",
      "\u001b[32m[I 2020-01-21 09:02:01,871]\u001b[0m Finished trial#30 resulted in value: 0.841298138481237. Current best value is 0.8427164384910864 with parameters: {'max_depth': 6, 'min_samples_leaf': 1, 'min_samples_split': 9, 'criterion': 'entropy', 'max_features': 10}.\u001b[0m\n",
      "\u001b[32m[I 2020-01-21 09:02:02,850]\u001b[0m Finished trial#31 resulted in value: 0.8427164384910864. Current best value is 0.8427164384910864 with parameters: {'max_depth': 6, 'min_samples_leaf': 1, 'min_samples_split': 9, 'criterion': 'entropy', 'max_features': 10}.\u001b[0m\n",
      "\u001b[32m[I 2020-01-21 09:02:03,813]\u001b[0m Finished trial#32 resulted in value: 0.8314586821629074. Current best value is 0.8427164384910864 with parameters: {'max_depth': 6, 'min_samples_leaf': 1, 'min_samples_split': 9, 'criterion': 'entropy', 'max_features': 10}.\u001b[0m\n",
      "\u001b[32m[I 2020-01-21 09:02:04,774]\u001b[0m Finished trial#33 resulted in value: 0.8356840342755836. Current best value is 0.8427164384910864 with parameters: {'max_depth': 6, 'min_samples_leaf': 1, 'min_samples_split': 9, 'criterion': 'entropy', 'max_features': 10}.\u001b[0m\n",
      "\u001b[32m[I 2020-01-21 09:02:05,697]\u001b[0m Finished trial#34 resulted in value: 0.8385009356840343. Current best value is 0.8427164384910864 with parameters: {'max_depth': 6, 'min_samples_leaf': 1, 'min_samples_split': 9, 'criterion': 'entropy', 'max_features': 10}.\u001b[0m\n",
      "\u001b[32m[I 2020-01-21 09:02:06,643]\u001b[0m Finished trial#35 resulted in value: 0.8286516300600809. Current best value is 0.8427164384910864 with parameters: {'max_depth': 6, 'min_samples_leaf': 1, 'min_samples_split': 9, 'criterion': 'entropy', 'max_features': 10}.\u001b[0m\n",
      "\u001b[32m[I 2020-01-21 09:02:07,590]\u001b[0m Finished trial#36 resulted in value: 0.837082635674185. Current best value is 0.8427164384910864 with parameters: {'max_depth': 6, 'min_samples_leaf': 1, 'min_samples_split': 9, 'criterion': 'entropy', 'max_features': 10}.\u001b[0m\n",
      "\u001b[32m[I 2020-01-21 09:02:08,523]\u001b[0m Finished trial#37 resulted in value: 0.837092484979809. Current best value is 0.8427164384910864 with parameters: {'max_depth': 6, 'min_samples_leaf': 1, 'min_samples_split': 9, 'criterion': 'entropy', 'max_features': 10}.\u001b[0m\n",
      "\u001b[32m[I 2020-01-21 09:02:09,625]\u001b[0m Finished trial#38 resulted in value: 0.8441150398896878. Current best value is 0.8441150398896878 with parameters: {'max_depth': 9, 'min_samples_leaf': 1, 'min_samples_split': 11, 'criterion': 'gini', 'max_features': 9}.\u001b[0m\n",
      "\u001b[32m[I 2020-01-21 09:02:10,667]\u001b[0m Finished trial#39 resulted in value: 0.8384910863784103. Current best value is 0.8441150398896878 with parameters: {'max_depth': 9, 'min_samples_leaf': 1, 'min_samples_split': 11, 'criterion': 'gini', 'max_features': 9}.\u001b[0m\n",
      "\u001b[32m[I 2020-01-21 09:02:11,624]\u001b[0m Finished trial#40 resulted in value: 0.8357037328868315. Current best value is 0.8441150398896878 with parameters: {'max_depth': 9, 'min_samples_leaf': 1, 'min_samples_split': 11, 'criterion': 'gini', 'max_features': 9}.\u001b[0m\n",
      "\u001b[32m[I 2020-01-21 09:02:12,604]\u001b[0m Finished trial#41 resulted in value: 0.8384910863784103. Current best value is 0.8441150398896878 with parameters: {'max_depth': 9, 'min_samples_leaf': 1, 'min_samples_split': 11, 'criterion': 'gini', 'max_features': 9}.\u001b[0m\n",
      "\u001b[32m[I 2020-01-21 09:02:13,653]\u001b[0m Finished trial#42 resulted in value: 0.8398896877770117. Current best value is 0.8441150398896878 with parameters: {'max_depth': 9, 'min_samples_leaf': 1, 'min_samples_split': 11, 'criterion': 'gini', 'max_features': 9}.\u001b[0m\n",
      "\u001b[32m[I 2020-01-21 09:02:14,653]\u001b[0m Finished trial#43 resulted in value: 0.841307987786861. Current best value is 0.8441150398896878 with parameters: {'max_depth': 9, 'min_samples_leaf': 1, 'min_samples_split': 11, 'criterion': 'gini', 'max_features': 9}.\u001b[0m\n",
      "\u001b[32m[I 2020-01-21 09:02:15,724]\u001b[0m Finished trial#44 resulted in value: 0.841298138481237. Current best value is 0.8441150398896878 with parameters: {'max_depth': 9, 'min_samples_leaf': 1, 'min_samples_split': 11, 'criterion': 'gini', 'max_features': 9}.\u001b[0m\n",
      "\u001b[32m[I 2020-01-21 09:02:16,759]\u001b[0m Finished trial#45 resulted in value: 0.8342854328769821. Current best value is 0.8441150398896878 with parameters: {'max_depth': 9, 'min_samples_leaf': 1, 'min_samples_split': 11, 'criterion': 'gini', 'max_features': 9}.\u001b[0m\n",
      "\u001b[32m[I 2020-01-21 09:02:17,810]\u001b[0m Finished trial#46 resulted in value: 0.837092484979809. Current best value is 0.8441150398896878 with parameters: {'max_depth': 9, 'min_samples_leaf': 1, 'min_samples_split': 11, 'criterion': 'gini', 'max_features': 9}.\u001b[0m\n",
      "\u001b[32m[I 2020-01-21 09:02:18,771]\u001b[0m Finished trial#47 resulted in value: 0.8356643356643356. Current best value is 0.8441150398896878 with parameters: {'max_depth': 9, 'min_samples_leaf': 1, 'min_samples_split': 11, 'criterion': 'gini', 'max_features': 9}.\u001b[0m\n",
      "\u001b[32m[I 2020-01-21 09:02:19,713]\u001b[0m Finished trial#48 resulted in value: 0.8328769821727569. Current best value is 0.8441150398896878 with parameters: {'max_depth': 9, 'min_samples_leaf': 1, 'min_samples_split': 11, 'criterion': 'gini', 'max_features': 9}.\u001b[0m\n",
      "\u001b[32m[I 2020-01-21 09:02:20,696]\u001b[0m Finished trial#49 resulted in value: 0.8328572835615089. Current best value is 0.8441150398896878 with parameters: {'max_depth': 9, 'min_samples_leaf': 1, 'min_samples_split': 11, 'criterion': 'gini', 'max_features': 9}.\u001b[0m\n",
      "\u001b[32m[I 2020-01-21 09:02:21,669]\u001b[0m Finished trial#50 resulted in value: 0.841298138481237. Current best value is 0.8441150398896878 with parameters: {'max_depth': 9, 'min_samples_leaf': 1, 'min_samples_split': 11, 'criterion': 'gini', 'max_features': 9}.\u001b[0m\n",
      "\u001b[32m[I 2020-01-21 09:02:22,724]\u001b[0m Finished trial#51 resulted in value: 0.841307987786861. Current best value is 0.8441150398896878 with parameters: {'max_depth': 9, 'min_samples_leaf': 1, 'min_samples_split': 11, 'criterion': 'gini', 'max_features': 9}.\u001b[0m\n",
      "\u001b[32m[I 2020-01-21 09:02:23,704]\u001b[0m Finished trial#52 resulted in value: 0.841307987786861. Current best value is 0.8441150398896878 with parameters: {'max_depth': 9, 'min_samples_leaf': 1, 'min_samples_split': 11, 'criterion': 'gini', 'max_features': 9}.\u001b[0m\n",
      "\u001b[32m[I 2020-01-21 09:02:24,723]\u001b[0m Finished trial#53 resulted in value: 0.8342755835713582. Current best value is 0.8441150398896878 with parameters: {'max_depth': 9, 'min_samples_leaf': 1, 'min_samples_split': 11, 'criterion': 'gini', 'max_features': 9}.\u001b[0m\n",
      "\u001b[32m[I 2020-01-21 09:02:25,711]\u001b[0m Finished trial#54 resulted in value: 0.8370924849798088. Current best value is 0.8441150398896878 with parameters: {'max_depth': 9, 'min_samples_leaf': 1, 'min_samples_split': 11, 'criterion': 'gini', 'max_features': 9}.\u001b[0m\n",
      "\u001b[32m[I 2020-01-21 09:02:26,667]\u001b[0m Finished trial#55 resulted in value: 0.8384812370727863. Current best value is 0.8441150398896878 with parameters: {'max_depth': 9, 'min_samples_leaf': 1, 'min_samples_split': 11, 'criterion': 'gini', 'max_features': 9}.\u001b[0m\n",
      "\u001b[32m[I 2020-01-21 09:02:27,690]\u001b[0m Finished trial#56 resulted in value: 0.8384910863784103. Current best value is 0.8441150398896878 with parameters: {'max_depth': 9, 'min_samples_leaf': 1, 'min_samples_split': 11, 'criterion': 'gini', 'max_features': 9}.\u001b[0m\n",
      "\u001b[32m[I 2020-01-21 09:02:28,756]\u001b[0m Finished trial#57 resulted in value: 0.8384713877671623. Current best value is 0.8441150398896878 with parameters: {'max_depth': 9, 'min_samples_leaf': 1, 'min_samples_split': 11, 'criterion': 'gini', 'max_features': 9}.\u001b[0m\n",
      "\u001b[32m[I 2020-01-21 09:02:29,753]\u001b[0m Finished trial#58 resulted in value: 0.8412882891756132. Current best value is 0.8441150398896878 with parameters: {'max_depth': 9, 'min_samples_leaf': 1, 'min_samples_split': 11, 'criterion': 'gini', 'max_features': 9}.\u001b[0m\n",
      "\u001b[32m[I 2020-01-21 09:02:30,739]\u001b[0m Finished trial#59 resulted in value: 0.837082635674185. Current best value is 0.8441150398896878 with parameters: {'max_depth': 9, 'min_samples_leaf': 1, 'min_samples_split': 11, 'criterion': 'gini', 'max_features': 9}.\u001b[0m\n",
      "\u001b[32m[I 2020-01-21 09:02:31,768]\u001b[0m Finished trial#60 resulted in value: 0.8356840342755835. Current best value is 0.8441150398896878 with parameters: {'max_depth': 9, 'min_samples_leaf': 1, 'min_samples_split': 11, 'criterion': 'gini', 'max_features': 9}.\u001b[0m\n",
      "\u001b[32m[I 2020-01-21 09:02:32,737]\u001b[0m Finished trial#61 resulted in value: 0.841307987786861. Current best value is 0.8441150398896878 with parameters: {'max_depth': 9, 'min_samples_leaf': 1, 'min_samples_split': 11, 'criterion': 'gini', 'max_features': 9}.\u001b[0m\n",
      "\u001b[32m[I 2020-01-21 09:02:33,754]\u001b[0m Finished trial#62 resulted in value: 0.841298138481237. Current best value is 0.8441150398896878 with parameters: {'max_depth': 9, 'min_samples_leaf': 1, 'min_samples_split': 11, 'criterion': 'gini', 'max_features': 9}.\u001b[0m\n",
      "\u001b[32m[I 2020-01-21 09:02:34,859]\u001b[0m Finished trial#63 resulted in value: 0.8398896877770117. Current best value is 0.8441150398896878 with parameters: {'max_depth': 9, 'min_samples_leaf': 1, 'min_samples_split': 11, 'criterion': 'gini', 'max_features': 9}.\u001b[0m\n",
      "\u001b[32m[I 2020-01-21 09:02:35,878]\u001b[0m Finished trial#64 resulted in value: 0.8384812370727863. Current best value is 0.8441150398896878 with parameters: {'max_depth': 9, 'min_samples_leaf': 1, 'min_samples_split': 11, 'criterion': 'gini', 'max_features': 9}.\u001b[0m\n",
      "\u001b[32m[I 2020-01-21 09:02:36,890]\u001b[0m Finished trial#65 resulted in value: 0.8384812370727864. Current best value is 0.8441150398896878 with parameters: {'max_depth': 9, 'min_samples_leaf': 1, 'min_samples_split': 11, 'criterion': 'gini', 'max_features': 9}.\u001b[0m\n",
      "\u001b[32m[I 2020-01-21 09:02:37,875]\u001b[0m Finished trial#66 resulted in value: 0.8399093863882596. Current best value is 0.8441150398896878 with parameters: {'max_depth': 9, 'min_samples_leaf': 1, 'min_samples_split': 11, 'criterion': 'gini', 'max_features': 9}.\u001b[0m\n",
      "\u001b[32m[I 2020-01-21 09:02:38,828]\u001b[0m Finished trial#67 resulted in value: 0.8342854328769823. Current best value is 0.8441150398896878 with parameters: {'max_depth': 9, 'min_samples_leaf': 1, 'min_samples_split': 11, 'criterion': 'gini', 'max_features': 9}.\u001b[0m\n",
      "\u001b[32m[I 2020-01-21 09:02:39,769]\u001b[0m Finished trial#68 resulted in value: 0.8385107849896581. Current best value is 0.8441150398896878 with parameters: {'max_depth': 9, 'min_samples_leaf': 1, 'min_samples_split': 11, 'criterion': 'gini', 'max_features': 9}.\u001b[0m\n",
      "\u001b[32m[I 2020-01-21 09:02:40,700]\u001b[0m Finished trial#69 resulted in value: 0.8300502314586822. Current best value is 0.8441150398896878 with parameters: {'max_depth': 9, 'min_samples_leaf': 1, 'min_samples_split': 11, 'criterion': 'gini', 'max_features': 9}.\u001b[0m\n",
      "\u001b[32m[I 2020-01-21 09:02:41,745]\u001b[0m Finished trial#70 resulted in value: 0.8384910863784103. Current best value is 0.8441150398896878 with parameters: {'max_depth': 9, 'min_samples_leaf': 1, 'min_samples_split': 11, 'criterion': 'gini', 'max_features': 9}.\u001b[0m\n",
      "\u001b[32m[I 2020-01-21 09:02:42,764]\u001b[0m Finished trial#71 resulted in value: 0.841307987786861. Current best value is 0.8441150398896878 with parameters: {'max_depth': 9, 'min_samples_leaf': 1, 'min_samples_split': 11, 'criterion': 'gini', 'max_features': 9}.\u001b[0m\n",
      "\u001b[32m[I 2020-01-21 09:02:43,786]\u001b[0m Finished trial#72 resulted in value: 0.841307987786861. Current best value is 0.8441150398896878 with parameters: {'max_depth': 9, 'min_samples_leaf': 1, 'min_samples_split': 11, 'criterion': 'gini', 'max_features': 9}.\u001b[0m\n",
      "\u001b[32m[I 2020-01-21 09:02:44,732]\u001b[0m Finished trial#73 resulted in value: 0.841307987786861. Current best value is 0.8441150398896878 with parameters: {'max_depth': 9, 'min_samples_leaf': 1, 'min_samples_split': 11, 'criterion': 'gini', 'max_features': 9}.\u001b[0m\n",
      "\u001b[32m[I 2020-01-21 09:02:45,716]\u001b[0m Finished trial#74 resulted in value: 0.841307987786861. Current best value is 0.8441150398896878 with parameters: {'max_depth': 9, 'min_samples_leaf': 1, 'min_samples_split': 11, 'criterion': 'gini', 'max_features': 9}.\u001b[0m\n",
      "\u001b[32m[I 2020-01-21 09:02:46,668]\u001b[0m Finished trial#75 resulted in value: 0.8370727863685611. Current best value is 0.8441150398896878 with parameters: {'max_depth': 9, 'min_samples_leaf': 1, 'min_samples_split': 11, 'criterion': 'gini', 'max_features': 9}.\u001b[0m\n",
      "\u001b[32m[I 2020-01-21 09:02:47,626]\u001b[0m Finished trial#76 resulted in value: 0.8384812370727864. Current best value is 0.8441150398896878 with parameters: {'max_depth': 9, 'min_samples_leaf': 1, 'min_samples_split': 11, 'criterion': 'gini', 'max_features': 9}.\u001b[0m\n",
      "\u001b[32m[I 2020-01-21 09:02:48,720]\u001b[0m Finished trial#77 resulted in value: 0.8385009356840343. Current best value is 0.8441150398896878 with parameters: {'max_depth': 9, 'min_samples_leaf': 1, 'min_samples_split': 11, 'criterion': 'gini', 'max_features': 9}.\u001b[0m\n",
      "\u001b[32m[I 2020-01-21 09:02:49,795]\u001b[0m Finished trial#78 resulted in value: 0.841298138481237. Current best value is 0.8441150398896878 with parameters: {'max_depth': 9, 'min_samples_leaf': 1, 'min_samples_split': 11, 'criterion': 'gini', 'max_features': 9}.\u001b[0m\n",
      "\u001b[32m[I 2020-01-21 09:02:50,782]\u001b[0m Finished trial#79 resulted in value: 0.8384812370727863. Current best value is 0.8441150398896878 with parameters: {'max_depth': 9, 'min_samples_leaf': 1, 'min_samples_split': 11, 'criterion': 'gini', 'max_features': 9}.\u001b[0m\n",
      "\u001b[32m[I 2020-01-21 09:02:51,836]\u001b[0m Finished trial#80 resulted in value: 0.8356938835812076. Current best value is 0.8441150398896878 with parameters: {'max_depth': 9, 'min_samples_leaf': 1, 'min_samples_split': 11, 'criterion': 'gini', 'max_features': 9}.\u001b[0m\n",
      "\u001b[32m[I 2020-01-21 09:02:52,939]\u001b[0m Finished trial#81 resulted in value: 0.841307987786861. Current best value is 0.8441150398896878 with parameters: {'max_depth': 9, 'min_samples_leaf': 1, 'min_samples_split': 11, 'criterion': 'gini', 'max_features': 9}.\u001b[0m\n",
      "\u001b[32m[I 2020-01-21 09:02:54,013]\u001b[0m Finished trial#82 resulted in value: 0.841317837092485. Current best value is 0.8441150398896878 with parameters: {'max_depth': 9, 'min_samples_leaf': 1, 'min_samples_split': 11, 'criterion': 'gini', 'max_features': 9}.\u001b[0m\n",
      "\u001b[32m[I 2020-01-21 09:02:54,991]\u001b[0m Finished trial#83 resulted in value: 0.8384910863784103. Current best value is 0.8441150398896878 with parameters: {'max_depth': 9, 'min_samples_leaf': 1, 'min_samples_split': 11, 'criterion': 'gini', 'max_features': 9}.\u001b[0m\n",
      "\u001b[32m[I 2020-01-21 09:02:55,968]\u001b[0m Finished trial#84 resulted in value: 0.8385107849896581. Current best value is 0.8441150398896878 with parameters: {'max_depth': 9, 'min_samples_leaf': 1, 'min_samples_split': 11, 'criterion': 'gini', 'max_features': 9}.\u001b[0m\n",
      "\u001b[32m[I 2020-01-21 09:02:56,941]\u001b[0m Finished trial#85 resulted in value: 0.837082635674185. Current best value is 0.8441150398896878 with parameters: {'max_depth': 9, 'min_samples_leaf': 1, 'min_samples_split': 11, 'criterion': 'gini', 'max_features': 9}.\u001b[0m\n",
      "\u001b[32m[I 2020-01-21 09:02:57,925]\u001b[0m Finished trial#86 resulted in value: 0.837082635674185. Current best value is 0.8441150398896878 with parameters: {'max_depth': 9, 'min_samples_leaf': 1, 'min_samples_split': 11, 'criterion': 'gini', 'max_features': 9}.\u001b[0m\n",
      "\u001b[32m[I 2020-01-21 09:02:58,914]\u001b[0m Finished trial#87 resulted in value: 0.841317837092485. Current best value is 0.8441150398896878 with parameters: {'max_depth': 9, 'min_samples_leaf': 1, 'min_samples_split': 11, 'criterion': 'gini', 'max_features': 9}.\u001b[0m\n",
      "\u001b[32m[I 2020-01-21 09:02:59,834]\u001b[0m Finished trial#88 resulted in value: 0.8385107849896583. Current best value is 0.8441150398896878 with parameters: {'max_depth': 9, 'min_samples_leaf': 1, 'min_samples_split': 11, 'criterion': 'gini', 'max_features': 9}.\u001b[0m\n",
      "\u001b[32m[I 2020-01-21 09:03:00,810]\u001b[0m Finished trial#89 resulted in value: 0.8328769821727569. Current best value is 0.8441150398896878 with parameters: {'max_depth': 9, 'min_samples_leaf': 1, 'min_samples_split': 11, 'criterion': 'gini', 'max_features': 9}.\u001b[0m\n",
      "\u001b[32m[I 2020-01-21 09:03:01,861]\u001b[0m Finished trial#90 resulted in value: 0.8385009356840343. Current best value is 0.8441150398896878 with parameters: {'max_depth': 9, 'min_samples_leaf': 1, 'min_samples_split': 11, 'criterion': 'gini', 'max_features': 9}.\u001b[0m\n",
      "\u001b[32m[I 2020-01-21 09:03:03,064]\u001b[0m Finished trial#91 resulted in value: 0.841307987786861. Current best value is 0.8441150398896878 with parameters: {'max_depth': 9, 'min_samples_leaf': 1, 'min_samples_split': 11, 'criterion': 'gini', 'max_features': 9}.\u001b[0m\n",
      "\u001b[32m[I 2020-01-21 09:03:04,334]\u001b[0m Finished trial#92 resulted in value: 0.8398896877770117. Current best value is 0.8441150398896878 with parameters: {'max_depth': 9, 'min_samples_leaf': 1, 'min_samples_split': 11, 'criterion': 'gini', 'max_features': 9}.\u001b[0m\n",
      "\u001b[32m[I 2020-01-21 09:03:05,510]\u001b[0m Finished trial#93 resulted in value: 0.841307987786861. Current best value is 0.8441150398896878 with parameters: {'max_depth': 9, 'min_samples_leaf': 1, 'min_samples_split': 11, 'criterion': 'gini', 'max_features': 9}.\u001b[0m\n",
      "\u001b[32m[I 2020-01-21 09:03:06,597]\u001b[0m Finished trial#94 resulted in value: 0.8356938835812076. Current best value is 0.8441150398896878 with parameters: {'max_depth': 9, 'min_samples_leaf': 1, 'min_samples_split': 11, 'criterion': 'gini', 'max_features': 9}.\u001b[0m\n",
      "\u001b[32m[I 2020-01-21 09:03:07,692]\u001b[0m Finished trial#95 resulted in value: 0.8426868905742145. Current best value is 0.8441150398896878 with parameters: {'max_depth': 9, 'min_samples_leaf': 1, 'min_samples_split': 11, 'criterion': 'gini', 'max_features': 9}.\u001b[0m\n",
      "\u001b[32m[I 2020-01-21 09:03:08,652]\u001b[0m Finished trial#96 resulted in value: 0.8300699300699301. Current best value is 0.8441150398896878 with parameters: {'max_depth': 9, 'min_samples_leaf': 1, 'min_samples_split': 11, 'criterion': 'gini', 'max_features': 9}.\u001b[0m\n",
      "\u001b[32m[I 2020-01-21 09:03:09,652]\u001b[0m Finished trial#97 resulted in value: 0.8384910863784103. Current best value is 0.8441150398896878 with parameters: {'max_depth': 9, 'min_samples_leaf': 1, 'min_samples_split': 11, 'criterion': 'gini', 'max_features': 9}.\u001b[0m\n",
      "\u001b[32m[I 2020-01-21 09:03:10,726]\u001b[0m Finished trial#98 resulted in value: 0.837082635674185. Current best value is 0.8441150398896878 with parameters: {'max_depth': 9, 'min_samples_leaf': 1, 'min_samples_split': 11, 'criterion': 'gini', 'max_features': 9}.\u001b[0m\n",
      "\u001b[32m[I 2020-01-21 09:03:11,791]\u001b[0m Finished trial#99 resulted in value: 0.8342657342657344. Current best value is 0.8441150398896878 with parameters: {'max_depth': 9, 'min_samples_leaf': 1, 'min_samples_split': 11, 'criterion': 'gini', 'max_features': 9}.\u001b[0m\n"
     ]
    },
    {
     "name": "stdout",
     "output_type": "stream",
     "text": [
      "{'max_depth': 9, 'min_samples_leaf': 1, 'min_samples_split': 11, 'criterion': 'gini', 'max_features': 9}\n",
      "0.8441150398896878\n"
     ]
    }
   ],
   "source": [
    "def objective(trial):\n",
    "    # \"n_estimators\":trial.suggest_int(\"n_estimators\", 50, 200),\n",
    "    #\n",
    "    param_grid_rfc = {\n",
    "        \"max_depth\": trial.suggest_int(\"max_depth\", 5, 15),\n",
    "        \"min_samples_leaf\": trial.suggest_int(\"min_samples_leaf\", 1, 5),\n",
    "        'min_samples_split': trial.suggest_int(\"min_samples_split\", 7, 15),\n",
    "        \"criterion\": trial.suggest_categorical(\"criterion\", [\"gini\", \"entropy\"]),\n",
    "        'max_features': trial.suggest_int(\"max_features\", 5, 15),\n",
    "        \"random_state\": 0\n",
    "    }\n",
    "\n",
    "    model = RandomForestClassifier(**param_grid_rfc)\n",
    "    \n",
    "    # 5-Fold CV / Accuracy でモデルを評価する\n",
    "    kf = StratifiedKFold(n_splits=5, shuffle=True, random_state=0)\n",
    "    scores = cross_validate(model, X=X_train, y=y_train, cv=kf)\n",
    "    # 最小化なので 1.0 からスコアを引く\n",
    "    return scores['test_score'].mean()\n",
    "\n",
    "study = optuna.create_study(direction='maximize')\n",
    "study.optimize(objective, n_trials=100)\n",
    "print(study.best_params)\n",
    "print(study.best_value)\n",
    "rfc_best_param = study.best_params"
   ]
  },
  {
   "cell_type": "code",
   "execution_count": 315,
   "metadata": {},
   "outputs": [
    {
     "name": "stderr",
     "output_type": "stream",
     "text": [
      "\u001b[32m[I 2020-01-21 09:03:45,196]\u001b[0m Finished trial#0 resulted in value: 0.8118487146656161. Current best value is 0.8118487146656161 with parameters: {'min_child_weight': 3, 'gamma': 0.1, 'subsample': 0.7, 'colsample_bytree': 0.6, 'max_depth': 7}.\u001b[0m\n",
      "\u001b[32m[I 2020-01-21 09:03:45,898]\u001b[0m Finished trial#1 resulted in value: 0.8259036737909977. Current best value is 0.8259036737909977 with parameters: {'min_child_weight': 2, 'gamma': 0.8, 'subsample': 0.6, 'colsample_bytree': 1.0, 'max_depth': 4}.\u001b[0m\n",
      "\u001b[32m[I 2020-01-21 09:03:46,548]\u001b[0m Finished trial#2 resulted in value: 0.818881118881119. Current best value is 0.8259036737909977 with parameters: {'min_child_weight': 2, 'gamma': 0.8, 'subsample': 0.6, 'colsample_bytree': 1.0, 'max_depth': 4}.\u001b[0m\n",
      "\u001b[32m[I 2020-01-21 09:03:47,504]\u001b[0m Finished trial#3 resulted in value: 0.8258741258741258. Current best value is 0.8259036737909977 with parameters: {'min_child_weight': 2, 'gamma': 0.8, 'subsample': 0.6, 'colsample_bytree': 1.0, 'max_depth': 4}.\u001b[0m\n",
      "\u001b[32m[I 2020-01-21 09:03:48,051]\u001b[0m Finished trial#4 resulted in value: 0.8146360681571949. Current best value is 0.8259036737909977 with parameters: {'min_child_weight': 2, 'gamma': 0.8, 'subsample': 0.6, 'colsample_bytree': 1.0, 'max_depth': 4}.\u001b[0m\n",
      "\u001b[32m[I 2020-01-21 09:03:48,603]\u001b[0m Finished trial#5 resulted in value: 0.8118684132768639. Current best value is 0.8259036737909977 with parameters: {'min_child_weight': 2, 'gamma': 0.8, 'subsample': 0.6, 'colsample_bytree': 1.0, 'max_depth': 4}.\u001b[0m\n",
      "\u001b[32m[I 2020-01-21 09:03:49,240]\u001b[0m Finished trial#6 resulted in value: 0.8230670737712991. Current best value is 0.8259036737909977 with parameters: {'min_child_weight': 2, 'gamma': 0.8, 'subsample': 0.6, 'colsample_bytree': 1.0, 'max_depth': 4}.\u001b[0m\n",
      "\u001b[32m[I 2020-01-21 09:03:49,829]\u001b[0m Finished trial#7 resulted in value: 0.8090416625627894. Current best value is 0.8259036737909977 with parameters: {'min_child_weight': 2, 'gamma': 0.8, 'subsample': 0.6, 'colsample_bytree': 1.0, 'max_depth': 4}.\u001b[0m\n",
      "\u001b[32m[I 2020-01-21 09:03:50,510]\u001b[0m Finished trial#8 resulted in value: 0.8118684132768641. Current best value is 0.8259036737909977 with parameters: {'min_child_weight': 2, 'gamma': 0.8, 'subsample': 0.6, 'colsample_bytree': 1.0, 'max_depth': 4}.\u001b[0m\n",
      "\u001b[32m[I 2020-01-21 09:03:51,116]\u001b[0m Finished trial#9 resulted in value: 0.8314488328572835. Current best value is 0.8314488328572835 with parameters: {'min_child_weight': 1, 'gamma': 0.6, 'subsample': 1.0, 'colsample_bytree': 0.5, 'max_depth': 7}.\u001b[0m\n",
      "\u001b[32m[I 2020-01-21 09:03:51,810]\u001b[0m Finished trial#10 resulted in value: 0.83430513148823. Current best value is 0.83430513148823 with parameters: {'min_child_weight': 1, 'gamma': 0.5, 'subsample': 0.5, 'colsample_bytree': 0.5, 'max_depth': 10}.\u001b[0m\n",
      "\u001b[32m[I 2020-01-21 09:03:52,734]\u001b[0m Finished trial#11 resulted in value: 0.8286319314488327. Current best value is 0.83430513148823 with parameters: {'min_child_weight': 1, 'gamma': 0.5, 'subsample': 0.5, 'colsample_bytree': 0.5, 'max_depth': 10}.\u001b[0m\n",
      "\u001b[32m[I 2020-01-21 09:03:53,541]\u001b[0m Finished trial#12 resulted in value: 0.8286713286713286. Current best value is 0.83430513148823 with parameters: {'min_child_weight': 1, 'gamma': 0.5, 'subsample': 0.5, 'colsample_bytree': 0.5, 'max_depth': 10}.\u001b[0m\n",
      "\u001b[32m[I 2020-01-21 09:03:54,330]\u001b[0m Finished trial#13 resulted in value: 0.8272628779671033. Current best value is 0.83430513148823 with parameters: {'min_child_weight': 1, 'gamma': 0.5, 'subsample': 0.5, 'colsample_bytree': 0.5, 'max_depth': 10}.\u001b[0m\n",
      "\u001b[32m[I 2020-01-21 09:03:55,113]\u001b[0m Finished trial#14 resulted in value: 0.8258544272628778. Current best value is 0.83430513148823 with parameters: {'min_child_weight': 1, 'gamma': 0.5, 'subsample': 0.5, 'colsample_bytree': 0.5, 'max_depth': 10}.\u001b[0m\n",
      "\u001b[32m[I 2020-01-21 09:03:55,754]\u001b[0m Finished trial#15 resulted in value: 0.8314980793854033. Current best value is 0.83430513148823 with parameters: {'min_child_weight': 1, 'gamma': 0.5, 'subsample': 0.5, 'colsample_bytree': 0.5, 'max_depth': 10}.\u001b[0m\n",
      "\u001b[32m[I 2020-01-21 09:03:56,374]\u001b[0m Finished trial#16 resulted in value: 0.8342558849601105. Current best value is 0.83430513148823 with parameters: {'min_child_weight': 1, 'gamma': 0.5, 'subsample': 0.5, 'colsample_bytree': 0.5, 'max_depth': 10}.\u001b[0m\n",
      "\u001b[32m[I 2020-01-21 09:03:56,991]\u001b[0m Finished trial#17 resulted in value: 0.8230670737712991. Current best value is 0.83430513148823 with parameters: {'min_child_weight': 1, 'gamma': 0.5, 'subsample': 0.5, 'colsample_bytree': 0.5, 'max_depth': 10}.\u001b[0m\n",
      "\u001b[32m[I 2020-01-21 09:03:57,605]\u001b[0m Finished trial#18 resulted in value: 0.8230670737712991. Current best value is 0.83430513148823 with parameters: {'min_child_weight': 1, 'gamma': 0.5, 'subsample': 0.5, 'colsample_bytree': 0.5, 'max_depth': 10}.\u001b[0m\n",
      "\u001b[32m[I 2020-01-21 09:03:58,199]\u001b[0m Finished trial#19 resulted in value: 0.8174726681768935. Current best value is 0.83430513148823 with parameters: {'min_child_weight': 1, 'gamma': 0.5, 'subsample': 0.5, 'colsample_bytree': 0.5, 'max_depth': 10}.\u001b[0m\n",
      "\u001b[32m[I 2020-01-21 09:03:58,885]\u001b[0m Finished trial#20 resulted in value: 0.8132965625923372. Current best value is 0.83430513148823 with parameters: {'min_child_weight': 1, 'gamma': 0.5, 'subsample': 0.5, 'colsample_bytree': 0.5, 'max_depth': 10}.\u001b[0m\n",
      "\u001b[32m[I 2020-01-21 09:03:59,634]\u001b[0m Finished trial#21 resulted in value: 0.8356643356643356. Current best value is 0.8356643356643356 with parameters: {'min_child_weight': 1, 'gamma': 0.4, 'subsample': 0.7, 'colsample_bytree': 0.7, 'max_depth': 5}.\u001b[0m\n",
      "\u001b[32m[I 2020-01-21 09:04:00,272]\u001b[0m Finished trial#22 resulted in value: 0.8273022751895992. Current best value is 0.8356643356643356 with parameters: {'min_child_weight': 1, 'gamma': 0.4, 'subsample': 0.7, 'colsample_bytree': 0.7, 'max_depth': 5}.\u001b[0m\n",
      "\u001b[32m[I 2020-01-21 09:04:01,062]\u001b[0m Finished trial#23 resulted in value: 0.8244361272530287. Current best value is 0.8356643356643356 with parameters: {'min_child_weight': 1, 'gamma': 0.4, 'subsample': 0.7, 'colsample_bytree': 0.7, 'max_depth': 5}.\u001b[0m\n",
      "\u001b[32m[I 2020-01-21 09:04:01,711]\u001b[0m Finished trial#24 resulted in value: 0.8146656160740668. Current best value is 0.8356643356643356 with parameters: {'min_child_weight': 1, 'gamma': 0.4, 'subsample': 0.7, 'colsample_bytree': 0.7, 'max_depth': 5}.\u001b[0m\n",
      "\u001b[32m[I 2020-01-21 09:04:02,864]\u001b[0m Finished trial#25 resulted in value: 0.8286516300600809. Current best value is 0.8356643356643356 with parameters: {'min_child_weight': 1, 'gamma': 0.4, 'subsample': 0.7, 'colsample_bytree': 0.7, 'max_depth': 5}.\u001b[0m\n",
      "\u001b[32m[I 2020-01-21 09:04:03,623]\u001b[0m Finished trial#26 resulted in value: 0.8188811188811188. Current best value is 0.8356643356643356 with parameters: {'min_child_weight': 1, 'gamma': 0.4, 'subsample': 0.7, 'colsample_bytree': 0.7, 'max_depth': 5}.\u001b[0m\n",
      "\u001b[32m[I 2020-01-21 09:04:04,182]\u001b[0m Finished trial#27 resulted in value: 0.8314980793854033. Current best value is 0.8356643356643356 with parameters: {'min_child_weight': 1, 'gamma': 0.4, 'subsample': 0.7, 'colsample_bytree': 0.7, 'max_depth': 5}.\u001b[0m\n",
      "\u001b[32m[I 2020-01-21 09:04:04,816]\u001b[0m Finished trial#28 resulted in value: 0.8202797202797203. Current best value is 0.8356643356643356 with parameters: {'min_child_weight': 1, 'gamma': 0.4, 'subsample': 0.7, 'colsample_bytree': 0.7, 'max_depth': 5}.\u001b[0m\n",
      "\u001b[32m[I 2020-01-21 09:04:05,541]\u001b[0m Finished trial#29 resulted in value: 0.8118487146656161. Current best value is 0.8356643356643356 with parameters: {'min_child_weight': 1, 'gamma': 0.4, 'subsample': 0.7, 'colsample_bytree': 0.7, 'max_depth': 5}.\u001b[0m\n",
      "\u001b[32m[I 2020-01-21 09:04:06,318]\u001b[0m Finished trial#30 resulted in value: 0.8132473160642174. Current best value is 0.8356643356643356 with parameters: {'min_child_weight': 1, 'gamma': 0.4, 'subsample': 0.7, 'colsample_bytree': 0.7, 'max_depth': 5}.\u001b[0m\n",
      "\u001b[32m[I 2020-01-21 09:04:07,005]\u001b[0m Finished trial#31 resulted in value: 0.8300403821530582. Current best value is 0.8356643356643356 with parameters: {'min_child_weight': 1, 'gamma': 0.4, 'subsample': 0.7, 'colsample_bytree': 0.7, 'max_depth': 5}.\u001b[0m\n",
      "\u001b[32m[I 2020-01-21 09:04:07,715]\u001b[0m Finished trial#32 resulted in value: 0.8300403821530582. Current best value is 0.8356643356643356 with parameters: {'min_child_weight': 1, 'gamma': 0.4, 'subsample': 0.7, 'colsample_bytree': 0.7, 'max_depth': 5}.\u001b[0m\n",
      "\u001b[32m[I 2020-01-21 09:04:08,315]\u001b[0m Finished trial#33 resulted in value: 0.8342755835713582. Current best value is 0.8356643356643356 with parameters: {'min_child_weight': 1, 'gamma': 0.4, 'subsample': 0.7, 'colsample_bytree': 0.7, 'max_depth': 5}.\u001b[0m\n",
      "\u001b[32m[I 2020-01-21 09:04:08,876]\u001b[0m Finished trial#34 resulted in value: 0.8188811188811188. Current best value is 0.8356643356643356 with parameters: {'min_child_weight': 1, 'gamma': 0.4, 'subsample': 0.7, 'colsample_bytree': 0.7, 'max_depth': 5}.\u001b[0m\n",
      "\u001b[32m[I 2020-01-21 09:04:09,510]\u001b[0m Finished trial#35 resulted in value: 0.8202895695853443. Current best value is 0.8356643356643356 with parameters: {'min_child_weight': 1, 'gamma': 0.4, 'subsample': 0.7, 'colsample_bytree': 0.7, 'max_depth': 5}.\u001b[0m\n",
      "\u001b[32m[I 2020-01-21 09:04:10,057]\u001b[0m Finished trial#36 resulted in value: 0.8272825765783512. Current best value is 0.8356643356643356 with parameters: {'min_child_weight': 1, 'gamma': 0.4, 'subsample': 0.7, 'colsample_bytree': 0.7, 'max_depth': 5}.\u001b[0m\n",
      "\u001b[32m[I 2020-01-21 09:04:10,804]\u001b[0m Finished trial#37 resulted in value: 0.8258642765685018. Current best value is 0.8356643356643356 with parameters: {'min_child_weight': 1, 'gamma': 0.4, 'subsample': 0.7, 'colsample_bytree': 0.7, 'max_depth': 5}.\u001b[0m\n",
      "\u001b[32m[I 2020-01-21 09:04:11,575]\u001b[0m Finished trial#38 resulted in value: 0.8244656751699004. Current best value is 0.8356643356643356 with parameters: {'min_child_weight': 1, 'gamma': 0.4, 'subsample': 0.7, 'colsample_bytree': 0.7, 'max_depth': 5}.\u001b[0m\n",
      "\u001b[32m[I 2020-01-21 09:04:12,386]\u001b[0m Finished trial#39 resulted in value: 0.8258839751797498. Current best value is 0.8356643356643356 with parameters: {'min_child_weight': 1, 'gamma': 0.4, 'subsample': 0.7, 'colsample_bytree': 0.7, 'max_depth': 5}.\u001b[0m\n",
      "\u001b[32m[I 2020-01-21 09:04:12,897]\u001b[0m Finished trial#40 resulted in value: 0.816083916083916. Current best value is 0.8356643356643356 with parameters: {'min_child_weight': 1, 'gamma': 0.4, 'subsample': 0.7, 'colsample_bytree': 0.7, 'max_depth': 5}.\u001b[0m\n",
      "\u001b[32m[I 2020-01-21 09:04:13,491]\u001b[0m Finished trial#41 resulted in value: 0.8314980793854033. Current best value is 0.8356643356643356 with parameters: {'min_child_weight': 1, 'gamma': 0.4, 'subsample': 0.7, 'colsample_bytree': 0.7, 'max_depth': 5}.\u001b[0m\n",
      "\u001b[32m[I 2020-01-21 09:04:14,048]\u001b[0m Finished trial#42 resulted in value: 0.8357037328868315. Current best value is 0.8357037328868315 with parameters: {'min_child_weight': 1, 'gamma': 0.6, 'subsample': 0.6, 'colsample_bytree': 0.7, 'max_depth': 3}.\u001b[0m\n",
      "\u001b[32m[I 2020-01-21 09:04:14,963]\u001b[0m Finished trial#43 resulted in value: 0.8258741258741258. Current best value is 0.8357037328868315 with parameters: {'min_child_weight': 1, 'gamma': 0.6, 'subsample': 0.6, 'colsample_bytree': 0.7, 'max_depth': 3}.\u001b[0m\n",
      "\u001b[32m[I 2020-01-21 09:04:15,671]\u001b[0m Finished trial#44 resulted in value: 0.8245050723923963. Current best value is 0.8357037328868315 with parameters: {'min_child_weight': 1, 'gamma': 0.6, 'subsample': 0.6, 'colsample_bytree': 0.7, 'max_depth': 3}.\u001b[0m\n",
      "\u001b[32m[I 2020-01-21 09:04:16,277]\u001b[0m Finished trial#45 resulted in value: 0.8202895695853443. Current best value is 0.8357037328868315 with parameters: {'min_child_weight': 1, 'gamma': 0.6, 'subsample': 0.6, 'colsample_bytree': 0.7, 'max_depth': 3}.\u001b[0m\n",
      "\u001b[32m[I 2020-01-21 09:04:17,038]\u001b[0m Finished trial#46 resulted in value: 0.8314980793854033. Current best value is 0.8357037328868315 with parameters: {'min_child_weight': 1, 'gamma': 0.6, 'subsample': 0.6, 'colsample_bytree': 0.7, 'max_depth': 3}.\u001b[0m\n",
      "\u001b[32m[I 2020-01-21 09:04:17,698]\u001b[0m Finished trial#47 resulted in value: 0.8314882300797792. Current best value is 0.8357037328868315 with parameters: {'min_child_weight': 1, 'gamma': 0.6, 'subsample': 0.6, 'colsample_bytree': 0.7, 'max_depth': 3}.\u001b[0m\n",
      "\u001b[32m[I 2020-01-21 09:04:18,372]\u001b[0m Finished trial#48 resulted in value: 0.804855707672609. Current best value is 0.8357037328868315 with parameters: {'min_child_weight': 1, 'gamma': 0.6, 'subsample': 0.6, 'colsample_bytree': 0.7, 'max_depth': 3}.\u001b[0m\n",
      "\u001b[32m[I 2020-01-21 09:04:19,072]\u001b[0m Finished trial#49 resulted in value: 0.8202698709740963. Current best value is 0.8357037328868315 with parameters: {'min_child_weight': 1, 'gamma': 0.6, 'subsample': 0.6, 'colsample_bytree': 0.7, 'max_depth': 3}.\u001b[0m\n",
      "\u001b[32m[I 2020-01-21 09:04:19,826]\u001b[0m Finished trial#50 resulted in value: 0.8258741258741258. Current best value is 0.8357037328868315 with parameters: {'min_child_weight': 1, 'gamma': 0.6, 'subsample': 0.6, 'colsample_bytree': 0.7, 'max_depth': 3}.\u001b[0m\n",
      "\u001b[32m[I 2020-01-21 09:04:21,021]\u001b[0m Finished trial#51 resulted in value: 0.8300797793755541. Current best value is 0.8357037328868315 with parameters: {'min_child_weight': 1, 'gamma': 0.6, 'subsample': 0.6, 'colsample_bytree': 0.7, 'max_depth': 3}.\u001b[0m\n",
      "\u001b[32m[I 2020-01-21 09:04:22,061]\u001b[0m Finished trial#52 resulted in value: 0.8244361272530287. Current best value is 0.8357037328868315 with parameters: {'min_child_weight': 1, 'gamma': 0.6, 'subsample': 0.6, 'colsample_bytree': 0.7, 'max_depth': 3}.\u001b[0m\n",
      "\u001b[32m[I 2020-01-21 09:04:22,594]\u001b[0m Finished trial#53 resulted in value: 0.8371023342854329. Current best value is 0.8371023342854329 with parameters: {'min_child_weight': 1, 'gamma': 0.6, 'subsample': 0.6, 'colsample_bytree': 0.6, 'max_depth': 3}.\u001b[0m\n",
      "\u001b[32m[I 2020-01-21 09:04:23,282]\u001b[0m Finished trial#54 resulted in value: 0.8314980793854033. Current best value is 0.8371023342854329 with parameters: {'min_child_weight': 1, 'gamma': 0.6, 'subsample': 0.6, 'colsample_bytree': 0.6, 'max_depth': 3}.\u001b[0m\n",
      "\u001b[32m[I 2020-01-21 09:04:24,240]\u001b[0m Finished trial#55 resulted in value: 0.8357037328868315. Current best value is 0.8371023342854329 with parameters: {'min_child_weight': 1, 'gamma': 0.6, 'subsample': 0.6, 'colsample_bytree': 0.6, 'max_depth': 3}.\u001b[0m\n",
      "\u001b[32m[I 2020-01-21 09:04:25,199]\u001b[0m Finished trial#56 resulted in value: 0.8286516300600809. Current best value is 0.8371023342854329 with parameters: {'min_child_weight': 1, 'gamma': 0.6, 'subsample': 0.6, 'colsample_bytree': 0.6, 'max_depth': 3}.\u001b[0m\n",
      "\u001b[32m[I 2020-01-21 09:04:25,809]\u001b[0m Finished trial#57 resulted in value: 0.8314685314685315. Current best value is 0.8371023342854329 with parameters: {'min_child_weight': 1, 'gamma': 0.6, 'subsample': 0.6, 'colsample_bytree': 0.6, 'max_depth': 3}.\u001b[0m\n",
      "\u001b[32m[I 2020-01-21 09:04:26,460]\u001b[0m Finished trial#58 resulted in value: 0.8356938835812077. Current best value is 0.8371023342854329 with parameters: {'min_child_weight': 1, 'gamma': 0.6, 'subsample': 0.6, 'colsample_bytree': 0.6, 'max_depth': 3}.\u001b[0m\n",
      "\u001b[32m[I 2020-01-21 09:04:28,260]\u001b[0m Finished trial#59 resulted in value: 0.8230473751600511. Current best value is 0.8371023342854329 with parameters: {'min_child_weight': 1, 'gamma': 0.6, 'subsample': 0.6, 'colsample_bytree': 0.6, 'max_depth': 3}.\u001b[0m\n",
      "\u001b[32m[I 2020-01-21 09:04:29,420]\u001b[0m Finished trial#60 resulted in value: 0.8146360681571949. Current best value is 0.8371023342854329 with parameters: {'min_child_weight': 1, 'gamma': 0.6, 'subsample': 0.6, 'colsample_bytree': 0.6, 'max_depth': 3}.\u001b[0m\n",
      "\u001b[32m[I 2020-01-21 09:04:30,072]\u001b[0m Finished trial#61 resulted in value: 0.8356938835812077. Current best value is 0.8371023342854329 with parameters: {'min_child_weight': 1, 'gamma': 0.6, 'subsample': 0.6, 'colsample_bytree': 0.6, 'max_depth': 3}.\u001b[0m\n",
      "\u001b[32m[I 2020-01-21 09:04:30,658]\u001b[0m Finished trial#62 resulted in value: 0.8356938835812076. Current best value is 0.8371023342854329 with parameters: {'min_child_weight': 1, 'gamma': 0.6, 'subsample': 0.6, 'colsample_bytree': 0.6, 'max_depth': 3}.\u001b[0m\n",
      "\u001b[32m[I 2020-01-21 09:04:31,227]\u001b[0m Finished trial#63 resulted in value: 0.8342952821826062. Current best value is 0.8371023342854329 with parameters: {'min_child_weight': 1, 'gamma': 0.6, 'subsample': 0.6, 'colsample_bytree': 0.6, 'max_depth': 3}.\u001b[0m\n",
      "\u001b[32m[I 2020-01-21 09:04:31,733]\u001b[0m Finished trial#64 resulted in value: 0.8328868314783808. Current best value is 0.8371023342854329 with parameters: {'min_child_weight': 1, 'gamma': 0.6, 'subsample': 0.6, 'colsample_bytree': 0.6, 'max_depth': 3}.\u001b[0m\n",
      "\u001b[32m[I 2020-01-21 09:04:32,473]\u001b[0m Finished trial#65 resulted in value: 0.8244361272530287. Current best value is 0.8371023342854329 with parameters: {'min_child_weight': 1, 'gamma': 0.6, 'subsample': 0.6, 'colsample_bytree': 0.6, 'max_depth': 3}.\u001b[0m\n",
      "\u001b[32m[I 2020-01-21 09:04:32,966]\u001b[0m Finished trial#66 resulted in value: 0.8314882300797795. Current best value is 0.8371023342854329 with parameters: {'min_child_weight': 1, 'gamma': 0.6, 'subsample': 0.6, 'colsample_bytree': 0.6, 'max_depth': 3}.\u001b[0m\n",
      "\u001b[32m[I 2020-01-21 09:04:33,565]\u001b[0m Finished trial#67 resulted in value: 0.8314783807741554. Current best value is 0.8371023342854329 with parameters: {'min_child_weight': 1, 'gamma': 0.6, 'subsample': 0.6, 'colsample_bytree': 0.6, 'max_depth': 3}.\u001b[0m\n",
      "\u001b[32m[I 2020-01-21 09:04:34,168]\u001b[0m Finished trial#68 resulted in value: 0.8314980793854033. Current best value is 0.8371023342854329 with parameters: {'min_child_weight': 1, 'gamma': 0.6, 'subsample': 0.6, 'colsample_bytree': 0.6, 'max_depth': 3}.\u001b[0m\n",
      "\u001b[32m[I 2020-01-21 09:04:34,750]\u001b[0m Finished trial#69 resulted in value: 0.8244656751699007. Current best value is 0.8371023342854329 with parameters: {'min_child_weight': 1, 'gamma': 0.6, 'subsample': 0.6, 'colsample_bytree': 0.6, 'max_depth': 3}.\u001b[0m\n",
      "\u001b[32m[I 2020-01-21 09:04:35,291]\u001b[0m Finished trial#70 resulted in value: 0.8342952821826062. Current best value is 0.8371023342854329 with parameters: {'min_child_weight': 1, 'gamma': 0.6, 'subsample': 0.6, 'colsample_bytree': 0.6, 'max_depth': 3}.\u001b[0m\n",
      "\u001b[32m[I 2020-01-21 09:04:35,770]\u001b[0m Finished trial#71 resulted in value: 0.8314882300797795. Current best value is 0.8371023342854329 with parameters: {'min_child_weight': 1, 'gamma': 0.6, 'subsample': 0.6, 'colsample_bytree': 0.6, 'max_depth': 3}.\u001b[0m\n",
      "\u001b[32m[I 2020-01-21 09:04:36,329]\u001b[0m Finished trial#72 resulted in value: 0.8314980793854033. Current best value is 0.8371023342854329 with parameters: {'min_child_weight': 1, 'gamma': 0.6, 'subsample': 0.6, 'colsample_bytree': 0.6, 'max_depth': 3}.\u001b[0m\n",
      "\u001b[32m[I 2020-01-21 09:04:37,029]\u001b[0m Finished trial#73 resulted in value: 0.8314685314685315. Current best value is 0.8371023342854329 with parameters: {'min_child_weight': 1, 'gamma': 0.6, 'subsample': 0.6, 'colsample_bytree': 0.6, 'max_depth': 3}.\u001b[0m\n",
      "\u001b[32m[I 2020-01-21 09:04:37,608]\u001b[0m Finished trial#74 resulted in value: 0.8328769821727569. Current best value is 0.8371023342854329 with parameters: {'min_child_weight': 1, 'gamma': 0.6, 'subsample': 0.6, 'colsample_bytree': 0.6, 'max_depth': 3}.\u001b[0m\n",
      "\u001b[32m[I 2020-01-21 09:04:38,324]\u001b[0m Finished trial#75 resulted in value: 0.8300699300699301. Current best value is 0.8371023342854329 with parameters: {'min_child_weight': 1, 'gamma': 0.6, 'subsample': 0.6, 'colsample_bytree': 0.6, 'max_depth': 3}.\u001b[0m\n",
      "\u001b[32m[I 2020-01-21 09:04:38,845]\u001b[0m Finished trial#76 resulted in value: 0.8328868314783808. Current best value is 0.8371023342854329 with parameters: {'min_child_weight': 1, 'gamma': 0.6, 'subsample': 0.6, 'colsample_bytree': 0.6, 'max_depth': 3}.\u001b[0m\n",
      "\u001b[32m[I 2020-01-21 09:04:39,595]\u001b[0m Finished trial#77 resulted in value: 0.8328769821727569. Current best value is 0.8371023342854329 with parameters: {'min_child_weight': 1, 'gamma': 0.6, 'subsample': 0.6, 'colsample_bytree': 0.6, 'max_depth': 3}.\u001b[0m\n",
      "\u001b[32m[I 2020-01-21 09:04:40,246]\u001b[0m Finished trial#78 resulted in value: 0.8314685314685315. Current best value is 0.8371023342854329 with parameters: {'min_child_weight': 1, 'gamma': 0.6, 'subsample': 0.6, 'colsample_bytree': 0.6, 'max_depth': 3}.\u001b[0m\n",
      "\u001b[32m[I 2020-01-21 09:04:40,806]\u001b[0m Finished trial#79 resulted in value: 0.8328868314783808. Current best value is 0.8371023342854329 with parameters: {'min_child_weight': 1, 'gamma': 0.6, 'subsample': 0.6, 'colsample_bytree': 0.6, 'max_depth': 3}.\u001b[0m\n",
      "\u001b[32m[I 2020-01-21 09:04:41,490]\u001b[0m Finished trial#80 resulted in value: 0.8370924849798088. Current best value is 0.8371023342854329 with parameters: {'min_child_weight': 1, 'gamma': 0.6, 'subsample': 0.6, 'colsample_bytree': 0.6, 'max_depth': 3}.\u001b[0m\n",
      "\u001b[32m[I 2020-01-21 09:04:42,290]\u001b[0m Finished trial#81 resulted in value: 0.8370924849798088. Current best value is 0.8371023342854329 with parameters: {'min_child_weight': 1, 'gamma': 0.6, 'subsample': 0.6, 'colsample_bytree': 0.6, 'max_depth': 3}.\u001b[0m\n",
      "\u001b[32m[I 2020-01-21 09:04:42,897]\u001b[0m Finished trial#82 resulted in value: 0.827302275189599. Current best value is 0.8371023342854329 with parameters: {'min_child_weight': 1, 'gamma': 0.6, 'subsample': 0.6, 'colsample_bytree': 0.6, 'max_depth': 3}.\u001b[0m\n",
      "\u001b[32m[I 2020-01-21 09:04:43,704]\u001b[0m Finished trial#83 resulted in value: 0.8343051314882303. Current best value is 0.8371023342854329 with parameters: {'min_child_weight': 1, 'gamma': 0.6, 'subsample': 0.6, 'colsample_bytree': 0.6, 'max_depth': 3}.\u001b[0m\n",
      "\u001b[32m[I 2020-01-21 09:04:44,354]\u001b[0m Finished trial#84 resulted in value: 0.834295282182606. Current best value is 0.8371023342854329 with parameters: {'min_child_weight': 1, 'gamma': 0.6, 'subsample': 0.6, 'colsample_bytree': 0.6, 'max_depth': 3}.\u001b[0m\n",
      "\u001b[32m[I 2020-01-21 09:04:45,049]\u001b[0m Finished trial#85 resulted in value: 0.8426967398798386. Current best value is 0.8426967398798386 with parameters: {'min_child_weight': 2, 'gamma': 0.6, 'subsample': 0.8, 'colsample_bytree': 0.7, 'max_depth': 3}.\u001b[0m\n",
      "\u001b[32m[I 2020-01-21 09:04:45,563]\u001b[0m Finished trial#86 resulted in value: 0.8371220328966809. Current best value is 0.8426967398798386 with parameters: {'min_child_weight': 2, 'gamma': 0.6, 'subsample': 0.8, 'colsample_bytree': 0.7, 'max_depth': 3}.\u001b[0m\n",
      "\u001b[32m[I 2020-01-21 09:04:46,085]\u001b[0m Finished trial#87 resulted in value: 0.8426967398798386. Current best value is 0.8426967398798386 with parameters: {'min_child_weight': 2, 'gamma': 0.6, 'subsample': 0.8, 'colsample_bytree': 0.7, 'max_depth': 3}.\u001b[0m\n",
      "\u001b[32m[I 2020-01-21 09:04:46,758]\u001b[0m Finished trial#88 resulted in value: 0.8216586230670739. Current best value is 0.8426967398798386 with parameters: {'min_child_weight': 2, 'gamma': 0.6, 'subsample': 0.8, 'colsample_bytree': 0.7, 'max_depth': 3}.\u001b[0m\n",
      "\u001b[32m[I 2020-01-21 09:04:47,397]\u001b[0m Finished trial#89 resulted in value: 0.8272924258839753. Current best value is 0.8426967398798386 with parameters: {'min_child_weight': 2, 'gamma': 0.6, 'subsample': 0.8, 'colsample_bytree': 0.7, 'max_depth': 3}.\u001b[0m\n",
      "\u001b[32m[I 2020-01-21 09:04:47,918]\u001b[0m Finished trial#90 resulted in value: 0.83430513148823. Current best value is 0.8426967398798386 with parameters: {'min_child_weight': 2, 'gamma': 0.6, 'subsample': 0.8, 'colsample_bytree': 0.7, 'max_depth': 3}.\u001b[0m\n",
      "\u001b[32m[I 2020-01-21 09:04:48,672]\u001b[0m Finished trial#91 resulted in value: 0.83430513148823. Current best value is 0.8426967398798386 with parameters: {'min_child_weight': 2, 'gamma': 0.6, 'subsample': 0.8, 'colsample_bytree': 0.7, 'max_depth': 3}.\u001b[0m\n",
      "\u001b[32m[I 2020-01-21 09:04:49,346]\u001b[0m Finished trial#92 resulted in value: 0.83430513148823. Current best value is 0.8426967398798386 with parameters: {'min_child_weight': 2, 'gamma': 0.6, 'subsample': 0.8, 'colsample_bytree': 0.7, 'max_depth': 3}.\u001b[0m\n",
      "\u001b[32m[I 2020-01-21 09:04:49,943]\u001b[0m Finished trial#93 resulted in value: 0.830089628681178. Current best value is 0.8426967398798386 with parameters: {'min_child_weight': 2, 'gamma': 0.6, 'subsample': 0.8, 'colsample_bytree': 0.7, 'max_depth': 3}.\u001b[0m\n",
      "\u001b[32m[I 2020-01-21 09:04:50,669]\u001b[0m Finished trial#94 resulted in value: 0.83430513148823. Current best value is 0.8426967398798386 with parameters: {'min_child_weight': 2, 'gamma': 0.6, 'subsample': 0.8, 'colsample_bytree': 0.7, 'max_depth': 3}.\u001b[0m\n",
      "\u001b[32m[I 2020-01-21 09:04:51,253]\u001b[0m Finished trial#95 resulted in value: 0.8286910272825766. Current best value is 0.8426967398798386 with parameters: {'min_child_weight': 2, 'gamma': 0.6, 'subsample': 0.8, 'colsample_bytree': 0.7, 'max_depth': 3}.\u001b[0m\n",
      "\u001b[32m[I 2020-01-21 09:04:52,322]\u001b[0m Finished trial#96 resulted in value: 0.818831872352999. Current best value is 0.8426967398798386 with parameters: {'min_child_weight': 2, 'gamma': 0.6, 'subsample': 0.8, 'colsample_bytree': 0.7, 'max_depth': 3}.\u001b[0m\n",
      "\u001b[32m[I 2020-01-21 09:04:53,051]\u001b[0m Finished trial#97 resulted in value: 0.8342854328769823. Current best value is 0.8426967398798386 with parameters: {'min_child_weight': 2, 'gamma': 0.6, 'subsample': 0.8, 'colsample_bytree': 0.7, 'max_depth': 3}.\u001b[0m\n",
      "\u001b[32m[I 2020-01-21 09:04:53,650]\u001b[0m Finished trial#98 resulted in value: 0.83430513148823. Current best value is 0.8426967398798386 with parameters: {'min_child_weight': 2, 'gamma': 0.6, 'subsample': 0.8, 'colsample_bytree': 0.7, 'max_depth': 3}.\u001b[0m\n",
      "\u001b[32m[I 2020-01-21 09:04:54,175]\u001b[0m Finished trial#99 resulted in value: 0.8286910272825766. Current best value is 0.8426967398798386 with parameters: {'min_child_weight': 2, 'gamma': 0.6, 'subsample': 0.8, 'colsample_bytree': 0.7, 'max_depth': 3}.\u001b[0m\n"
     ]
    },
    {
     "name": "stdout",
     "output_type": "stream",
     "text": [
      "{'min_child_weight': 2, 'gamma': 0.6, 'subsample': 0.8, 'colsample_bytree': 0.7, 'max_depth': 3}\n",
      "0.8426967398798386\n"
     ]
    }
   ],
   "source": [
    "def objective(trial):\n",
    "    \n",
    "    param_grid_xgb = {\n",
    "        'min_child_weight': trial.suggest_int(\"min_child_weight\", 1, 5),\n",
    "        'gamma': trial.suggest_discrete_uniform(\"gamma\", 0.1, 1.0, 0.1),\n",
    "        'subsample': trial.suggest_discrete_uniform(\"subsample\", 0.5, 1.0, 0.1),\n",
    "        'colsample_bytree': trial.suggest_discrete_uniform(\"colsample_bytree\", 0.5, 1.0, 0.1),\n",
    "        'max_depth': trial.suggest_int(\"max_depth\", 3, 10),\n",
    "        \"random_state\": 0\n",
    "    }\n",
    "\n",
    "    model = XGBClassifier(**param_grid_xgb)\n",
    "    \n",
    "    # 5-Fold CV / Accuracy でモデルを評価する\n",
    "    kf = StratifiedKFold(n_splits=5, shuffle=True, random_state=0)\n",
    "    scores = cross_validate(model, X=X_train, y=y_train, cv=kf)\n",
    "    # 最小化なので 1.0 からスコアを引く\n",
    "    return scores['test_score'].mean()\n",
    "\n",
    "study = optuna.create_study(direction='maximize')\n",
    "study.optimize(objective, n_trials=100)\n",
    "print(study.best_params)\n",
    "print(study.best_value)\n",
    "xgb_best_param = study.best_params"
   ]
  },
  {
   "cell_type": "code",
   "execution_count": 316,
   "metadata": {},
   "outputs": [
    {
     "name": "stderr",
     "output_type": "stream",
     "text": [
      "\u001b[32m[I 2020-01-21 09:04:54,582]\u001b[0m Finished trial#0 resulted in value: 0.6165763813651137. Current best value is 0.6165763813651137 with parameters: {'num_leaves': 5, 'learning_rate': 9.155844627535921e-08, 'max_depth': 10}.\u001b[0m\n",
      "\u001b[32m[I 2020-01-21 09:04:54,983]\u001b[0m Finished trial#1 resulted in value: 0.6165763813651137. Current best value is 0.6165763813651137 with parameters: {'num_leaves': 5, 'learning_rate': 9.155844627535921e-08, 'max_depth': 10}.\u001b[0m\n",
      "\u001b[32m[I 2020-01-21 09:04:55,396]\u001b[0m Finished trial#2 resulted in value: 0.6165763813651137. Current best value is 0.6165763813651137 with parameters: {'num_leaves': 5, 'learning_rate': 9.155844627535921e-08, 'max_depth': 10}.\u001b[0m\n",
      "\u001b[32m[I 2020-01-21 09:04:55,813]\u001b[0m Finished trial#3 resulted in value: 0.6165763813651137. Current best value is 0.6165763813651137 with parameters: {'num_leaves': 5, 'learning_rate': 9.155844627535921e-08, 'max_depth': 10}.\u001b[0m\n",
      "\u001b[32m[I 2020-01-21 09:04:56,218]\u001b[0m Finished trial#4 resulted in value: 0.6165763813651137. Current best value is 0.6165763813651137 with parameters: {'num_leaves': 5, 'learning_rate': 9.155844627535921e-08, 'max_depth': 10}.\u001b[0m\n",
      "\u001b[32m[I 2020-01-21 09:04:56,570]\u001b[0m Finished trial#5 resulted in value: 0.8230572244656752. Current best value is 0.8230572244656752 with parameters: {'num_leaves': 8, 'learning_rate': 0.032043824200956805, 'max_depth': 4}.\u001b[0m\n",
      "\u001b[32m[I 2020-01-21 09:04:56,987]\u001b[0m Finished trial#6 resulted in value: 0.6165763813651137. Current best value is 0.8230572244656752 with parameters: {'num_leaves': 8, 'learning_rate': 0.032043824200956805, 'max_depth': 4}.\u001b[0m\n",
      "\u001b[32m[I 2020-01-21 09:04:57,342]\u001b[0m Finished trial#7 resulted in value: 0.6165763813651137. Current best value is 0.8230572244656752 with parameters: {'num_leaves': 8, 'learning_rate': 0.032043824200956805, 'max_depth': 4}.\u001b[0m\n",
      "\u001b[32m[I 2020-01-21 09:04:57,709]\u001b[0m Finished trial#8 resulted in value: 0.6165763813651137. Current best value is 0.8230572244656752 with parameters: {'num_leaves': 8, 'learning_rate': 0.032043824200956805, 'max_depth': 4}.\u001b[0m\n",
      "\u001b[32m[I 2020-01-21 09:04:58,155]\u001b[0m Finished trial#9 resulted in value: 0.6165763813651137. Current best value is 0.8230572244656752 with parameters: {'num_leaves': 8, 'learning_rate': 0.032043824200956805, 'max_depth': 4}.\u001b[0m\n",
      "\u001b[32m[I 2020-01-21 09:04:58,603]\u001b[0m Finished trial#10 resulted in value: 0.8272727272727272. Current best value is 0.8272727272727272 with parameters: {'num_leaves': 9, 'learning_rate': 0.18129921331211046, 'max_depth': 3}.\u001b[0m\n",
      "\u001b[32m[I 2020-01-21 09:04:58,928]\u001b[0m Finished trial#11 resulted in value: 0.8342657342657344. Current best value is 0.8342657342657344 with parameters: {'num_leaves': 9, 'learning_rate': 0.44411843171480164, 'max_depth': 3}.\u001b[0m\n",
      "\u001b[32m[I 2020-01-21 09:04:59,304]\u001b[0m Finished trial#12 resulted in value: 0.8188220230473753. Current best value is 0.8342657342657344 with parameters: {'num_leaves': 9, 'learning_rate': 0.44411843171480164, 'max_depth': 3}.\u001b[0m\n",
      "\u001b[32m[I 2020-01-21 09:04:59,803]\u001b[0m Finished trial#13 resulted in value: 0.8174234216487737. Current best value is 0.8342657342657344 with parameters: {'num_leaves': 9, 'learning_rate': 0.44411843171480164, 'max_depth': 3}.\u001b[0m\n",
      "\u001b[32m[I 2020-01-21 09:05:00,165]\u001b[0m Finished trial#14 resulted in value: 0.8314980793854033. Current best value is 0.8342657342657344 with parameters: {'num_leaves': 9, 'learning_rate': 0.44411843171480164, 'max_depth': 3}.\u001b[0m\n",
      "\u001b[32m[I 2020-01-21 09:05:00,539]\u001b[0m Finished trial#15 resulted in value: 0.7907318034078598. Current best value is 0.8342657342657344 with parameters: {'num_leaves': 9, 'learning_rate': 0.44411843171480164, 'max_depth': 3}.\u001b[0m\n",
      "\u001b[32m[I 2020-01-21 09:05:00,984]\u001b[0m Finished trial#16 resulted in value: 0.7836895498867331. Current best value is 0.8342657342657344 with parameters: {'num_leaves': 9, 'learning_rate': 0.44411843171480164, 'max_depth': 3}.\u001b[0m\n",
      "\u001b[32m[I 2020-01-21 09:05:01,364]\u001b[0m Finished trial#17 resulted in value: 0.8300994779868021. Current best value is 0.8342657342657344 with parameters: {'num_leaves': 9, 'learning_rate': 0.44411843171480164, 'max_depth': 3}.\u001b[0m\n",
      "\u001b[32m[I 2020-01-21 09:05:01,773]\u001b[0m Finished trial#18 resulted in value: 0.8286713286713286. Current best value is 0.8342657342657344 with parameters: {'num_leaves': 9, 'learning_rate': 0.44411843171480164, 'max_depth': 3}.\u001b[0m\n",
      "\u001b[32m[I 2020-01-21 09:05:02,227]\u001b[0m Finished trial#19 resulted in value: 0.6165763813651137. Current best value is 0.8342657342657344 with parameters: {'num_leaves': 9, 'learning_rate': 0.44411843171480164, 'max_depth': 3}.\u001b[0m\n",
      "\u001b[32m[I 2020-01-21 09:05:02,657]\u001b[0m Finished trial#20 resulted in value: 0.8216389244558258. Current best value is 0.8342657342657344 with parameters: {'num_leaves': 9, 'learning_rate': 0.44411843171480164, 'max_depth': 3}.\u001b[0m\n",
      "\u001b[32m[I 2020-01-21 09:05:03,051]\u001b[0m Finished trial#21 resulted in value: 0.8314980793854033. Current best value is 0.8342657342657344 with parameters: {'num_leaves': 9, 'learning_rate': 0.44411843171480164, 'max_depth': 3}.\u001b[0m\n",
      "\u001b[32m[I 2020-01-21 09:05:03,451]\u001b[0m Finished trial#22 resulted in value: 0.8174529695656456. Current best value is 0.8342657342657344 with parameters: {'num_leaves': 9, 'learning_rate': 0.44411843171480164, 'max_depth': 3}.\u001b[0m\n",
      "\u001b[32m[I 2020-01-21 09:05:03,962]\u001b[0m Finished trial#23 resulted in value: 0.6165763813651137. Current best value is 0.8342657342657344 with parameters: {'num_leaves': 9, 'learning_rate': 0.44411843171480164, 'max_depth': 3}.\u001b[0m\n",
      "\u001b[32m[I 2020-01-21 09:05:04,385]\u001b[0m Finished trial#24 resulted in value: 0.8286713286713286. Current best value is 0.8342657342657344 with parameters: {'num_leaves': 9, 'learning_rate': 0.44411843171480164, 'max_depth': 3}.\u001b[0m\n",
      "\u001b[32m[I 2020-01-21 09:05:04,771]\u001b[0m Finished trial#25 resulted in value: 0.837092484979809. Current best value is 0.837092484979809 with parameters: {'num_leaves': 8, 'learning_rate': 0.02170655272884282, 'max_depth': 6}.\u001b[0m\n",
      "\u001b[32m[I 2020-01-21 09:05:05,190]\u001b[0m Finished trial#26 resulted in value: 0.6165763813651137. Current best value is 0.837092484979809 with parameters: {'num_leaves': 8, 'learning_rate': 0.02170655272884282, 'max_depth': 6}.\u001b[0m\n",
      "\u001b[32m[I 2020-01-21 09:05:05,567]\u001b[0m Finished trial#27 resulted in value: 0.8131980695360976. Current best value is 0.837092484979809 with parameters: {'num_leaves': 8, 'learning_rate': 0.02170655272884282, 'max_depth': 6}.\u001b[0m\n",
      "\u001b[32m[I 2020-01-21 09:05:05,954]\u001b[0m Finished trial#28 resulted in value: 0.8272431793558553. Current best value is 0.837092484979809 with parameters: {'num_leaves': 8, 'learning_rate': 0.02170655272884282, 'max_depth': 6}.\u001b[0m\n",
      "\u001b[32m[I 2020-01-21 09:05:06,336]\u001b[0m Finished trial#29 resulted in value: 0.8300797793755539. Current best value is 0.837092484979809 with parameters: {'num_leaves': 8, 'learning_rate': 0.02170655272884282, 'max_depth': 6}.\u001b[0m\n",
      "\u001b[32m[I 2020-01-21 09:05:06,699]\u001b[0m Finished trial#30 resulted in value: 0.6165763813651137. Current best value is 0.837092484979809 with parameters: {'num_leaves': 8, 'learning_rate': 0.02170655272884282, 'max_depth': 6}.\u001b[0m\n",
      "\u001b[32m[I 2020-01-21 09:05:07,070]\u001b[0m Finished trial#31 resulted in value: 0.8244755244755245. Current best value is 0.837092484979809 with parameters: {'num_leaves': 8, 'learning_rate': 0.02170655272884282, 'max_depth': 6}.\u001b[0m\n",
      "\u001b[32m[I 2020-01-21 09:05:07,455]\u001b[0m Finished trial#32 resulted in value: 0.807593814636068. Current best value is 0.837092484979809 with parameters: {'num_leaves': 8, 'learning_rate': 0.02170655272884282, 'max_depth': 6}.\u001b[0m\n",
      "\u001b[32m[I 2020-01-21 09:05:07,821]\u001b[0m Finished trial#33 resulted in value: 0.7738500935684034. Current best value is 0.837092484979809 with parameters: {'num_leaves': 8, 'learning_rate': 0.02170655272884282, 'max_depth': 6}.\u001b[0m\n",
      "\u001b[32m[I 2020-01-21 09:05:08,195]\u001b[0m Finished trial#34 resulted in value: 0.8384910863784103. Current best value is 0.8384910863784103 with parameters: {'num_leaves': 9, 'learning_rate': 0.014423885505222745, 'max_depth': 5}.\u001b[0m\n",
      "\u001b[32m[I 2020-01-21 09:05:08,558]\u001b[0m Finished trial#35 resulted in value: 0.8258839751797499. Current best value is 0.8384910863784103 with parameters: {'num_leaves': 9, 'learning_rate': 0.014423885505222745, 'max_depth': 5}.\u001b[0m\n",
      "\u001b[32m[I 2020-01-21 09:05:08,922]\u001b[0m Finished trial#36 resulted in value: 0.7977740569289865. Current best value is 0.8384910863784103 with parameters: {'num_leaves': 9, 'learning_rate': 0.014423885505222745, 'max_depth': 5}.\u001b[0m\n",
      "\u001b[32m[I 2020-01-21 09:05:09,371]\u001b[0m Finished trial#37 resulted in value: 0.6165763813651137. Current best value is 0.8384910863784103 with parameters: {'num_leaves': 9, 'learning_rate': 0.014423885505222745, 'max_depth': 5}.\u001b[0m\n",
      "\u001b[32m[I 2020-01-21 09:05:09,824]\u001b[0m Finished trial#38 resulted in value: 0.6165763813651137. Current best value is 0.8384910863784103 with parameters: {'num_leaves': 9, 'learning_rate': 0.014423885505222745, 'max_depth': 5}.\u001b[0m\n",
      "\u001b[32m[I 2020-01-21 09:05:10,239]\u001b[0m Finished trial#39 resulted in value: 0.8117994681374963. Current best value is 0.8384910863784103 with parameters: {'num_leaves': 9, 'learning_rate': 0.014423885505222745, 'max_depth': 5}.\u001b[0m\n",
      "\u001b[32m[I 2020-01-21 09:05:10,644]\u001b[0m Finished trial#40 resulted in value: 0.8314980793854033. Current best value is 0.8384910863784103 with parameters: {'num_leaves': 9, 'learning_rate': 0.014423885505222745, 'max_depth': 5}.\u001b[0m\n",
      "\u001b[32m[I 2020-01-21 09:05:11,054]\u001b[0m Finished trial#41 resulted in value: 0.8244853737811484. Current best value is 0.8384910863784103 with parameters: {'num_leaves': 9, 'learning_rate': 0.014423885505222745, 'max_depth': 5}.\u001b[0m\n",
      "\u001b[32m[I 2020-01-21 09:05:11,433]\u001b[0m Finished trial#42 resulted in value: 0.8286811779769525. Current best value is 0.8384910863784103 with parameters: {'num_leaves': 9, 'learning_rate': 0.014423885505222745, 'max_depth': 5}.\u001b[0m\n",
      "\u001b[32m[I 2020-01-21 09:05:11,809]\u001b[0m Finished trial#43 resulted in value: 0.8146459174628189. Current best value is 0.8384910863784103 with parameters: {'num_leaves': 9, 'learning_rate': 0.014423885505222745, 'max_depth': 5}.\u001b[0m\n",
      "\u001b[32m[I 2020-01-21 09:05:12,190]\u001b[0m Finished trial#44 resulted in value: 0.6165763813651137. Current best value is 0.8384910863784103 with parameters: {'num_leaves': 9, 'learning_rate': 0.014423885505222745, 'max_depth': 5}.\u001b[0m\n",
      "\u001b[32m[I 2020-01-21 09:05:12,612]\u001b[0m Finished trial#45 resulted in value: 0.6165763813651137. Current best value is 0.8384910863784103 with parameters: {'num_leaves': 9, 'learning_rate': 0.014423885505222745, 'max_depth': 5}.\u001b[0m\n",
      "\u001b[32m[I 2020-01-21 09:05:12,984]\u001b[0m Finished trial#46 resulted in value: 0.8033783118290161. Current best value is 0.8384910863784103 with parameters: {'num_leaves': 9, 'learning_rate': 0.014423885505222745, 'max_depth': 5}.\u001b[0m\n",
      "\u001b[32m[I 2020-01-21 09:05:13,387]\u001b[0m Finished trial#47 resulted in value: 0.8202501723628484. Current best value is 0.8384910863784103 with parameters: {'num_leaves': 9, 'learning_rate': 0.014423885505222745, 'max_depth': 5}.\u001b[0m\n",
      "\u001b[32m[I 2020-01-21 09:05:13,786]\u001b[0m Finished trial#48 resulted in value: 0.8258642765685019. Current best value is 0.8384910863784103 with parameters: {'num_leaves': 9, 'learning_rate': 0.014423885505222745, 'max_depth': 5}.\u001b[0m\n",
      "\u001b[32m[I 2020-01-21 09:05:14,132]\u001b[0m Finished trial#49 resulted in value: 0.7809120457007782. Current best value is 0.8384910863784103 with parameters: {'num_leaves': 9, 'learning_rate': 0.014423885505222745, 'max_depth': 5}.\u001b[0m\n",
      "\u001b[32m[I 2020-01-21 09:05:14,505]\u001b[0m Finished trial#50 resulted in value: 0.8188220230473752. Current best value is 0.8384910863784103 with parameters: {'num_leaves': 9, 'learning_rate': 0.014423885505222745, 'max_depth': 5}.\u001b[0m\n",
      "\u001b[32m[I 2020-01-21 09:05:14,869]\u001b[0m Finished trial#51 resulted in value: 0.8314980793854033. Current best value is 0.8384910863784103 with parameters: {'num_leaves': 9, 'learning_rate': 0.014423885505222745, 'max_depth': 5}.\u001b[0m\n",
      "\u001b[32m[I 2020-01-21 09:05:15,269]\u001b[0m Finished trial#52 resulted in value: 0.8272628779671033. Current best value is 0.8384910863784103 with parameters: {'num_leaves': 9, 'learning_rate': 0.014423885505222745, 'max_depth': 5}.\u001b[0m\n",
      "\u001b[32m[I 2020-01-21 09:05:15,682]\u001b[0m Finished trial#53 resulted in value: 0.8286713286713286. Current best value is 0.8384910863784103 with parameters: {'num_leaves': 9, 'learning_rate': 0.014423885505222745, 'max_depth': 5}.\u001b[0m\n",
      "\u001b[32m[I 2020-01-21 09:05:16,053]\u001b[0m Finished trial#54 resulted in value: 0.8230670737712991. Current best value is 0.8384910863784103 with parameters: {'num_leaves': 9, 'learning_rate': 0.014423885505222745, 'max_depth': 5}.\u001b[0m\n",
      "\u001b[32m[I 2020-01-21 09:05:16,484]\u001b[0m Finished trial#55 resulted in value: 0.8286614793657048. Current best value is 0.8384910863784103 with parameters: {'num_leaves': 9, 'learning_rate': 0.014423885505222745, 'max_depth': 5}.\u001b[0m\n",
      "\u001b[32m[I 2020-01-21 09:05:16,851]\u001b[0m Finished trial#56 resulted in value: 0.8075544174135724. Current best value is 0.8384910863784103 with parameters: {'num_leaves': 9, 'learning_rate': 0.014423885505222745, 'max_depth': 5}.\u001b[0m\n",
      "\u001b[32m[I 2020-01-21 09:05:17,223]\u001b[0m Finished trial#57 resulted in value: 0.6165763813651137. Current best value is 0.8384910863784103 with parameters: {'num_leaves': 9, 'learning_rate': 0.014423885505222745, 'max_depth': 5}.\u001b[0m\n",
      "\u001b[32m[I 2020-01-21 09:05:17,676]\u001b[0m Finished trial#58 resulted in value: 0.6165763813651137. Current best value is 0.8384910863784103 with parameters: {'num_leaves': 9, 'learning_rate': 0.014423885505222745, 'max_depth': 5}.\u001b[0m\n",
      "\u001b[32m[I 2020-01-21 09:05:18,148]\u001b[0m Finished trial#59 resulted in value: 0.6165763813651137. Current best value is 0.8384910863784103 with parameters: {'num_leaves': 9, 'learning_rate': 0.014423885505222745, 'max_depth': 5}.\u001b[0m\n",
      "\u001b[32m[I 2020-01-21 09:05:18,632]\u001b[0m Finished trial#60 resulted in value: 0.6165763813651137. Current best value is 0.8384910863784103 with parameters: {'num_leaves': 9, 'learning_rate': 0.014423885505222745, 'max_depth': 5}.\u001b[0m\n",
      "\u001b[32m[I 2020-01-21 09:05:19,012]\u001b[0m Finished trial#61 resulted in value: 0.834295282182606. Current best value is 0.8384910863784103 with parameters: {'num_leaves': 9, 'learning_rate': 0.014423885505222745, 'max_depth': 5}.\u001b[0m\n",
      "\u001b[32m[I 2020-01-21 09:05:19,409]\u001b[0m Finished trial#62 resulted in value: 0.8398995370826355. Current best value is 0.8398995370826355 with parameters: {'num_leaves': 9, 'learning_rate': 0.09292027281198578, 'max_depth': 4}.\u001b[0m\n",
      "\u001b[32m[I 2020-01-21 09:05:19,871]\u001b[0m Finished trial#63 resulted in value: 0.825854427262878. Current best value is 0.8398995370826355 with parameters: {'num_leaves': 9, 'learning_rate': 0.09292027281198578, 'max_depth': 4}.\u001b[0m\n",
      "\u001b[32m[I 2020-01-21 09:05:20,328]\u001b[0m Finished trial#64 resulted in value: 0.8342952821826062. Current best value is 0.8398995370826355 with parameters: {'num_leaves': 9, 'learning_rate': 0.09292027281198578, 'max_depth': 4}.\u001b[0m\n",
      "\u001b[32m[I 2020-01-21 09:05:20,776]\u001b[0m Finished trial#65 resulted in value: 0.8314783807741554. Current best value is 0.8398995370826355 with parameters: {'num_leaves': 9, 'learning_rate': 0.09292027281198578, 'max_depth': 4}.\u001b[0m\n",
      "\u001b[32m[I 2020-01-21 09:05:21,198]\u001b[0m Finished trial#66 resulted in value: 0.8188220230473752. Current best value is 0.8398995370826355 with parameters: {'num_leaves': 9, 'learning_rate': 0.09292027281198578, 'max_depth': 4}.\u001b[0m\n",
      "\u001b[32m[I 2020-01-21 09:05:21,574]\u001b[0m Finished trial#67 resulted in value: 0.8244361272530287. Current best value is 0.8398995370826355 with parameters: {'num_leaves': 9, 'learning_rate': 0.09292027281198578, 'max_depth': 4}.\u001b[0m\n",
      "\u001b[32m[I 2020-01-21 09:05:21,959]\u001b[0m Finished trial#68 resulted in value: 0.8286713286713286. Current best value is 0.8398995370826355 with parameters: {'num_leaves': 9, 'learning_rate': 0.09292027281198578, 'max_depth': 4}.\u001b[0m\n",
      "\u001b[32m[I 2020-01-21 09:05:22,385]\u001b[0m Finished trial#69 resulted in value: 0.8286614793657048. Current best value is 0.8398995370826355 with parameters: {'num_leaves': 9, 'learning_rate': 0.09292027281198578, 'max_depth': 4}.\u001b[0m\n",
      "\u001b[32m[I 2020-01-21 09:05:22,784]\u001b[0m Finished trial#70 resulted in value: 0.8272825765783512. Current best value is 0.8398995370826355 with parameters: {'num_leaves': 9, 'learning_rate': 0.09292027281198578, 'max_depth': 4}.\u001b[0m\n",
      "\u001b[32m[I 2020-01-21 09:05:23,234]\u001b[0m Finished trial#71 resulted in value: 0.8356840342755836. Current best value is 0.8398995370826355 with parameters: {'num_leaves': 9, 'learning_rate': 0.09292027281198578, 'max_depth': 4}.\u001b[0m\n",
      "\u001b[32m[I 2020-01-21 09:05:23,672]\u001b[0m Finished trial#72 resulted in value: 0.8342657342657341. Current best value is 0.8398995370826355 with parameters: {'num_leaves': 9, 'learning_rate': 0.09292027281198578, 'max_depth': 4}.\u001b[0m\n",
      "\u001b[32m[I 2020-01-21 09:05:24,045]\u001b[0m Finished trial#73 resulted in value: 0.8159952723333005. Current best value is 0.8398995370826355 with parameters: {'num_leaves': 9, 'learning_rate': 0.09292027281198578, 'max_depth': 4}.\u001b[0m\n",
      "\u001b[32m[I 2020-01-21 09:05:24,430]\u001b[0m Finished trial#74 resulted in value: 0.8286713286713286. Current best value is 0.8398995370826355 with parameters: {'num_leaves': 9, 'learning_rate': 0.09292027281198578, 'max_depth': 4}.\u001b[0m\n",
      "\u001b[32m[I 2020-01-21 09:05:24,852]\u001b[0m Finished trial#75 resulted in value: 0.8314586821629074. Current best value is 0.8398995370826355 with parameters: {'num_leaves': 9, 'learning_rate': 0.09292027281198578, 'max_depth': 4}.\u001b[0m\n",
      "\u001b[32m[I 2020-01-21 09:05:25,242]\u001b[0m Finished trial#76 resulted in value: 0.8202600216684722. Current best value is 0.8398995370826355 with parameters: {'num_leaves': 9, 'learning_rate': 0.09292027281198578, 'max_depth': 4}.\u001b[0m\n",
      "\u001b[32m[I 2020-01-21 09:05:25,612]\u001b[0m Finished trial#77 resulted in value: 0.825844577957254. Current best value is 0.8398995370826355 with parameters: {'num_leaves': 9, 'learning_rate': 0.09292027281198578, 'max_depth': 4}.\u001b[0m\n",
      "\u001b[32m[I 2020-01-21 09:05:25,996]\u001b[0m Finished trial#78 resulted in value: 0.825874125874126. Current best value is 0.8398995370826355 with parameters: {'num_leaves': 9, 'learning_rate': 0.09292027281198578, 'max_depth': 4}.\u001b[0m\n",
      "\u001b[32m[I 2020-01-21 09:05:26,423]\u001b[0m Finished trial#79 resulted in value: 0.8385107849896581. Current best value is 0.8398995370826355 with parameters: {'num_leaves': 9, 'learning_rate': 0.09292027281198578, 'max_depth': 4}.\u001b[0m\n",
      "\u001b[32m[I 2020-01-21 09:05:26,885]\u001b[0m Finished trial#80 resulted in value: 0.8371023342854329. Current best value is 0.8398995370826355 with parameters: {'num_leaves': 9, 'learning_rate': 0.09292027281198578, 'max_depth': 4}.\u001b[0m\n",
      "\u001b[32m[I 2020-01-21 09:05:27,295]\u001b[0m Finished trial#81 resulted in value: 0.8371023342854329. Current best value is 0.8398995370826355 with parameters: {'num_leaves': 9, 'learning_rate': 0.09292027281198578, 'max_depth': 4}.\u001b[0m\n",
      "\u001b[32m[I 2020-01-21 09:05:27,669]\u001b[0m Finished trial#82 resulted in value: 0.8371023342854329. Current best value is 0.8398995370826355 with parameters: {'num_leaves': 9, 'learning_rate': 0.09292027281198578, 'max_depth': 4}.\u001b[0m\n",
      "\u001b[32m[I 2020-01-21 09:05:28,065]\u001b[0m Finished trial#83 resulted in value: 0.7879050526937852. Current best value is 0.8398995370826355 with parameters: {'num_leaves': 9, 'learning_rate': 0.09292027281198578, 'max_depth': 4}.\u001b[0m\n",
      "\u001b[32m[I 2020-01-21 09:05:28,467]\u001b[0m Finished trial#84 resulted in value: 0.8202206244459767. Current best value is 0.8398995370826355 with parameters: {'num_leaves': 9, 'learning_rate': 0.09292027281198578, 'max_depth': 4}.\u001b[0m\n",
      "\u001b[32m[I 2020-01-21 09:05:28,872]\u001b[0m Finished trial#85 resulted in value: 0.7977445090121147. Current best value is 0.8398995370826355 with parameters: {'num_leaves': 9, 'learning_rate': 0.09292027281198578, 'max_depth': 4}.\u001b[0m\n",
      "\u001b[32m[I 2020-01-21 09:05:29,330]\u001b[0m Finished trial#86 resulted in value: 0.8342854328769821. Current best value is 0.8398995370826355 with parameters: {'num_leaves': 9, 'learning_rate': 0.09292027281198578, 'max_depth': 4}.\u001b[0m\n",
      "\u001b[32m[I 2020-01-21 09:05:29,758]\u001b[0m Finished trial#87 resulted in value: 0.7738500935684034. Current best value is 0.8398995370826355 with parameters: {'num_leaves': 9, 'learning_rate': 0.09292027281198578, 'max_depth': 4}.\u001b[0m\n",
      "\u001b[32m[I 2020-01-21 09:05:30,150]\u001b[0m Finished trial#88 resulted in value: 0.6165763813651137. Current best value is 0.8398995370826355 with parameters: {'num_leaves': 9, 'learning_rate': 0.09292027281198578, 'max_depth': 4}.\u001b[0m\n",
      "\u001b[32m[I 2020-01-21 09:05:30,619]\u001b[0m Finished trial#89 resulted in value: 0.8286713286713286. Current best value is 0.8398995370826355 with parameters: {'num_leaves': 9, 'learning_rate': 0.09292027281198578, 'max_depth': 4}.\u001b[0m\n",
      "\u001b[32m[I 2020-01-21 09:05:31,000]\u001b[0m Finished trial#90 resulted in value: 0.7907318034078598. Current best value is 0.8398995370826355 with parameters: {'num_leaves': 9, 'learning_rate': 0.09292027281198578, 'max_depth': 4}.\u001b[0m\n",
      "\u001b[32m[I 2020-01-21 09:05:31,364]\u001b[0m Finished trial#91 resulted in value: 0.8258642765685018. Current best value is 0.8398995370826355 with parameters: {'num_leaves': 9, 'learning_rate': 0.09292027281198578, 'max_depth': 4}.\u001b[0m\n",
      "\u001b[32m[I 2020-01-21 09:05:31,731]\u001b[0m Finished trial#92 resulted in value: 0.8385107849896581. Current best value is 0.8398995370826355 with parameters: {'num_leaves': 9, 'learning_rate': 0.09292027281198578, 'max_depth': 4}.\u001b[0m\n",
      "\u001b[32m[I 2020-01-21 09:05:32,115]\u001b[0m Finished trial#93 resulted in value: 0.8385107849896581. Current best value is 0.8398995370826355 with parameters: {'num_leaves': 9, 'learning_rate': 0.09292027281198578, 'max_depth': 4}.\u001b[0m\n",
      "\u001b[32m[I 2020-01-21 09:05:32,477]\u001b[0m Finished trial#94 resulted in value: 0.8385107849896581. Current best value is 0.8398995370826355 with parameters: {'num_leaves': 9, 'learning_rate': 0.09292027281198578, 'max_depth': 4}.\u001b[0m\n",
      "\u001b[32m[I 2020-01-21 09:05:32,853]\u001b[0m Finished trial#95 resulted in value: 0.8385107849896581. Current best value is 0.8398995370826355 with parameters: {'num_leaves': 9, 'learning_rate': 0.09292027281198578, 'max_depth': 4}.\u001b[0m\n",
      "\u001b[32m[I 2020-01-21 09:05:33,247]\u001b[0m Finished trial#96 resulted in value: 0.8385107849896581. Current best value is 0.8398995370826355 with parameters: {'num_leaves': 9, 'learning_rate': 0.09292027281198578, 'max_depth': 4}.\u001b[0m\n",
      "\u001b[32m[I 2020-01-21 09:05:33,731]\u001b[0m Finished trial#97 resulted in value: 0.7836895498867331. Current best value is 0.8398995370826355 with parameters: {'num_leaves': 9, 'learning_rate': 0.09292027281198578, 'max_depth': 4}.\u001b[0m\n",
      "\u001b[32m[I 2020-01-21 09:05:34,128]\u001b[0m Finished trial#98 resulted in value: 0.6165763813651137. Current best value is 0.8398995370826355 with parameters: {'num_leaves': 9, 'learning_rate': 0.09292027281198578, 'max_depth': 4}.\u001b[0m\n",
      "\u001b[32m[I 2020-01-21 09:05:34,553]\u001b[0m Finished trial#99 resulted in value: 0.8005614104205654. Current best value is 0.8398995370826355 with parameters: {'num_leaves': 9, 'learning_rate': 0.09292027281198578, 'max_depth': 4}.\u001b[0m\n"
     ]
    },
    {
     "name": "stdout",
     "output_type": "stream",
     "text": [
      "{'num_leaves': 9, 'learning_rate': 0.09292027281198578, 'max_depth': 4}\n",
      "0.8398995370826355\n"
     ]
    }
   ],
   "source": [
    "def objective(trial):\n",
    "    \n",
    "    param_grid_lgb = {\n",
    "        'num_leaves': trial.suggest_int(\"num_leaves\", 3, 10),\n",
    "        'learning_rate': trial.suggest_loguniform(\"learning_rate\", 1e-8, 1.0),\n",
    "        'max_depth': trial.suggest_int(\"max_depth\", 3, 10),\n",
    "        \"random_state\": 0\n",
    "    }\n",
    "\n",
    "    model = LGBMClassifier(**param_grid_lgb)\n",
    "    \n",
    "    # 5-Fold CV / Accuracy でモデルを評価する\n",
    "    kf = StratifiedKFold(n_splits=5, shuffle=True, random_state=0)\n",
    "    scores = cross_validate(model, X=X_train, y=y_train, cv=kf)\n",
    "    # 最小化なので 1.0 からスコアを引く\n",
    "    return scores['test_score'].mean()\n",
    "\n",
    "study = optuna.create_study(direction='maximize')\n",
    "study.optimize(objective, n_trials=100)\n",
    "print(study.best_params)\n",
    "print(study.best_value)\n",
    "lgb_best_param = study.best_params"
   ]
  },
  {
   "cell_type": "code",
   "execution_count": 317,
   "metadata": {},
   "outputs": [
    {
     "name": "stderr",
     "output_type": "stream",
     "text": [
      "\u001b[32m[I 2020-01-21 09:05:40,194]\u001b[0m Finished trial#0 resulted in value: 0.8258642765685019. Current best value is 0.8258642765685019 with parameters: {'C': 18}.\u001b[0m\n",
      "\u001b[32m[I 2020-01-21 09:05:40,649]\u001b[0m Finished trial#1 resulted in value: 0.821638924455826. Current best value is 0.8258642765685019 with parameters: {'C': 18}.\u001b[0m\n",
      "\u001b[32m[I 2020-01-21 09:05:41,054]\u001b[0m Finished trial#2 resulted in value: 0.8230473751600513. Current best value is 0.8258642765685019 with parameters: {'C': 18}.\u001b[0m\n",
      "\u001b[32m[I 2020-01-21 09:05:41,471]\u001b[0m Finished trial#3 resulted in value: 0.8244459765586527. Current best value is 0.8258642765685019 with parameters: {'C': 18}.\u001b[0m\n",
      "\u001b[32m[I 2020-01-21 09:05:41,892]\u001b[0m Finished trial#4 resulted in value: 0.8244459765586527. Current best value is 0.8258642765685019 with parameters: {'C': 18}.\u001b[0m\n",
      "\u001b[32m[I 2020-01-21 09:05:42,348]\u001b[0m Finished trial#5 resulted in value: 0.8230375258544272. Current best value is 0.8258642765685019 with parameters: {'C': 18}.\u001b[0m\n",
      "\u001b[32m[I 2020-01-21 09:05:42,781]\u001b[0m Finished trial#6 resulted in value: 0.8230473751600513. Current best value is 0.8258642765685019 with parameters: {'C': 18}.\u001b[0m\n",
      "\u001b[32m[I 2020-01-21 09:05:43,311]\u001b[0m Finished trial#7 resulted in value: 0.8300699300699301. Current best value is 0.8300699300699301 with parameters: {'C': 11}.\u001b[0m\n",
      "\u001b[32m[I 2020-01-21 09:05:43,805]\u001b[0m Finished trial#8 resulted in value: 0.8244459765586527. Current best value is 0.8300699300699301 with parameters: {'C': 11}.\u001b[0m\n",
      "\u001b[32m[I 2020-01-21 09:05:44,229]\u001b[0m Finished trial#9 resulted in value: 0.8230375258544272. Current best value is 0.8300699300699301 with parameters: {'C': 11}.\u001b[0m\n"
     ]
    },
    {
     "name": "stdout",
     "output_type": "stream",
     "text": [
      "{'C': 11}\n",
      "0.8300699300699301\n"
     ]
    }
   ],
   "source": [
    "import warnings\n",
    "warnings.filterwarnings('ignore')\n",
    "\n",
    "def objective(trial):\n",
    "    \n",
    "    param_grid_lr = {\n",
    "        'C' : trial.suggest_int(\"C\", 1, 100),\n",
    "        \"random_state\": 0\n",
    "    }\n",
    "\n",
    "    model = LogisticRegression(**param_grid_lr)\n",
    "    \n",
    "    # 5-Fold CV / Accuracy でモデルを評価する\n",
    "    kf = StratifiedKFold(n_splits=5, shuffle=True, random_state=0)\n",
    "    scores = cross_validate(model, X=X_train, y=y_train, cv=kf)\n",
    "    # 最小化なので 1.0 からスコアを引く\n",
    "    return scores['test_score'].mean()\n",
    "\n",
    "study = optuna.create_study(direction='maximize')\n",
    "study.optimize(objective, n_trials=10)\n",
    "print(study.best_params)\n",
    "print(study.best_value)\n",
    "lr_best_param = study.best_params"
   ]
  },
  {
   "cell_type": "code",
   "execution_count": 318,
   "metadata": {},
   "outputs": [
    {
     "name": "stderr",
     "output_type": "stream",
     "text": [
      "\u001b[32m[I 2020-01-21 09:08:22,672]\u001b[0m Finished trial#0 resulted in value: 0.8019994090416626. Current best value is 0.8019994090416626 with parameters: {'C': 82, 'gamma': 0.0001759129750564156}.\u001b[0m\n",
      "\u001b[32m[I 2020-01-21 09:08:22,994]\u001b[0m Finished trial#1 resulted in value: 0.8314882300797795. Current best value is 0.8314882300797795 with parameters: {'C': 135, 'gamma': 0.003274656775412651}.\u001b[0m\n",
      "\u001b[32m[I 2020-01-21 09:08:23,326]\u001b[0m Finished trial#2 resulted in value: 0.8230276765488032. Current best value is 0.8314882300797795 with parameters: {'C': 135, 'gamma': 0.003274656775412651}.\u001b[0m\n",
      "\u001b[32m[I 2020-01-21 09:08:23,669]\u001b[0m Finished trial#3 resulted in value: 0.8385107849896581. Current best value is 0.8385107849896581 with parameters: {'C': 122, 'gamma': 0.015173450268406122}.\u001b[0m\n",
      "\u001b[32m[I 2020-01-21 09:08:23,960]\u001b[0m Finished trial#4 resulted in value: 0.8371023342854329. Current best value is 0.8385107849896581 with parameters: {'C': 122, 'gamma': 0.015173450268406122}.\u001b[0m\n",
      "\u001b[32m[I 2020-01-21 09:08:24,267]\u001b[0m Finished trial#5 resulted in value: 0.8160543681670444. Current best value is 0.8385107849896581 with parameters: {'C': 122, 'gamma': 0.015173450268406122}.\u001b[0m\n",
      "\u001b[32m[I 2020-01-21 09:08:24,577]\u001b[0m Finished trial#6 resulted in value: 0.8427459864079584. Current best value is 0.8427459864079584 with parameters: {'C': 109, 'gamma': 0.010427472662353847}.\u001b[0m\n",
      "\u001b[32m[I 2020-01-21 09:08:24,948]\u001b[0m Finished trial#7 resulted in value: 0.8132374667585935. Current best value is 0.8427459864079584 with parameters: {'C': 109, 'gamma': 0.010427472662353847}.\u001b[0m\n",
      "\u001b[32m[I 2020-01-21 09:08:25,274]\u001b[0m Finished trial#8 resulted in value: 0.8427459864079584. Current best value is 0.8427459864079584 with parameters: {'C': 109, 'gamma': 0.010427472662353847}.\u001b[0m\n",
      "\u001b[32m[I 2020-01-21 09:08:25,620]\u001b[0m Finished trial#9 resulted in value: 0.8286811779769525. Current best value is 0.8427459864079584 with parameters: {'C': 109, 'gamma': 0.010427472662353847}.\u001b[0m\n"
     ]
    },
    {
     "name": "stdout",
     "output_type": "stream",
     "text": [
      "{'C': 109, 'gamma': 0.010427472662353847}\n",
      "0.8427459864079584\n"
     ]
    }
   ],
   "source": [
    "import warnings\n",
    "warnings.filterwarnings('ignore')\n",
    "\n",
    "def objective(trial):\n",
    "    \n",
    "    param_grid_svc = {\n",
    "        'C' : trial.suggest_int(\"C\", 50, 200),\n",
    "        'gamma': trial.suggest_loguniform(\"gamma\", 1e-4, 1.0),\n",
    "        \"random_state\": 0,\n",
    "        'kernel': 'rbf'\n",
    "    }\n",
    "\n",
    "    model = SVC(**param_grid_svc)\n",
    "    \n",
    "    # 5-Fold CV / Accuracy でモデルを評価する\n",
    "    kf = StratifiedKFold(n_splits=5, shuffle=True, random_state=0)\n",
    "    scores = cross_validate(model, X=X_train, y=y_train, cv=kf)\n",
    "    # 最小化なので 1.0 からスコアを引く\n",
    "    return scores['test_score'].mean()\n",
    "\n",
    "study = optuna.create_study(direction='maximize')\n",
    "study.optimize(objective, n_trials=10)\n",
    "print(study.best_params)\n",
    "print(study.best_value)\n",
    "svc_best_param = study.best_params"
   ]
  },
  {
   "cell_type": "markdown",
   "metadata": {},
   "source": [
    "### 再学習"
   ]
  },
  {
   "cell_type": "code",
   "execution_count": 308,
   "metadata": {},
   "outputs": [],
   "source": [
    "# 5-Fold CV / Accuracy でモデルを評価する\n",
    "kf = StratifiedKFold(n_splits=5, shuffle=True, random_state=0)"
   ]
  },
  {
   "cell_type": "code",
   "execution_count": 319,
   "metadata": {},
   "outputs": [
    {
     "name": "stdout",
     "output_type": "stream",
     "text": [
      "RandomForestClassifier\n",
      "====================\n",
      "mean:0.8226602222082733, std:0.013237172083535477\n",
      "====================\n",
      "XGBClassifier\n",
      "====================\n",
      "mean:0.8080660347749671, std:0.018736129308817257\n",
      "====================\n",
      "LGBMClassifier\n",
      "====================\n",
      "mean:0.8069424392693492, std:0.019474809298201185\n",
      "====================\n",
      "LogisticRegression\n",
      "====================\n",
      "mean:0.8114242671520934, std:0.023357436647299255\n",
      "====================\n",
      "SVC\n",
      "====================\n",
      "mean:0.8114117130123658, std:0.025494915616664178\n",
      "====================\n"
     ]
    }
   ],
   "source": [
    "rfc_best = RandomForestClassifier(**rfc_best_param)\n",
    "print('RandomForestClassifier')\n",
    "print('='*20)\n",
    "scores = cross_validate(rfc_best, X=train_feature, y=train_tagert, cv=kf)\n",
    "print(f'mean:{scores[\"test_score\"].mean()}, std:{scores[\"test_score\"].std()}')\n",
    "print('='*20)\n",
    "\n",
    "xgb_best = XGBClassifier(**xgb_best_param)\n",
    "print('XGBClassifier')\n",
    "print('='*20)\n",
    "scores = cross_validate(xgb_best, X=train_feature, y=train_tagert, cv=kf)\n",
    "print(f'mean:{scores[\"test_score\"].mean()}, std:{scores[\"test_score\"].std()}')\n",
    "print('='*20)\n",
    "\n",
    "lgb_best = LGBMClassifier(**lgb_best_param)\n",
    "print('LGBMClassifier')\n",
    "print('='*20)\n",
    "scores = cross_validate(lgb_best, X=train_feature, y=train_tagert, cv=kf)\n",
    "print(f'mean:{scores[\"test_score\"].mean()}, std:{scores[\"test_score\"].std()}')\n",
    "print('='*20)\n",
    "\n",
    "lr_best = LogisticRegression(**lr_best_param)\n",
    "print('LogisticRegression')\n",
    "print('='*20)\n",
    "scores = cross_validate(lr_best, X=train_feature, y=train_tagert, cv=kf)\n",
    "print(f'mean:{scores[\"test_score\"].mean()}, std:{scores[\"test_score\"].std()}')\n",
    "print('='*20)\n",
    "\n",
    "svc_best = SVC(**svc_best_param)\n",
    "print('SVC')\n",
    "print('='*20)\n",
    "scores = cross_validate(svc_best, X=train_feature, y=train_tagert, cv=kf)\n",
    "print(f'mean:{scores[\"test_score\"].mean()}, std:{scores[\"test_score\"].std()}')\n",
    "print('='*20)"
   ]
  },
  {
   "cell_type": "code",
   "execution_count": 320,
   "metadata": {},
   "outputs": [
    {
     "name": "stdout",
     "output_type": "stream",
     "text": [
      "VotingClassifier\n",
      "====================\n",
      "mean:0.8125604167974391, std:0.020979385506195814\n"
     ]
    }
   ],
   "source": [
    "from sklearn.ensemble import VotingClassifier\n",
    "\n",
    "# voting に使う分類器を用意する\n",
    "estimators = [\n",
    "    ('rfc', RandomForestClassifier(**rfc_best_param)),\n",
    "    ('xgb', XGBClassifier(**xgb_best_param)),\n",
    "    ('lgb', LGBMClassifier(**lgb_best_param)),\n",
    "    ('lr', LogisticRegression(**lr_best_param)),\n",
    "    ('svc', SVC(**lr_best_param))\n",
    "]\n",
    "voting = VotingClassifier(estimators)\n",
    "\n",
    "print('VotingClassifier')\n",
    "print('='*20)\n",
    "scores = cross_validate(voting, X=train_feature, y=train_tagert, cv=kf)\n",
    "print(f'mean:{scores[\"test_score\"].mean()}, std:{scores[\"test_score\"].std()}')"
   ]
  },
  {
   "cell_type": "code",
   "execution_count": 311,
   "metadata": {},
   "outputs": [],
   "source": [
    "import numpy as np\n",
    "\n",
    "def average_model(\n",
    "    models:list,\n",
    "    ge:int,\n",
    "    train:pd.DataFrame,\n",
    "    test:pd.Series=None\n",
    "):\n",
    "    \n",
    "    sum_pred = 0\n",
    "    for model in models:\n",
    "        sum_pred += model.predict(train)\n",
    "    sum_pred = np.where(sum_pred >= ge, 1, 0)\n",
    "    if test is not None:\n",
    "        print(f'accuracy{(sum_pred == np.array(test)).sum()/len(train)}')\n",
    "    \n",
    "    return sum_pred"
   ]
  },
  {
   "cell_type": "markdown",
   "metadata": {},
   "source": [
    "# 推論"
   ]
  },
  {
   "cell_type": "code",
   "execution_count": 321,
   "metadata": {},
   "outputs": [
    {
     "data": {
      "text/plain": [
       "LogisticRegression(C=11, class_weight=None, dual=False, fit_intercept=True,\n",
       "                   intercept_scaling=1, l1_ratio=None, max_iter=100,\n",
       "                   multi_class='auto', n_jobs=None, penalty='l2',\n",
       "                   random_state=None, solver='lbfgs', tol=0.0001, verbose=0,\n",
       "                   warm_start=False)"
      ]
     },
     "execution_count": 321,
     "metadata": {},
     "output_type": "execute_result"
    }
   ],
   "source": [
    "rfc_best = RandomForestClassifier(**rfc_best_param)\n",
    "rfc_best.fit(train_feature, train_tagert)\n",
    "\n",
    "xgb_best = XGBClassifier(**xgb_best_param)\n",
    "xgb_best.fit(train_feature, train_tagert)\n",
    "\n",
    "lgb_best = LGBMClassifier(**lgb_best_param)\n",
    "lgb_best.fit(train_feature, train_tagert)\n",
    "\n",
    "lr_best = LogisticRegression(**lr_best_param)\n",
    "lr_best.fit(train_feature, train_tagert)\n",
    "\n",
    "# svc_best = SVC(**svc_best_param)\n",
    "# svc_best.fit(train_feature, train_tagert)"
   ]
  },
  {
   "cell_type": "code",
   "execution_count": 322,
   "metadata": {},
   "outputs": [],
   "source": [
    "# pred = average_model([rfc_best,xgb_best,lgb_best], test_feature)\n",
    "# pred = svc_best.predict(test_feature)\n",
    "pred_rfc = rfc_best.predict(test_feature)\n",
    "pred_xgb = xgb_best.predict(test_feature)\n",
    "pred_lgb = lgb_best.predict(test_feature)\n",
    "pred_lr = lr_best.predict(test_feature)\n",
    "pred_average = average_model(\n",
    "    [rfc_best,xgb_best,lgb_best,lr_best],\n",
    "    3,\n",
    "    test_feature\n",
    ")\n",
    "# pred = average_model([rfc,xgb,lgb], test_feature)\n",
    "# pred = lr.predict(test_feature)"
   ]
  },
  {
   "cell_type": "code",
   "execution_count": 323,
   "metadata": {},
   "outputs": [],
   "source": [
    "pd.concat(\n",
    "    [\n",
    "        pd.DataFrame(test.PassengerId, columns=['PassengerId']).reset_index(drop=True),\n",
    "        pd.DataFrame(pred_rfc, columns=['Survived'])\n",
    "    ],\n",
    "    axis=1\n",
    ").to_csv('output_rfc.csv', index=False)\n",
    "\n",
    "pd.concat(\n",
    "    [\n",
    "        pd.DataFrame(test.PassengerId, columns=['PassengerId']).reset_index(drop=True),\n",
    "        pd.DataFrame(pred_xgb, columns=['Survived'])\n",
    "    ],\n",
    "    axis=1\n",
    ").to_csv('output_xgb.csv', index=False)\n",
    "\n",
    "pd.concat(\n",
    "    [\n",
    "        pd.DataFrame(test.PassengerId, columns=['PassengerId']).reset_index(drop=True),\n",
    "        pd.DataFrame(pred_lgb, columns=['Survived'])\n",
    "    ],\n",
    "    axis=1\n",
    ").to_csv('output_lgb.csv', index=False)\n",
    "\n",
    "pd.concat(\n",
    "    [\n",
    "        pd.DataFrame(test.PassengerId, columns=['PassengerId']).reset_index(drop=True),\n",
    "        pd.DataFrame(pred_lr, columns=['Survived'])\n",
    "    ],\n",
    "    axis=1\n",
    ").to_csv('output_lr.csv', index=False)\n",
    "\n",
    "pd.concat(\n",
    "    [\n",
    "        pd.DataFrame(test.PassengerId, columns=['PassengerId']).reset_index(drop=True),\n",
    "        pd.DataFrame(pred_average, columns=['Survived'])\n",
    "    ],\n",
    "    axis=1\n",
    ").to_csv('output_average.csv', index=False)"
   ]
  },
  {
   "cell_type": "code",
   "execution_count": 324,
   "metadata": {},
   "outputs": [],
   "source": [
    "output_lgb = pd.read_csv('output_lgb.csv')\n",
    "output_lr = pd.read_csv('output_lr.csv')\n",
    "output_xgb = pd.read_csv('output_xgb.csv')\n",
    "output_rfc = pd.read_csv('output_rfc.csv')\n",
    "output_average = pd.read_csv('output_average.csv')"
   ]
  },
  {
   "cell_type": "code",
   "execution_count": 325,
   "metadata": {},
   "outputs": [
    {
     "data": {
      "text/plain": [
       "PassengerId    418\n",
       "Survived       404\n",
       "dtype: int64"
      ]
     },
     "execution_count": 325,
     "metadata": {},
     "output_type": "execute_result"
    }
   ],
   "source": [
    "(output_rfc==output_average).sum()"
   ]
  },
  {
   "cell_type": "code",
   "execution_count": 53,
   "metadata": {},
   "outputs": [
    {
     "data": {
      "text/html": [
       "<div>\n",
       "<style scoped>\n",
       "    .dataframe tbody tr th:only-of-type {\n",
       "        vertical-align: middle;\n",
       "    }\n",
       "\n",
       "    .dataframe tbody tr th {\n",
       "        vertical-align: top;\n",
       "    }\n",
       "\n",
       "    .dataframe thead th {\n",
       "        text-align: right;\n",
       "    }\n",
       "</style>\n",
       "<table border=\"1\" class=\"dataframe\">\n",
       "  <thead>\n",
       "    <tr style=\"text-align: right;\">\n",
       "      <th></th>\n",
       "      <th>PassengerId</th>\n",
       "      <th>Survived</th>\n",
       "      <th>Pclass</th>\n",
       "      <th>Name</th>\n",
       "      <th>Age</th>\n",
       "      <th>SibSp</th>\n",
       "      <th>Parch</th>\n",
       "      <th>Ticket</th>\n",
       "      <th>Fare</th>\n",
       "      <th>Cabin</th>\n",
       "      <th>...</th>\n",
       "      <th>FamilySize_bin_big</th>\n",
       "      <th>FamilySize_bin_mediam</th>\n",
       "      <th>FamilySize_bin_small</th>\n",
       "      <th>Cabin_ini_B</th>\n",
       "      <th>Cabin_ini_C</th>\n",
       "      <th>Cabin_ini_D</th>\n",
       "      <th>Cabin_ini_E</th>\n",
       "      <th>Cabin_ini_F</th>\n",
       "      <th>Cabin_ini_Rare</th>\n",
       "      <th>Cabin_ini_n</th>\n",
       "    </tr>\n",
       "  </thead>\n",
       "  <tbody>\n",
       "    <tr>\n",
       "      <th>891</th>\n",
       "      <td>892</td>\n",
       "      <td>9</td>\n",
       "      <td>3</td>\n",
       "      <td>Kelly, Mr. James</td>\n",
       "      <td>34.500000</td>\n",
       "      <td>0</td>\n",
       "      <td>0</td>\n",
       "      <td>330911</td>\n",
       "      <td>7.8292</td>\n",
       "      <td>NaN</td>\n",
       "      <td>...</td>\n",
       "      <td>0</td>\n",
       "      <td>0</td>\n",
       "      <td>0</td>\n",
       "      <td>0</td>\n",
       "      <td>0</td>\n",
       "      <td>0</td>\n",
       "      <td>0</td>\n",
       "      <td>0</td>\n",
       "      <td>0</td>\n",
       "      <td>1</td>\n",
       "    </tr>\n",
       "    <tr>\n",
       "      <th>892</th>\n",
       "      <td>893</td>\n",
       "      <td>9</td>\n",
       "      <td>3</td>\n",
       "      <td>Wilkes, Mrs. James (Ellen Needs)</td>\n",
       "      <td>47.000000</td>\n",
       "      <td>1</td>\n",
       "      <td>0</td>\n",
       "      <td>363272</td>\n",
       "      <td>7.0000</td>\n",
       "      <td>NaN</td>\n",
       "      <td>...</td>\n",
       "      <td>0</td>\n",
       "      <td>0</td>\n",
       "      <td>1</td>\n",
       "      <td>0</td>\n",
       "      <td>0</td>\n",
       "      <td>0</td>\n",
       "      <td>0</td>\n",
       "      <td>0</td>\n",
       "      <td>0</td>\n",
       "      <td>1</td>\n",
       "    </tr>\n",
       "    <tr>\n",
       "      <th>893</th>\n",
       "      <td>894</td>\n",
       "      <td>9</td>\n",
       "      <td>2</td>\n",
       "      <td>Myles, Mr. Thomas Francis</td>\n",
       "      <td>62.000000</td>\n",
       "      <td>0</td>\n",
       "      <td>0</td>\n",
       "      <td>240276</td>\n",
       "      <td>9.6875</td>\n",
       "      <td>NaN</td>\n",
       "      <td>...</td>\n",
       "      <td>0</td>\n",
       "      <td>0</td>\n",
       "      <td>0</td>\n",
       "      <td>0</td>\n",
       "      <td>0</td>\n",
       "      <td>0</td>\n",
       "      <td>0</td>\n",
       "      <td>0</td>\n",
       "      <td>0</td>\n",
       "      <td>1</td>\n",
       "    </tr>\n",
       "    <tr>\n",
       "      <th>894</th>\n",
       "      <td>895</td>\n",
       "      <td>9</td>\n",
       "      <td>3</td>\n",
       "      <td>Wirz, Mr. Albert</td>\n",
       "      <td>27.000000</td>\n",
       "      <td>0</td>\n",
       "      <td>0</td>\n",
       "      <td>315154</td>\n",
       "      <td>8.6625</td>\n",
       "      <td>NaN</td>\n",
       "      <td>...</td>\n",
       "      <td>0</td>\n",
       "      <td>0</td>\n",
       "      <td>0</td>\n",
       "      <td>0</td>\n",
       "      <td>0</td>\n",
       "      <td>0</td>\n",
       "      <td>0</td>\n",
       "      <td>0</td>\n",
       "      <td>0</td>\n",
       "      <td>1</td>\n",
       "    </tr>\n",
       "    <tr>\n",
       "      <th>895</th>\n",
       "      <td>896</td>\n",
       "      <td>9</td>\n",
       "      <td>3</td>\n",
       "      <td>Hirvonen, Mrs. Alexander (Helga E Lindqvist)</td>\n",
       "      <td>22.000000</td>\n",
       "      <td>1</td>\n",
       "      <td>1</td>\n",
       "      <td>3101298</td>\n",
       "      <td>12.2875</td>\n",
       "      <td>NaN</td>\n",
       "      <td>...</td>\n",
       "      <td>0</td>\n",
       "      <td>0</td>\n",
       "      <td>1</td>\n",
       "      <td>0</td>\n",
       "      <td>0</td>\n",
       "      <td>0</td>\n",
       "      <td>0</td>\n",
       "      <td>0</td>\n",
       "      <td>0</td>\n",
       "      <td>1</td>\n",
       "    </tr>\n",
       "    <tr>\n",
       "      <th>...</th>\n",
       "      <td>...</td>\n",
       "      <td>...</td>\n",
       "      <td>...</td>\n",
       "      <td>...</td>\n",
       "      <td>...</td>\n",
       "      <td>...</td>\n",
       "      <td>...</td>\n",
       "      <td>...</td>\n",
       "      <td>...</td>\n",
       "      <td>...</td>\n",
       "      <td>...</td>\n",
       "      <td>...</td>\n",
       "      <td>...</td>\n",
       "      <td>...</td>\n",
       "      <td>...</td>\n",
       "      <td>...</td>\n",
       "      <td>...</td>\n",
       "      <td>...</td>\n",
       "      <td>...</td>\n",
       "      <td>...</td>\n",
       "      <td>...</td>\n",
       "    </tr>\n",
       "    <tr>\n",
       "      <th>1304</th>\n",
       "      <td>1305</td>\n",
       "      <td>9</td>\n",
       "      <td>3</td>\n",
       "      <td>Spector, Mr. Woolf</td>\n",
       "      <td>32.252151</td>\n",
       "      <td>0</td>\n",
       "      <td>0</td>\n",
       "      <td>A.5. 3236</td>\n",
       "      <td>8.0500</td>\n",
       "      <td>NaN</td>\n",
       "      <td>...</td>\n",
       "      <td>0</td>\n",
       "      <td>0</td>\n",
       "      <td>0</td>\n",
       "      <td>0</td>\n",
       "      <td>0</td>\n",
       "      <td>0</td>\n",
       "      <td>0</td>\n",
       "      <td>0</td>\n",
       "      <td>0</td>\n",
       "      <td>1</td>\n",
       "    </tr>\n",
       "    <tr>\n",
       "      <th>1305</th>\n",
       "      <td>1306</td>\n",
       "      <td>9</td>\n",
       "      <td>1</td>\n",
       "      <td>Oliva y Ocana, Dona. Fermina</td>\n",
       "      <td>39.000000</td>\n",
       "      <td>0</td>\n",
       "      <td>0</td>\n",
       "      <td>PC 17758</td>\n",
       "      <td>108.9000</td>\n",
       "      <td>C105</td>\n",
       "      <td>...</td>\n",
       "      <td>0</td>\n",
       "      <td>0</td>\n",
       "      <td>0</td>\n",
       "      <td>0</td>\n",
       "      <td>1</td>\n",
       "      <td>0</td>\n",
       "      <td>0</td>\n",
       "      <td>0</td>\n",
       "      <td>0</td>\n",
       "      <td>0</td>\n",
       "    </tr>\n",
       "    <tr>\n",
       "      <th>1306</th>\n",
       "      <td>1307</td>\n",
       "      <td>9</td>\n",
       "      <td>3</td>\n",
       "      <td>Saether, Mr. Simon Sivertsen</td>\n",
       "      <td>38.500000</td>\n",
       "      <td>0</td>\n",
       "      <td>0</td>\n",
       "      <td>SOTON/O.Q. 3101262</td>\n",
       "      <td>7.2500</td>\n",
       "      <td>NaN</td>\n",
       "      <td>...</td>\n",
       "      <td>0</td>\n",
       "      <td>0</td>\n",
       "      <td>0</td>\n",
       "      <td>0</td>\n",
       "      <td>0</td>\n",
       "      <td>0</td>\n",
       "      <td>0</td>\n",
       "      <td>0</td>\n",
       "      <td>0</td>\n",
       "      <td>1</td>\n",
       "    </tr>\n",
       "    <tr>\n",
       "      <th>1307</th>\n",
       "      <td>1308</td>\n",
       "      <td>9</td>\n",
       "      <td>3</td>\n",
       "      <td>Ware, Mr. Frederick</td>\n",
       "      <td>32.252151</td>\n",
       "      <td>0</td>\n",
       "      <td>0</td>\n",
       "      <td>359309</td>\n",
       "      <td>8.0500</td>\n",
       "      <td>NaN</td>\n",
       "      <td>...</td>\n",
       "      <td>0</td>\n",
       "      <td>0</td>\n",
       "      <td>0</td>\n",
       "      <td>0</td>\n",
       "      <td>0</td>\n",
       "      <td>0</td>\n",
       "      <td>0</td>\n",
       "      <td>0</td>\n",
       "      <td>0</td>\n",
       "      <td>1</td>\n",
       "    </tr>\n",
       "    <tr>\n",
       "      <th>1308</th>\n",
       "      <td>1309</td>\n",
       "      <td>9</td>\n",
       "      <td>3</td>\n",
       "      <td>Peter, Master. Michael J</td>\n",
       "      <td>5.482642</td>\n",
       "      <td>1</td>\n",
       "      <td>1</td>\n",
       "      <td>2668</td>\n",
       "      <td>22.3583</td>\n",
       "      <td>NaN</td>\n",
       "      <td>...</td>\n",
       "      <td>0</td>\n",
       "      <td>0</td>\n",
       "      <td>1</td>\n",
       "      <td>0</td>\n",
       "      <td>0</td>\n",
       "      <td>0</td>\n",
       "      <td>0</td>\n",
       "      <td>0</td>\n",
       "      <td>0</td>\n",
       "      <td>1</td>\n",
       "    </tr>\n",
       "  </tbody>\n",
       "</table>\n",
       "<p>418 rows × 40 columns</p>\n",
       "</div>"
      ],
      "text/plain": [
       "      PassengerId  Survived  Pclass  \\\n",
       "891           892         9       3   \n",
       "892           893         9       3   \n",
       "893           894         9       2   \n",
       "894           895         9       3   \n",
       "895           896         9       3   \n",
       "...           ...       ...     ...   \n",
       "1304         1305         9       3   \n",
       "1305         1306         9       1   \n",
       "1306         1307         9       3   \n",
       "1307         1308         9       3   \n",
       "1308         1309         9       3   \n",
       "\n",
       "                                              Name        Age  SibSp  Parch  \\\n",
       "891                               Kelly, Mr. James  34.500000      0      0   \n",
       "892               Wilkes, Mrs. James (Ellen Needs)  47.000000      1      0   \n",
       "893                      Myles, Mr. Thomas Francis  62.000000      0      0   \n",
       "894                               Wirz, Mr. Albert  27.000000      0      0   \n",
       "895   Hirvonen, Mrs. Alexander (Helga E Lindqvist)  22.000000      1      1   \n",
       "...                                            ...        ...    ...    ...   \n",
       "1304                            Spector, Mr. Woolf  32.252151      0      0   \n",
       "1305                  Oliva y Ocana, Dona. Fermina  39.000000      0      0   \n",
       "1306                  Saether, Mr. Simon Sivertsen  38.500000      0      0   \n",
       "1307                           Ware, Mr. Frederick  32.252151      0      0   \n",
       "1308                      Peter, Master. Michael J   5.482642      1      1   \n",
       "\n",
       "                  Ticket      Fare Cabin  ... FamilySize_bin_big  \\\n",
       "891               330911    7.8292   NaN  ...                  0   \n",
       "892               363272    7.0000   NaN  ...                  0   \n",
       "893               240276    9.6875   NaN  ...                  0   \n",
       "894               315154    8.6625   NaN  ...                  0   \n",
       "895              3101298   12.2875   NaN  ...                  0   \n",
       "...                  ...       ...   ...  ...                ...   \n",
       "1304           A.5. 3236    8.0500   NaN  ...                  0   \n",
       "1305            PC 17758  108.9000  C105  ...                  0   \n",
       "1306  SOTON/O.Q. 3101262    7.2500   NaN  ...                  0   \n",
       "1307              359309    8.0500   NaN  ...                  0   \n",
       "1308                2668   22.3583   NaN  ...                  0   \n",
       "\n",
       "      FamilySize_bin_mediam  FamilySize_bin_small  Cabin_ini_B  Cabin_ini_C  \\\n",
       "891                       0                     0            0            0   \n",
       "892                       0                     1            0            0   \n",
       "893                       0                     0            0            0   \n",
       "894                       0                     0            0            0   \n",
       "895                       0                     1            0            0   \n",
       "...                     ...                   ...          ...          ...   \n",
       "1304                      0                     0            0            0   \n",
       "1305                      0                     0            0            1   \n",
       "1306                      0                     0            0            0   \n",
       "1307                      0                     0            0            0   \n",
       "1308                      0                     1            0            0   \n",
       "\n",
       "      Cabin_ini_D  Cabin_ini_E  Cabin_ini_F  Cabin_ini_Rare  Cabin_ini_n  \n",
       "891             0            0            0               0            1  \n",
       "892             0            0            0               0            1  \n",
       "893             0            0            0               0            1  \n",
       "894             0            0            0               0            1  \n",
       "895             0            0            0               0            1  \n",
       "...           ...          ...          ...             ...          ...  \n",
       "1304            0            0            0               0            1  \n",
       "1305            0            0            0               0            0  \n",
       "1306            0            0            0               0            1  \n",
       "1307            0            0            0               0            1  \n",
       "1308            0            0            0               0            1  \n",
       "\n",
       "[418 rows x 40 columns]"
      ]
     },
     "execution_count": 53,
     "metadata": {},
     "output_type": "execute_result"
    }
   ],
   "source": [
    "test"
   ]
  },
  {
   "cell_type": "code",
   "execution_count": null,
   "metadata": {},
   "outputs": [],
   "source": [
    "train_feature = train[feature_cols]\n",
    "train_tagert = train[target_col]\n",
    "X_train, X_test, y_train, y_test = train_test_split(\n",
    "    train_feature, train_tagert, test_size=0.2, random_state=0, stratify=train_tagert)"
   ]
  }
 ],
 "metadata": {
  "kernelspec": {
   "display_name": "Python 3",
   "language": "python",
   "name": "python3"
  },
  "language_info": {
   "codemirror_mode": {
    "name": "ipython",
    "version": 3
   },
   "file_extension": ".py",
   "mimetype": "text/x-python",
   "name": "python",
   "nbconvert_exporter": "python",
   "pygments_lexer": "ipython3",
   "version": "3.7.6"
  }
 },
 "nbformat": 4,
 "nbformat_minor": 4
}
